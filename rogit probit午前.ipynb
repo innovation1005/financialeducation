{
 "cells": [
  {
   "cell_type": "markdown",
   "metadata": {},
   "source": [
    "# ロジット・プロビット分析入門 (Python編)\n",
    "## (Python編)\n",
    "\n",
    "## 金融財務研究会　\n",
    "\n",
    "## 2021/5/24(月)午前\n",
    "\n",
    "## 講師：森谷博之　Quasars22 Private Limited\n",
    "\n",
    "\n",
    "### 内容\n",
    "\n",
    "- 一部 はじめに\n",
    "\n",
    "    - Jupyter notebookのインストール\n",
    "    - 記述統計\n",
    "    - 推測統計の基礎：母数と標本\n",
    "    - 離散選択問題入門：\n",
    "        - オッズとオッズ比\n",
    "        - ロジット、プロビット変換\n",
    "        - 尤度と対数尤度\n",
    "        - \n",
    "\n",
    "- 二部　離散選択問題入門\n",
    "\n",
    "    - データセット\n",
    "        - Spector and Mazzeo (1980)\n",
    "        - アメリカ選挙調査\n",
    "        - Rand研究所医療保険実験\n",
    "        - \n",
    "        - \n",
    "    - 模型\n",
    "        - 線形回帰\n",
    "        - ロジット\n",
    "        - プロビット\n",
    "        - 多項ロジットモデル\n",
    "        - ポアソン分布\n",
    "        - 負の二項分布\n",
    "        - \n",
    "        - \n",
    "    \n",
    "### 参考文献：\n",
    "\n",
    "- データ解析のために統計モデリング入門\n",
    "- 離散選択問題オーバービュー(statsmodelsサンプルリファレンス)\n",
    "- Generalized Linear Models AUnified Approach second edition Jeff Gill and Michelle Torres\n",
    "-\n",
    "- \n",
    "- \n",
    "- \n"
   ]
  },
  {
   "cell_type": "markdown",
   "metadata": {},
   "source": [
    "# 一部 はじめに\n",
    "\n",
    "# Jupyter Notebookのインストール\n",
    "\n",
    "[Qiita: jupyter notebookのインストール](https://qiita.com/innovation1005/items/2f433d6d859f075033a7)\n",
    "を参考にしてください。\n",
    "\n",
    "# 記述統計\n",
    "\n",
    "得られたデータを用途に見合ったように加工して、要約して内容を伝える方法です。\n",
    "\n",
    "- グラフによる可視化\n",
    "- 要約統計量による記述\n",
    "- 回帰分析によるでーたのあてはめ\n",
    "\n",
    "\n",
    "# 推測統計の基礎：母数と標本\n",
    "\n",
    "データ全体を母集団と呼び、その母集団から抽出されたデータを標本、またはサンプルと呼びます。この2つは明確に区別される必要があります。\n",
    "\n",
    "- 母集団\n",
    "\n",
    "母集団とは、調査対象となっているデータのもととなる集合のことです。母集団というときには２つのタイプに分類されます。定義により母集団が確定している場合と、ある特定のモデルを前提としている場合です。\n",
    "\n",
    "- 標本\n",
    "\n",
    "実際に手に入れることのできたデータのことです。観測値、実現値ともいいます。\n",
    "\n",
    "例: 身近な事例(調査・研究)に関する母集団と標本となる統計データ\n",
    "\n",
    "||||\n",
    "|:-:         |:-:   |:-:    |\n",
    "|調査・研究\t|母集団|\t標本|\n",
    "|選挙の当選予測|\t全有効票数|\t出口調査で得られた票数|\n",
    "|製品満足度調査|\t製品を購入したすべてのお客様|\tアンケートに答えた一部のお客様|\n",
    "|品質管理\t|製造したすべての商品\t|検査対処となった一部の商品|\n",
    "|株価の予測\t|株価の予測モデル\t|入手可能な過去の株価|\n",
    "\n",
    "母集団は調査対象すべてです。標本は、その母集団から抽出された個体の集合で、母集団の部分集合です。私たちは母集団について知りたいと思っています。目的により、母集団が小さく限定されいる場合があります。そのようなときには、限定された集団の特徴を正確に伝えるように情報を要約する必要があります。母集団を得ることのできない場合があります。母集団について知りたいのですが、実際に知ることができるのは標本についてであって母集団についてではありません。したがって、推測統計では、部分集合である標本から集合全体の母集団を推測します。このときに統計的模型を使います。もっとも簡単な模型は確率分布です。また、線形回帰モデルも模型の１つです。母集団(確率分布、模型)を特徴づける定数を母数(パラメータ)といいます。母平均、母分散は母数です。一方、標本に適用した統計的な関数を統計量といいます。標本平均、標本分散は統計量です。\n",
    "\n",
    "- 大数の法則と中心極限定理\n",
    "\n",
    "標本の大きさが大きくなるとそれにともない、標本から得られる統計量は真の統計量(母数)に近づいていきます。たとえば、母集団が平均をもつときに、標本の大きさを大きくしていくと、標本の平均は、母集団のもつ平均(母平均)、または真の平均に近づいていきます。これを大数の法則といいます。\n",
    "\n",
    "真の平均と標本の平均の誤差は標本の大きさを大きくすれば正規分布に近づいていきます。これを中心極限定理といいます。\n",
    "\n",
    "- 推測統計の道具\n",
    "    - 点推定\n",
    "    - 区間推定\n",
    "    - 統計的仮説検定\n",
    "    - 線形回帰分析\n",
    "    - 分散分析\n",
    "    - 一般化線形回帰  \n",
    "    など\n",
    "\n",
    "# 離散選択問題入門\n",
    "\n",
    "買う買わない、良い悪い、好き嫌いなど人々の行動は必ずしも連続であるとは限りません。また、科学的な現象においても病が直る直らない、花が咲く咲かないなど２値であったりと一般的な線形回帰の方法だけでは不十分です。単回帰模型\n",
    "\n",
    "$Y_i=α+βx_i+ϵ_i$\n",
    "\n",
    "の被説明変数が 1 か 0 の2値しか取らないとすると、通常の回帰模型は使えません。このような模型を非線形であるといいます。非線形というと二次関数や正弦関数を思い浮かべますが、階段状の関数も非線形です。そこで\n",
    "\n",
    "$Y_i^*=α+βx_i+ϵ_i$\n",
    "\n",
    "とします。$Y_i^*$ は連続的な観測不可能な潜在変数です。\n",
    "\n",
    "- 例：コンビニエンスストアでアイスクリームを買う行動を分析してみましょう。\n",
    "\n",
    "コンビニに近づくとアイスクリームを食べたくなる衝動が強くなり、つい買ってしまうひともいれば、コンビニの前でアイスクリームを食べているひとを見てつい買ってしまうひと、気温に左右されて買ってしまうひととか、その経済行動の背後にある理由はさまざまです。そのような現象を潜在変数として扱います。実際に観測されるのは\n",
    "\n",
    "$Y_i=1 (Y_i^*>0\"のとき\" )アイスを購入する$\n",
    "\n",
    "$Y_i=0 (Y_i^*≤0\"のとき\" )アイスを買わない$\n",
    "\n",
    "とします。１段の階段状の関数を思い浮かべてみてください。$Y_i^*=α+βx_i+ϵ_i$を２値選択模型といいます。$Y_i=1$の確率 $P(Y_i=1)$は$P(Y_i^*>0)$と等価です。これは\n",
    "\n",
    "$P(Y_i^*>0)=P(α+βx_i+ϵ_i>0)$\n",
    "\n",
    "となります。これをさらに変換して\n",
    "\n",
    "$P(α+βx_i+ϵ_i>0)=P(ϵ_i>-α-βx_i )$\n",
    "\n",
    "を得ます。残差項$ϵ_i$の分布関数(累積分布関数)を考えます。累積分布関数で考えていますので、$ϵ_i$が大きくなるにつれて１に近づきます。つぎに、$ϵ_i$が決まると$x_i$も決まります。$ϵ_i$が標準正規分布にしたがうとすると左右対称なので、\n",
    "\n",
    "$P(Y_i=1|x_i)=1-F(-α-βx_i )=F(α+βx_i )=F(z_i)$\n",
    "\n",
    "となります。ここで$z_i=α+βx_i$ 選択確率が正規分布によって表されるときプロビット模型といいます。\n",
    "\n",
    "では実際にトイモデルで確認してみましょう。$x$を気温とします。人々は気温が20度を超えるとアイスクリームを買います。それ以外ではアイスクリームを買いません。したがって、\n",
    "\n",
    "$Y_i^*=-20+x_i+ϵ_i$\n",
    "\n",
    "となります。$ϵ_i$は正規分布にしたがいます。$x_i=20$のとき、$Y_i^*=ϵ_i$になります。乱数の大きさに購買行動は左右されます。\n",
    "\n",
    "$P(Y_i=1|x_i)=1-F(20-20 )=0.5$\n",
    "\n",
    "ですので、気温が40度とすると\n",
    "\n",
    "$P(Y_i=1|x_i)=1-F(20-40 )=1$\n",
    "\n",
    "になり、確率にアイスクリームを買ってしまいます。\n",
    "\n",
    "### 離散選択モデル\n",
    "人びとの選択行動、意思決定の過程はつぎのようにモデル化されます。\n",
    "\n",
    "- 意思決定者: 個人、家計、組織、企業など\n",
    "- 応答変数(選択肢)：意思決定の対象となる買う・買わない、行く・行かない、徒歩・自転車・バス・鉄道などの離散的な選択\n",
    "- 説明変数：選択に影響を及ぼす因子\n",
    "- 意思決定規則：意思決定を行うメカニズム\n",
    "\n",
    "#### アイスクリームの例\n",
    "\n",
    "- 意思決定者: 個人\n",
    "- 応答変数(選択肢)：コンビニエンスストアでのアイスクリームの購入\n",
    "- 説明変数：コンビニまでの距離、コンビニの前にいるひとの行動、気温\n",
    "- 意思決定規則：\n",
    "\n",
    "$Y_i=1 (Y_i^*>0\"のとき\" )アイスを購入する$\n",
    "\n",
    "$Y_i=0 (Y_i^*≤0\"のとき\" )アイスを買わない$\n",
    "\n",
    "#### 確率の利用\n",
    "\n",
    "ひとびとの選択行動をモデル化するときに、その選択肢を被説明変数として、行動を起こす要因を説明変数とするのではなく、選択肢を潜在変数をとおして確率に変換します。\n",
    "\n",
    "- プロビット変換: 選択肢を各選択肢が生起する確率に変換する際に正規分布を用います。\n",
    "\n",
    "$P(y_i=1)=F(z_i)=\\int_{-\\infty}^{z_i} \\frac{1}{\\sqrt{2\\pi}}e^{-z^2/2}$\n",
    "\n",
    "- ロジット変換：選択肢を各選択肢が生起する確率に変換する際にロジスティック分布を使います。\n",
    "\n",
    "$P(y_i=1)=F(z_i)=\\frac{1}{1+\\exp(-z_i)}$\n",
    "\n",
    "- オッズ：選択確率と非選択確率の比、選択確率/非選択確率\n",
    "選択確率を\n",
    "\n",
    "$p_i=P(y_i=1)=\\frac{1}{1+\\exp(-z_i)}$\n",
    "\n",
    "とすると非選択確率は\n",
    "\n",
    "$(1-p_i)=\\frac{1}{1+\\exp(z_i)}$\n",
    "\n",
    "となるのでその比は\n",
    "\n",
    "$p_i/(1-p_i)=z_i$\n",
    "\n",
    "で与えられます。\n",
    "\n",
    "- オッズ比：オッズの比のこと。\n",
    "\n",
    "オッズ比=(ｘのオッズ)/(非xのオッズ)\n",
    "\n",
    "#### 尤度関数\n",
    "\n",
    "$y_i$が(1,0)の二値で対で得られたデータ$(y_i,x_i)$の尤度関数は\n",
    "\n",
    "$$L({\\beta_j})=\\Pi_{y_i=1} p_i\\Pi_{y_i=0}(1-p_i)=\\Pi p_i^{y_i}(1-p_i)^{1-y_i}=\\Pi z_i^{y_i}(1-z_i)^{1-y_i}$$"
   ]
  },
  {
   "cell_type": "code",
   "execution_count": 1,
   "metadata": {},
   "outputs": [],
   "source": [
    "%matplotlib inline\n",
    "import matplotlib.pyplot as plt\n",
    "import numpy as np\n",
    "from scipy import stats\n",
    "import statsmodels.api as sm\n",
    "import pandas as pd"
   ]
  },
  {
   "cell_type": "code",
   "execution_count": 2,
   "metadata": {},
   "outputs": [
    {
     "data": {
      "image/png": "[encoded data removed]",
      "text/plain": [
       "<Figure size 432x288 with 1 Axes>"
      ]
     },
     "metadata": {
      "needs_background": "light"
     },
     "output_type": "display_data"
    }
   ],
   "source": [
    "#ロジスティック分布と正規分布の累積分布関数の比較：ロジスティック分布の方がすそ野が厚い。\n",
    "# stats.logistic.cdf：ロジスティック分布\n",
    "# cdfは累積分布関数\n",
    "# norm.cdf:正規分布\n",
    "fig = plt.figure(figsize=(6,4))\n",
    "ax = fig.add_subplot(111)\n",
    "support = np.linspace(-6, 6, 1000)\n",
    "ax.plot(support, stats.logistic.cdf(support), 'r-', label='Logistic')\n",
    "ax.plot(support, stats.norm.cdf(support), label='Probit')\n",
    "plt.xlabel('z')\n",
    "plt.ylabel('prob')\n",
    "ax.legend();"
   ]
  },
  {
   "cell_type": "code",
   "execution_count": 3,
   "metadata": {},
   "outputs": [
    {
     "data": {
      "image/png": "[encoded data removed]",
      "text/plain": [
       "<Figure size 432x288 with 1 Axes>"
      ]
     },
     "metadata": {
      "needs_background": "light"
     },
     "output_type": "display_data"
    }
   ],
   "source": [
    "# オッズのグラフ：ｚが大きくなると急激に上昇します。\n",
    "fig = plt.figure(figsize=(6,4))\n",
    "ax = fig.add_subplot(111)\n",
    "support = np.linspace(-6, 6, 1000)\n",
    "ax.plot(support, stats.logistic.cdf(support)/(1-stats.logistic.cdf(support)), 'r-', label='odds')\n",
    "plt.xlabel('z')\n",
    "plt.ylabel('odds')\n",
    "ax.legend();"
   ]
  },
  {
   "cell_type": "code",
   "execution_count": 4,
   "metadata": {},
   "outputs": [
    {
     "data": {
      "image/png": "[encoded data removed]",
      "text/plain": [
       "<Figure size 432x288 with 1 Axes>"
      ]
     },
     "metadata": {
      "needs_background": "light"
     },
     "output_type": "display_data"
    }
   ],
   "source": [
    "# オッズの対数のグラフ：対数を取ることで直線になります。あてはめがしやすくなります。\n",
    "fig = plt.figure(figsize=(6,4))\n",
    "ax = fig.add_subplot(111)\n",
    "support = np.linspace(-6, 6, 1000)\n",
    "ax.plot(support, np.log(stats.logistic.cdf(support)/(1-stats.logistic.cdf(support))), 'r-', label='log odds')\n",
    "plt.xlabel('z')\n",
    "plt.ylabel('log odds')\n",
    "ax.legend();"
   ]
  },
  {
   "cell_type": "markdown",
   "metadata": {},
   "source": [
    "# 離散選択問題\n",
    "\n",
    "- データ・セット\n",
    "    - Spector and Mazzeo (1980)\n",
    "        - 回帰直線\n",
    "        - ロジット分析(sm.Logit)\n",
    "        - プロビット分析(sm.Probit)\n",
    "    - National Election Studies\n",
    "        - 多項ロジット分析(sm.MNLogit)\n",
    "    - Rand医療保険実験        \n",
    "        - ポアソン分析(sm.Poisson)\n",
    "        - 負の二項分布(sm.NegativeBinomial)\n",
    "    \n",
    "\n",
    "\n",
    "# 例１． [Spector and Mazzeo (1980)](https://www.statsmodels.org/stable/datasets/generated/spector.html) - 個人向け教育プログラム(PSI)の効果\n",
    "\n",
    "個人向け教育プログラムによる効果の実データ：プログラムへの参加は生徒の評価の向上につながるのでしょうか？\n",
    "\n",
    "データの詳細：32行、4列\n",
    "\n",
    "|変数名|説明|\n",
    "|:-:|:-:|\n",
    "|Grade | 生徒の評価点(GPA)が改善したかどうかの2値データ。１が改善。|\n",
    "|TUCE| 経済のテストの評価点\n",
    "|GPA| 生徒の評価点(GPA)の平均\n",
    "|PSI|プログラムへの参加の可否\n",
    "\n",
    "#### データを取得して、その特徴をつかむ"
   ]
  },
  {
   "cell_type": "code",
   "execution_count": 5,
   "metadata": {},
   "outputs": [],
   "source": [
    "#データの取得\n",
    "spector_data = sm.datasets.spector.load(as_pandas=False)\n",
    "spector_data.exog = sm.add_constant(spector_data.exog, prepend=False)"
   ]
  },
  {
   "cell_type": "markdown",
   "metadata": {},
   "source": [
    "sm.datasets.spector.NOTE"
   ]
  },
  {
   "cell_type": "code",
   "execution_count": 6,
   "metadata": {},
   "outputs": [
    {
     "name": "stdout",
     "output_type": "stream",
     "text": [
      "応答変数 [0. 0. 0. 0. 1.]\n",
      "説明変数 [[ 2.66 20.    0.    1.  ]\n",
      " [ 2.89 22.    0.    1.  ]\n",
      " [ 3.28 24.    0.    1.  ]\n",
      " [ 2.92 12.    0.    1.  ]\n",
      " [ 4.   21.    0.    1.  ]]\n"
     ]
    }
   ],
   "source": [
    "print('応答変数',spector_data.endog[:5])\n",
    "print('説明変数',spector_data.exog[:5,:])"
   ]
  },
  {
   "cell_type": "code",
   "execution_count": 7,
   "metadata": {},
   "outputs": [
    {
     "data": {
      "image/png": "[encoded data removed]",
      "text/plain": [
       "<Figure size 432x288 with 1 Axes>"
      ]
     },
     "metadata": {
      "needs_background": "light"
     },
     "output_type": "display_data"
    }
   ],
   "source": [
    "# 経済のテストの評価点\n",
    "plt.hist(spector_data.exog[:,0])\n",
    "plt.show()"
   ]
  },
  {
   "cell_type": "code",
   "execution_count": 8,
   "metadata": {},
   "outputs": [
    {
     "data": {
      "image/png": "[encoded data removed]",
      "text/plain": [
       "<Figure size 432x288 with 1 Axes>"
      ]
     },
     "metadata": {
      "needs_background": "light"
     },
     "output_type": "display_data"
    }
   ],
   "source": [
    "# 経済のテストの評価点\n",
    "plt.plot(spector_data.exog[:,0])\n",
    "plt.show()"
   ]
  },
  {
   "cell_type": "code",
   "execution_count": 9,
   "metadata": {},
   "outputs": [
    {
     "data": {
      "image/png": "[encoded data removed]",
      "text/plain": [
       "<Figure size 432x288 with 1 Axes>"
      ]
     },
     "metadata": {
      "needs_background": "light"
     },
     "output_type": "display_data"
    }
   ],
   "source": [
    "# 生徒の評価点(GPA)の平均\n",
    "plt.hist(spector_data.exog[:,1])\n",
    "plt.show()"
   ]
  },
  {
   "cell_type": "code",
   "execution_count": 10,
   "metadata": {},
   "outputs": [
    {
     "data": {
      "image/png": "[encoded data removed]",
      "text/plain": [
       "<Figure size 432x288 with 1 Axes>"
      ]
     },
     "metadata": {
      "needs_background": "light"
     },
     "output_type": "display_data"
    }
   ],
   "source": [
    "# 生徒の評価点(GPA)の平均\n",
    "plt.plot(spector_data.exog[:,1])\n",
    "plt.show()"
   ]
  },
  {
   "cell_type": "code",
   "execution_count": 11,
   "metadata": {},
   "outputs": [
    {
     "data": {
      "image/png": "[encoded data removed]",
      "text/plain": [
       "<Figure size 432x288 with 1 Axes>"
      ]
     },
     "metadata": {
      "needs_background": "light"
     },
     "output_type": "display_data"
    }
   ],
   "source": [
    "# プログラムへの参加の可否:プログラム参加１８\n",
    "plt.hist(spector_data.exog[:,2])\n",
    "plt.show()"
   ]
  },
  {
   "cell_type": "code",
   "execution_count": 12,
   "metadata": {},
   "outputs": [
    {
     "data": {
      "text/plain": [
       "[<matplotlib.lines.Line2D at 0x29b57ee6310>]"
      ]
     },
     "execution_count": 12,
     "metadata": {},
     "output_type": "execute_result"
    },
    {
     "data": {
      "image/png": "[encoded data removed]",
      "text/plain": [
       "<Figure size 432x288 with 1 Axes>"
      ]
     },
     "metadata": {
      "needs_background": "light"
     },
     "output_type": "display_data"
    }
   ],
   "source": [
    "# プログラムへの参加の可否\n",
    "plt.plot(spector_data.exog[:,2])"
   ]
  },
  {
   "cell_type": "code",
   "execution_count": 13,
   "metadata": {},
   "outputs": [
    {
     "data": {
      "image/png": "[encoded data removed]",
      "text/plain": [
       "<Figure size 432x288 with 1 Axes>"
      ]
     },
     "metadata": {
      "needs_background": "light"
     },
     "output_type": "display_data"
    }
   ],
   "source": [
    "#　生徒の成績の改善：改善11\n",
    "plt.hist(spector_data.endog)\n",
    "plt.show()"
   ]
  },
  {
   "cell_type": "code",
   "execution_count": 14,
   "metadata": {},
   "outputs": [
    {
     "data": {
      "image/png": "[encoded data removed]",
      "text/plain": [
       "<Figure size 432x288 with 1 Axes>"
      ]
     },
     "metadata": {
      "needs_background": "light"
     },
     "output_type": "display_data"
    }
   ],
   "source": [
    "plt.plot(spector_data.endog)\n",
    "plt.show()"
   ]
  },
  {
   "cell_type": "markdown",
   "metadata": {},
   "source": [
    "##### 回帰直線による近似"
   ]
  },
  {
   "cell_type": "code",
   "execution_count": 15,
   "metadata": {},
   "outputs": [
    {
     "data": {
      "text/html": [
       "<table class=\"simpletable\">\n",
       "<caption>OLS Regression Results</caption>\n",
       "<tr>\n",
       "  <th>Dep. Variable:</th>            <td>y</td>        <th>  R-squared:         </th> <td>   0.416</td>\n",
       "</tr>\n",
       "<tr>\n",
       "  <th>Model:</th>                   <td>OLS</td>       <th>  Adj. R-squared:    </th> <td>   0.353</td>\n",
       "</tr>\n",
       "<tr>\n",
       "  <th>Method:</th>             <td>Least Squares</td>  <th>  F-statistic:       </th> <td>   6.646</td>\n",
       "</tr>\n",
       "<tr>\n",
       "  <th>Date:</th>             <td>Mon, 24 May 2021</td> <th>  Prob (F-statistic):</th>  <td>0.00157</td>\n",
       "</tr>\n",
       "<tr>\n",
       "  <th>Time:</th>                 <td>01:25:52</td>     <th>  Log-Likelihood:    </th> <td> -12.978</td>\n",
       "</tr>\n",
       "<tr>\n",
       "  <th>No. Observations:</th>      <td>    32</td>      <th>  AIC:               </th> <td>   33.96</td>\n",
       "</tr>\n",
       "<tr>\n",
       "  <th>Df Residuals:</th>          <td>    28</td>      <th>  BIC:               </th> <td>   39.82</td>\n",
       "</tr>\n",
       "<tr>\n",
       "  <th>Df Model:</th>              <td>     3</td>      <th>                     </th>     <td> </td>   \n",
       "</tr>\n",
       "<tr>\n",
       "  <th>Covariance Type:</th>      <td>nonrobust</td>    <th>                     </th>     <td> </td>   \n",
       "</tr>\n",
       "</table>\n",
       "<table class=\"simpletable\">\n",
       "<tr>\n",
       "    <td></td>       <th>coef</th>     <th>std err</th>      <th>t</th>      <th>P>|t|</th>  <th>[0.025</th>    <th>0.975]</th>  \n",
       "</tr>\n",
       "<tr>\n",
       "  <th>x1</th>    <td>    0.4639</td> <td>    0.162</td> <td>    2.864</td> <td> 0.008</td> <td>    0.132</td> <td>    0.796</td>\n",
       "</tr>\n",
       "<tr>\n",
       "  <th>x2</th>    <td>    0.0105</td> <td>    0.019</td> <td>    0.539</td> <td> 0.594</td> <td>   -0.029</td> <td>    0.050</td>\n",
       "</tr>\n",
       "<tr>\n",
       "  <th>x3</th>    <td>    0.3786</td> <td>    0.139</td> <td>    2.720</td> <td> 0.011</td> <td>    0.093</td> <td>    0.664</td>\n",
       "</tr>\n",
       "<tr>\n",
       "  <th>const</th> <td>   -1.4980</td> <td>    0.524</td> <td>   -2.859</td> <td> 0.008</td> <td>   -2.571</td> <td>   -0.425</td>\n",
       "</tr>\n",
       "</table>\n",
       "<table class=\"simpletable\">\n",
       "<tr>\n",
       "  <th>Omnibus:</th>       <td> 0.176</td> <th>  Durbin-Watson:     </th> <td>   2.346</td>\n",
       "</tr>\n",
       "<tr>\n",
       "  <th>Prob(Omnibus):</th> <td> 0.916</td> <th>  Jarque-Bera (JB):  </th> <td>   0.167</td>\n",
       "</tr>\n",
       "<tr>\n",
       "  <th>Skew:</th>          <td> 0.141</td> <th>  Prob(JB):          </th> <td>   0.920</td>\n",
       "</tr>\n",
       "<tr>\n",
       "  <th>Kurtosis:</th>      <td> 2.786</td> <th>  Cond. No.          </th> <td>    176.</td>\n",
       "</tr>\n",
       "</table><br/><br/>Notes:<br/>[1] Standard Errors assume that the covariance matrix of the errors is correctly specified."
      ],
      "text/plain": [
       "<class 'statsmodels.iolib.summary.Summary'>\n",
       "\"\"\"\n",
       "                            OLS Regression Results                            \n",
       "==============================================================================\n",
       "Dep. Variable:                      y   R-squared:                       0.416\n",
       "Model:                            OLS   Adj. R-squared:                  0.353\n",
       "Method:                 Least Squares   F-statistic:                     6.646\n",
       "Date:                Mon, 24 May 2021   Prob (F-statistic):            0.00157\n",
       "Time:                        01:25:52   Log-Likelihood:                -12.978\n",
       "No. Observations:                  32   AIC:                             33.96\n",
       "Df Residuals:                      28   BIC:                             39.82\n",
       "Df Model:                           3                                         \n",
       "Covariance Type:            nonrobust                                         \n",
       "==============================================================================\n",
       "                 coef    std err          t      P>|t|      [0.025      0.975]\n",
       "------------------------------------------------------------------------------\n",
       "x1             0.4639      0.162      2.864      0.008       0.132       0.796\n",
       "x2             0.0105      0.019      0.539      0.594      -0.029       0.050\n",
       "x3             0.3786      0.139      2.720      0.011       0.093       0.664\n",
       "const         -1.4980      0.524     -2.859      0.008      -2.571      -0.425\n",
       "==============================================================================\n",
       "Omnibus:                        0.176   Durbin-Watson:                   2.346\n",
       "Prob(Omnibus):                  0.916   Jarque-Bera (JB):                0.167\n",
       "Skew:                           0.141   Prob(JB):                        0.920\n",
       "Kurtosis:                       2.786   Cond. No.                         176.\n",
       "==============================================================================\n",
       "\n",
       "Notes:\n",
       "[1] Standard Errors assume that the covariance matrix of the errors is correctly specified.\n",
       "\"\"\""
      ]
     },
     "execution_count": 15,
     "metadata": {},
     "output_type": "execute_result"
    }
   ],
   "source": [
    "ols_mod = sm.OLS(spector_data.endog, spector_data.exog)# 最小二乗法による線形回帰の設定\n",
    "ols_res = ols_mod.fit()# 最適\n",
    "ols_res.summary() # サマリーレポートの出力"
   ]
  },
  {
   "cell_type": "code",
   "execution_count": 16,
   "metadata": {},
   "outputs": [
    {
     "data": {
      "image/png": "[encoded data removed]",
      "text/plain": [
       "<Figure size 432x288 with 1 Axes>"
      ]
     },
     "metadata": {
      "needs_background": "light"
     },
     "output_type": "display_data"
    }
   ],
   "source": [
    "#予測値と実データの比較\n",
    "plt.plot(ols_res.predict())# 予測の設定と可視化\n",
    "plt.plot(spector_data.endog)\n",
    "plt.show()"
   ]
  },
  {
   "cell_type": "code",
   "execution_count": 17,
   "metadata": {},
   "outputs": [
    {
     "data": {
      "image/png": "[encoded data removed]",
      "text/plain": [
       "<Figure size 432x288 with 1 Axes>"
      ]
     },
     "metadata": {
      "needs_background": "light"
     },
     "output_type": "display_data"
    }
   ],
   "source": [
    "# 散布図による比較\n",
    "plt.scatter(spector_data.endog,(ols_res.predict()))\n",
    "plt.show()"
   ]
  },
  {
   "cell_type": "markdown",
   "metadata": {},
   "source": [
    "##### ロジットモデルによる近似"
   ]
  },
  {
   "cell_type": "code",
   "execution_count": 18,
   "metadata": {},
   "outputs": [
    {
     "data": {
      "text/html": [
       "<table class=\"simpletable\">\n",
       "<caption>Logit Regression Results</caption>\n",
       "<tr>\n",
       "  <th>Dep. Variable:</th>           <td>y</td>        <th>  No. Observations:  </th>  <td>    32</td> \n",
       "</tr>\n",
       "<tr>\n",
       "  <th>Model:</th>                 <td>Logit</td>      <th>  Df Residuals:      </th>  <td>    28</td> \n",
       "</tr>\n",
       "<tr>\n",
       "  <th>Method:</th>                 <td>MLE</td>       <th>  Df Model:          </th>  <td>     3</td> \n",
       "</tr>\n",
       "<tr>\n",
       "  <th>Date:</th>            <td>Mon, 24 May 2021</td> <th>  Pseudo R-squ.:     </th>  <td>0.3740</td> \n",
       "</tr>\n",
       "<tr>\n",
       "  <th>Time:</th>                <td>01:25:52</td>     <th>  Log-Likelihood:    </th> <td> -12.890</td>\n",
       "</tr>\n",
       "<tr>\n",
       "  <th>converged:</th>             <td>True</td>       <th>  LL-Null:           </th> <td> -20.592</td>\n",
       "</tr>\n",
       "<tr>\n",
       "  <th>Covariance Type:</th>     <td>nonrobust</td>    <th>  LLR p-value:       </th> <td>0.001502</td>\n",
       "</tr>\n",
       "</table>\n",
       "<table class=\"simpletable\">\n",
       "<tr>\n",
       "    <td></td>       <th>coef</th>     <th>std err</th>      <th>z</th>      <th>P>|z|</th>  <th>[0.025</th>    <th>0.975]</th>  \n",
       "</tr>\n",
       "<tr>\n",
       "  <th>x1</th>    <td>    2.8261</td> <td>    1.263</td> <td>    2.238</td> <td> 0.025</td> <td>    0.351</td> <td>    5.301</td>\n",
       "</tr>\n",
       "<tr>\n",
       "  <th>x2</th>    <td>    0.0952</td> <td>    0.142</td> <td>    0.672</td> <td> 0.501</td> <td>   -0.182</td> <td>    0.373</td>\n",
       "</tr>\n",
       "<tr>\n",
       "  <th>x3</th>    <td>    2.3787</td> <td>    1.065</td> <td>    2.234</td> <td> 0.025</td> <td>    0.292</td> <td>    4.465</td>\n",
       "</tr>\n",
       "<tr>\n",
       "  <th>const</th> <td>  -13.0213</td> <td>    4.931</td> <td>   -2.641</td> <td> 0.008</td> <td>  -22.687</td> <td>   -3.356</td>\n",
       "</tr>\n",
       "</table>"
      ],
      "text/plain": [
       "<class 'statsmodels.iolib.summary.Summary'>\n",
       "\"\"\"\n",
       "                           Logit Regression Results                           \n",
       "==============================================================================\n",
       "Dep. Variable:                      y   No. Observations:                   32\n",
       "Model:                          Logit   Df Residuals:                       28\n",
       "Method:                           MLE   Df Model:                            3\n",
       "Date:                Mon, 24 May 2021   Pseudo R-squ.:                  0.3740\n",
       "Time:                        01:25:52   Log-Likelihood:                -12.890\n",
       "converged:                       True   LL-Null:                       -20.592\n",
       "Covariance Type:            nonrobust   LLR p-value:                  0.001502\n",
       "==============================================================================\n",
       "                 coef    std err          z      P>|z|      [0.025      0.975]\n",
       "------------------------------------------------------------------------------\n",
       "x1             2.8261      1.263      2.238      0.025       0.351       5.301\n",
       "x2             0.0952      0.142      0.672      0.501      -0.182       0.373\n",
       "x3             2.3787      1.065      2.234      0.025       0.292       4.465\n",
       "const        -13.0213      4.931     -2.641      0.008     -22.687      -3.356\n",
       "==============================================================================\n",
       "\"\"\""
      ]
     },
     "execution_count": 18,
     "metadata": {},
     "output_type": "execute_result"
    }
   ],
   "source": [
    "logit_mod = sm.Logit(spector_data.endog, spector_data.exog)#ロジットモデルの設定\n",
    "logit_res = logit_mod.fit(disp=0)#最適化\n",
    "logit_res.summary()"
   ]
  },
  {
   "cell_type": "markdown",
   "metadata": {},
   "source": [
    "サマリーレポート(logit_res.summary())の右側上部\n",
    "- Pseudo R-squ: 線形回帰モデルの$r^2$に相当。McFaddenの$R^2$=1-モデルの尤度/ナル尤度\n",
    "- Log-Likelihood:対数尤度\n",
    "- LL-Null: ナルモデルの尤度、ナルモデルは切片以外の回帰係数はゼロ\n",
    "- LLRp-value:　尤度比の統計量よりも大きいカイ二乗確率、線形回帰モデルのF検定に相当"
   ]
  },
  {
   "cell_type": "code",
   "execution_count": 19,
   "metadata": {},
   "outputs": [
    {
     "data": {
      "text/html": [
       "<table class=\"simpletable\">\n",
       "<caption>Logit Marginal Effects</caption>\n",
       "<tr>\n",
       "  <th>Dep. Variable:</th>    <td>y</td>   \n",
       "</tr>\n",
       "<tr>\n",
       "  <th>Method:</th>         <td>dydx</td>  \n",
       "</tr>\n",
       "<tr>\n",
       "  <th>At:</th>            <td>overall</td>\n",
       "</tr>\n",
       "</table>\n",
       "<table class=\"simpletable\">\n",
       "<tr>\n",
       "   <th></th>     <th>dy/dx</th>    <th>std err</th>      <th>z</th>      <th>P>|z|</th>  <th>[0.025</th>    <th>0.975]</th>  \n",
       "</tr>\n",
       "<tr>\n",
       "  <th>x1</th> <td>    0.3626</td> <td>    0.109</td> <td>    3.313</td> <td> 0.001</td> <td>    0.148</td> <td>    0.577</td>\n",
       "</tr>\n",
       "<tr>\n",
       "  <th>x2</th> <td>    0.0122</td> <td>    0.018</td> <td>    0.686</td> <td> 0.493</td> <td>   -0.023</td> <td>    0.047</td>\n",
       "</tr>\n",
       "<tr>\n",
       "  <th>x3</th> <td>    0.3052</td> <td>    0.092</td> <td>    3.304</td> <td> 0.001</td> <td>    0.124</td> <td>    0.486</td>\n",
       "</tr>\n",
       "</table>"
      ],
      "text/plain": [
       "<class 'statsmodels.iolib.summary.Summary'>\n",
       "\"\"\"\n",
       "        Logit Marginal Effects       \n",
       "=====================================\n",
       "Dep. Variable:                      y\n",
       "Method:                          dydx\n",
       "At:                           overall\n",
       "==============================================================================\n",
       "                dy/dx    std err          z      P>|z|      [0.025      0.975]\n",
       "------------------------------------------------------------------------------\n",
       "x1             0.3626      0.109      3.313      0.001       0.148       0.577\n",
       "x2             0.0122      0.018      0.686      0.493      -0.023       0.047\n",
       "x3             0.3052      0.092      3.304      0.001       0.124       0.486\n",
       "==============================================================================\n",
       "\"\"\""
      ]
     },
     "execution_count": 19,
     "metadata": {},
     "output_type": "execute_result"
    }
   ],
   "source": [
    "# 限界効用分析：説明変数１単位が応答変数に与える影響\n",
    "margeff = logit_res.get_margeff()#限界効用分析の設定\n",
    "margeff.summary()"
   ]
  },
  {
   "cell_type": "code",
   "execution_count": 20,
   "metadata": {},
   "outputs": [
    {
     "data": {
      "text/html": [
       "<table class=\"simpletable\">\n",
       "<caption>Logit Marginal Effects</caption>\n",
       "<tr>\n",
       "  <th>Dep. Variable:</th>    <td>y</td>   \n",
       "</tr>\n",
       "<tr>\n",
       "  <th>Method:</th>         <td>dydx</td>  \n",
       "</tr>\n",
       "<tr>\n",
       "  <th>At:</th>            <td>overall</td>\n",
       "</tr>\n",
       "</table>\n",
       "<table class=\"simpletable\">\n",
       "<tr>\n",
       "   <th></th>     <th>dy/dx</th>    <th>std err</th>      <th>z</th>      <th>P>|z|</th>  <th>[0.025</th>    <th>0.975]</th>  \n",
       "</tr>\n",
       "<tr>\n",
       "  <th>x1</th> <td>    0.3626</td> <td>    0.109</td> <td>    3.313</td> <td> 0.001</td> <td>    0.148</td> <td>    0.577</td>\n",
       "</tr>\n",
       "<tr>\n",
       "  <th>x2</th> <td>    0.0122</td> <td>    0.018</td> <td>    0.686</td> <td> 0.493</td> <td>   -0.023</td> <td>    0.047</td>\n",
       "</tr>\n",
       "<tr>\n",
       "  <th>x3</th> <td>    0.3052</td> <td>    0.092</td> <td>    3.304</td> <td> 0.001</td> <td>    0.124</td> <td>    0.486</td>\n",
       "</tr>\n",
       "</table>"
      ],
      "text/plain": [
       "<class 'statsmodels.iolib.summary.Summary'>\n",
       "\"\"\"\n",
       "        Logit Marginal Effects       \n",
       "=====================================\n",
       "Dep. Variable:                      y\n",
       "Method:                          dydx\n",
       "At:                           overall\n",
       "==============================================================================\n",
       "                dy/dx    std err          z      P>|z|      [0.025      0.975]\n",
       "------------------------------------------------------------------------------\n",
       "x1             0.3626      0.109      3.313      0.001       0.148       0.577\n",
       "x2             0.0122      0.018      0.686      0.493      -0.023       0.047\n",
       "x3             0.3052      0.092      3.304      0.001       0.124       0.486\n",
       "==============================================================================\n",
       "\"\"\""
      ]
     },
     "execution_count": 20,
     "metadata": {},
     "output_type": "execute_result"
    }
   ],
   "source": [
    "# 限界効用分析：説明変数１単位が応答変数に与える影響\n",
    "logit_res.get_margeff().summary()# 限界効用分析の出力"
   ]
  },
  {
   "cell_type": "code",
   "execution_count": 21,
   "metadata": {},
   "outputs": [
    {
     "data": {
      "text/plain": [
       "[<matplotlib.lines.Line2D at 0x29b58762d60>]"
      ]
     },
     "execution_count": 21,
     "metadata": {},
     "output_type": "execute_result"
    },
    {
     "data": {
      "image/png": "[encoded data removed]",
      "text/plain": [
       "<Figure size 432x288 with 1 Axes>"
      ]
     },
     "metadata": {
      "needs_background": "light"
     },
     "output_type": "display_data"
    }
   ],
   "source": [
    "plt.plot(np.round(logit_res.predict()))\n",
    "plt.plot(spector_data.endog)"
   ]
  },
  {
   "cell_type": "code",
   "execution_count": 22,
   "metadata": {},
   "outputs": [
    {
     "data": {
      "text/plain": [
       "<matplotlib.collections.PathCollection at 0x29b5978fb50>"
      ]
     },
     "execution_count": 22,
     "metadata": {},
     "output_type": "execute_result"
    },
    {
     "data": {
      "image/png": "[encoded data removed]",
      "text/plain": [
       "<Figure size 432x288 with 1 Axes>"
      ]
     },
     "metadata": {
      "needs_background": "light"
     },
     "output_type": "display_data"
    }
   ],
   "source": [
    "plt.scatter(spector_data.endog,(logit_res.predict()))"
   ]
  },
  {
   "cell_type": "code",
   "execution_count": 23,
   "metadata": {},
   "outputs": [
    {
     "data": {
      "text/plain": [
       "<matplotlib.collections.PathCollection at 0x29b597f1df0>"
      ]
     },
     "execution_count": 23,
     "metadata": {},
     "output_type": "execute_result"
    },
    {
     "data": {
      "image/png": "[encoded data removed]",
      "text/plain": [
       "<Figure size 432x288 with 1 Axes>"
      ]
     },
     "metadata": {
      "needs_background": "light"
     },
     "output_type": "display_data"
    }
   ],
   "source": [
    "#ロジット分析と最小二乗近似の結果の比較\n",
    "plt.scatter(logit_res.predict(),ols_res.predict())"
   ]
  },
  {
   "cell_type": "markdown",
   "metadata": {},
   "source": [
    "##### プロビットモデルによる近似"
   ]
  },
  {
   "cell_type": "code",
   "execution_count": 24,
   "metadata": {},
   "outputs": [
    {
     "data": {
      "text/plain": [
       "(<class 'statsmodels.iolib.summary.Summary'>\n",
       " \"\"\"\n",
       "                           Probit Regression Results                           \n",
       " ==============================================================================\n",
       " Dep. Variable:                      y   No. Observations:                   32\n",
       " Model:                         Probit   Df Residuals:                       28\n",
       " Method:                           MLE   Df Model:                            3\n",
       " Date:                Mon, 24 May 2021   Pseudo R-squ.:                  0.3775\n",
       " Time:                        01:25:52   Log-Likelihood:                -12.819\n",
       " converged:                       True   LL-Null:                       -20.592\n",
       " Covariance Type:            nonrobust   LLR p-value:                  0.001405\n",
       " ==============================================================================\n",
       "                  coef    std err          z      P>|z|      [0.025      0.975]\n",
       " ------------------------------------------------------------------------------\n",
       " x1             1.6258      0.694      2.343      0.019       0.266       2.986\n",
       " x2             0.0517      0.084      0.617      0.537      -0.113       0.216\n",
       " x3             1.4263      0.595      2.397      0.017       0.260       2.593\n",
       " const         -7.4523      2.542     -2.931      0.003     -12.435      -2.469\n",
       " ==============================================================================\n",
       " \"\"\",\n",
       " <class 'statsmodels.iolib.summary.Summary'>\n",
       " \"\"\"\n",
       "        Probit Marginal Effects       \n",
       " =====================================\n",
       " Dep. Variable:                      y\n",
       " Method:                          dydx\n",
       " At:                           overall\n",
       " ==============================================================================\n",
       "                 dy/dx    std err          z      P>|z|      [0.025      0.975]\n",
       " ------------------------------------------------------------------------------\n",
       " x1             0.3608      0.113      3.182      0.001       0.139       0.583\n",
       " x2             0.0115      0.018      0.624      0.533      -0.025       0.048\n",
       " x3             0.3165      0.090      3.508      0.000       0.140       0.493\n",
       " ==============================================================================\n",
       " \"\"\")"
      ]
     },
     "execution_count": 24,
     "metadata": {},
     "output_type": "execute_result"
    }
   ],
   "source": [
    "probit_mod = sm.Probit(spector_data.endog, spector_data.exog)\n",
    "probit_res = probit_mod.fit(disp=0)\n",
    "probit_res.summary(),probit_res.get_margeff().summary()"
   ]
  },
  {
   "cell_type": "code",
   "execution_count": 25,
   "metadata": {},
   "outputs": [
    {
     "data": {
      "text/plain": [
       "<matplotlib.collections.PathCollection at 0x29b59852e50>"
      ]
     },
     "execution_count": 25,
     "metadata": {},
     "output_type": "execute_result"
    },
    {
     "data": {
      "image/png": "[encoded data removed]",
      "text/plain": [
       "<Figure size 432x288 with 1 Axes>"
      ]
     },
     "metadata": {
      "needs_background": "light"
     },
     "output_type": "display_data"
    }
   ],
   "source": [
    "plt.scatter(probit_res.predict(),logit_res.predict())"
   ]
  },
  {
   "cell_type": "code",
   "execution_count": 26,
   "metadata": {},
   "outputs": [
    {
     "data": {
      "text/plain": [
       "(33.95649234217083, 33.77926844426283, 33.637608137778884)"
      ]
     },
     "execution_count": 26,
     "metadata": {},
     "output_type": "execute_result"
    }
   ],
   "source": [
    "# AICの比較\n",
    "# AIC 最小のモデルはプロビット\n",
    "ols_res.aic,logit_res.aic,probit_res.aic"
   ]
  },
  {
   "cell_type": "markdown",
   "metadata": {},
   "source": [
    "# 例２：[アメリカ選挙調査](http://www.electionstudies.org/)\n",
    "\n",
    "ANES(American National Election Study)のデータ\n",
    "\n",
    "データの詳細：944行10列 実際に見るのは５つの項目に絞られています。\n",
    "\n",
    "|変数名|説明||\n",
    "|:-:|:-:|:-:|\n",
    "|PID|政党指数|0:強民主党;1:弱民主党;2:独立-民主党;3:独立-独立;4:独立-共和党;5:弱共和党;6:強共和党|\n",
    "|logpopul|国税調査の場所の人口の対数+0.1|\n",
    "|educ|学歴|1:1~8グレード;2:高校中退;3:高校卒;4:大学中退;5:学士;6:修士;7:博士|\n",
    "|age|年齢||\n",
    "|vote|予定投票|1:強リベラル;2:リベラル;3:弱リベラル;4:中道;5:弱保守;6:保守;7:強保守|\n",
    "|income|収入|1:<2999;2:<4999:;3:<6999;4:<8999;5:<9999;6:<10999;7:<11999;8:<12999;|\n",
    "|||9:<13999;10:<14999;11:<16999;12:<19999;13:<21999;14:<24999:15:<29999;16:<34999;|\n",
    "|||17:<39999;18:<44999;19:<49999;20:<59999;21:<74999;22:<89999;23<104999;24:<over|\n"
   ]
  },
  {
   "cell_type": "code",
   "execution_count": 27,
   "metadata": {},
   "outputs": [],
   "source": [
    "anes_data = sm.datasets.anes96.load(as_pandas=False)\n",
    "anes_exog = anes_data.exog\n",
    "anes_exog = sm.add_constant(anes_exog, prepend=False)"
   ]
  },
  {
   "cell_type": "code",
   "execution_count": 28,
   "metadata": {},
   "outputs": [
    {
     "name": "stdout",
     "output_type": "stream",
     "text": [
      "[6. 1. 1. 1. 0.]\n",
      "[[-2.30258509  7.         36.          3.          1.        ]\n",
      " [ 5.24755025  3.         20.          4.          1.        ]\n",
      " [ 3.43720782  2.         24.          6.          1.        ]\n",
      " [ 4.4200447   3.         28.          6.          1.        ]\n",
      " [ 6.46162441  5.         68.          6.          1.        ]]\n"
     ]
    }
   ],
   "source": [
    "print(anes_data.endog[:5])\n",
    "print(anes_data.exog[:5,:])"
   ]
  },
  {
   "cell_type": "code",
   "execution_count": 29,
   "metadata": {},
   "outputs": [
    {
     "data": {
      "image/png": "[encoded data removed]",
      "text/plain": [
       "<Figure size 432x288 with 1 Axes>"
      ]
     },
     "metadata": {
      "needs_background": "light"
     },
     "output_type": "display_data"
    }
   ],
   "source": [
    "# 応答変数の性質\n",
    "plt.hist(anes_data.endog,stacked=True,bins=[0,1,2,3,4,5,6])\n",
    "plt.show()"
   ]
  },
  {
   "cell_type": "code",
   "execution_count": 30,
   "metadata": {},
   "outputs": [
    {
     "name": "stdout",
     "output_type": "stream",
     "text": [
      "Optimization terminated successfully.\n",
      "         Current function value: 1.548647\n",
      "         Iterations 7\n"
     ]
    },
    {
     "data": {
      "text/html": [
       "<table class=\"simpletable\">\n",
       "<caption>MNLogit Regression Results</caption>\n",
       "<tr>\n",
       "  <th>Dep. Variable:</th>           <td>y</td>        <th>  No. Observations:  </th>   <td>   944</td>  \n",
       "</tr>\n",
       "<tr>\n",
       "  <th>Model:</th>                <td>MNLogit</td>     <th>  Df Residuals:      </th>   <td>   908</td>  \n",
       "</tr>\n",
       "<tr>\n",
       "  <th>Method:</th>                 <td>MLE</td>       <th>  Df Model:          </th>   <td>    30</td>  \n",
       "</tr>\n",
       "<tr>\n",
       "  <th>Date:</th>            <td>Mon, 24 May 2021</td> <th>  Pseudo R-squ.:     </th>   <td>0.1648</td>  \n",
       "</tr>\n",
       "<tr>\n",
       "  <th>Time:</th>                <td>01:25:53</td>     <th>  Log-Likelihood:    </th>  <td> -1461.9</td> \n",
       "</tr>\n",
       "<tr>\n",
       "  <th>converged:</th>             <td>True</td>       <th>  LL-Null:           </th>  <td> -1750.3</td> \n",
       "</tr>\n",
       "<tr>\n",
       "  <th>Covariance Type:</th>     <td>nonrobust</td>    <th>  LLR p-value:       </th> <td>1.822e-102</td>\n",
       "</tr>\n",
       "</table>\n",
       "<table class=\"simpletable\">\n",
       "<tr>\n",
       "   <th>y=1</th>     <th>coef</th>     <th>std err</th>      <th>z</th>      <th>P>|z|</th>  <th>[0.025</th>    <th>0.975]</th>  \n",
       "</tr>\n",
       "<tr>\n",
       "  <th>x1</th>    <td>   -0.0115</td> <td>    0.034</td> <td>   -0.336</td> <td> 0.736</td> <td>   -0.079</td> <td>    0.056</td>\n",
       "</tr>\n",
       "<tr>\n",
       "  <th>x2</th>    <td>    0.2977</td> <td>    0.094</td> <td>    3.180</td> <td> 0.001</td> <td>    0.114</td> <td>    0.481</td>\n",
       "</tr>\n",
       "<tr>\n",
       "  <th>x3</th>    <td>   -0.0249</td> <td>    0.007</td> <td>   -3.823</td> <td> 0.000</td> <td>   -0.038</td> <td>   -0.012</td>\n",
       "</tr>\n",
       "<tr>\n",
       "  <th>x4</th>    <td>    0.0825</td> <td>    0.074</td> <td>    1.121</td> <td> 0.262</td> <td>   -0.062</td> <td>    0.227</td>\n",
       "</tr>\n",
       "<tr>\n",
       "  <th>x5</th>    <td>    0.0052</td> <td>    0.018</td> <td>    0.295</td> <td> 0.768</td> <td>   -0.029</td> <td>    0.040</td>\n",
       "</tr>\n",
       "<tr>\n",
       "  <th>const</th> <td>   -0.3734</td> <td>    0.630</td> <td>   -0.593</td> <td> 0.553</td> <td>   -1.608</td> <td>    0.861</td>\n",
       "</tr>\n",
       "<tr>\n",
       "   <th>y=2</th>     <th>coef</th>     <th>std err</th>      <th>z</th>      <th>P>|z|</th>  <th>[0.025</th>    <th>0.975]</th>  \n",
       "</tr>\n",
       "<tr>\n",
       "  <th>x1</th>    <td>   -0.0888</td> <td>    0.039</td> <td>   -2.266</td> <td> 0.023</td> <td>   -0.166</td> <td>   -0.012</td>\n",
       "</tr>\n",
       "<tr>\n",
       "  <th>x2</th>    <td>    0.3917</td> <td>    0.108</td> <td>    3.619</td> <td> 0.000</td> <td>    0.180</td> <td>    0.604</td>\n",
       "</tr>\n",
       "<tr>\n",
       "  <th>x3</th>    <td>   -0.0229</td> <td>    0.008</td> <td>   -2.893</td> <td> 0.004</td> <td>   -0.038</td> <td>   -0.007</td>\n",
       "</tr>\n",
       "<tr>\n",
       "  <th>x4</th>    <td>    0.1810</td> <td>    0.085</td> <td>    2.123</td> <td> 0.034</td> <td>    0.014</td> <td>    0.348</td>\n",
       "</tr>\n",
       "<tr>\n",
       "  <th>x5</th>    <td>    0.0479</td> <td>    0.022</td> <td>    2.149</td> <td> 0.032</td> <td>    0.004</td> <td>    0.092</td>\n",
       "</tr>\n",
       "<tr>\n",
       "  <th>const</th> <td>   -2.2509</td> <td>    0.763</td> <td>   -2.949</td> <td> 0.003</td> <td>   -3.747</td> <td>   -0.755</td>\n",
       "</tr>\n",
       "<tr>\n",
       "   <th>y=3</th>     <th>coef</th>     <th>std err</th>      <th>z</th>      <th>P>|z|</th>  <th>[0.025</th>    <th>0.975]</th>  \n",
       "</tr>\n",
       "<tr>\n",
       "  <th>x1</th>    <td>   -0.1060</td> <td>    0.057</td> <td>   -1.858</td> <td> 0.063</td> <td>   -0.218</td> <td>    0.006</td>\n",
       "</tr>\n",
       "<tr>\n",
       "  <th>x2</th>    <td>    0.5735</td> <td>    0.159</td> <td>    3.617</td> <td> 0.000</td> <td>    0.263</td> <td>    0.884</td>\n",
       "</tr>\n",
       "<tr>\n",
       "  <th>x3</th>    <td>   -0.0149</td> <td>    0.011</td> <td>   -1.311</td> <td> 0.190</td> <td>   -0.037</td> <td>    0.007</td>\n",
       "</tr>\n",
       "<tr>\n",
       "  <th>x4</th>    <td>   -0.0072</td> <td>    0.126</td> <td>   -0.057</td> <td> 0.955</td> <td>   -0.255</td> <td>    0.240</td>\n",
       "</tr>\n",
       "<tr>\n",
       "  <th>x5</th>    <td>    0.0576</td> <td>    0.034</td> <td>    1.713</td> <td> 0.087</td> <td>   -0.008</td> <td>    0.123</td>\n",
       "</tr>\n",
       "<tr>\n",
       "  <th>const</th> <td>   -3.6656</td> <td>    1.157</td> <td>   -3.169</td> <td> 0.002</td> <td>   -5.932</td> <td>   -1.399</td>\n",
       "</tr>\n",
       "<tr>\n",
       "   <th>y=4</th>     <th>coef</th>     <th>std err</th>      <th>z</th>      <th>P>|z|</th>  <th>[0.025</th>    <th>0.975]</th>  \n",
       "</tr>\n",
       "<tr>\n",
       "  <th>x1</th>    <td>   -0.0916</td> <td>    0.044</td> <td>   -2.091</td> <td> 0.037</td> <td>   -0.177</td> <td>   -0.006</td>\n",
       "</tr>\n",
       "<tr>\n",
       "  <th>x2</th>    <td>    1.2788</td> <td>    0.129</td> <td>    9.921</td> <td> 0.000</td> <td>    1.026</td> <td>    1.531</td>\n",
       "</tr>\n",
       "<tr>\n",
       "  <th>x3</th>    <td>   -0.0087</td> <td>    0.008</td> <td>   -1.031</td> <td> 0.302</td> <td>   -0.025</td> <td>    0.008</td>\n",
       "</tr>\n",
       "<tr>\n",
       "  <th>x4</th>    <td>    0.1998</td> <td>    0.094</td> <td>    2.123</td> <td> 0.034</td> <td>    0.015</td> <td>    0.384</td>\n",
       "</tr>\n",
       "<tr>\n",
       "  <th>x5</th>    <td>    0.0845</td> <td>    0.026</td> <td>    3.226</td> <td> 0.001</td> <td>    0.033</td> <td>    0.136</td>\n",
       "</tr>\n",
       "<tr>\n",
       "  <th>const</th> <td>   -7.6138</td> <td>    0.958</td> <td>   -7.951</td> <td> 0.000</td> <td>   -9.491</td> <td>   -5.737</td>\n",
       "</tr>\n",
       "<tr>\n",
       "   <th>y=5</th>     <th>coef</th>     <th>std err</th>      <th>z</th>      <th>P>|z|</th>  <th>[0.025</th>    <th>0.975]</th>  \n",
       "</tr>\n",
       "<tr>\n",
       "  <th>x1</th>    <td>   -0.0933</td> <td>    0.039</td> <td>   -2.371</td> <td> 0.018</td> <td>   -0.170</td> <td>   -0.016</td>\n",
       "</tr>\n",
       "<tr>\n",
       "  <th>x2</th>    <td>    1.3470</td> <td>    0.117</td> <td>   11.494</td> <td> 0.000</td> <td>    1.117</td> <td>    1.577</td>\n",
       "</tr>\n",
       "<tr>\n",
       "  <th>x3</th>    <td>   -0.0179</td> <td>    0.008</td> <td>   -2.352</td> <td> 0.019</td> <td>   -0.033</td> <td>   -0.003</td>\n",
       "</tr>\n",
       "<tr>\n",
       "  <th>x4</th>    <td>    0.2169</td> <td>    0.085</td> <td>    2.552</td> <td> 0.011</td> <td>    0.050</td> <td>    0.384</td>\n",
       "</tr>\n",
       "<tr>\n",
       "  <th>x5</th>    <td>    0.0810</td> <td>    0.023</td> <td>    3.524</td> <td> 0.000</td> <td>    0.036</td> <td>    0.126</td>\n",
       "</tr>\n",
       "<tr>\n",
       "  <th>const</th> <td>   -7.0605</td> <td>    0.844</td> <td>   -8.362</td> <td> 0.000</td> <td>   -8.715</td> <td>   -5.406</td>\n",
       "</tr>\n",
       "<tr>\n",
       "   <th>y=6</th>     <th>coef</th>     <th>std err</th>      <th>z</th>      <th>P>|z|</th>  <th>[0.025</th>    <th>0.975]</th>  \n",
       "</tr>\n",
       "<tr>\n",
       "  <th>x1</th>    <td>   -0.1409</td> <td>    0.042</td> <td>   -3.343</td> <td> 0.001</td> <td>   -0.223</td> <td>   -0.058</td>\n",
       "</tr>\n",
       "<tr>\n",
       "  <th>x2</th>    <td>    2.0701</td> <td>    0.143</td> <td>   14.435</td> <td> 0.000</td> <td>    1.789</td> <td>    2.351</td>\n",
       "</tr>\n",
       "<tr>\n",
       "  <th>x3</th>    <td>   -0.0094</td> <td>    0.008</td> <td>   -1.160</td> <td> 0.246</td> <td>   -0.025</td> <td>    0.007</td>\n",
       "</tr>\n",
       "<tr>\n",
       "  <th>x4</th>    <td>    0.3219</td> <td>    0.091</td> <td>    3.534</td> <td> 0.000</td> <td>    0.143</td> <td>    0.500</td>\n",
       "</tr>\n",
       "<tr>\n",
       "  <th>x5</th>    <td>    0.1089</td> <td>    0.025</td> <td>    4.304</td> <td> 0.000</td> <td>    0.059</td> <td>    0.158</td>\n",
       "</tr>\n",
       "<tr>\n",
       "  <th>const</th> <td>  -12.1058</td> <td>    1.060</td> <td>  -11.421</td> <td> 0.000</td> <td>  -14.183</td> <td>  -10.028</td>\n",
       "</tr>\n",
       "</table>"
      ],
      "text/plain": [
       "<class 'statsmodels.iolib.summary.Summary'>\n",
       "\"\"\"\n",
       "                          MNLogit Regression Results                          \n",
       "==============================================================================\n",
       "Dep. Variable:                      y   No. Observations:                  944\n",
       "Model:                        MNLogit   Df Residuals:                      908\n",
       "Method:                           MLE   Df Model:                           30\n",
       "Date:                Mon, 24 May 2021   Pseudo R-squ.:                  0.1648\n",
       "Time:                        01:25:53   Log-Likelihood:                -1461.9\n",
       "converged:                       True   LL-Null:                       -1750.3\n",
       "Covariance Type:            nonrobust   LLR p-value:                1.822e-102\n",
       "==============================================================================\n",
       "       y=1       coef    std err          z      P>|z|      [0.025      0.975]\n",
       "------------------------------------------------------------------------------\n",
       "x1            -0.0115      0.034     -0.336      0.736      -0.079       0.056\n",
       "x2             0.2977      0.094      3.180      0.001       0.114       0.481\n",
       "x3            -0.0249      0.007     -3.823      0.000      -0.038      -0.012\n",
       "x4             0.0825      0.074      1.121      0.262      -0.062       0.227\n",
       "x5             0.0052      0.018      0.295      0.768      -0.029       0.040\n",
       "const         -0.3734      0.630     -0.593      0.553      -1.608       0.861\n",
       "------------------------------------------------------------------------------\n",
       "       y=2       coef    std err          z      P>|z|      [0.025      0.975]\n",
       "------------------------------------------------------------------------------\n",
       "x1            -0.0888      0.039     -2.266      0.023      -0.166      -0.012\n",
       "x2             0.3917      0.108      3.619      0.000       0.180       0.604\n",
       "x3            -0.0229      0.008     -2.893      0.004      -0.038      -0.007\n",
       "x4             0.1810      0.085      2.123      0.034       0.014       0.348\n",
       "x5             0.0479      0.022      2.149      0.032       0.004       0.092\n",
       "const         -2.2509      0.763     -2.949      0.003      -3.747      -0.755\n",
       "------------------------------------------------------------------------------\n",
       "       y=3       coef    std err          z      P>|z|      [0.025      0.975]\n",
       "------------------------------------------------------------------------------\n",
       "x1            -0.1060      0.057     -1.858      0.063      -0.218       0.006\n",
       "x2             0.5735      0.159      3.617      0.000       0.263       0.884\n",
       "x3            -0.0149      0.011     -1.311      0.190      -0.037       0.007\n",
       "x4            -0.0072      0.126     -0.057      0.955      -0.255       0.240\n",
       "x5             0.0576      0.034      1.713      0.087      -0.008       0.123\n",
       "const         -3.6656      1.157     -3.169      0.002      -5.932      -1.399\n",
       "------------------------------------------------------------------------------\n",
       "       y=4       coef    std err          z      P>|z|      [0.025      0.975]\n",
       "------------------------------------------------------------------------------\n",
       "x1            -0.0916      0.044     -2.091      0.037      -0.177      -0.006\n",
       "x2             1.2788      0.129      9.921      0.000       1.026       1.531\n",
       "x3            -0.0087      0.008     -1.031      0.302      -0.025       0.008\n",
       "x4             0.1998      0.094      2.123      0.034       0.015       0.384\n",
       "x5             0.0845      0.026      3.226      0.001       0.033       0.136\n",
       "const         -7.6138      0.958     -7.951      0.000      -9.491      -5.737\n",
       "------------------------------------------------------------------------------\n",
       "       y=5       coef    std err          z      P>|z|      [0.025      0.975]\n",
       "------------------------------------------------------------------------------\n",
       "x1            -0.0933      0.039     -2.371      0.018      -0.170      -0.016\n",
       "x2             1.3470      0.117     11.494      0.000       1.117       1.577\n",
       "x3            -0.0179      0.008     -2.352      0.019      -0.033      -0.003\n",
       "x4             0.2169      0.085      2.552      0.011       0.050       0.384\n",
       "x5             0.0810      0.023      3.524      0.000       0.036       0.126\n",
       "const         -7.0605      0.844     -8.362      0.000      -8.715      -5.406\n",
       "------------------------------------------------------------------------------\n",
       "       y=6       coef    std err          z      P>|z|      [0.025      0.975]\n",
       "------------------------------------------------------------------------------\n",
       "x1            -0.1409      0.042     -3.343      0.001      -0.223      -0.058\n",
       "x2             2.0701      0.143     14.435      0.000       1.789       2.351\n",
       "x3            -0.0094      0.008     -1.160      0.246      -0.025       0.007\n",
       "x4             0.3219      0.091      3.534      0.000       0.143       0.500\n",
       "x5             0.1089      0.025      4.304      0.000       0.059       0.158\n",
       "const        -12.1058      1.060    -11.421      0.000     -14.183     -10.028\n",
       "==============================================================================\n",
       "\"\"\""
      ]
     },
     "execution_count": 30,
     "metadata": {},
     "output_type": "execute_result"
    }
   ],
   "source": [
    "mlogit_mod = sm.MNLogit(anes_data.endog, anes_exog)#多項ロジットモデルの設定\n",
    "mlogit_res = mlogit_mod.fit()\n",
    "mlogit_res.summary()"
   ]
  },
  {
   "cell_type": "code",
   "execution_count": 31,
   "metadata": {},
   "outputs": [
    {
     "data": {
      "image/png": "[encoded data removed]",
      "text/plain": [
       "<Figure size 432x288 with 1 Axes>"
      ]
     },
     "metadata": {
      "needs_background": "light"
     },
     "output_type": "display_data"
    }
   ],
   "source": [
    "y_hat=np.argmax(mlogit_res.predict(),axis=1)\n",
    "plt.scatter(anes_data.endog,y_hat)\n",
    "plt.xlabel('endog')\n",
    "plt.ylabel('y_hat')\n",
    "plt.show()"
   ]
  },
  {
   "cell_type": "markdown",
   "metadata": {},
   "source": [
    "# ランド医療保険実験\n",
    "\n",
    "\n",
    "医療経済学の世界ではじめて行われたRCT(Randomized controlled trial)になります。これは\n",
    "\n",
    "医療費の自己負担割合が受療行動にどのような影響を与えるのかを実証的に調べたのがランド医療保険実験です。1971～1986年に、アメリカの6市に住む2750世帯を対象に行われました。医療保険があると必要以上の多くの量の医療サービスを消費してしまうと思われがちです。自己負担割合を設定することでこのモラル・ハザードを抑制することができるかを研究した社会実験です。保険の還付などを行うために民間医療保険会社が設立されました。2750世帯の研究対象者は無料で医療保険をもらうことができたのですが、そのプランはランダムに設定された4つの自己負担割合からなります。3～5年のフォローアップ期間を設け、受療行動や健康の状態が評価されました。\n",
    "\n",
    "自己負担ゼロプラン\n",
    "自己負担25%プラン\n",
    "自己負担50%プラン\n",
    "自己負担95%プラン\n",
    "HMOプラン（自己負担はゼロだが受診できる医療機関は制限される）\n",
    "さらには、年間の自己負担上限（out-of-pocket maximum）が収入の5%、10%、15%と$1,000のいずれかより低い方に設定されており、上記の自己負担割合と組み合わせられ各プランが作られていました。\n",
    "\n",
    "データの詳細：20,190行10列\n",
    "\n",
    "|変数名|説明||\n",
    "|:-:|:-:|:-:|\n",
    "|mdvis|年間外来受診回数|\n",
    "|lncoins|ln(共同負担+1)|0:<=共同負担<=100|\n",
    "|idp|高額控除となる保険プラン|1:保険プラン;0:それ以外|\n",
    "|lpi|年間控除額|ln(max(1, annual participation incentive payment))|\n",
    "|fmde|保険プランの共同負担額|0: idp=1の場合; 共同負担それ以外|\n",
    "|physlm|1: 身体的制約がある\n",
    "|disea|持病の数|\n",
    "|hlthg|1:自己申告の健康状態が良い|6\n",
    "|hlthf|1:自己申告の健康状態が普通|7\n",
    "|hlthp|1:自己申告の健康状態が悪い|8\n",
    "\n",
    "\n",
    "ランドのデータを読み込みます。"
   ]
  },
  {
   "cell_type": "code",
   "execution_count": 32,
   "metadata": {},
   "outputs": [],
   "source": [
    "rand_data = sm.datasets.randhie.load(as_pandas=False)\n",
    "rand_exog = rand_data.exog.view(float).reshape(len(rand_data.exog), -1)"
   ]
  },
  {
   "cell_type": "code",
   "execution_count": 33,
   "metadata": {},
   "outputs": [
    {
     "data": {
      "image/png": "[encoded data removed]",
      "text/plain": [
       "<Figure size 432x288 with 1 Axes>"
      ]
     },
     "metadata": {
      "needs_background": "light"
     },
     "output_type": "display_data"
    }
   ],
   "source": [
    "# 年間外来受診回数\n",
    "plt.hist(rand_data.endog)\n",
    "plt.show()"
   ]
  },
  {
   "cell_type": "code",
   "execution_count": 34,
   "metadata": {},
   "outputs": [
    {
     "data": {
      "text/plain": [
       "array([[ 4.61512 ,  1.      ,  6.907755,  0.      ,  0.      , 13.73189 ,\n",
       "         1.      ,  0.      ,  0.      ],\n",
       "       [ 4.61512 ,  1.      ,  6.907755,  0.      ,  0.      , 13.73189 ,\n",
       "         1.      ,  0.      ,  0.      ],\n",
       "       [ 4.61512 ,  1.      ,  6.907755,  0.      ,  0.      , 13.73189 ,\n",
       "         1.      ,  0.      ,  0.      ],\n",
       "       [ 4.61512 ,  1.      ,  6.907755,  0.      ,  0.      , 13.73189 ,\n",
       "         1.      ,  0.      ,  0.      ],\n",
       "       [ 4.61512 ,  1.      ,  6.907755,  0.      ,  0.      , 13.73189 ,\n",
       "         1.      ,  0.      ,  0.      ]])"
      ]
     },
     "execution_count": 34,
     "metadata": {},
     "output_type": "execute_result"
    }
   ],
   "source": [
    "rand_exog[:5]"
   ]
  },
  {
   "cell_type": "code",
   "execution_count": 35,
   "metadata": {},
   "outputs": [
    {
     "data": {
      "image/png": "[encoded data removed]",
      "text/plain": [
       "<Figure size 432x288 with 1 Axes>"
      ]
     },
     "metadata": {
      "needs_background": "light"
     },
     "output_type": "display_data"
    },
    {
     "data": {
      "text/plain": [
       "0.000000    10997\n",
       "3.258096     4065\n",
       "3.931826     1401\n",
       "4.564348     2653\n",
       "4.615120     1074\n",
       "Name: 0, dtype: int64"
      ]
     },
     "execution_count": 35,
     "metadata": {},
     "output_type": "execute_result"
    }
   ],
   "source": [
    "# 共同負担\n",
    "plt.hist(rand_exog[:,0])\n",
    "plt.show()\n",
    "x=pd.DataFrame(rand_exog)\n",
    "x.iloc[:,0].value_counts().sort_index()"
   ]
  },
  {
   "cell_type": "code",
   "execution_count": 36,
   "metadata": {},
   "outputs": [
    {
     "data": {
      "image/png": "[encoded data removed]",
      "text/plain": [
       "<Figure size 432x288 with 1 Axes>"
      ]
     },
     "metadata": {
      "needs_background": "light"
     },
     "output_type": "display_data"
    }
   ],
   "source": [
    "# 高額控除となる保険プラン\n",
    "plt.hist(rand_exog[:,1])\n",
    "plt.show()"
   ]
  },
  {
   "cell_type": "code",
   "execution_count": 37,
   "metadata": {},
   "outputs": [
    {
     "data": {
      "image/png": "[encoded data removed]",
      "text/plain": [
       "<Figure size 432x288 with 1 Axes>"
      ]
     },
     "metadata": {
      "needs_background": "light"
     },
     "output_type": "display_data"
    },
    {
     "data": {
      "text/plain": [
       "0.000000    4767\n",
       "2.484907       5\n",
       "2.821379       4\n",
       "2.890372      24\n",
       "2.960105      14\n",
       "            ... \n",
       "7.067320      22\n",
       "7.080969      15\n",
       "7.122189      16\n",
       "7.128143      21\n",
       "7.163699      15\n",
       "Name: 2, Length: 619, dtype: int64"
      ]
     },
     "execution_count": 37,
     "metadata": {},
     "output_type": "execute_result"
    }
   ],
   "source": [
    "# 年間控除額\n",
    "plt.hist(rand_exog[:,2],bins=100)\n",
    "plt.show()\n",
    "x=pd.DataFrame(rand_exog)\n",
    "x.iloc[:,2].value_counts().sort_index()"
   ]
  },
  {
   "cell_type": "code",
   "execution_count": 38,
   "metadata": {},
   "outputs": [
    {
     "data": {
      "image/png": "[encoded data removed]",
      "text/plain": [
       "<Figure size 432x288 with 1 Axes>"
      ]
     },
     "metadata": {
      "needs_background": "light"
     },
     "output_type": "display_data"
    },
    {
     "data": {
      "text/plain": [
       "0.000000    8379\n",
       "2.941665       6\n",
       "3.011398      14\n",
       "3.592253       4\n",
       "3.628682       3\n",
       "            ... \n",
       "8.242756       5\n",
       "8.248006       6\n",
       "8.257385      21\n",
       "8.259924      23\n",
       "8.294049    1005\n",
       "Name: 3, Length: 345, dtype: int64"
      ]
     },
     "execution_count": 38,
     "metadata": {},
     "output_type": "execute_result"
    }
   ],
   "source": [
    "# 保険プランの共同負担\n",
    "plt.hist(rand_exog[:,3])\n",
    "plt.show()\n",
    "x=pd.DataFrame(rand_exog)\n",
    "x.iloc[:,3].value_counts().sort_index()"
   ]
  },
  {
   "cell_type": "code",
   "execution_count": 39,
   "metadata": {},
   "outputs": [
    {
     "data": {
      "image/png": "[encoded data removed]",
      "text/plain": [
       "<Figure size 432x288 with 1 Axes>"
      ]
     },
     "metadata": {
      "needs_background": "light"
     },
     "output_type": "display_data"
    },
    {
     "data": {
      "text/plain": [
       "0.000000    16751\n",
       "0.022124      134\n",
       "0.026846      128\n",
       "0.027778        5\n",
       "0.032787      129\n",
       "0.043127        9\n",
       "0.129820       15\n",
       "0.144292      537\n",
       "0.157250       72\n",
       "0.198187       23\n",
       "1.000000     2387\n",
       "Name: 4, dtype: int64"
      ]
     },
     "execution_count": 39,
     "metadata": {},
     "output_type": "execute_result"
    }
   ],
   "source": [
    "#  身体的制約\n",
    "plt.hist(rand_exog[:,4])\n",
    "plt.show()\n",
    "x=pd.DataFrame(rand_exog)\n",
    "x.iloc[:,4].value_counts().sort_index()"
   ]
  },
  {
   "cell_type": "code",
   "execution_count": 40,
   "metadata": {},
   "outputs": [
    {
     "data": {
      "image/png": "[encoded data removed]",
      "text/plain": [
       "<Figure size 432x288 with 1 Axes>"
      ]
     },
     "metadata": {
      "needs_background": "light"
     },
     "output_type": "display_data"
    },
    {
     "data": {
      "text/plain": [
       "0.000000     1307\n",
       "3.400000     1980\n",
       "4.300000      292\n",
       "6.900000     1889\n",
       "8.700000      384\n",
       "9.967326     1986\n",
       "10.300000    1654\n",
       "10.576260    2375\n",
       "11.842670    1251\n",
       "13.000000     361\n",
       "13.731890    2389\n",
       "13.800000    1122\n",
       "17.200000     833\n",
       "17.400000     309\n",
       "20.700000     574\n",
       "21.700000     214\n",
       "24.100000     410\n",
       "26.100000     126\n",
       "27.600000     269\n",
       "30.400000      96\n",
       "31.000000     126\n",
       "34.500000      74\n",
       "34.800000      28\n",
       "37.900000      74\n",
       "39.100000      12\n",
       "41.400000      21\n",
       "43.500000      13\n",
       "44.800000       9\n",
       "47.800000       4\n",
       "48.300000       3\n",
       "58.600000       5\n",
       "Name: 5, dtype: int64"
      ]
     },
     "execution_count": 40,
     "metadata": {},
     "output_type": "execute_result"
    }
   ],
   "source": [
    "# 持病の数\n",
    "plt.hist(rand_exog[:,5])\n",
    "plt.show()\n",
    "x=pd.DataFrame(rand_exog)\n",
    "(x.iloc[:,5].value_counts()).sort_index()"
   ]
  },
  {
   "cell_type": "code",
   "execution_count": 41,
   "metadata": {},
   "outputs": [
    {
     "data": {
      "image/png": "[encoded data removed]",
      "text/plain": [
       "<Figure size 432x288 with 1 Axes>"
      ]
     },
     "metadata": {
      "needs_background": "light"
     },
     "output_type": "display_data"
    }
   ],
   "source": [
    "# 自己申告の健康状態が良い\n",
    "plt.hist(rand_exog[:,6])\n",
    "plt.show()"
   ]
  },
  {
   "cell_type": "code",
   "execution_count": 42,
   "metadata": {},
   "outputs": [
    {
     "data": {
      "image/png": "[encoded data removed]",
      "text/plain": [
       "<Figure size 432x288 with 1 Axes>"
      ]
     },
     "metadata": {
      "needs_background": "light"
     },
     "output_type": "display_data"
    }
   ],
   "source": [
    "# 自己申告の健康状態が普通\n",
    "plt.hist(rand_exog[:,7])\n",
    "plt.show()"
   ]
  },
  {
   "cell_type": "code",
   "execution_count": 43,
   "metadata": {},
   "outputs": [
    {
     "data": {
      "image/png": "[encoded data removed]",
      "text/plain": [
       "<Figure size 432x288 with 1 Axes>"
      ]
     },
     "metadata": {
      "needs_background": "light"
     },
     "output_type": "display_data"
    }
   ],
   "source": [
    "# 自己申告の健康状態が悪い\n",
    "plt.hist(rand_exog[:,8])\n",
    "plt.show()"
   ]
  },
  {
   "cell_type": "code",
   "execution_count": 44,
   "metadata": {},
   "outputs": [
    {
     "name": "stdout",
     "output_type": "stream",
     "text": [
      "Optimization terminated successfully.\n",
      "         Current function value: 3.091609\n",
      "         Iterations 6\n"
     ]
    },
    {
     "data": {
      "text/plain": [
       "(<class 'statsmodels.iolib.summary.Summary'>\n",
       " \"\"\"\n",
       "                           Poisson Regression Results                          \n",
       " ==============================================================================\n",
       " Dep. Variable:                      y   No. Observations:                20190\n",
       " Model:                        Poisson   Df Residuals:                    20180\n",
       " Method:                           MLE   Df Model:                            9\n",
       " Date:                Mon, 24 May 2021   Pseudo R-squ.:                 0.06343\n",
       " Time:                        01:25:55   Log-Likelihood:                -62420.\n",
       " converged:                       True   LL-Null:                       -66647.\n",
       " Covariance Type:            nonrobust   LLR p-value:                     0.000\n",
       " ==============================================================================\n",
       "                  coef    std err          z      P>|z|      [0.025      0.975]\n",
       " ------------------------------------------------------------------------------\n",
       " x1            -0.0525      0.003    -18.216      0.000      -0.058      -0.047\n",
       " x2            -0.2471      0.011    -23.272      0.000      -0.268      -0.226\n",
       " x3             0.0353      0.002     19.302      0.000       0.032       0.039\n",
       " x4            -0.0346      0.002    -21.439      0.000      -0.038      -0.031\n",
       " x5             0.2717      0.012     22.200      0.000       0.248       0.296\n",
       " x6             0.0339      0.001     60.098      0.000       0.033       0.035\n",
       " x7            -0.0126      0.009     -1.366      0.172      -0.031       0.005\n",
       " x8             0.0541      0.015      3.531      0.000       0.024       0.084\n",
       " x9             0.2061      0.026      7.843      0.000       0.155       0.258\n",
       " const          0.7004      0.011     62.741      0.000       0.678       0.722\n",
       " ==============================================================================\n",
       " \"\"\",\n",
       " <class 'statsmodels.iolib.summary.Summary'>\n",
       " \"\"\"\n",
       "        Poisson Marginal Effects      \n",
       " =====================================\n",
       " Dep. Variable:                      y\n",
       " Method:                          dydx\n",
       " At:                           overall\n",
       " ==============================================================================\n",
       "                 dy/dx    std err          z      P>|z|      [0.025      0.975]\n",
       " ------------------------------------------------------------------------------\n",
       " x1            -0.1503      0.008    -18.164      0.000      -0.166      -0.134\n",
       " x2            -0.7068      0.031    -23.164      0.000      -0.767      -0.647\n",
       " x3             0.1009      0.005     19.240      0.000       0.091       0.111\n",
       " x4            -0.0989      0.005    -21.354      0.000      -0.108      -0.090\n",
       " x5             0.7772      0.035     22.106      0.000       0.708       0.846\n",
       " x6             0.0971      0.002     58.303      0.000       0.094       0.100\n",
       " x7            -0.0361      0.026     -1.366      0.172      -0.088       0.016\n",
       " x8             0.1546      0.044      3.530      0.000       0.069       0.240\n",
       " x9             0.5896      0.075      7.839      0.000       0.442       0.737\n",
       " ==============================================================================\n",
       " \"\"\")"
      ]
     },
     "execution_count": 44,
     "metadata": {},
     "output_type": "execute_result"
    }
   ],
   "source": [
    "# ランド医療保険実験のポアソンモデルによる分析\n",
    "rand_exog = sm.add_constant(rand_exog, prepend=False)\n",
    "poisson_mod = sm.Poisson(rand_data.endog, rand_exog)\n",
    "poisson_res = poisson_mod.fit(method=\"newton\")\n",
    "poisson_res.summary(),poisson_res.get_margeff().summary()"
   ]
  },
  {
   "cell_type": "code",
   "execution_count": 45,
   "metadata": {},
   "outputs": [
    {
     "name": "stdout",
     "output_type": "stream",
     "text": [
      "Optimization terminated successfully.\n",
      "         Current function value: 2.148770\n",
      "         Iterations: 37\n",
      "         Function evaluations: 41\n",
      "         Gradient evaluations: 41\n"
     ]
    },
    {
     "data": {
      "text/plain": [
       "(<class 'statsmodels.iolib.summary.Summary'>\n",
       " \"\"\"\n",
       "                      NegativeBinomial Regression Results                      \n",
       " ==============================================================================\n",
       " Dep. Variable:                      y   No. Observations:                20190\n",
       " Model:               NegativeBinomial   Df Residuals:                    20180\n",
       " Method:                           MLE   Df Model:                            9\n",
       " Date:                Mon, 24 May 2021   Pseudo R-squ.:                 0.01845\n",
       " Time:                        01:25:55   Log-Likelihood:                -43384.\n",
       " converged:                       True   LL-Null:                       -44199.\n",
       " Covariance Type:            nonrobust   LLR p-value:                     0.000\n",
       " ==============================================================================\n",
       "                  coef    std err          z      P>|z|      [0.025      0.975]\n",
       " ------------------------------------------------------------------------------\n",
       " x1            -0.0579      0.006     -9.516      0.000      -0.070      -0.046\n",
       " x2            -0.2678      0.023    -11.801      0.000      -0.312      -0.223\n",
       " x3             0.0412      0.004      9.936      0.000       0.033       0.049\n",
       " x4            -0.0381      0.003    -11.218      0.000      -0.045      -0.031\n",
       " x5             0.2689      0.030      8.980      0.000       0.210       0.328\n",
       " x6             0.0382      0.001     26.082      0.000       0.035       0.041\n",
       " x7            -0.0441      0.020     -2.201      0.028      -0.083      -0.005\n",
       " x8             0.0173      0.036      0.477      0.633      -0.054       0.088\n",
       " x9             0.1780      0.074      2.397      0.017       0.032       0.324\n",
       " const          0.6636      0.025     26.788      0.000       0.615       0.712\n",
       " alpha          1.2930      0.019     69.477      0.000       1.256       1.329\n",
       " ==============================================================================\n",
       " \"\"\",\n",
       " <class 'statsmodels.iolib.summary.Summary'>\n",
       " \"\"\"\n",
       "   NegativeBinomial Marginal Effects  \n",
       " =====================================\n",
       " Dep. Variable:                      y\n",
       " Method:                          dydx\n",
       " At:                           overall\n",
       " ==============================================================================\n",
       "                 dy/dx    std err          z      P>|z|      [0.025      0.975]\n",
       " ------------------------------------------------------------------------------\n",
       " x1            -0.1668      0.018     -9.404      0.000      -0.202      -0.132\n",
       " x2            -0.7708      0.066    -11.599      0.000      -0.901      -0.641\n",
       " x3             0.1186      0.012      9.810      0.000       0.095       0.142\n",
       " x4            -0.1098      0.010    -11.049      0.000      -0.129      -0.090\n",
       " x5             0.7740      0.087      8.880      0.000       0.603       0.945\n",
       " x6             0.1098      0.005     23.866      0.000       0.101       0.119\n",
       " x7            -0.1270      0.058     -2.199      0.028      -0.240      -0.014\n",
       " x8             0.0497      0.104      0.477      0.633      -0.154       0.254\n",
       " x9             0.5123      0.214      2.394      0.017       0.093       0.932\n",
       " ==============================================================================\n",
       " \"\"\")"
      ]
     },
     "execution_count": 45,
     "metadata": {},
     "output_type": "execute_result"
    }
   ],
   "source": [
    "# ランド医療保険実験の負の二項分布モデルによる分析\n",
    "mod_nbin = sm.NegativeBinomial(rand_data.endog, rand_exog)\n",
    "#res_nbin = mod_nbin.fit(disp=False)\n",
    "res_nbin = mod_nbin.fit(method='bfgs', maxiter=250)\n",
    "res_nbin.summary(),res_nbin.get_margeff().summary()"
   ]
  },
  {
   "cell_type": "code",
   "execution_count": 46,
   "metadata": {},
   "outputs": [
    {
     "data": {
      "text/plain": [
       "array([2.44218197, 2.44218197, 2.44218197, ..., 2.44767374, 2.41125729,\n",
       "       2.42211463])"
      ]
     },
     "execution_count": 46,
     "metadata": {},
     "output_type": "execute_result"
    }
   ],
   "source": [
    "res_nbin.predict()"
   ]
  },
  {
   "cell_type": "code",
   "execution_count": 47,
   "metadata": {},
   "outputs": [
    {
     "data": {
      "text/plain": [
       "<matplotlib.collections.PathCollection at 0x29b5b60bf70>"
      ]
     },
     "execution_count": 47,
     "metadata": {},
     "output_type": "execute_result"
    },
    {
     "data": {
      "image/png": "[encoded data removed]",
      "text/plain": [
       "<Figure size 432x288 with 1 Axes>"
      ]
     },
     "metadata": {
      "needs_background": "light"
     },
     "output_type": "display_data"
    }
   ],
   "source": [
    "y_hat=res_nbin.predict()\n",
    "plt.scatter(rand_data.endog,y_hat)"
   ]
  },
  {
   "cell_type": "markdown",
   "metadata": {},
   "source": [
    "# ワインデータの分析\n",
    "\n",
    "ポルトガルのミーニョ地方（北西部）ヴィーニョ・ヴェルデのアルコール度数中程度の赤ワインの評価と物理化学的検査の結果です。データは2004年5月から2007年2月にかけて収集され公式認証機関（CVRVV）で検査されました。CVRVVは、ヴィーニョ・ヴェルデの品質とマーケティングを向上させることを目的とした専門組織です。ワインのサンプル検査はプロセスを自動的に管理するコンピュータシステムによって記録されました。また、評価については，各サンプルを最低3人の専門家が評価しています。評価は，0（非常に悪い）から10（素晴らしい）までのブラインドテイスティングの結果です。これからこのデータベースを活用して、データ分析の手法を学んでいきます。\n",
    "\n",
    "データの読み込み"
   ]
  },
  {
   "cell_type": "code",
   "execution_count": 48,
   "metadata": {},
   "outputs": [
    {
     "data": {
      "text/html": [
       "<table class=\"simpletable\">\n",
       "<caption>OLS Regression Results</caption>\n",
       "<tr>\n",
       "  <th>Dep. Variable:</th>         <td>quality</td>     <th>  R-squared:         </th> <td>   0.361</td> \n",
       "</tr>\n",
       "<tr>\n",
       "  <th>Model:</th>                   <td>OLS</td>       <th>  Adj. R-squared:    </th> <td>   0.356</td> \n",
       "</tr>\n",
       "<tr>\n",
       "  <th>Method:</th>             <td>Least Squares</td>  <th>  F-statistic:       </th> <td>   81.35</td> \n",
       "</tr>\n",
       "<tr>\n",
       "  <th>Date:</th>             <td>Mon, 24 May 2021</td> <th>  Prob (F-statistic):</th> <td>1.79e-145</td>\n",
       "</tr>\n",
       "<tr>\n",
       "  <th>Time:</th>                 <td>01:25:57</td>     <th>  Log-Likelihood:    </th> <td> -1569.1</td> \n",
       "</tr>\n",
       "<tr>\n",
       "  <th>No. Observations:</th>      <td>  1599</td>      <th>  AIC:               </th> <td>   3162.</td> \n",
       "</tr>\n",
       "<tr>\n",
       "  <th>Df Residuals:</th>          <td>  1587</td>      <th>  BIC:               </th> <td>   3227.</td> \n",
       "</tr>\n",
       "<tr>\n",
       "  <th>Df Model:</th>              <td>    11</td>      <th>                     </th>     <td> </td>    \n",
       "</tr>\n",
       "<tr>\n",
       "  <th>Covariance Type:</th>      <td>nonrobust</td>    <th>                     </th>     <td> </td>    \n",
       "</tr>\n",
       "</table>\n",
       "<table class=\"simpletable\">\n",
       "<tr>\n",
       "            <td></td>              <th>coef</th>     <th>std err</th>      <th>t</th>      <th>P>|t|</th>  <th>[0.025</th>    <th>0.975]</th>  \n",
       "</tr>\n",
       "<tr>\n",
       "  <th>const</th>                <td>   21.9652</td> <td>   21.195</td> <td>    1.036</td> <td> 0.300</td> <td>  -19.607</td> <td>   63.538</td>\n",
       "</tr>\n",
       "<tr>\n",
       "  <th>fixed acidity</th>        <td>    0.0250</td> <td>    0.026</td> <td>    0.963</td> <td> 0.336</td> <td>   -0.026</td> <td>    0.076</td>\n",
       "</tr>\n",
       "<tr>\n",
       "  <th>volatile acidity</th>     <td>   -1.0836</td> <td>    0.121</td> <td>   -8.948</td> <td> 0.000</td> <td>   -1.321</td> <td>   -0.846</td>\n",
       "</tr>\n",
       "<tr>\n",
       "  <th>citric acid</th>          <td>   -0.1826</td> <td>    0.147</td> <td>   -1.240</td> <td> 0.215</td> <td>   -0.471</td> <td>    0.106</td>\n",
       "</tr>\n",
       "<tr>\n",
       "  <th>residual sugar</th>       <td>    0.0163</td> <td>    0.015</td> <td>    1.089</td> <td> 0.276</td> <td>   -0.013</td> <td>    0.046</td>\n",
       "</tr>\n",
       "<tr>\n",
       "  <th>chlorides</th>            <td>   -1.8742</td> <td>    0.419</td> <td>   -4.470</td> <td> 0.000</td> <td>   -2.697</td> <td>   -1.052</td>\n",
       "</tr>\n",
       "<tr>\n",
       "  <th>free sulfur dioxide</th>  <td>    0.0044</td> <td>    0.002</td> <td>    2.009</td> <td> 0.045</td> <td>    0.000</td> <td>    0.009</td>\n",
       "</tr>\n",
       "<tr>\n",
       "  <th>total sulfur dioxide</th> <td>   -0.0033</td> <td>    0.001</td> <td>   -4.480</td> <td> 0.000</td> <td>   -0.005</td> <td>   -0.002</td>\n",
       "</tr>\n",
       "<tr>\n",
       "  <th>density</th>              <td>  -17.8812</td> <td>   21.633</td> <td>   -0.827</td> <td> 0.409</td> <td>  -60.314</td> <td>   24.551</td>\n",
       "</tr>\n",
       "<tr>\n",
       "  <th>pH</th>                   <td>   -0.4137</td> <td>    0.192</td> <td>   -2.159</td> <td> 0.031</td> <td>   -0.789</td> <td>   -0.038</td>\n",
       "</tr>\n",
       "<tr>\n",
       "  <th>sulphates</th>            <td>    0.9163</td> <td>    0.114</td> <td>    8.014</td> <td> 0.000</td> <td>    0.692</td> <td>    1.141</td>\n",
       "</tr>\n",
       "<tr>\n",
       "  <th>alcohol</th>              <td>    0.2762</td> <td>    0.026</td> <td>   10.429</td> <td> 0.000</td> <td>    0.224</td> <td>    0.328</td>\n",
       "</tr>\n",
       "</table>\n",
       "<table class=\"simpletable\">\n",
       "<tr>\n",
       "  <th>Omnibus:</th>       <td>27.376</td> <th>  Durbin-Watson:     </th> <td>   1.757</td>\n",
       "</tr>\n",
       "<tr>\n",
       "  <th>Prob(Omnibus):</th> <td> 0.000</td> <th>  Jarque-Bera (JB):  </th> <td>  40.965</td>\n",
       "</tr>\n",
       "<tr>\n",
       "  <th>Skew:</th>          <td>-0.168</td> <th>  Prob(JB):          </th> <td>1.27e-09</td>\n",
       "</tr>\n",
       "<tr>\n",
       "  <th>Kurtosis:</th>      <td> 3.708</td> <th>  Cond. No.          </th> <td>1.13e+05</td>\n",
       "</tr>\n",
       "</table><br/><br/>Notes:<br/>[1] Standard Errors assume that the covariance matrix of the errors is correctly specified.<br/>[2] The condition number is large, 1.13e+05. This might indicate that there are<br/>strong multicollinearity or other numerical problems."
      ],
      "text/plain": [
       "<class 'statsmodels.iolib.summary.Summary'>\n",
       "\"\"\"\n",
       "                            OLS Regression Results                            \n",
       "==============================================================================\n",
       "Dep. Variable:                quality   R-squared:                       0.361\n",
       "Model:                            OLS   Adj. R-squared:                  0.356\n",
       "Method:                 Least Squares   F-statistic:                     81.35\n",
       "Date:                Mon, 24 May 2021   Prob (F-statistic):          1.79e-145\n",
       "Time:                        01:25:57   Log-Likelihood:                -1569.1\n",
       "No. Observations:                1599   AIC:                             3162.\n",
       "Df Residuals:                    1587   BIC:                             3227.\n",
       "Df Model:                          11                                         \n",
       "Covariance Type:            nonrobust                                         \n",
       "========================================================================================\n",
       "                           coef    std err          t      P>|t|      [0.025      0.975]\n",
       "----------------------------------------------------------------------------------------\n",
       "const                   21.9652     21.195      1.036      0.300     -19.607      63.538\n",
       "fixed acidity            0.0250      0.026      0.963      0.336      -0.026       0.076\n",
       "volatile acidity        -1.0836      0.121     -8.948      0.000      -1.321      -0.846\n",
       "citric acid             -0.1826      0.147     -1.240      0.215      -0.471       0.106\n",
       "residual sugar           0.0163      0.015      1.089      0.276      -0.013       0.046\n",
       "chlorides               -1.8742      0.419     -4.470      0.000      -2.697      -1.052\n",
       "free sulfur dioxide      0.0044      0.002      2.009      0.045       0.000       0.009\n",
       "total sulfur dioxide    -0.0033      0.001     -4.480      0.000      -0.005      -0.002\n",
       "density                -17.8812     21.633     -0.827      0.409     -60.314      24.551\n",
       "pH                      -0.4137      0.192     -2.159      0.031      -0.789      -0.038\n",
       "sulphates                0.9163      0.114      8.014      0.000       0.692       1.141\n",
       "alcohol                  0.2762      0.026     10.429      0.000       0.224       0.328\n",
       "==============================================================================\n",
       "Omnibus:                       27.376   Durbin-Watson:                   1.757\n",
       "Prob(Omnibus):                  0.000   Jarque-Bera (JB):               40.965\n",
       "Skew:                          -0.168   Prob(JB):                     1.27e-09\n",
       "Kurtosis:                       3.708   Cond. No.                     1.13e+05\n",
       "==============================================================================\n",
       "\n",
       "Notes:\n",
       "[1] Standard Errors assume that the covariance matrix of the errors is correctly specified.\n",
       "[2] The condition number is large, 1.13e+05. This might indicate that there are\n",
       "strong multicollinearity or other numerical problems.\n",
       "\"\"\""
      ]
     },
     "execution_count": 48,
     "metadata": {},
     "output_type": "execute_result"
    }
   ],
   "source": [
    "import pandas as pd\n",
    "wb='https://archive.ics.uci.edu/ml/machine-learning-databases/wine-quality/winequality-red.csv'\n",
    "wdata=pd.read_csv(wb,sep=\";\",header=0)  \n",
    "wdata_endog=wdata.quality\n",
    "wdata_exog=wdata.iloc[:,:-1]\n",
    "\n",
    "X = sm.add_constant(wdata_exog)\n",
    "model = sm.OLS(wdata_endog, X)\n",
    "wols_res=model.fit()\n",
    "wols_res.summary()"
   ]
  },
  {
   "cell_type": "code",
   "execution_count": 49,
   "metadata": {},
   "outputs": [
    {
     "data": {
      "text/plain": [
       "<matplotlib.collections.PathCollection at 0x29b58115580>"
      ]
     },
     "execution_count": 49,
     "metadata": {},
     "output_type": "execute_result"
    },
    {
     "data": {
      "image/png": "[encoded data removed]",
      "text/plain": [
       "<Figure size 432x288 with 1 Axes>"
      ]
     },
     "metadata": {
      "needs_background": "light"
     },
     "output_type": "display_data"
    }
   ],
   "source": [
    "plt.scatter(wdata_endog,np.round(wols_res.predict()))"
   ]
  },
  {
   "cell_type": "code",
   "execution_count": 50,
   "metadata": {},
   "outputs": [
    {
     "data": {
      "text/plain": [
       "0.5916197623514696"
      ]
     },
     "execution_count": 50,
     "metadata": {},
     "output_type": "execute_result"
    }
   ],
   "source": [
    "from sklearn.metrics import accuracy_score\n",
    "accuracy_score(np.round(wols_res.predict()), wdata_endog, normalize=True)"
   ]
  },
  {
   "cell_type": "code",
   "execution_count": 51,
   "metadata": {},
   "outputs": [
    {
     "data": {
      "text/html": [
       "<table class=\"simpletable\">\n",
       "<caption>OLS Regression Results</caption>\n",
       "<tr>\n",
       "  <th>Dep. Variable:</th>         <td>quality</td>     <th>  R-squared:         </th> <td>   0.359</td> \n",
       "</tr>\n",
       "<tr>\n",
       "  <th>Model:</th>                   <td>OLS</td>       <th>  Adj. R-squared:    </th> <td>   0.357</td> \n",
       "</tr>\n",
       "<tr>\n",
       "  <th>Method:</th>             <td>Least Squares</td>  <th>  F-statistic:       </th> <td>   127.6</td> \n",
       "</tr>\n",
       "<tr>\n",
       "  <th>Date:</th>             <td>Mon, 24 May 2021</td> <th>  Prob (F-statistic):</th> <td>5.32e-149</td>\n",
       "</tr>\n",
       "<tr>\n",
       "  <th>Time:</th>                 <td>01:25:57</td>     <th>  Log-Likelihood:    </th> <td> -1570.5</td> \n",
       "</tr>\n",
       "<tr>\n",
       "  <th>No. Observations:</th>      <td>  1599</td>      <th>  AIC:               </th> <td>   3157.</td> \n",
       "</tr>\n",
       "<tr>\n",
       "  <th>Df Residuals:</th>          <td>  1591</td>      <th>  BIC:               </th> <td>   3200.</td> \n",
       "</tr>\n",
       "<tr>\n",
       "  <th>Df Model:</th>              <td>     7</td>      <th>                     </th>     <td> </td>    \n",
       "</tr>\n",
       "<tr>\n",
       "  <th>Covariance Type:</th>      <td>nonrobust</td>    <th>                     </th>     <td> </td>    \n",
       "</tr>\n",
       "</table>\n",
       "<table class=\"simpletable\">\n",
       "<tr>\n",
       "            <td></td>              <th>coef</th>     <th>std err</th>      <th>t</th>      <th>P>|t|</th>  <th>[0.025</th>    <th>0.975]</th>  \n",
       "</tr>\n",
       "<tr>\n",
       "  <th>const</th>                <td>    4.4301</td> <td>    0.403</td> <td>   10.995</td> <td> 0.000</td> <td>    3.640</td> <td>    5.220</td>\n",
       "</tr>\n",
       "<tr>\n",
       "  <th>volatile acidity</th>     <td>   -1.0128</td> <td>    0.101</td> <td>  -10.043</td> <td> 0.000</td> <td>   -1.211</td> <td>   -0.815</td>\n",
       "</tr>\n",
       "<tr>\n",
       "  <th>chlorides</th>            <td>   -2.0178</td> <td>    0.398</td> <td>   -5.076</td> <td> 0.000</td> <td>   -2.798</td> <td>   -1.238</td>\n",
       "</tr>\n",
       "<tr>\n",
       "  <th>free sulfur dioxide</th>  <td>    0.0051</td> <td>    0.002</td> <td>    2.389</td> <td> 0.017</td> <td>    0.001</td> <td>    0.009</td>\n",
       "</tr>\n",
       "<tr>\n",
       "  <th>total sulfur dioxide</th> <td>   -0.0035</td> <td>    0.001</td> <td>   -5.070</td> <td> 0.000</td> <td>   -0.005</td> <td>   -0.002</td>\n",
       "</tr>\n",
       "<tr>\n",
       "  <th>pH</th>                   <td>   -0.4827</td> <td>    0.118</td> <td>   -4.106</td> <td> 0.000</td> <td>   -0.713</td> <td>   -0.252</td>\n",
       "</tr>\n",
       "<tr>\n",
       "  <th>sulphates</th>            <td>    0.8827</td> <td>    0.110</td> <td>    8.031</td> <td> 0.000</td> <td>    0.667</td> <td>    1.098</td>\n",
       "</tr>\n",
       "<tr>\n",
       "  <th>alcohol</th>              <td>    0.2893</td> <td>    0.017</td> <td>   17.225</td> <td> 0.000</td> <td>    0.256</td> <td>    0.322</td>\n",
       "</tr>\n",
       "</table>\n",
       "<table class=\"simpletable\">\n",
       "<tr>\n",
       "  <th>Omnibus:</th>       <td>24.204</td> <th>  Durbin-Watson:     </th> <td>   1.750</td>\n",
       "</tr>\n",
       "<tr>\n",
       "  <th>Prob(Omnibus):</th> <td> 0.000</td> <th>  Jarque-Bera (JB):  </th> <td>  35.245</td>\n",
       "</tr>\n",
       "<tr>\n",
       "  <th>Skew:</th>          <td>-0.156</td> <th>  Prob(JB):          </th> <td>2.22e-08</td>\n",
       "</tr>\n",
       "<tr>\n",
       "  <th>Kurtosis:</th>      <td> 3.657</td> <th>  Cond. No.          </th> <td>1.71e+03</td>\n",
       "</tr>\n",
       "</table><br/><br/>Notes:<br/>[1] Standard Errors assume that the covariance matrix of the errors is correctly specified.<br/>[2] The condition number is large, 1.71e+03. This might indicate that there are<br/>strong multicollinearity or other numerical problems."
      ],
      "text/plain": [
       "<class 'statsmodels.iolib.summary.Summary'>\n",
       "\"\"\"\n",
       "                            OLS Regression Results                            \n",
       "==============================================================================\n",
       "Dep. Variable:                quality   R-squared:                       0.359\n",
       "Model:                            OLS   Adj. R-squared:                  0.357\n",
       "Method:                 Least Squares   F-statistic:                     127.6\n",
       "Date:                Mon, 24 May 2021   Prob (F-statistic):          5.32e-149\n",
       "Time:                        01:25:57   Log-Likelihood:                -1570.5\n",
       "No. Observations:                1599   AIC:                             3157.\n",
       "Df Residuals:                    1591   BIC:                             3200.\n",
       "Df Model:                           7                                         \n",
       "Covariance Type:            nonrobust                                         \n",
       "========================================================================================\n",
       "                           coef    std err          t      P>|t|      [0.025      0.975]\n",
       "----------------------------------------------------------------------------------------\n",
       "const                    4.4301      0.403     10.995      0.000       3.640       5.220\n",
       "volatile acidity        -1.0128      0.101    -10.043      0.000      -1.211      -0.815\n",
       "chlorides               -2.0178      0.398     -5.076      0.000      -2.798      -1.238\n",
       "free sulfur dioxide      0.0051      0.002      2.389      0.017       0.001       0.009\n",
       "total sulfur dioxide    -0.0035      0.001     -5.070      0.000      -0.005      -0.002\n",
       "pH                      -0.4827      0.118     -4.106      0.000      -0.713      -0.252\n",
       "sulphates                0.8827      0.110      8.031      0.000       0.667       1.098\n",
       "alcohol                  0.2893      0.017     17.225      0.000       0.256       0.322\n",
       "==============================================================================\n",
       "Omnibus:                       24.204   Durbin-Watson:                   1.750\n",
       "Prob(Omnibus):                  0.000   Jarque-Bera (JB):               35.245\n",
       "Skew:                          -0.156   Prob(JB):                     2.22e-08\n",
       "Kurtosis:                       3.657   Cond. No.                     1.71e+03\n",
       "==============================================================================\n",
       "\n",
       "Notes:\n",
       "[1] Standard Errors assume that the covariance matrix of the errors is correctly specified.\n",
       "[2] The condition number is large, 1.71e+03. This might indicate that there are\n",
       "strong multicollinearity or other numerical problems.\n",
       "\"\"\""
      ]
     },
     "execution_count": 51,
     "metadata": {},
     "output_type": "execute_result"
    }
   ],
   "source": [
    "X=wdata_exog.iloc[:,1:]\n",
    "X=X.drop(columns=['citric acid','residual sugar','density'])\n",
    "X = sm.add_constant(X)\n",
    "\n",
    "model = sm.OLS(wdata_endog, X)\n",
    "wols_res2=model.fit()\n",
    "wols_res2.summary()"
   ]
  },
  {
   "cell_type": "code",
   "execution_count": 52,
   "metadata": {},
   "outputs": [
    {
     "data": {
      "text/plain": [
       "0.5928705440900562"
      ]
     },
     "execution_count": 52,
     "metadata": {},
     "output_type": "execute_result"
    }
   ],
   "source": [
    "accuracy_score(np.round(wols_res2.predict()), wdata_endog, normalize=True)"
   ]
  },
  {
   "cell_type": "code",
   "execution_count": 53,
   "metadata": {},
   "outputs": [
    {
     "data": {
      "text/plain": [
       "const                   1.784961\n",
       "volatile acidity       -0.102129\n",
       "chlorides              -0.802165\n",
       "free sulfur dioxide     0.000011\n",
       "total sulfur dioxide   -0.000002\n",
       "pH                     -0.056741\n",
       "sulphates               0.097012\n",
       "alcohol                 0.004859\n",
       "dtype: float64"
      ]
     },
     "execution_count": 53,
     "metadata": {},
     "output_type": "execute_result"
    }
   ],
   "source": [
    "wols_res2.params*wols_res2.bse#/np.sqrt(np.var(data_endog))"
   ]
  },
  {
   "cell_type": "code",
   "execution_count": 54,
   "metadata": {},
   "outputs": [
    {
     "data": {
      "text/plain": [
       "<matplotlib.collections.PathCollection at 0x29b5d205b80>"
      ]
     },
     "execution_count": 54,
     "metadata": {},
     "output_type": "execute_result"
    },
    {
     "data": {
      "image/png": "[encoded data removed]",
      "text/plain": [
       "<Figure size 432x288 with 1 Axes>"
      ]
     },
     "metadata": {
      "needs_background": "light"
     },
     "output_type": "display_data"
    }
   ],
   "source": [
    "plt.scatter(wdata_endog,np.round(wols_res2.predict()))"
   ]
  },
  {
   "cell_type": "code",
   "execution_count": 55,
   "metadata": {},
   "outputs": [
    {
     "data": {
      "text/plain": [
       "(3162.276552582634, 3156.9768801278606)"
      ]
     },
     "execution_count": 55,
     "metadata": {},
     "output_type": "execute_result"
    }
   ],
   "source": [
    "wols_res.aic,wols_res2.aic"
   ]
  },
  {
   "cell_type": "code",
   "execution_count": 56,
   "metadata": {},
   "outputs": [
    {
     "name": "stdout",
     "output_type": "stream",
     "text": [
      "Optimization terminated successfully.\n",
      "         Current function value: 0.926087\n",
      "         Iterations 10\n"
     ]
    },
    {
     "data": {
      "text/html": [
       "<table class=\"simpletable\">\n",
       "<caption>MNLogit Regression Results</caption>\n",
       "<tr>\n",
       "  <th>Dep. Variable:</th>        <td>quality</td>     <th>  No. Observations:  </th>   <td>  1599</td>  \n",
       "</tr>\n",
       "<tr>\n",
       "  <th>Model:</th>                <td>MNLogit</td>     <th>  Df Residuals:      </th>   <td>  1559</td>  \n",
       "</tr>\n",
       "<tr>\n",
       "  <th>Method:</th>                 <td>MLE</td>       <th>  Df Model:          </th>   <td>    35</td>  \n",
       "</tr>\n",
       "<tr>\n",
       "  <th>Date:</th>            <td>Mon, 24 May 2021</td> <th>  Pseudo R-squ.:     </th>   <td>0.2182</td>  \n",
       "</tr>\n",
       "<tr>\n",
       "  <th>Time:</th>                <td>01:25:58</td>     <th>  Log-Likelihood:    </th>  <td> -1480.8</td> \n",
       "</tr>\n",
       "<tr>\n",
       "  <th>converged:</th>             <td>True</td>       <th>  LL-Null:           </th>  <td> -1894.2</td> \n",
       "</tr>\n",
       "<tr>\n",
       "  <th>Covariance Type:</th>     <td>nonrobust</td>    <th>  LLR p-value:       </th> <td>5.160e-151</td>\n",
       "</tr>\n",
       "</table>\n",
       "<table class=\"simpletable\">\n",
       "<tr>\n",
       "        <th>quality=4</th>         <th>coef</th>     <th>std err</th>      <th>z</th>      <th>P>|z|</th>  <th>[0.025</th>    <th>0.975]</th>  \n",
       "</tr>\n",
       "<tr>\n",
       "  <th>const</th>                <td>   -3.0970</td> <td>   10.403</td> <td>   -0.298</td> <td> 0.766</td> <td>  -23.487</td> <td>   17.293</td>\n",
       "</tr>\n",
       "<tr>\n",
       "  <th>volatile acidity</th>     <td>   -4.1730</td> <td>    2.008</td> <td>   -2.078</td> <td> 0.038</td> <td>   -8.108</td> <td>   -0.238</td>\n",
       "</tr>\n",
       "<tr>\n",
       "  <th>chlorides</th>            <td>   -8.5643</td> <td>    6.446</td> <td>   -1.329</td> <td> 0.184</td> <td>  -21.197</td> <td>    4.069</td>\n",
       "</tr>\n",
       "<tr>\n",
       "  <th>free sulfur dioxide</th>  <td>   -0.1349</td> <td>    0.078</td> <td>   -1.737</td> <td> 0.082</td> <td>   -0.287</td> <td>    0.017</td>\n",
       "</tr>\n",
       "<tr>\n",
       "  <th>total sulfur dioxide</th> <td>    0.0711</td> <td>    0.043</td> <td>    1.670</td> <td> 0.095</td> <td>   -0.012</td> <td>    0.155</td>\n",
       "</tr>\n",
       "<tr>\n",
       "  <th>pH</th>                   <td>   -1.6204</td> <td>    3.304</td> <td>   -0.491</td> <td> 0.624</td> <td>   -8.095</td> <td>    4.854</td>\n",
       "</tr>\n",
       "<tr>\n",
       "  <th>sulphates</th>            <td>    0.0092</td> <td>    3.211</td> <td>    0.003</td> <td> 0.998</td> <td>   -6.284</td> <td>    6.303</td>\n",
       "</tr>\n",
       "<tr>\n",
       "  <th>alcohol</th>              <td>    1.3849</td> <td>    0.727</td> <td>    1.904</td> <td> 0.057</td> <td>   -0.040</td> <td>    2.810</td>\n",
       "</tr>\n",
       "<tr>\n",
       "        <th>quality=5</th>         <th>coef</th>     <th>std err</th>      <th>z</th>      <th>P>|z|</th>  <th>[0.025</th>    <th>0.975]</th>  \n",
       "</tr>\n",
       "<tr>\n",
       "  <th>const</th>                <td>    9.6720</td> <td>   10.000</td> <td>    0.967</td> <td> 0.333</td> <td>   -9.928</td> <td>   29.272</td>\n",
       "</tr>\n",
       "<tr>\n",
       "  <th>volatile acidity</th>     <td>   -6.9459</td> <td>    1.971</td> <td>   -3.525</td> <td> 0.000</td> <td>  -10.808</td> <td>   -3.083</td>\n",
       "</tr>\n",
       "<tr>\n",
       "  <th>chlorides</th>            <td>  -11.0004</td> <td>    5.740</td> <td>   -1.917</td> <td> 0.055</td> <td>  -22.250</td> <td>    0.249</td>\n",
       "</tr>\n",
       "<tr>\n",
       "  <th>free sulfur dioxide</th>  <td>   -0.1172</td> <td>    0.074</td> <td>   -1.578</td> <td> 0.115</td> <td>   -0.263</td> <td>    0.028</td>\n",
       "</tr>\n",
       "<tr>\n",
       "  <th>total sulfur dioxide</th> <td>    0.0855</td> <td>    0.042</td> <td>    2.035</td> <td> 0.042</td> <td>    0.003</td> <td>    0.168</td>\n",
       "</tr>\n",
       "<tr>\n",
       "  <th>pH</th>                   <td>   -3.3854</td> <td>    3.176</td> <td>   -1.066</td> <td> 0.286</td> <td>   -9.609</td> <td>    2.839</td>\n",
       "</tr>\n",
       "<tr>\n",
       "  <th>sulphates</th>            <td>    0.2240</td> <td>    2.989</td> <td>    0.075</td> <td> 0.940</td> <td>   -5.634</td> <td>    6.082</td>\n",
       "</tr>\n",
       "<tr>\n",
       "  <th>alcohol</th>              <td>    1.0479</td> <td>    0.711</td> <td>    1.474</td> <td> 0.141</td> <td>   -0.346</td> <td>    2.442</td>\n",
       "</tr>\n",
       "<tr>\n",
       "        <th>quality=6</th>         <th>coef</th>     <th>std err</th>      <th>z</th>      <th>P>|z|</th>  <th>[0.025</th>    <th>0.975]</th>  \n",
       "</tr>\n",
       "<tr>\n",
       "  <th>const</th>                <td>    2.9897</td> <td>   10.034</td> <td>    0.298</td> <td> 0.766</td> <td>  -16.676</td> <td>   22.656</td>\n",
       "</tr>\n",
       "<tr>\n",
       "  <th>volatile acidity</th>     <td>   -8.9758</td> <td>    1.990</td> <td>   -4.511</td> <td> 0.000</td> <td>  -12.876</td> <td>   -5.076</td>\n",
       "</tr>\n",
       "<tr>\n",
       "  <th>chlorides</th>            <td>  -14.7173</td> <td>    5.831</td> <td>   -2.524</td> <td> 0.012</td> <td>  -26.147</td> <td>   -3.288</td>\n",
       "</tr>\n",
       "<tr>\n",
       "  <th>free sulfur dioxide</th>  <td>   -0.0917</td> <td>    0.074</td> <td>   -1.233</td> <td> 0.218</td> <td>   -0.237</td> <td>    0.054</td>\n",
       "</tr>\n",
       "<tr>\n",
       "  <th>total sulfur dioxide</th> <td>    0.0675</td> <td>    0.042</td> <td>    1.604</td> <td> 0.109</td> <td>   -0.015</td> <td>    0.150</td>\n",
       "</tr>\n",
       "<tr>\n",
       "  <th>pH</th>                   <td>   -3.7125</td> <td>    3.185</td> <td>   -1.166</td> <td> 0.244</td> <td>   -9.955</td> <td>    2.530</td>\n",
       "</tr>\n",
       "<tr>\n",
       "  <th>sulphates</th>            <td>    2.4896</td> <td>    2.998</td> <td>    0.831</td> <td> 0.406</td> <td>   -3.385</td> <td>    8.365</td>\n",
       "</tr>\n",
       "<tr>\n",
       "  <th>alcohol</th>              <td>    1.8404</td> <td>    0.712</td> <td>    2.585</td> <td> 0.010</td> <td>    0.445</td> <td>    3.236</td>\n",
       "</tr>\n",
       "<tr>\n",
       "        <th>quality=7</th>         <th>coef</th>     <th>std err</th>      <th>z</th>      <th>P>|z|</th>  <th>[0.025</th>    <th>0.975]</th>  \n",
       "</tr>\n",
       "<tr>\n",
       "  <th>const</th>                <td>   -1.3882</td> <td>   10.223</td> <td>   -0.136</td> <td> 0.892</td> <td>  -21.425</td> <td>   18.648</td>\n",
       "</tr>\n",
       "<tr>\n",
       "  <th>volatile acidity</th>     <td>  -11.6835</td> <td>    2.079</td> <td>   -5.619</td> <td> 0.000</td> <td>  -15.758</td> <td>   -7.608</td>\n",
       "</tr>\n",
       "<tr>\n",
       "  <th>chlorides</th>            <td>  -21.3548</td> <td>    6.552</td> <td>   -3.259</td> <td> 0.001</td> <td>  -34.196</td> <td>   -8.513</td>\n",
       "</tr>\n",
       "<tr>\n",
       "  <th>free sulfur dioxide</th>  <td>   -0.0910</td> <td>    0.075</td> <td>   -1.209</td> <td> 0.227</td> <td>   -0.239</td> <td>    0.057</td>\n",
       "</tr>\n",
       "<tr>\n",
       "  <th>total sulfur dioxide</th> <td>    0.0578</td> <td>    0.042</td> <td>    1.366</td> <td> 0.172</td> <td>   -0.025</td> <td>    0.141</td>\n",
       "</tr>\n",
       "<tr>\n",
       "  <th>pH</th>                   <td>   -5.1275</td> <td>    3.235</td> <td>   -1.585</td> <td> 0.113</td> <td>  -11.469</td> <td>    1.214</td>\n",
       "</tr>\n",
       "<tr>\n",
       "  <th>sulphates</th>            <td>    4.9780</td> <td>    3.034</td> <td>    1.641</td> <td> 0.101</td> <td>   -0.968</td> <td>   10.924</td>\n",
       "</tr>\n",
       "<tr>\n",
       "  <th>alcohol</th>              <td>    2.5838</td> <td>    0.717</td> <td>    3.605</td> <td> 0.000</td> <td>    1.179</td> <td>    3.989</td>\n",
       "</tr>\n",
       "<tr>\n",
       "        <th>quality=8</th>         <th>coef</th>     <th>std err</th>      <th>z</th>      <th>P>|z|</th>  <th>[0.025</th>    <th>0.975]</th>  \n",
       "</tr>\n",
       "<tr>\n",
       "  <th>const</th>                <td>   -0.2202</td> <td>   11.984</td> <td>   -0.018</td> <td> 0.985</td> <td>  -23.708</td> <td>   23.268</td>\n",
       "</tr>\n",
       "<tr>\n",
       "  <th>volatile acidity</th>     <td>   -9.0708</td> <td>    2.756</td> <td>   -3.291</td> <td> 0.001</td> <td>  -14.472</td> <td>   -3.669</td>\n",
       "</tr>\n",
       "<tr>\n",
       "  <th>chlorides</th>            <td>  -50.5053</td> <td>   17.469</td> <td>   -2.891</td> <td> 0.004</td> <td>  -84.743</td> <td>  -16.267</td>\n",
       "</tr>\n",
       "<tr>\n",
       "  <th>free sulfur dioxide</th>  <td>   -0.0838</td> <td>    0.084</td> <td>   -1.000</td> <td> 0.317</td> <td>   -0.248</td> <td>    0.080</td>\n",
       "</tr>\n",
       "<tr>\n",
       "  <th>total sulfur dioxide</th> <td>    0.0452</td> <td>    0.045</td> <td>    1.005</td> <td> 0.315</td> <td>   -0.043</td> <td>    0.133</td>\n",
       "</tr>\n",
       "<tr>\n",
       "  <th>pH</th>                   <td>   -8.5853</td> <td>    3.681</td> <td>   -2.332</td> <td> 0.020</td> <td>  -15.801</td> <td>   -1.370</td>\n",
       "</tr>\n",
       "<tr>\n",
       "  <th>sulphates</th>            <td>    6.9066</td> <td>    3.333</td> <td>    2.072</td> <td> 0.038</td> <td>    0.374</td> <td>   13.439</td>\n",
       "</tr>\n",
       "<tr>\n",
       "  <th>alcohol</th>              <td>    3.2331</td> <td>    0.755</td> <td>    4.282</td> <td> 0.000</td> <td>    1.753</td> <td>    4.713</td>\n",
       "</tr>\n",
       "</table>"
      ],
      "text/plain": [
       "<class 'statsmodels.iolib.summary.Summary'>\n",
       "\"\"\"\n",
       "                          MNLogit Regression Results                          \n",
       "==============================================================================\n",
       "Dep. Variable:                quality   No. Observations:                 1599\n",
       "Model:                        MNLogit   Df Residuals:                     1559\n",
       "Method:                           MLE   Df Model:                           35\n",
       "Date:                Mon, 24 May 2021   Pseudo R-squ.:                  0.2182\n",
       "Time:                        01:25:58   Log-Likelihood:                -1480.8\n",
       "converged:                       True   LL-Null:                       -1894.2\n",
       "Covariance Type:            nonrobust   LLR p-value:                5.160e-151\n",
       "========================================================================================\n",
       "           quality=4       coef    std err          z      P>|z|      [0.025      0.975]\n",
       "----------------------------------------------------------------------------------------\n",
       "const                   -3.0970     10.403     -0.298      0.766     -23.487      17.293\n",
       "volatile acidity        -4.1730      2.008     -2.078      0.038      -8.108      -0.238\n",
       "chlorides               -8.5643      6.446     -1.329      0.184     -21.197       4.069\n",
       "free sulfur dioxide     -0.1349      0.078     -1.737      0.082      -0.287       0.017\n",
       "total sulfur dioxide     0.0711      0.043      1.670      0.095      -0.012       0.155\n",
       "pH                      -1.6204      3.304     -0.491      0.624      -8.095       4.854\n",
       "sulphates                0.0092      3.211      0.003      0.998      -6.284       6.303\n",
       "alcohol                  1.3849      0.727      1.904      0.057      -0.040       2.810\n",
       "----------------------------------------------------------------------------------------\n",
       "           quality=5       coef    std err          z      P>|z|      [0.025      0.975]\n",
       "----------------------------------------------------------------------------------------\n",
       "const                    9.6720     10.000      0.967      0.333      -9.928      29.272\n",
       "volatile acidity        -6.9459      1.971     -3.525      0.000     -10.808      -3.083\n",
       "chlorides              -11.0004      5.740     -1.917      0.055     -22.250       0.249\n",
       "free sulfur dioxide     -0.1172      0.074     -1.578      0.115      -0.263       0.028\n",
       "total sulfur dioxide     0.0855      0.042      2.035      0.042       0.003       0.168\n",
       "pH                      -3.3854      3.176     -1.066      0.286      -9.609       2.839\n",
       "sulphates                0.2240      2.989      0.075      0.940      -5.634       6.082\n",
       "alcohol                  1.0479      0.711      1.474      0.141      -0.346       2.442\n",
       "----------------------------------------------------------------------------------------\n",
       "           quality=6       coef    std err          z      P>|z|      [0.025      0.975]\n",
       "----------------------------------------------------------------------------------------\n",
       "const                    2.9897     10.034      0.298      0.766     -16.676      22.656\n",
       "volatile acidity        -8.9758      1.990     -4.511      0.000     -12.876      -5.076\n",
       "chlorides              -14.7173      5.831     -2.524      0.012     -26.147      -3.288\n",
       "free sulfur dioxide     -0.0917      0.074     -1.233      0.218      -0.237       0.054\n",
       "total sulfur dioxide     0.0675      0.042      1.604      0.109      -0.015       0.150\n",
       "pH                      -3.7125      3.185     -1.166      0.244      -9.955       2.530\n",
       "sulphates                2.4896      2.998      0.831      0.406      -3.385       8.365\n",
       "alcohol                  1.8404      0.712      2.585      0.010       0.445       3.236\n",
       "----------------------------------------------------------------------------------------\n",
       "           quality=7       coef    std err          z      P>|z|      [0.025      0.975]\n",
       "----------------------------------------------------------------------------------------\n",
       "const                   -1.3882     10.223     -0.136      0.892     -21.425      18.648\n",
       "volatile acidity       -11.6835      2.079     -5.619      0.000     -15.758      -7.608\n",
       "chlorides              -21.3548      6.552     -3.259      0.001     -34.196      -8.513\n",
       "free sulfur dioxide     -0.0910      0.075     -1.209      0.227      -0.239       0.057\n",
       "total sulfur dioxide     0.0578      0.042      1.366      0.172      -0.025       0.141\n",
       "pH                      -5.1275      3.235     -1.585      0.113     -11.469       1.214\n",
       "sulphates                4.9780      3.034      1.641      0.101      -0.968      10.924\n",
       "alcohol                  2.5838      0.717      3.605      0.000       1.179       3.989\n",
       "----------------------------------------------------------------------------------------\n",
       "           quality=8       coef    std err          z      P>|z|      [0.025      0.975]\n",
       "----------------------------------------------------------------------------------------\n",
       "const                   -0.2202     11.984     -0.018      0.985     -23.708      23.268\n",
       "volatile acidity        -9.0708      2.756     -3.291      0.001     -14.472      -3.669\n",
       "chlorides              -50.5053     17.469     -2.891      0.004     -84.743     -16.267\n",
       "free sulfur dioxide     -0.0838      0.084     -1.000      0.317      -0.248       0.080\n",
       "total sulfur dioxide     0.0452      0.045      1.005      0.315      -0.043       0.133\n",
       "pH                      -8.5853      3.681     -2.332      0.020     -15.801      -1.370\n",
       "sulphates                6.9066      3.333      2.072      0.038       0.374      13.439\n",
       "alcohol                  3.2331      0.755      4.282      0.000       1.753       4.713\n",
       "========================================================================================\n",
       "\"\"\""
      ]
     },
     "execution_count": 56,
     "metadata": {},
     "output_type": "execute_result"
    }
   ],
   "source": [
    "# 多項ロジットモデル\n",
    "wmnl_mod = sm.MNLogit(wdata_endog, X)\n",
    "wmnl_res=wmnl_mod.fit()\n",
    "wmnl_res.summary()"
   ]
  },
  {
   "cell_type": "code",
   "execution_count": 57,
   "metadata": {},
   "outputs": [
    {
     "data": {
      "text/plain": [
       "0.6028767979987493"
      ]
     },
     "execution_count": 57,
     "metadata": {},
     "output_type": "execute_result"
    }
   ],
   "source": [
    "y_hat=np.argmax(wmnl_res.predict(),axis=1)+3\n",
    "accuracy_score(y_hat, wdata_endog, normalize=True)"
   ]
  },
  {
   "cell_type": "code",
   "execution_count": 58,
   "metadata": {},
   "outputs": [
    {
     "data": {
      "text/plain": [
       "<matplotlib.collections.PathCollection at 0x29b5d275fd0>"
      ]
     },
     "execution_count": 58,
     "metadata": {},
     "output_type": "execute_result"
    },
    {
     "data": {
      "image/png": "[encoded data removed]",
      "text/plain": [
       "<Figure size 432x288 with 1 Axes>"
      ]
     },
     "metadata": {
      "needs_background": "light"
     },
     "output_type": "display_data"
    }
   ],
   "source": [
    "plt.scatter(wdata_endog,y_hat)"
   ]
  },
  {
   "cell_type": "code",
   "execution_count": 59,
   "metadata": {},
   "outputs": [
    {
     "name": "stdout",
     "output_type": "stream",
     "text": [
      "Optimization terminated successfully.\n",
      "         Current function value: 1.830709\n",
      "         Iterations 5\n"
     ]
    },
    {
     "data": {
      "text/html": [
       "<table class=\"simpletable\">\n",
       "<caption>Poisson Regression Results</caption>\n",
       "<tr>\n",
       "  <th>Dep. Variable:</th>        <td>quality</td>     <th>  No. Observations:  </th>  <td>  1599</td>  \n",
       "</tr>\n",
       "<tr>\n",
       "  <th>Model:</th>                <td>Poisson</td>     <th>  Df Residuals:      </th>  <td>  1591</td>  \n",
       "</tr>\n",
       "<tr>\n",
       "  <th>Method:</th>                 <td>MLE</td>       <th>  Df Model:          </th>  <td>     7</td>  \n",
       "</tr>\n",
       "<tr>\n",
       "  <th>Date:</th>            <td>Mon, 24 May 2021</td> <th>  Pseudo R-squ.:     </th>  <td>0.01112</td> \n",
       "</tr>\n",
       "<tr>\n",
       "  <th>Time:</th>                <td>01:25:58</td>     <th>  Log-Likelihood:    </th> <td> -2927.3</td> \n",
       "</tr>\n",
       "<tr>\n",
       "  <th>converged:</th>             <td>True</td>       <th>  LL-Null:           </th> <td> -2960.2</td> \n",
       "</tr>\n",
       "<tr>\n",
       "  <th>Covariance Type:</th>     <td>nonrobust</td>    <th>  LLR p-value:       </th> <td>1.013e-11</td>\n",
       "</tr>\n",
       "</table>\n",
       "<table class=\"simpletable\">\n",
       "<tr>\n",
       "            <td></td>              <th>coef</th>     <th>std err</th>      <th>z</th>      <th>P>|z|</th>  <th>[0.025</th>    <th>0.975]</th>  \n",
       "</tr>\n",
       "<tr>\n",
       "  <th>const</th>                <td>    1.5212</td> <td>    0.260</td> <td>    5.840</td> <td> 0.000</td> <td>    1.011</td> <td>    2.032</td>\n",
       "</tr>\n",
       "<tr>\n",
       "  <th>volatile acidity</th>     <td>   -0.1826</td> <td>    0.066</td> <td>   -2.749</td> <td> 0.006</td> <td>   -0.313</td> <td>   -0.052</td>\n",
       "</tr>\n",
       "<tr>\n",
       "  <th>chlorides</th>            <td>   -0.3581</td> <td>    0.263</td> <td>   -1.362</td> <td> 0.173</td> <td>   -0.874</td> <td>    0.157</td>\n",
       "</tr>\n",
       "<tr>\n",
       "  <th>free sulfur dioxide</th>  <td>    0.0009</td> <td>    0.001</td> <td>    0.683</td> <td> 0.494</td> <td>   -0.002</td> <td>    0.004</td>\n",
       "</tr>\n",
       "<tr>\n",
       "  <th>total sulfur dioxide</th> <td>   -0.0006</td> <td>    0.000</td> <td>   -1.429</td> <td> 0.153</td> <td>   -0.002</td> <td>    0.000</td>\n",
       "</tr>\n",
       "<tr>\n",
       "  <th>pH</th>                   <td>   -0.0817</td> <td>    0.076</td> <td>   -1.073</td> <td> 0.283</td> <td>   -0.231</td> <td>    0.068</td>\n",
       "</tr>\n",
       "<tr>\n",
       "  <th>sulphates</th>            <td>    0.1544</td> <td>    0.070</td> <td>    2.211</td> <td> 0.027</td> <td>    0.018</td> <td>    0.291</td>\n",
       "</tr>\n",
       "<tr>\n",
       "  <th>alcohol</th>              <td>    0.0495</td> <td>    0.011</td> <td>    4.647</td> <td> 0.000</td> <td>    0.029</td> <td>    0.070</td>\n",
       "</tr>\n",
       "</table>"
      ],
      "text/plain": [
       "<class 'statsmodels.iolib.summary.Summary'>\n",
       "\"\"\"\n",
       "                          Poisson Regression Results                          \n",
       "==============================================================================\n",
       "Dep. Variable:                quality   No. Observations:                 1599\n",
       "Model:                        Poisson   Df Residuals:                     1591\n",
       "Method:                           MLE   Df Model:                            7\n",
       "Date:                Mon, 24 May 2021   Pseudo R-squ.:                 0.01112\n",
       "Time:                        01:25:58   Log-Likelihood:                -2927.3\n",
       "converged:                       True   LL-Null:                       -2960.2\n",
       "Covariance Type:            nonrobust   LLR p-value:                 1.013e-11\n",
       "========================================================================================\n",
       "                           coef    std err          z      P>|z|      [0.025      0.975]\n",
       "----------------------------------------------------------------------------------------\n",
       "const                    1.5212      0.260      5.840      0.000       1.011       2.032\n",
       "volatile acidity        -0.1826      0.066     -2.749      0.006      -0.313      -0.052\n",
       "chlorides               -0.3581      0.263     -1.362      0.173      -0.874       0.157\n",
       "free sulfur dioxide      0.0009      0.001      0.683      0.494      -0.002       0.004\n",
       "total sulfur dioxide    -0.0006      0.000     -1.429      0.153      -0.002       0.000\n",
       "pH                      -0.0817      0.076     -1.073      0.283      -0.231       0.068\n",
       "sulphates                0.1544      0.070      2.211      0.027       0.018       0.291\n",
       "alcohol                  0.0495      0.011      4.647      0.000       0.029       0.070\n",
       "========================================================================================\n",
       "\"\"\""
      ]
     },
     "execution_count": 59,
     "metadata": {},
     "output_type": "execute_result"
    }
   ],
   "source": [
    "# ポアソンモデル\n",
    "wpoi_mod = sm.Poisson(wdata_endog, X)\n",
    "wpoi_res=wpoi_mod.fit()\n",
    "wpoi_res.summary()"
   ]
  },
  {
   "cell_type": "code",
   "execution_count": 60,
   "metadata": {},
   "outputs": [
    {
     "data": {
      "text/plain": [
       "0.5978736710444027"
      ]
     },
     "execution_count": 60,
     "metadata": {},
     "output_type": "execute_result"
    }
   ],
   "source": [
    "y_hat=np.round(wpoi_res.predict())\n",
    "accuracy_score(y_hat, wdata_endog, normalize=True)"
   ]
  },
  {
   "cell_type": "code",
   "execution_count": 61,
   "metadata": {},
   "outputs": [
    {
     "data": {
      "text/plain": [
       "(3162.276552582634, 3156.9768801278606)"
      ]
     },
     "execution_count": 61,
     "metadata": {},
     "output_type": "execute_result"
    }
   ],
   "source": [
    "# ２タイプの最小二乗法によるAICの比較\n",
    "wols_res.aic,wols_res2.aic"
   ]
  },
  {
   "cell_type": "code",
   "execution_count": 62,
   "metadata": {},
   "outputs": [
    {
     "data": {
      "text/plain": [
       "(3041.6262818012788, 5870.608896102845)"
      ]
     },
     "execution_count": 62,
     "metadata": {},
     "output_type": "execute_result"
    }
   ],
   "source": [
    "# 多項ロジットとポアソンのAICの比較\n",
    "wmnl_res.aic,wpoi_res.aic"
   ]
  },
  {
   "cell_type": "code",
   "execution_count": null,
   "metadata": {},
   "outputs": [],
   "source": []
  }
 ],
 "metadata": {
  "kernelspec": {
   "display_name": "Python 3",
   "language": "python",
   "name": "python3"
  },
  "language_info": {
   "codemirror_mode": {
    "name": "ipython",
    "version": 3
   },
   "file_extension": ".py",
   "mimetype": "text/x-python",
   "name": "python",
   "nbconvert_exporter": "python",
   "pygments_lexer": "ipython3",
   "version": "3.8.5"
  }
 },
 "nbformat": 4,
 "nbformat_minor": 4
}
