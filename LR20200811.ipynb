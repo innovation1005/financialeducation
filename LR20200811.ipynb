{
 "cells": [
  {
   "cell_type": "markdown",
   "metadata": {},
   "source": [
    "# 回帰モデル"
   ]
  },
  {
   "cell_type": "markdown",
   "metadata": {},
   "source": [
    "statsmodelsでは線形回帰モデル\n",
    "$$y=f(x_i)+e=\\beta_0+\\beta_1 x_1 +,\\cdots,+ e $$\n",
    "の切片($\\beta_0$)と回帰係数($\\beta_i$)を\n",
    "\n",
    "|日本語|statsmodels||\n",
    "|:-:|:-:|:-:|\n",
    "|最小二乗法|OLS|\n",
    "|加重最小二乗法|WLS|\n",
    "|一般化最小二乗法|GLS|\n",
    "|再帰的最小二乗法|Recursive LS|\n",
    "\n",
    "という4つの方法により推定する。$x$は説明変数、$e$は誤差である。$y$は被説明変数で、$x$の線形結合としてモデル化される。最小二乗法によって得られるモデルがもっともらしくあるためには、誤差には\n",
    "\n",
    "- 偏りがない。\n",
    "- 分散は既知で一定である。\n",
    "- 共分散は0である。\n",
    "- 正規分布にしたがう。\n",
    "\n",
    "という前提条件が課される。GLSは誤差の分散が一定ではない分散不均一性、誤差同士が相関をもつ自己相関をもつ誤差対処できるモデルで、WLSは分散不均一性を扱っていて、Recursive LSは自己相関をもつ誤差を扱っている。これらのモデルでは条件を満たせない誤差の問題をいろいろと調整をして、これらの条件を成り立たせることで回帰係数を推定している。\n",
    "\n",
    "線形回帰というときには\n",
    "1) パラメータに対して線形\n",
    "という条件が課される。また、x(独立変数、説明変数)については\n",
    "a) 確率変数ではなく固定値\n",
    "b) 確率変数\n",
    "の場合に分けられ、確率変数の場合にはxは誤差項と独立である必要がある。\n",
    "\n",
    "$y$の分布を指数分布族として指定して、残差を任意の分布としたものとして[一般化線形モデル](https://qiita.com/innovation1005/items/8b8a2ca2176134692155)がある。これをさらに発展させたものとして\n",
    "\n",
    "- [一般化推定方程式](https://qiita.com/innovation1005/items/42a64213ac725719c785)\n",
    "- 一般化混合モデル\n",
    "- [一般化加法モデル](https://qiita.com/innovation1005/items/cc3c4f7d17f9f2ddd2f5)\n",
    "\n",
    "などがある。線形回帰ではOLSを用いるが、一般化線形モデルとその発展形では最尤法、またはそれに準じた方法を用いて回帰係数の推定を行う。\n",
    "\n",
    "また、時間の経過とともに記録したデータを時系列データという。時系列データを扱うときには従属変数yと独立変数ｘがともに確率変数であるときがある。回帰モデルが独立変数の現在だけではなく、過去のデータも含むとき分布ラグモデルといい、説明変数が従属変数の過去の値からなるとき、分布ラグモデルに従属変数の過去の値を含むときには自己回帰モデル、または動学モデル(dynamic model)という。\n",
    "\n",
    "同じ時点の異なるデータを集めたものをクロスデータとよぶ。このクロスデータを時系列データとしたものがパネルデータである。このようなデータを扱うのがパネルデータ分析である。\n",
    "\n",
    "モデルがいくつかの回帰モデルからなるときには同時方程式モデルという。需要サイドのモデルと供給サイドのモデルと、それらの均衡を表現するモデルなどの場合である。また、このような問題は[ベクトル自己回帰モデル](https://qiita.com/innovation1005/items/b5333a939c0341b46ba9)または[ベクトル誤差修正モデル](https://qiita.com/innovation1005/items/d53d9ba4f9e8ee1832c6)で扱うこともできる。\n",
    "\n",
    "時系列分析を扱うときにはその原系列がランダムウォークであるかどうかを判断する必要がる。ランダムウォークであれば1次の和分という。複数の1次の和分過程の線形結合が0次の和分過程であれば、それを共和分と呼ぶ。トレンドをもつ時系列の分析に役に立つ。[ベクトル誤差修正モデル](https://qiita.com/innovation1005/items/d53d9ba4f9e8ee1832c6)などを用いて問題に取り組む。\n",
    "\n",
    "# 最小二乗法による推定\n",
    "## 人工的に生成したデータでモデルを確認\n",
    "\n",
    "$X$を説明変数、$y$を非説明変数とすると\n",
    "$X=\\beta_0+\\beta_1 x$\n",
    "とし\n",
    "$y=X+e$\n",
    "とする。$\\beta$は係数で$e$はノイズである。\n",
    "\n",
    "$\\beta_0=1,\\beta_1=0.1$としてとして人工データを生成し、そのデータを最小二乗法を用いて当てはめ、$\\beta$を推定するという問題に取り組む。このようなアプローチは何か新しいモデルを学ぶときにはいつでも有効であり、学習の効率も良いと考える。\n",
    "\n",
    "別に回帰分析を勉強するのは初めてではないので、頭の中にはいろいろな思いがある。それはどの程度役に立つのだろうかという疑問である。この例ではノイズは標準正規分布にしたがうとする。\n",
    "\n",
    "初期化をする。"
   ]
  },
  {
   "cell_type": "code",
   "execution_count": 58,
   "metadata": {},
   "outputs": [],
   "source": [
    "from __future__ import print_function\n",
    "import numpy as np\n",
    "import statsmodels.api as sm\n",
    "import matplotlib.pyplot as plt\n",
    "from statsmodels.sandbox.regression.predstd import wls_prediction_std\n",
    "import pandas as pd\n",
    "\n",
    "np.random.seed(9876789)"
   ]
  },
  {
   "cell_type": "markdown",
   "metadata": {},
   "source": [
    "つぎに人工データを生成する。この人工データの作り方であるが、Xはlinspaceを用いて作る。これは説明変数が確定した値であることを示している。また、y_trueも確定的な値である。確率変数になっているのはｙであり、これはy_trueにノイズを加えて確率変数にしている。"
   ]
  },
  {
   "cell_type": "code",
   "execution_count": 4,
   "metadata": {},
   "outputs": [
    {
     "name": "stdout",
     "output_type": "stream",
     "text": [
      "                            OLS Regression Results                            \n",
      "==============================================================================\n",
      "Dep. Variable:                      y   R-squared:                       0.071\n",
      "Model:                            OLS   Adj. R-squared:                  0.066\n",
      "Method:                 Least Squares   F-statistic:                     15.11\n",
      "Date:                Tue, 11 Aug 2020   Prob (F-statistic):           0.000138\n",
      "Time:                        13:23:54   Log-Likelihood:                -283.26\n",
      "No. Observations:                 200   AIC:                             570.5\n",
      "Df Residuals:                     198   BIC:                             577.1\n",
      "Df Model:                           1                                         \n",
      "Covariance Type:            nonrobust                                         \n",
      "==============================================================================\n",
      "                 coef    std err          t      P>|t|      [0.025      0.975]\n",
      "------------------------------------------------------------------------------\n",
      "const          1.0446      0.141      7.397      0.000       0.766       1.323\n",
      "x1             0.0950      0.024      3.887      0.000       0.047       0.143\n",
      "==============================================================================\n",
      "Omnibus:                        1.140   Durbin-Watson:                   2.340\n",
      "Prob(Omnibus):                  0.565   Jarque-Bera (JB):                1.153\n",
      "Skew:                           0.083   Prob(JB):                        0.562\n",
      "Kurtosis:                       2.667   Cond. No.                         11.8\n",
      "==============================================================================\n",
      "\n",
      "Warnings:\n",
      "[1] Standard Errors assume that the covariance matrix of the errors is correctly specified.\n"
     ]
    }
   ],
   "source": [
    "nsample = 200\n",
    "x = np.linspace(0, 10, nsample)\n",
    "X = sm.add_constant(x)\n",
    "beta = np.array([1, 0.1])\n",
    "y_true=np.dot(X, beta)\n",
    "e = np.random.normal(size=nsample)\n",
    "y = y_true + e\n",
    "\n",
    "# Fit and summary:\n",
    "model = sm.OLS(y, X)\n",
    "res = model.fit()\n",
    "print(res.summary())"
   ]
  },
  {
   "cell_type": "markdown",
   "metadata": {},
   "source": [
    "サマリーレポートのもっとも上の二重線の下はデータに関する情報と推定したモデルの特性を示す情報が表示されている。\n",
    "二番目の二重線から下には回帰係数に関する情報が表示されている。三番目の二重線の下には誤差項に関する情報が示されている。ここでいう誤差は\n",
    "$y=E(y|x_i)+\\epsilon$\n",
    "の$\\epsilon$のことであり、$E(y|x_i)$は推定された回帰係数を用いて得た$y$の期待値である。\n",
    "結果をサマリーレポートとは別に出力することもできる。"
   ]
  },
  {
   "cell_type": "code",
   "execution_count": 5,
   "metadata": {},
   "outputs": [
    {
     "name": "stdout",
     "output_type": "stream",
     "text": [
      "Parameters:  [1.04464667 0.09496765]\n",
      "R2:  0.07090595878266248\n"
     ]
    },
    {
     "data": {
      "image/png": "[encoded data removed]",
      "text/plain": [
       "<Figure size 576x432 with 1 Axes>"
      ]
     },
     "metadata": {
      "needs_background": "light"
     },
     "output_type": "display_data"
    }
   ],
   "source": [
    "print('Parameters: ', res.params)\n",
    "print('R2: ', res.rsquared)\n",
    "\n",
    "fig, ax = plt.subplots(figsize=(8,6))\n",
    "ax.plot(x, y, 'o', label=\"data\")\n",
    "ax.plot(x, y_true, 'b-', label=\"True\")\n",
    "ax.plot(x, res.fittedvalues, 'r--.', label=\"OLS\")\n",
    "ax.legend(loc='best');"
   ]
  },
  {
   "cell_type": "markdown",
   "metadata": {},
   "source": [
    "これぞ線形回帰という結果が得られた。線形の意味の通り、直線がありその周りを観測値がうまく散らばっている。\n",
    "\n",
    "ついでに被説明変数の頻度図も描いてみよう。"
   ]
  },
  {
   "cell_type": "code",
   "execution_count": 6,
   "metadata": {},
   "outputs": [
    {
     "data": {
      "text/plain": [
       "(array([ 6., 10., 27., 24., 36., 39., 24., 18., 12.,  4.]),\n",
       " array([-0.90914337, -0.41411565,  0.08091206,  0.57593978,  1.0709675 ,\n",
       "         1.56599521,  2.06102293,  2.55605064,  3.05107836,  3.54610607,\n",
       "         4.04113379]),\n",
       " <a list of 10 Patch objects>)"
      ]
     },
     "execution_count": 6,
     "metadata": {},
     "output_type": "execute_result"
    },
    {
     "data": {
      "image/png": "[encoded data removed]",
      "text/plain": [
       "<Figure size 432x288 with 1 Axes>"
      ]
     },
     "metadata": {
      "needs_background": "light"
     },
     "output_type": "display_data"
    }
   ],
   "source": [
    "plt.hist(y)"
   ]
  },
  {
   "cell_type": "code",
   "execution_count": 7,
   "metadata": {},
   "outputs": [
    {
     "data": {
      "text/plain": [
       "([array([  0., 200.,   0.,   0.,   0.,   0.,   0.,   0.,   0.,   0.]),\n",
       "  array([20., 20., 20., 20., 20., 20., 20., 20., 20., 20.])],\n",
       " array([ 0.,  1.,  2.,  3.,  4.,  5.,  6.,  7.,  8.,  9., 10.]),\n",
       " <a list of 2 Lists of Patches objects>)"
      ]
     },
     "execution_count": 7,
     "metadata": {},
     "output_type": "execute_result"
    },
    {
     "data": {
      "image/png": "[encoded data removed]",
      "text/plain": [
       "<Figure size 432x288 with 1 Axes>"
      ]
     },
     "metadata": {
      "needs_background": "light"
     },
     "output_type": "display_data"
    }
   ],
   "source": [
    "plt.hist(X)"
   ]
  },
  {
   "cell_type": "code",
   "execution_count": 8,
   "metadata": {},
   "outputs": [
    {
     "data": {
      "text/plain": [
       "(array([ 4., 10., 28., 34., 41., 38., 24., 14.,  5.,  2.]),\n",
       " array([-2.4713805 , -1.9351754 , -1.39897029, -0.86276519, -0.32656008,\n",
       "         0.20964503,  0.74585013,  1.28205524,  1.81826034,  2.35446545,\n",
       "         2.89067055]),\n",
       " <a list of 10 Patch objects>)"
      ]
     },
     "execution_count": 8,
     "metadata": {},
     "output_type": "execute_result"
    },
    {
     "data": {
      "image/png": "[encoded data removed]",
      "text/plain": [
       "<Figure size 432x288 with 1 Axes>"
      ]
     },
     "metadata": {
      "needs_background": "light"
     },
     "output_type": "display_data"
    }
   ],
   "source": [
    "plt.hist(res.resid)"
   ]
  },
  {
   "cell_type": "code",
   "execution_count": 9,
   "metadata": {},
   "outputs": [
    {
     "name": "stdout",
     "output_type": "stream",
     "text": [
      "                            OLS Regression Results                            \n",
      "==============================================================================\n",
      "Dep. Variable:                      y   R-squared:                       0.522\n",
      "Model:                            OLS   Adj. R-squared:                  0.517\n",
      "Method:                 Least Squares   F-statistic:                     106.9\n",
      "Date:                Tue, 11 Aug 2020   Prob (F-statistic):           2.23e-17\n",
      "Time:                        13:23:54   Log-Likelihood:                -17.072\n",
      "No. Observations:                 100   AIC:                             38.14\n",
      "Df Residuals:                      98   BIC:                             43.35\n",
      "Df Model:                           1                                         \n",
      "Covariance Type:            nonrobust                                         \n",
      "==============================================================================\n",
      "                 coef    std err          t      P>|t|      [0.025      0.975]\n",
      "------------------------------------------------------------------------------\n",
      "const          1.0006      0.058     17.386      0.000       0.886       1.115\n",
      "x1             0.1028      0.010     10.339      0.000       0.083       0.123\n",
      "==============================================================================\n",
      "Omnibus:                       37.295   Durbin-Watson:                   1.704\n",
      "Prob(Omnibus):                  0.000   Jarque-Bera (JB):                6.234\n",
      "Skew:                          -0.024   Prob(JB):                       0.0443\n",
      "Kurtosis:                       1.778   Cond. No.                         11.7\n",
      "==============================================================================\n",
      "\n",
      "Warnings:\n",
      "[1] Standard Errors assume that the covariance matrix of the errors is correctly specified.\n"
     ]
    }
   ],
   "source": [
    "nsample = 100\n",
    "x = np.linspace(0, 10, 100)\n",
    "beta = np.array([1, 0.1])\n",
    "e = np.random.uniform(size=nsample)\n",
    "X = sm.add_constant(x)\n",
    "y_true=np.dot(X, beta)\n",
    "y = y_true + e-0.5\n",
    "\n",
    "# Fit and summary:\n",
    "model = sm.OLS(y, X)\n",
    "res = model.fit()\n",
    "print(res.summary())"
   ]
  },
  {
   "cell_type": "markdown",
   "metadata": {},
   "source": [
    "こんどは説明変数と被説明変数の間の関係が非線形である場合について試してみよう。$X$を\n",
    "$X=\\beta_0+\\beta_1 x + \\beta_2 x^2$\n",
    "とし、\n",
    "$y=X+e$\n",
    "とする。$\\beta$は係数で$e$はノイズである。$\\beta_0=1,\\beta_1=0.1,\\beta_2=10$として人工的にデータを生成し、そのデータについて最小二乗法を用いて$\\beta$の推定を行う。eは正規乱数。"
   ]
  },
  {
   "cell_type": "code",
   "execution_count": 10,
   "metadata": {},
   "outputs": [
    {
     "name": "stdout",
     "output_type": "stream",
     "text": [
      "                            OLS Regression Results                            \n",
      "==============================================================================\n",
      "Dep. Variable:                      y   R-squared:                       0.934\n",
      "Model:                            OLS   Adj. R-squared:                  0.932\n",
      "Method:                 Least Squares   F-statistic:                     682.6\n",
      "Date:                Tue, 11 Aug 2020   Prob (F-statistic):           7.19e-58\n",
      "Time:                        13:23:54   Log-Likelihood:                -131.93\n",
      "No. Observations:                 100   AIC:                             269.9\n",
      "Df Residuals:                      97   BIC:                             277.7\n",
      "Df Model:                           2                                         \n",
      "Covariance Type:            nonrobust                                         \n",
      "==============================================================================\n",
      "                 coef    std err          t      P>|t|      [0.025      0.975]\n",
      "------------------------------------------------------------------------------\n",
      "const          0.4995      0.270      1.848      0.068      -0.037       1.036\n",
      "x1             0.2991      0.125      2.394      0.019       0.051       0.547\n",
      "x2             0.0845      0.012      6.986      0.000       0.060       0.108\n",
      "==============================================================================\n",
      "Omnibus:                        0.309   Durbin-Watson:                   2.046\n",
      "Prob(Omnibus):                  0.857   Jarque-Bera (JB):                0.482\n",
      "Skew:                           0.003   Prob(JB):                        0.786\n",
      "Kurtosis:                       2.660   Cond. No.                         144.\n",
      "==============================================================================\n",
      "\n",
      "Warnings:\n",
      "[1] Standard Errors assume that the covariance matrix of the errors is correctly specified.\n"
     ]
    }
   ],
   "source": [
    "nsample = 100\n",
    "x = np.linspace(0, 10, nsample)\n",
    "X = np.column_stack((x, x**2))\n",
    "beta = np.array([1, 0.1, 0.1])\n",
    "e = np.random.normal(size=nsample)\n",
    "X = sm.add_constant(X)\n",
    "y_true = np.dot(X, beta)\n",
    "y = y_true +e\n",
    "# Fit and summary:\n",
    "model = sm.OLS(y, X)\n",
    "results = model.fit()\n",
    "print(results.summary())"
   ]
  },
  {
   "cell_type": "code",
   "execution_count": 11,
   "metadata": {},
   "outputs": [
    {
     "data": {
      "image/png": "[encoded data removed]",
      "text/plain": [
       "<Figure size 576x432 with 1 Axes>"
      ]
     },
     "metadata": {
      "needs_background": "light"
     },
     "output_type": "display_data"
    }
   ],
   "source": [
    "fig, ax = plt.subplots(figsize=(8,6))\n",
    "ax.plot(x, y, 'o', label=\"data\")\n",
    "ax.plot(x, y_true, 'b-', label=\"True\")\n",
    "ax.plot(x, results.fittedvalues, 'r--.', label=\"OLS\")\n",
    "ax.legend(loc='best');"
   ]
  },
  {
   "cell_type": "markdown",
   "metadata": {},
   "source": [
    "$\\beta_1$の$p$値が0.781と大きく、条件数(Cond.No.)も144と大きく出ている。$p$値はノイズの生成に乱数を使っている影響で、PCによって値は結構ばらつく。つぎに乱数を一様分布として試してみよう。乱数の特性により$\\beta$等の値がどの程度影響を受けるかを見てみたい。\n"
   ]
  },
  {
   "cell_type": "code",
   "execution_count": 12,
   "metadata": {},
   "outputs": [
    {
     "name": "stdout",
     "output_type": "stream",
     "text": [
      "                            OLS Regression Results                            \n",
      "==============================================================================\n",
      "Dep. Variable:                      y   R-squared:                       0.994\n",
      "Model:                            OLS   Adj. R-squared:                  0.993\n",
      "Method:                 Least Squares   F-statistic:                     7452.\n",
      "Date:                Tue, 11 Aug 2020   Prob (F-statistic):          6.56e-107\n",
      "Time:                        13:23:54   Log-Likelihood:                -9.3515\n",
      "No. Observations:                 100   AIC:                             24.70\n",
      "Df Residuals:                      97   BIC:                             32.52\n",
      "Df Model:                           2                                         \n",
      "Covariance Type:            nonrobust                                         \n",
      "==============================================================================\n",
      "                 coef    std err          t      P>|t|      [0.025      0.975]\n",
      "------------------------------------------------------------------------------\n",
      "const          1.0227      0.079     12.890      0.000       0.865       1.180\n",
      "x1             0.0850      0.037      2.318      0.023       0.012       0.158\n",
      "x2             0.1013      0.004     28.555      0.000       0.094       0.108\n",
      "==============================================================================\n",
      "Omnibus:                       12.022   Durbin-Watson:                   2.149\n",
      "Prob(Omnibus):                  0.002   Jarque-Bera (JB):                3.920\n",
      "Skew:                          -0.053   Prob(JB):                        0.141\n",
      "Kurtosis:                       2.036   Cond. No.                         144.\n",
      "==============================================================================\n",
      "\n",
      "Warnings:\n",
      "[1] Standard Errors assume that the covariance matrix of the errors is correctly specified.\n"
     ]
    }
   ],
   "source": [
    "nsample = 100\n",
    "x = np.linspace(0, 10, 100)\n",
    "X = np.column_stack((x, x**2))\n",
    "beta = np.array([1, 0.1, 0.1])\n",
    "e = np.random.uniform(size=nsample)\n",
    "X = sm.add_constant(X)\n",
    "y_true=np.dot(X, beta) \n",
    "y =y_true + e-0.5\n",
    "# Fit and summary:\n",
    "model = sm.OLS(y, X)\n",
    "res = model.fit()\n",
    "print(res.summary())"
   ]
  },
  {
   "cell_type": "code",
   "execution_count": 13,
   "metadata": {},
   "outputs": [
    {
     "data": {
      "image/png": "[encoded data removed]",
      "text/plain": [
       "<Figure size 576x432 with 1 Axes>"
      ]
     },
     "metadata": {
      "needs_background": "light"
     },
     "output_type": "display_data"
    }
   ],
   "source": [
    "fig, ax = plt.subplots(figsize=(8,6))\n",
    "ax.plot(x, y, 'o', label=\"data\")\n",
    "ax.plot(x, y_true, 'b-', label=\"True\")\n",
    "ax.plot(x, res.fittedvalues, 'r--.', label=\"OLS\")\n",
    "ax.legend(loc='best');"
   ]
  },
  {
   "cell_type": "markdown",
   "metadata": {},
   "source": [
    "結果はほぼ同じである。\n",
    "\n",
    "先ほどと同じように結果をグラフで表してみる。"
   ]
  },
  {
   "cell_type": "code",
   "execution_count": 14,
   "metadata": {},
   "outputs": [
    {
     "data": {
      "text/plain": [
       "(array([23., 15., 12., 10.,  9.,  5.,  8.,  7.,  6.,  5.]),\n",
       " array([ 0.63095242,  1.78674853,  2.94254465,  4.09834076,  5.25413688,\n",
       "         6.409933  ,  7.56572911,  8.72152523,  9.87732135, 11.03311746,\n",
       "        12.18891358]),\n",
       " <a list of 10 Patch objects>)"
      ]
     },
     "execution_count": 14,
     "metadata": {},
     "output_type": "execute_result"
    },
    {
     "data": {
      "image/png": "[encoded data removed]",
      "text/plain": [
       "<Figure size 432x288 with 1 Axes>"
      ]
     },
     "metadata": {
      "needs_background": "light"
     },
     "output_type": "display_data"
    }
   ],
   "source": [
    "plt.hist(y)"
   ]
  },
  {
   "cell_type": "markdown",
   "metadata": {},
   "source": [
    "よく'原因と結果が直線で表せる関係でないと線形回帰は使えない'という記述を見る。しかし、この説明だと最初は正しく理解していてもあるときから違う理解に代わってしまうことがよくある。パラメータについて線形とか変数について線形とかいう言い方もされる。$y=\\beta_0+\\beta_1 x^2$は線形の関数ではない。非線形だ。$x$について非線形だ。$x$の2乗を含むからである。ところがこれをパラメータの立場から見ると線形である。つまり、これは線形回帰モデルで回帰係数を推定できる対象となる。すでに見たとおりだ。しかし、統計の専門家は別として、これがややこしく、そのうちに理解が逆さになってしまうのだ。\n",
    "\n",
    "statsmodelsのリファレンスにあるつぎの例は驚くほど良い例だと思う。$X$は$x$の多項式の部分とsinの部分で構成されている。これは直感的に訴えてくれる。これは、説明変数と被説明変数の間の関係が非線形である。しかし、線形結合であるので、つまりパラメータに対して線形なのだ。よって、OLSで解ける。sinが入っていると、なぜか変数について線形とかパラメータについて線形とか考えなくなる。sinはどう考えても非線形だ。それでもOLSで解ける。それは線形結合だからだ。\n",
    "\n",
    "$X=\\beta_0x+ \\beta_1 \\textrm{sin}(x)+ \\beta_2 (x-5)^2+\\beta_3$\n",
    "$y=X+e$\n",
    "$\\beta_0=0.5,\\beta_1=0.5,\\beta_2=-0.02, \\beta_3=5$としてデータを生成する。ノイズ($e$)は標準正規分布にしたがうとする。"
   ]
  },
  {
   "cell_type": "code",
   "execution_count": 15,
   "metadata": {},
   "outputs": [
    {
     "name": "stdout",
     "output_type": "stream",
     "text": [
      "                            OLS Regression Results                            \n",
      "==============================================================================\n",
      "Dep. Variable:                      y   R-squared:                       0.943\n",
      "Model:                            OLS   Adj. R-squared:                  0.939\n",
      "Method:                 Least Squares   F-statistic:                     252.1\n",
      "Date:                Tue, 11 Aug 2020   Prob (F-statistic):           1.48e-28\n",
      "Time:                        13:23:55   Log-Likelihood:                -32.910\n",
      "No. Observations:                  50   AIC:                             73.82\n",
      "Df Residuals:                      46   BIC:                             81.47\n",
      "Df Model:                           3                                         \n",
      "Covariance Type:            nonrobust                                         \n",
      "==============================================================================\n",
      "                 coef    std err          t      P>|t|      [0.025      0.975]\n",
      "------------------------------------------------------------------------------\n",
      "x1             0.5174      0.026     20.202      0.000       0.466       0.569\n",
      "x2             0.5194      0.101      5.159      0.000       0.317       0.722\n",
      "x3            -0.0210      0.002     -9.332      0.000      -0.026      -0.016\n",
      "const          4.8019      0.166     28.916      0.000       4.468       5.136\n",
      "==============================================================================\n",
      "Omnibus:                        0.702   Durbin-Watson:                   1.973\n",
      "Prob(Omnibus):                  0.704   Jarque-Bera (JB):                0.199\n",
      "Skew:                          -0.105   Prob(JB):                        0.905\n",
      "Kurtosis:                       3.226   Cond. No.                         221.\n",
      "==============================================================================\n",
      "\n",
      "Warnings:\n",
      "[1] Standard Errors assume that the covariance matrix of the errors is correctly specified.\n"
     ]
    }
   ],
   "source": [
    "nsample = 50\n",
    "sig = 0.5\n",
    "x = np.linspace(0, 20, nsample)\n",
    "X = np.column_stack((x, np.sin(x), (x-5)**2, np.ones(nsample)))\n",
    "beta = [0.5, 0.5, -0.02, 5.]\n",
    "y_true = np.dot(X, beta)\n",
    "y = y_true + sig * np.random.normal(size=nsample)\n",
    "\n",
    "# Fit and summary:\n",
    "res = sm.OLS(y, X).fit()\n",
    "print(res.summary())"
   ]
  },
  {
   "cell_type": "markdown",
   "metadata": {},
   "source": [
    "結果はまずまずであり、回帰係数はどれも設定とほぼ似たような値になっている。\n",
    "\n",
    "これは線形回帰の意味を正確に示している。線形という意味はデータが線形結合しているという意味であり、この場合にはそれぞれの説明変数のデータの和として$X$が生成されている。データ$y$を５％の信頼区間付きでプロットしてみるとよくわかる。最初に結果を数値として出力する。"
   ]
  },
  {
   "cell_type": "code",
   "execution_count": 16,
   "metadata": {},
   "outputs": [
    {
     "name": "stdout",
     "output_type": "stream",
     "text": [
      "Parameters:  [ 0.51739526  0.51938106 -0.02098469  4.80189965]\n",
      "Standard errors:  [0.02561123 0.10068073 0.00224868 0.16606415]\n",
      "Predicted values:  [ 4.27728238  4.77677481  5.23540459  5.62486591  5.92706839  6.13710925\n",
      "  6.26407884  6.32956714  6.36411655  6.40220389  6.47657594  6.61286925\n",
      "  6.8253981   7.11480274  7.46794419  7.8600629   8.25884673  8.6297397\n",
      "  8.94161947  9.17191064  9.31029379  9.36040102  9.33921909  9.27429866\n",
      "  9.1992277   9.14811314  9.14997716  9.22398897  9.37631532  9.59910735\n",
      "  9.87179012 10.16444302 10.44271565 10.67347146 10.83023205 10.89752743\n",
      " 10.87343776 10.7699087  10.61078887 10.42791147 10.25586429 10.12630695\n",
      " 10.06276937 10.07678583 10.16599994 10.3145518  10.4956837  10.67613637\n",
      " 10.82161338 10.90241593]\n"
     ]
    }
   ],
   "source": [
    "print('Parameters: ', res.params)\n",
    "print('Standard errors: ', res.bse)\n",
    "print('Predicted values: ', res.predict())"
   ]
  },
  {
   "cell_type": "code",
   "execution_count": 17,
   "metadata": {},
   "outputs": [
    {
     "data": {
      "image/png": "[encoded data removed]",
      "text/plain": [
       "<Figure size 576x432 with 1 Axes>"
      ]
     },
     "metadata": {
      "needs_background": "light"
     },
     "output_type": "display_data"
    }
   ],
   "source": [
    "prstd, iv_l, iv_u = wls_prediction_std(res)\n",
    "fig, ax = plt.subplots(figsize=(8,6))\n",
    "ax.plot(x, y, 'o', label=\"data\")\n",
    "ax.plot(x, y_true, 'b-', label=\"True\")\n",
    "ax.plot(x, res.fittedvalues, 'r--.', label=\"OLS\")\n",
    "ax.plot(x, iv_u, 'r--')\n",
    "ax.plot(x, iv_l, 'r--')\n",
    "ax.legend(loc='best');"
   ]
  },
  {
   "cell_type": "markdown",
   "metadata": {},
   "source": [
    "$y$はぐねぐねしているのに最小二乗法で解けている。説明変数の単なる和なので、説明変数がくねくねしていれば被説明変数もそれにしたがってくねくねしている。単に直線の足し算だけではないということだ。\n",
    "\n",
    "例によって$y$の頻度図を作っておこう。"
   ]
  },
  {
   "cell_type": "code",
   "execution_count": 18,
   "metadata": {},
   "outputs": [
    {
     "data": {
      "text/plain": [
       "(array([ 2.,  1.,  5.,  5.,  2.,  4.,  6.,  8., 12.,  5.]),\n",
       " array([ 4.06239049,  4.81304618,  5.56370187,  6.31435756,  7.06501325,\n",
       "         7.81566894,  8.56632463,  9.31698032, 10.06763601, 10.8182917 ,\n",
       "        11.56894739]),\n",
       " <a list of 10 Patch objects>)"
      ]
     },
     "execution_count": 18,
     "metadata": {},
     "output_type": "execute_result"
    },
    {
     "data": {
      "image/png": "[encoded data removed]",
      "text/plain": [
       "<Figure size 432x288 with 1 Axes>"
      ]
     },
     "metadata": {
      "needs_background": "light"
     },
     "output_type": "display_data"
    }
   ],
   "source": [
    "plt.hist(y)"
   ]
  },
  {
   "cell_type": "markdown",
   "metadata": {},
   "source": [
    "この$y$の頻度図についても足し算になっているということだ。なるほど。\n",
    "\n",
    "コーシー分布をつかってノイズを作ってみよう。金融の場合はこんなもんだ。\n"
   ]
  },
  {
   "cell_type": "code",
   "execution_count": 19,
   "metadata": {},
   "outputs": [
    {
     "name": "stdout",
     "output_type": "stream",
     "text": [
      "                            OLS Regression Results                            \n",
      "==============================================================================\n",
      "Dep. Variable:                      y   R-squared:                       0.102\n",
      "Model:                            OLS   Adj. R-squared:                  0.092\n",
      "Method:                 Least Squares   F-statistic:                     11.09\n",
      "Date:                Tue, 11 Aug 2020   Prob (F-statistic):            0.00122\n",
      "Time:                        13:23:55   Log-Likelihood:                -103.58\n",
      "No. Observations:                 100   AIC:                             211.2\n",
      "Df Residuals:                      98   BIC:                             216.4\n",
      "Df Model:                           1                                         \n",
      "Covariance Type:            nonrobust                                         \n",
      "==============================================================================\n",
      "                 coef    std err          t      P>|t|      [0.025      0.975]\n",
      "------------------------------------------------------------------------------\n",
      "const          1.2162      0.137      8.896      0.000       0.945       1.487\n",
      "x1             0.0787      0.024      3.330      0.001       0.032       0.126\n",
      "==============================================================================\n",
      "Omnibus:                      123.609   Durbin-Watson:                   2.070\n",
      "Prob(Omnibus):                  0.000   Jarque-Bera (JB):             2414.106\n",
      "Skew:                           4.281   Prob(JB):                         0.00\n",
      "Kurtosis:                      25.496   Cond. No.                         11.7\n",
      "==============================================================================\n",
      "\n",
      "Warnings:\n",
      "[1] Standard Errors assume that the covariance matrix of the errors is correctly specified.\n"
     ]
    }
   ],
   "source": [
    "from scipy.stats import cauchy\n",
    "nsample = 100\n",
    "x = np.linspace(0, 10, 100)\n",
    "beta = np.array([1, 0.1])\n",
    "X = sm.add_constant(x)\n",
    "y_true=np.dot(X, beta)\n",
    "e = cauchy.rvs(loc=0,scale=0.1,size=nsample)\n",
    "y = y_true + e\n",
    "\n",
    "# Fit and summary:\n",
    "model = sm.OLS(y, X)\n",
    "res = model.fit()\n",
    "print(res.summary())"
   ]
  },
  {
   "cell_type": "code",
   "execution_count": 20,
   "metadata": {},
   "outputs": [
    {
     "name": "stdout",
     "output_type": "stream",
     "text": [
      "                            OLS Regression Results                            \n",
      "==============================================================================\n",
      "Dep. Variable:                      y   R-squared:                       0.703\n",
      "Model:                            OLS   Adj. R-squared:                  0.683\n",
      "Method:                 Least Squares   F-statistic:                     36.23\n",
      "Date:                Tue, 11 Aug 2020   Prob (F-statistic):           3.57e-12\n",
      "Time:                        13:23:55   Log-Likelihood:                -73.116\n",
      "No. Observations:                  50   AIC:                             154.2\n",
      "Df Residuals:                      46   BIC:                             161.9\n",
      "Df Model:                           3                                         \n",
      "Covariance Type:            nonrobust                                         \n",
      "==============================================================================\n",
      "                 coef    std err          t      P>|t|      [0.025      0.975]\n",
      "------------------------------------------------------------------------------\n",
      "x1             0.4023      0.057      7.029      0.000       0.287       0.518\n",
      "x2             0.6564      0.225      2.917      0.005       0.203       1.109\n",
      "x3            -0.0137      0.005     -2.735      0.009      -0.024      -0.004\n",
      "const          5.7801      0.371     15.575      0.000       5.033       6.527\n",
      "==============================================================================\n",
      "Omnibus:                       88.417   Durbin-Watson:                   2.288\n",
      "Prob(Omnibus):                  0.000   Jarque-Bera (JB):             1801.793\n",
      "Skew:                           4.818   Prob(JB):                         0.00\n",
      "Kurtosis:                      30.785   Cond. No.                         221.\n",
      "==============================================================================\n",
      "\n",
      "Warnings:\n",
      "[1] Standard Errors assume that the covariance matrix of the errors is correctly specified.\n"
     ]
    }
   ],
   "source": [
    "nsample = 50\n",
    "sig = 0.5\n",
    "x = np.linspace(0, 20, nsample)\n",
    "X = np.column_stack((x, np.sin(x), (x-5)**2, np.ones(nsample)))\n",
    "beta = [0.5, 0.5, -0.02, 5.]\n",
    "y_true = np.dot(X, beta)\n",
    "y = y_true +  cauchy.rvs(loc=0,scale=0.1,size=nsample)\n",
    "\n",
    "# Fit and summary:\n",
    "res = sm.OLS(y, X).fit()\n",
    "print(res.summary())"
   ]
  },
  {
   "cell_type": "code",
   "execution_count": 21,
   "metadata": {},
   "outputs": [
    {
     "data": {
      "image/png": "[encoded data removed]",
      "text/plain": [
       "<Figure size 576x432 with 1 Axes>"
      ]
     },
     "metadata": {
      "needs_background": "light"
     },
     "output_type": "display_data"
    }
   ],
   "source": [
    "prstd, iv_l, iv_u = wls_prediction_std(res)\n",
    "fig, ax = plt.subplots(figsize=(8,6))\n",
    "ax.plot(x, y, 'o', label=\"data\")\n",
    "ax.plot(x, y_true, 'b-', label=\"True\")\n",
    "ax.plot(x, res.fittedvalues, 'r--.', label=\"OLS\")\n",
    "ax.plot(x, iv_u, 'r--')\n",
    "ax.plot(x, iv_l, 'r--')\n",
    "ax.legend(loc='best');"
   ]
  },
  {
   "cell_type": "markdown",
   "metadata": {},
   "source": [
    "Cond.No.は変わらないのに$p$値は大きく変わった。切片も回帰係数も再現性が弱くなった。$y$の頻度図を見てみる。"
   ]
  },
  {
   "cell_type": "code",
   "execution_count": 22,
   "metadata": {},
   "outputs": [
    {
     "data": {
      "text/plain": [
       "(array([ 4.,  5.,  3.,  4.,  6.,  8., 16.,  3.,  0.,  1.]),\n",
       " array([ 4.85581349,  5.72990334,  6.6039932 ,  7.47808305,  8.3521729 ,\n",
       "         9.22626275, 10.1003526 , 10.97444245, 11.8485323 , 12.72262215,\n",
       "        13.59671201]),\n",
       " <a list of 10 Patch objects>)"
      ]
     },
     "execution_count": 22,
     "metadata": {},
     "output_type": "execute_result"
    },
    {
     "data": {
      "image/png": "[encoded data removed]",
      "text/plain": [
       "<Figure size 432x288 with 1 Axes>"
      ]
     },
     "metadata": {
      "needs_background": "light"
     },
     "output_type": "display_data"
    }
   ],
   "source": [
    "plt.hist(y)"
   ]
  },
  {
   "cell_type": "markdown",
   "metadata": {},
   "source": [
    "ファットテイルで中心もずれている。実行するたびに大きく異なるノイズが生成されるので、何度も行ってみると面白い。\n"
   ]
  },
  {
   "cell_type": "markdown",
   "metadata": {},
   "source": [
    "## データの特性の把握とモデル選択\n",
    "\n",
    "### ダミー変数\n",
    "\n",
    "数値ではないデータが得られたときにそれらを数値に変換して回帰分析をするときに、その変換されたデータをダミー変数という。その威力を簡単に見てみよう。\n",
    "\n",
    "#### 人工的に作ったデータの例\n",
    "\n",
    "人工データを作ってその有効性を調べてみよう。statsmodelsのリファレンスのcategoricalの例をみてみよう。"
   ]
  },
  {
   "cell_type": "code",
   "execution_count": 23,
   "metadata": {},
   "outputs": [
    {
     "data": {
      "text/plain": [
       "['abcde', 'fghij', 'klmno', 'pqrst', 'uvwxy']"
      ]
     },
     "execution_count": 23,
     "metadata": {},
     "output_type": "execute_result"
    }
   ],
   "source": [
    "import string\n",
    "string_var = [string.ascii_lowercase[0:5],   \n",
    "              string.ascii_lowercase[5:10],           \n",
    "              string.ascii_lowercase[10:15],          \n",
    "              string.ascii_lowercase[15:20],          \n",
    "              string.ascii_lowercase[20:25]]\n",
    "string_var"
   ]
  },
  {
   "cell_type": "markdown",
   "metadata": {},
   "source": [
    "によって生成する。これを5倍に膨らます。"
   ]
  },
  {
   "cell_type": "code",
   "execution_count": 24,
   "metadata": {},
   "outputs": [
    {
     "data": {
      "text/plain": [
       "['abcde',\n",
       " 'fghij',\n",
       " 'klmno',\n",
       " 'pqrst',\n",
       " 'uvwxy',\n",
       " 'abcde',\n",
       " 'fghij',\n",
       " 'klmno',\n",
       " 'pqrst',\n",
       " 'uvwxy',\n",
       " 'abcde',\n",
       " 'fghij',\n",
       " 'klmno',\n",
       " 'pqrst',\n",
       " 'uvwxy',\n",
       " 'abcde',\n",
       " 'fghij',\n",
       " 'klmno',\n",
       " 'pqrst',\n",
       " 'uvwxy',\n",
       " 'abcde',\n",
       " 'fghij',\n",
       " 'klmno',\n",
       " 'pqrst',\n",
       " 'uvwxy']"
      ]
     },
     "execution_count": 24,
     "metadata": {},
     "output_type": "execute_result"
    }
   ],
   "source": [
    "string_var *= 5\n",
    "string_var"
   ]
  },
  {
   "cell_type": "markdown",
   "metadata": {},
   "source": [
    "つぎにこの結果をソートする。"
   ]
  },
  {
   "cell_type": "code",
   "execution_count": 25,
   "metadata": {},
   "outputs": [
    {
     "data": {
      "text/plain": [
       "array(['abcde', 'abcde', 'abcde', 'abcde', 'abcde', 'fghij', 'fghij',\n",
       "       'fghij', 'fghij', 'fghij', 'klmno', 'klmno', 'klmno', 'klmno',\n",
       "       'klmno', 'pqrst', 'pqrst', 'pqrst', 'pqrst', 'pqrst', 'uvwxy',\n",
       "       'uvwxy', 'uvwxy', 'uvwxy', 'uvwxy'], dtype='<U5')"
      ]
     },
     "execution_count": 25,
     "metadata": {},
     "output_type": "execute_result"
    }
   ],
   "source": [
    "string_var = np.asarray(sorted(string_var))\n",
    "string_var"
   ]
  },
  {
   "cell_type": "markdown",
   "metadata": {},
   "source": [
    "並べ替えた結果からカテゴリカル変数を作る。"
   ]
  },
  {
   "cell_type": "code",
   "execution_count": 26,
   "metadata": {},
   "outputs": [
    {
     "data": {
      "text/plain": [
       "array([[1., 0., 0., 0., 0.],\n",
       "       [1., 0., 0., 0., 0.],\n",
       "       [1., 0., 0., 0., 0.],\n",
       "       [1., 0., 0., 0., 0.],\n",
       "       [1., 0., 0., 0., 0.],\n",
       "       [0., 1., 0., 0., 0.],\n",
       "       [0., 1., 0., 0., 0.],\n",
       "       [0., 1., 0., 0., 0.],\n",
       "       [0., 1., 0., 0., 0.],\n",
       "       [0., 1., 0., 0., 0.],\n",
       "       [0., 0., 1., 0., 0.],\n",
       "       [0., 0., 1., 0., 0.],\n",
       "       [0., 0., 1., 0., 0.],\n",
       "       [0., 0., 1., 0., 0.],\n",
       "       [0., 0., 1., 0., 0.],\n",
       "       [0., 0., 0., 1., 0.],\n",
       "       [0., 0., 0., 1., 0.],\n",
       "       [0., 0., 0., 1., 0.],\n",
       "       [0., 0., 0., 1., 0.],\n",
       "       [0., 0., 0., 1., 0.],\n",
       "       [0., 0., 0., 0., 1.],\n",
       "       [0., 0., 0., 0., 1.],\n",
       "       [0., 0., 0., 0., 1.],\n",
       "       [0., 0., 0., 0., 1.],\n",
       "       [0., 0., 0., 0., 1.]])"
      ]
     },
     "execution_count": 26,
     "metadata": {},
     "output_type": "execute_result"
    }
   ],
   "source": [
    "design = sm.tools.categorical(string_var, drop=True)\n",
    "design"
   ]
  },
  {
   "cell_type": "markdown",
   "metadata": {},
   "source": [
    "被説明変数をつくってみよう。"
   ]
  },
  {
   "cell_type": "code",
   "execution_count": 27,
   "metadata": {},
   "outputs": [
    {
     "data": {
      "text/plain": [
       "array([10, 12, 14, 16, 18, 20, 22, 24, 26, 28, 30, 32, 34, 36, 38, 40, 42,\n",
       "       44, 46, 48, 50, 52, 54, 56, 58])"
      ]
     },
     "execution_count": 27,
     "metadata": {},
     "output_type": "execute_result"
    }
   ],
   "source": [
    "y0= np.arange(10,60, step=2)\n",
    "y0"
   ]
  },
  {
   "cell_type": "code",
   "execution_count": 28,
   "metadata": {},
   "outputs": [
    {
     "data": {
      "text/plain": [
       "array([1., 1., 1., 1., 1., 2., 2., 2., 2., 2., 3., 3., 3., 3., 3., 4., 4.,\n",
       "       4., 4., 4., 5., 5., 5., 5., 5.])"
      ]
     },
     "execution_count": 28,
     "metadata": {},
     "output_type": "execute_result"
    }
   ],
   "source": [
    "y= np.floor(y0/10)\n",
    "y"
   ]
  },
  {
   "cell_type": "markdown",
   "metadata": {},
   "source": [
    "いよいよ回帰を行う。"
   ]
  },
  {
   "cell_type": "code",
   "execution_count": 29,
   "metadata": {},
   "outputs": [
    {
     "data": {
      "text/html": [
       "<table class=\"simpletable\">\n",
       "<caption>OLS Regression Results</caption>\n",
       "<tr>\n",
       "  <th>Dep. Variable:</th>            <td>y</td>        <th>  R-squared:         </th> <td>   1.000</td> \n",
       "</tr>\n",
       "<tr>\n",
       "  <th>Model:</th>                   <td>OLS</td>       <th>  Adj. R-squared:    </th> <td>   1.000</td> \n",
       "</tr>\n",
       "<tr>\n",
       "  <th>Method:</th>             <td>Least Squares</td>  <th>  F-statistic:       </th> <td>5.965e+31</td>\n",
       "</tr>\n",
       "<tr>\n",
       "  <th>Date:</th>             <td>Tue, 11 Aug 2020</td> <th>  Prob (F-statistic):</th> <td>1.88e-310</td>\n",
       "</tr>\n",
       "<tr>\n",
       "  <th>Time:</th>                 <td>13:23:56</td>     <th>  Log-Likelihood:    </th> <td>  850.32</td> \n",
       "</tr>\n",
       "<tr>\n",
       "  <th>No. Observations:</th>      <td>    25</td>      <th>  AIC:               </th> <td>  -1691.</td> \n",
       "</tr>\n",
       "<tr>\n",
       "  <th>Df Residuals:</th>          <td>    20</td>      <th>  BIC:               </th> <td>  -1685.</td> \n",
       "</tr>\n",
       "<tr>\n",
       "  <th>Df Model:</th>              <td>     4</td>      <th>                     </th>     <td> </td>    \n",
       "</tr>\n",
       "<tr>\n",
       "  <th>Covariance Type:</th>      <td>nonrobust</td>    <th>                     </th>     <td> </td>    \n",
       "</tr>\n",
       "</table>\n",
       "<table class=\"simpletable\">\n",
       "<tr>\n",
       "   <td></td>     <th>coef</th>     <th>std err</th>      <th>t</th>      <th>P>|t|</th>  <th>[0.025</th>    <th>0.975]</th>  \n",
       "</tr>\n",
       "<tr>\n",
       "  <th>x1</th> <td>    1.0000</td> <td> 2.05e-16</td> <td> 4.88e+15</td> <td> 0.000</td> <td>    1.000</td> <td>    1.000</td>\n",
       "</tr>\n",
       "<tr>\n",
       "  <th>x2</th> <td>    2.0000</td> <td> 2.05e-16</td> <td> 9.77e+15</td> <td> 0.000</td> <td>    2.000</td> <td>    2.000</td>\n",
       "</tr>\n",
       "<tr>\n",
       "  <th>x3</th> <td>    3.0000</td> <td> 2.05e-16</td> <td> 1.47e+16</td> <td> 0.000</td> <td>    3.000</td> <td>    3.000</td>\n",
       "</tr>\n",
       "<tr>\n",
       "  <th>x4</th> <td>    4.0000</td> <td> 2.05e-16</td> <td> 1.95e+16</td> <td> 0.000</td> <td>    4.000</td> <td>    4.000</td>\n",
       "</tr>\n",
       "<tr>\n",
       "  <th>x5</th> <td>    5.0000</td> <td> 2.05e-16</td> <td> 2.44e+16</td> <td> 0.000</td> <td>    5.000</td> <td>    5.000</td>\n",
       "</tr>\n",
       "</table>\n",
       "<table class=\"simpletable\">\n",
       "<tr>\n",
       "  <th>Omnibus:</th>       <td> 7.639</td> <th>  Durbin-Watson:     </th> <td>   0.200</td>\n",
       "</tr>\n",
       "<tr>\n",
       "  <th>Prob(Omnibus):</th> <td> 0.022</td> <th>  Jarque-Bera (JB):  </th> <td>   6.952</td>\n",
       "</tr>\n",
       "<tr>\n",
       "  <th>Skew:</th>          <td> 1.291</td> <th>  Prob(JB):          </th> <td>  0.0309</td>\n",
       "</tr>\n",
       "<tr>\n",
       "  <th>Kurtosis:</th>      <td> 2.917</td> <th>  Cond. No.          </th> <td>    1.00</td>\n",
       "</tr>\n",
       "</table><br/><br/>Warnings:<br/>[1] Standard Errors assume that the covariance matrix of the errors is correctly specified."
      ],
      "text/plain": [
       "<class 'statsmodels.iolib.summary.Summary'>\n",
       "\"\"\"\n",
       "                            OLS Regression Results                            \n",
       "==============================================================================\n",
       "Dep. Variable:                      y   R-squared:                       1.000\n",
       "Model:                            OLS   Adj. R-squared:                  1.000\n",
       "Method:                 Least Squares   F-statistic:                 5.965e+31\n",
       "Date:                Tue, 11 Aug 2020   Prob (F-statistic):          1.88e-310\n",
       "Time:                        13:23:56   Log-Likelihood:                 850.32\n",
       "No. Observations:                  25   AIC:                            -1691.\n",
       "Df Residuals:                      20   BIC:                            -1685.\n",
       "Df Model:                           4                                         \n",
       "Covariance Type:            nonrobust                                         \n",
       "==============================================================================\n",
       "                 coef    std err          t      P>|t|      [0.025      0.975]\n",
       "------------------------------------------------------------------------------\n",
       "x1             1.0000   2.05e-16   4.88e+15      0.000       1.000       1.000\n",
       "x2             2.0000   2.05e-16   9.77e+15      0.000       2.000       2.000\n",
       "x3             3.0000   2.05e-16   1.47e+16      0.000       3.000       3.000\n",
       "x4             4.0000   2.05e-16   1.95e+16      0.000       4.000       4.000\n",
       "x5             5.0000   2.05e-16   2.44e+16      0.000       5.000       5.000\n",
       "==============================================================================\n",
       "Omnibus:                        7.639   Durbin-Watson:                   0.200\n",
       "Prob(Omnibus):                  0.022   Jarque-Bera (JB):                6.952\n",
       "Skew:                           1.291   Prob(JB):                       0.0309\n",
       "Kurtosis:                       2.917   Cond. No.                         1.00\n",
       "==============================================================================\n",
       "\n",
       "Warnings:\n",
       "[1] Standard Errors assume that the covariance matrix of the errors is correctly specified.\n",
       "\"\"\""
      ]
     },
     "execution_count": 29,
     "metadata": {},
     "output_type": "execute_result"
    }
   ],
   "source": [
    "X=design\n",
    "model = sm.OLS(y, X)\n",
    "results = model.fit()\n",
    "(results.summary())"
   ]
  },
  {
   "cell_type": "code",
   "execution_count": 30,
   "metadata": {},
   "outputs": [
    {
     "data": {
      "text/plain": [
       "[<matplotlib.lines.Line2D at 0x1bcbe768d30>]"
      ]
     },
     "execution_count": 30,
     "metadata": {},
     "output_type": "execute_result"
    },
    {
     "data": {
      "image/png": "[encoded data removed]",
      "text/plain": [
       "<Figure size 432x288 with 1 Axes>"
      ]
     },
     "metadata": {
      "needs_background": "light"
     },
     "output_type": "display_data"
    }
   ],
   "source": [
    "plt.plot(y)\n",
    "plt.plot(results.fittedvalues)"
   ]
  },
  {
   "cell_type": "code",
   "execution_count": 31,
   "metadata": {},
   "outputs": [
    {
     "data": {
      "text/plain": [
       "(array([15.,  0.,  5.,  0.,  0.,  0.,  0.,  0.,  0.,  5.]),\n",
       " array([0.00000000e+00, 8.88178420e-17, 1.77635684e-16, 2.66453526e-16,\n",
       "        3.55271368e-16, 4.44089210e-16, 5.32907052e-16, 6.21724894e-16,\n",
       "        7.10542736e-16, 7.99360578e-16, 8.88178420e-16]),\n",
       " <a list of 10 Patch objects>)"
      ]
     },
     "execution_count": 31,
     "metadata": {},
     "output_type": "execute_result"
    },
    {
     "data": {
      "image/png": "[encoded data removed]",
      "text/plain": [
       "<Figure size 432x288 with 1 Axes>"
      ]
     },
     "metadata": {
      "needs_background": "light"
     },
     "output_type": "display_data"
    }
   ],
   "source": [
    "plt.hist(results.resid)"
   ]
  },
  {
   "cell_type": "markdown",
   "metadata": {},
   "source": [
    "R-squaredは1となりました。\n",
    "\n",
    "#### Statsmodelsのサンプル\n",
    "\n",
    "さらにダミー変数の役割が直感的に理解できるように、statsmodelsのサンプルを見てみよう。\n",
    "\n",
    "50個の標本を生成する。groupsに0,1,2を設定する。それをもとにダミー変数を生成する。\n",
    "説明変数xを0から20までの数値を50個に分割して生成する。それに３つのグループの内の最初のgroupsを取り除き加え、かつ定数(切片)を付加する。\n",
    "\n",
    "$\\beta$を1,3,-3,10としてy_trueを生成する。ノイズは標準正規乱数とする。"
   ]
  },
  {
   "cell_type": "code",
   "execution_count": 32,
   "metadata": {},
   "outputs": [
    {
     "data": {
      "text/plain": [
       "array([0, 0, 0, 0, 0, 0, 0, 0, 0, 0, 0, 0, 0, 0, 0, 0, 0, 0, 0, 0, 0, 0,\n",
       "       0, 0, 0, 0, 0, 0, 0, 0, 0, 0, 0, 0, 0, 0, 0, 0, 0, 0, 0, 0, 0, 0,\n",
       "       0, 0, 0, 0, 0, 0])"
      ]
     },
     "execution_count": 32,
     "metadata": {},
     "output_type": "execute_result"
    }
   ],
   "source": [
    "nsample = 50\n",
    "groups = np.zeros(nsample, int) # data typeを整数(int)に指定\n",
    "groups"
   ]
  },
  {
   "cell_type": "code",
   "execution_count": 33,
   "metadata": {},
   "outputs": [
    {
     "data": {
      "text/plain": [
       "array([0, 0, 0, 0, 0, 0, 0, 0, 0, 0, 0, 0, 0, 0, 0, 0, 0, 0, 0, 0, 1, 1,\n",
       "       1, 1, 1, 1, 1, 1, 1, 1, 1, 1, 1, 1, 1, 1, 1, 1, 1, 1, 2, 2, 2, 2,\n",
       "       2, 2, 2, 2, 2, 2])"
      ]
     },
     "execution_count": 33,
     "metadata": {},
     "output_type": "execute_result"
    }
   ],
   "source": [
    "groups[20:40] = 1\n",
    "groups[40:] = 2\n",
    "groups"
   ]
  },
  {
   "cell_type": "code",
   "execution_count": 34,
   "metadata": {},
   "outputs": [
    {
     "data": {
      "text/plain": [
       "array([[1., 0., 0.],\n",
       "       [1., 0., 0.],\n",
       "       [1., 0., 0.],\n",
       "       [1., 0., 0.],\n",
       "       [1., 0., 0.],\n",
       "       [1., 0., 0.],\n",
       "       [1., 0., 0.],\n",
       "       [1., 0., 0.],\n",
       "       [1., 0., 0.],\n",
       "       [1., 0., 0.],\n",
       "       [1., 0., 0.],\n",
       "       [1., 0., 0.],\n",
       "       [1., 0., 0.],\n",
       "       [1., 0., 0.],\n",
       "       [1., 0., 0.],\n",
       "       [1., 0., 0.],\n",
       "       [1., 0., 0.],\n",
       "       [1., 0., 0.],\n",
       "       [1., 0., 0.],\n",
       "       [1., 0., 0.],\n",
       "       [0., 1., 0.],\n",
       "       [0., 1., 0.],\n",
       "       [0., 1., 0.],\n",
       "       [0., 1., 0.],\n",
       "       [0., 1., 0.],\n",
       "       [0., 1., 0.],\n",
       "       [0., 1., 0.],\n",
       "       [0., 1., 0.],\n",
       "       [0., 1., 0.],\n",
       "       [0., 1., 0.],\n",
       "       [0., 1., 0.],\n",
       "       [0., 1., 0.],\n",
       "       [0., 1., 0.],\n",
       "       [0., 1., 0.],\n",
       "       [0., 1., 0.],\n",
       "       [0., 1., 0.],\n",
       "       [0., 1., 0.],\n",
       "       [0., 1., 0.],\n",
       "       [0., 1., 0.],\n",
       "       [0., 1., 0.],\n",
       "       [0., 0., 1.],\n",
       "       [0., 0., 1.],\n",
       "       [0., 0., 1.],\n",
       "       [0., 0., 1.],\n",
       "       [0., 0., 1.],\n",
       "       [0., 0., 1.],\n",
       "       [0., 0., 1.],\n",
       "       [0., 0., 1.],\n",
       "       [0., 0., 1.],\n",
       "       [0., 0., 1.]])"
      ]
     },
     "execution_count": 34,
     "metadata": {},
     "output_type": "execute_result"
    }
   ],
   "source": [
    "#dummy = (groups[:,None] == np.unique(groups)).astype(float)\n",
    "dummy = sm.categorical(groups, drop=True)\n",
    "dummy"
   ]
  },
  {
   "cell_type": "code",
   "execution_count": 35,
   "metadata": {},
   "outputs": [
    {
     "data": {
      "text/plain": [
       "array([ 0.        ,  0.40816327,  0.81632653,  1.2244898 ,  1.63265306,\n",
       "        2.04081633,  2.44897959,  2.85714286,  3.26530612,  3.67346939,\n",
       "        4.08163265,  4.48979592,  4.89795918,  5.30612245,  5.71428571,\n",
       "        6.12244898,  6.53061224,  6.93877551,  7.34693878,  7.75510204,\n",
       "        8.16326531,  8.57142857,  8.97959184,  9.3877551 ,  9.79591837,\n",
       "       10.20408163, 10.6122449 , 11.02040816, 11.42857143, 11.83673469,\n",
       "       12.24489796, 12.65306122, 13.06122449, 13.46938776, 13.87755102,\n",
       "       14.28571429, 14.69387755, 15.10204082, 15.51020408, 15.91836735,\n",
       "       16.32653061, 16.73469388, 17.14285714, 17.55102041, 17.95918367,\n",
       "       18.36734694, 18.7755102 , 19.18367347, 19.59183673, 20.        ])"
      ]
     },
     "execution_count": 35,
     "metadata": {},
     "output_type": "execute_result"
    }
   ],
   "source": [
    "x = np.linspace(0, 20, nsample)\n",
    "x"
   ]
  },
  {
   "cell_type": "code",
   "execution_count": 36,
   "metadata": {},
   "outputs": [
    {
     "data": {
      "text/plain": [
       "array([[ 0.        ,  0.        ,  0.        ],\n",
       "       [ 0.40816327,  0.        ,  0.        ],\n",
       "       [ 0.81632653,  0.        ,  0.        ],\n",
       "       [ 1.2244898 ,  0.        ,  0.        ],\n",
       "       [ 1.63265306,  0.        ,  0.        ],\n",
       "       [ 2.04081633,  0.        ,  0.        ],\n",
       "       [ 2.44897959,  0.        ,  0.        ],\n",
       "       [ 2.85714286,  0.        ,  0.        ],\n",
       "       [ 3.26530612,  0.        ,  0.        ],\n",
       "       [ 3.67346939,  0.        ,  0.        ],\n",
       "       [ 4.08163265,  0.        ,  0.        ],\n",
       "       [ 4.48979592,  0.        ,  0.        ],\n",
       "       [ 4.89795918,  0.        ,  0.        ],\n",
       "       [ 5.30612245,  0.        ,  0.        ],\n",
       "       [ 5.71428571,  0.        ,  0.        ],\n",
       "       [ 6.12244898,  0.        ,  0.        ],\n",
       "       [ 6.53061224,  0.        ,  0.        ],\n",
       "       [ 6.93877551,  0.        ,  0.        ],\n",
       "       [ 7.34693878,  0.        ,  0.        ],\n",
       "       [ 7.75510204,  0.        ,  0.        ],\n",
       "       [ 8.16326531,  1.        ,  0.        ],\n",
       "       [ 8.57142857,  1.        ,  0.        ],\n",
       "       [ 8.97959184,  1.        ,  0.        ],\n",
       "       [ 9.3877551 ,  1.        ,  0.        ],\n",
       "       [ 9.79591837,  1.        ,  0.        ],\n",
       "       [10.20408163,  1.        ,  0.        ],\n",
       "       [10.6122449 ,  1.        ,  0.        ],\n",
       "       [11.02040816,  1.        ,  0.        ],\n",
       "       [11.42857143,  1.        ,  0.        ],\n",
       "       [11.83673469,  1.        ,  0.        ],\n",
       "       [12.24489796,  1.        ,  0.        ],\n",
       "       [12.65306122,  1.        ,  0.        ],\n",
       "       [13.06122449,  1.        ,  0.        ],\n",
       "       [13.46938776,  1.        ,  0.        ],\n",
       "       [13.87755102,  1.        ,  0.        ],\n",
       "       [14.28571429,  1.        ,  0.        ],\n",
       "       [14.69387755,  1.        ,  0.        ],\n",
       "       [15.10204082,  1.        ,  0.        ],\n",
       "       [15.51020408,  1.        ,  0.        ],\n",
       "       [15.91836735,  1.        ,  0.        ],\n",
       "       [16.32653061,  0.        ,  1.        ],\n",
       "       [16.73469388,  0.        ,  1.        ],\n",
       "       [17.14285714,  0.        ,  1.        ],\n",
       "       [17.55102041,  0.        ,  1.        ],\n",
       "       [17.95918367,  0.        ,  1.        ],\n",
       "       [18.36734694,  0.        ,  1.        ],\n",
       "       [18.7755102 ,  0.        ,  1.        ],\n",
       "       [19.18367347,  0.        ,  1.        ],\n",
       "       [19.59183673,  0.        ,  1.        ],\n",
       "       [20.        ,  0.        ,  1.        ]])"
      ]
     },
     "execution_count": 36,
     "metadata": {},
     "output_type": "execute_result"
    }
   ],
   "source": [
    "\n",
    "# drop reference category\n",
    "X = np.column_stack((x, dummy[:,1:])) # 2次元配列に変換\n",
    "X"
   ]
  },
  {
   "cell_type": "code",
   "execution_count": 37,
   "metadata": {},
   "outputs": [
    {
     "name": "stdout",
     "output_type": "stream",
     "text": [
      "[[0.         0.         0.         1.        ]\n",
      " [0.40816327 0.         0.         1.        ]\n",
      " [0.81632653 0.         0.         1.        ]\n",
      " [1.2244898  0.         0.         1.        ]\n",
      " [1.63265306 0.         0.         1.        ]]\n",
      "[10.         10.40816327 10.81632653 11.2244898  11.63265306]\n",
      "[ 8.34031877  8.34075033 10.63335518 11.61729371 12.47480086]\n",
      "[0 0 0 0 0 0 0 0 0 0 0 0 0 0 0 0 0 0 0 0 1 1 1 1 1 1 1 1 1 1 1 1 1 1 1 1 1\n",
      " 1 1 1 2 2 2 2 2 2 2 2 2 2]\n",
      "[[1. 0. 0.]\n",
      " [1. 0. 0.]\n",
      " [1. 0. 0.]\n",
      " [1. 0. 0.]\n",
      " [1. 0. 0.]]\n"
     ]
    }
   ],
   "source": [
    "X = sm.add_constant(X, prepend=False) #定数は最初の列(True)ではなく、最後の列（False)に加える\n",
    "beta = [1., 3, -3, 10]\n",
    "y_true = np.dot(X, beta)\n",
    "e = np.random.normal(size=nsample)\n",
    "y = y_true + e\n",
    "\n",
    "# Inspect the data:最初の５つのデータを確認する。\n",
    "print(X[:5,:])\n",
    "print(y_true[:5])\n",
    "print(y[:5])\n",
    "print(groups)\n",
    "print(dummy[:5,:])"
   ]
  },
  {
   "cell_type": "markdown",
   "metadata": {},
   "source": [
    "２つのダミー変数の影響のある部分と無い部分の3つのグループから構成されるy_trueを可視化する。"
   ]
  },
  {
   "cell_type": "code",
   "execution_count": 38,
   "metadata": {},
   "outputs": [
    {
     "data": {
      "text/plain": [
       "<matplotlib.legend.Legend at 0x1bcbe89d320>"
      ]
     },
     "execution_count": 38,
     "metadata": {},
     "output_type": "execute_result"
    },
    {
     "data": {
      "image/png": "[encoded data removed]",
      "text/plain": [
       "<Figure size 432x288 with 1 Axes>"
      ]
     },
     "metadata": {
      "needs_background": "light"
     },
     "output_type": "display_data"
    }
   ],
   "source": [
    "plt.plot(X[:,0],label='X')\n",
    "plt.plot(X[:,1],label='dammy1')\n",
    "plt.plot(X[:,2],label='dammy2')\n",
    "plt.plot(X[:,3],label='const')\n",
    "plt.legend()"
   ]
  },
  {
   "cell_type": "code",
   "execution_count": 39,
   "metadata": {},
   "outputs": [
    {
     "data": {
      "text/plain": [
       "<matplotlib.legend.Legend at 0x1bcbe85c978>"
      ]
     },
     "execution_count": 39,
     "metadata": {},
     "output_type": "execute_result"
    },
    {
     "data": {
      "image/png": "[encoded data removed]",
      "text/plain": [
       "<Figure size 432x288 with 1 Axes>"
      ]
     },
     "metadata": {
      "needs_background": "light"
     },
     "output_type": "display_data"
    }
   ],
   "source": [
    "plt.plot(y_true,label='y_true')\n",
    "plt.legend()"
   ]
  },
  {
   "cell_type": "markdown",
   "metadata": {},
   "source": [
    "$X$と$\\beta$の関係が見て取れる。"
   ]
  },
  {
   "cell_type": "code",
   "execution_count": 40,
   "metadata": {},
   "outputs": [
    {
     "data": {
      "text/html": [
       "<table class=\"simpletable\">\n",
       "<caption>OLS Regression Results</caption>\n",
       "<tr>\n",
       "  <th>Dep. Variable:</th>            <td>y</td>        <th>  R-squared:         </th> <td>   0.972</td>\n",
       "</tr>\n",
       "<tr>\n",
       "  <th>Model:</th>                   <td>OLS</td>       <th>  Adj. R-squared:    </th> <td>   0.970</td>\n",
       "</tr>\n",
       "<tr>\n",
       "  <th>Method:</th>             <td>Least Squares</td>  <th>  F-statistic:       </th> <td>   529.6</td>\n",
       "</tr>\n",
       "<tr>\n",
       "  <th>Date:</th>             <td>Tue, 11 Aug 2020</td> <th>  Prob (F-statistic):</th> <td>1.17e-35</td>\n",
       "</tr>\n",
       "<tr>\n",
       "  <th>Time:</th>                 <td>13:23:58</td>     <th>  Log-Likelihood:    </th> <td> -71.380</td>\n",
       "</tr>\n",
       "<tr>\n",
       "  <th>No. Observations:</th>      <td>    50</td>      <th>  AIC:               </th> <td>   150.8</td>\n",
       "</tr>\n",
       "<tr>\n",
       "  <th>Df Residuals:</th>          <td>    46</td>      <th>  BIC:               </th> <td>   158.4</td>\n",
       "</tr>\n",
       "<tr>\n",
       "  <th>Df Model:</th>              <td>     3</td>      <th>                     </th>     <td> </td>   \n",
       "</tr>\n",
       "<tr>\n",
       "  <th>Covariance Type:</th>      <td>nonrobust</td>    <th>                     </th>     <td> </td>   \n",
       "</tr>\n",
       "</table>\n",
       "<table class=\"simpletable\">\n",
       "<tr>\n",
       "    <td></td>       <th>coef</th>     <th>std err</th>      <th>t</th>      <th>P>|t|</th>  <th>[0.025</th>    <th>0.975]</th>  \n",
       "</tr>\n",
       "<tr>\n",
       "  <th>x1</th>    <td>    1.0727</td> <td>    0.069</td> <td>   15.647</td> <td> 0.000</td> <td>    0.935</td> <td>    1.211</td>\n",
       "</tr>\n",
       "<tr>\n",
       "  <th>x2</th>    <td>    2.2879</td> <td>    0.651</td> <td>    3.515</td> <td> 0.001</td> <td>    0.978</td> <td>    3.598</td>\n",
       "</tr>\n",
       "<tr>\n",
       "  <th>x3</th>    <td>   -4.0276</td> <td>    1.061</td> <td>   -3.797</td> <td> 0.000</td> <td>   -6.163</td> <td>   -1.893</td>\n",
       "</tr>\n",
       "<tr>\n",
       "  <th>const</th> <td>    9.5646</td> <td>    0.355</td> <td>   26.950</td> <td> 0.000</td> <td>    8.850</td> <td>   10.279</td>\n",
       "</tr>\n",
       "</table>\n",
       "<table class=\"simpletable\">\n",
       "<tr>\n",
       "  <th>Omnibus:</th>       <td> 1.916</td> <th>  Durbin-Watson:     </th> <td>   2.179</td>\n",
       "</tr>\n",
       "<tr>\n",
       "  <th>Prob(Omnibus):</th> <td> 0.384</td> <th>  Jarque-Bera (JB):  </th> <td>   1.289</td>\n",
       "</tr>\n",
       "<tr>\n",
       "  <th>Skew:</th>          <td>-0.385</td> <th>  Prob(JB):          </th> <td>   0.525</td>\n",
       "</tr>\n",
       "<tr>\n",
       "  <th>Kurtosis:</th>      <td> 3.160</td> <th>  Cond. No.          </th> <td>    96.3</td>\n",
       "</tr>\n",
       "</table><br/><br/>Warnings:<br/>[1] Standard Errors assume that the covariance matrix of the errors is correctly specified."
      ],
      "text/plain": [
       "<class 'statsmodels.iolib.summary.Summary'>\n",
       "\"\"\"\n",
       "                            OLS Regression Results                            \n",
       "==============================================================================\n",
       "Dep. Variable:                      y   R-squared:                       0.972\n",
       "Model:                            OLS   Adj. R-squared:                  0.970\n",
       "Method:                 Least Squares   F-statistic:                     529.6\n",
       "Date:                Tue, 11 Aug 2020   Prob (F-statistic):           1.17e-35\n",
       "Time:                        13:23:58   Log-Likelihood:                -71.380\n",
       "No. Observations:                  50   AIC:                             150.8\n",
       "Df Residuals:                      46   BIC:                             158.4\n",
       "Df Model:                           3                                         \n",
       "Covariance Type:            nonrobust                                         \n",
       "==============================================================================\n",
       "                 coef    std err          t      P>|t|      [0.025      0.975]\n",
       "------------------------------------------------------------------------------\n",
       "x1             1.0727      0.069     15.647      0.000       0.935       1.211\n",
       "x2             2.2879      0.651      3.515      0.001       0.978       3.598\n",
       "x3            -4.0276      1.061     -3.797      0.000      -6.163      -1.893\n",
       "const          9.5646      0.355     26.950      0.000       8.850      10.279\n",
       "==============================================================================\n",
       "Omnibus:                        1.916   Durbin-Watson:                   2.179\n",
       "Prob(Omnibus):                  0.384   Jarque-Bera (JB):                1.289\n",
       "Skew:                          -0.385   Prob(JB):                        0.525\n",
       "Kurtosis:                       3.160   Cond. No.                         96.3\n",
       "==============================================================================\n",
       "\n",
       "Warnings:\n",
       "[1] Standard Errors assume that the covariance matrix of the errors is correctly specified.\n",
       "\"\"\""
      ]
     },
     "execution_count": 40,
     "metadata": {},
     "output_type": "execute_result"
    }
   ],
   "source": [
    "# Fit and summary:\n",
    "res2 = sm.OLS(y, X).fit()\n",
    "(res2.summary())"
   ]
  },
  {
   "cell_type": "markdown",
   "metadata": {},
   "source": [
    "結果は良好であるのでグラフに描いてみよう。ダミー変数の利用により、３つのグループの変数が区別されている。"
   ]
  },
  {
   "cell_type": "code",
   "execution_count": 41,
   "metadata": {},
   "outputs": [
    {
     "data": {
      "image/png": "[encoded data removed]",
      "text/plain": [
       "<Figure size 576x432 with 1 Axes>"
      ]
     },
     "metadata": {
      "needs_background": "light"
     },
     "output_type": "display_data"
    }
   ],
   "source": [
    "prstd, iv_l, iv_u = wls_prediction_std(res2)\n",
    "fig, ax = plt.subplots(figsize=(8,6))\n",
    "ax.plot(x, y, 'o', label=\"Data\")\n",
    "ax.plot(x, y_true, 'b-', label=\"True\")\n",
    "ax.plot(x, res2.fittedvalues, 'r--.', label=\"Predicted\")\n",
    "ax.plot(x, iv_u, 'r--')\n",
    "ax.plot(x, iv_l, 'r--')\n",
    "legend = ax.legend(loc=\"best\")"
   ]
  },
  {
   "cell_type": "markdown",
   "metadata": {},
   "source": [
    "# 結合仮説の検定 \n",
    "## F検定\n",
    "\n",
    "線形回帰のサマリーレポートのF検定はすべての回帰係数がゼロであるという仮説を帰無仮説としている。ここでは、その内のダミー変数の回帰係数がゼロだという仮説を検定してみる。これを帰無仮説とする。Rは検定の条件を表している。[0,1,0,0]はx2(ダミー変数)を表していて、[0,0,1,0]はx3(ダミー変数)を表している。ダミー変数の回帰係数がゼロだという帰無仮説は$R \\times \\beta=0$である。F検定の結果は、3つのグループが同じであるという仮説を非常に強く棄却している。つまり、$\\beta_i$たちはゼロではないのだ。また、この検定の仮説は数式を用いて表現することもできる。"
   ]
  },
  {
   "cell_type": "code",
   "execution_count": 42,
   "metadata": {},
   "outputs": [
    {
     "name": "stdout",
     "output_type": "stream",
     "text": [
      "[[1 0 0 0]\n",
      " [0 1 0 0]\n",
      " [0 0 1 0]\n",
      " [0 0 0 1]]\n",
      "<F test: F=array([[5101.27547749]]), p=2.9937795785529057e-60, df_denom=46, df_num=4>\n"
     ]
    }
   ],
   "source": [
    "R = [[1,0,0,0],[0, 1, 0, 0], [0, 0, 1, 0],[0,0,0,1]]\n",
    "print(np.array(R))\n",
    "print(res2.f_test(R))"
   ]
  },
  {
   "cell_type": "markdown",
   "metadata": {},
   "source": [
    "数式を用いて帰無仮説を表現する。"
   ]
  },
  {
   "cell_type": "code",
   "execution_count": 43,
   "metadata": {},
   "outputs": [
    {
     "name": "stdout",
     "output_type": "stream",
     "text": [
      "<F test: F=array([[5101.27547749]]), p=2.993779578546905e-60, df_denom=46, df_num=4>\n"
     ]
    }
   ],
   "source": [
    "# You can also use formula-like syntax to test hypotheses\n",
    "\n",
    "print(res2.f_test(\"x1 = x2 = x3 = const =0\"))"
   ]
  },
  {
   "cell_type": "markdown",
   "metadata": {},
   "source": [
    "### 構成割合の小さなグループの影響\n",
    "\n",
    "statsmodelsのリファレンスのこの例も非常に良い例である。直感に訴えてくる。\n",
    "\n",
    "あるグループまたは変数の影響を小さくしてみる。実際のデータを生成する際に$\\beta_1=0.3$を小さくし、$\\beta_2=-0.0$としてみる。つまり、帰無仮説の片方は明らかにゼロになる。そうすると先ほどのF検定の結果とは異なりp値は0.3である程度の大きさをもっている。これで帰無仮説を棄却できるとは言えない。さてこの際の表現方法であるが、一方の$\\beta$は実際にゼロではなく0.3だ。実際のデータの生成においても帰無仮説は正しくない。ここで、統計学の主義について説明しておこう。統計学の仮説検定では帰無仮説を採択するという結論はないのだ。統計学では真理を明らかにすることが目的ではなく、数学的な誤謬を減らすことにある([仮説検定wiki参照](https://ja.wikipedia.org/wiki/%E4%BB%AE%E8%AA%AC%E6%A4%9C%E5%AE%9A))。したがって、この場合の結論は、棄却するに足る証拠はないとか、棄却するに足るには十分ではない、などの表現を用いる。そして今回は、その表現が実際に正しい。気を付ける必要があるのは実際に帰無仮説が棄却できない場合に、帰無仮説が正しいと思ってしまうことである。これは今回の例のようにかなり微妙なのである。"
   ]
  },
  {
   "cell_type": "code",
   "execution_count": 44,
   "metadata": {},
   "outputs": [
    {
     "name": "stdout",
     "output_type": "stream",
     "text": [
      "<F test: F=array([[4354.70700593]]), p=1.1291836015479154e-58, df_denom=46, df_num=4>\n"
     ]
    }
   ],
   "source": [
    "beta = [1., 0.3, -0.0, 10]\n",
    "y_true = np.dot(X, beta)\n",
    "y = y_true + np.random.normal(size=nsample)\n",
    "\n",
    "res3 = sm.OLS(y, X).fit()\n",
    "print(res3.f_test(R))"
   ]
  },
  {
   "cell_type": "code",
   "execution_count": 45,
   "metadata": {},
   "outputs": [
    {
     "name": "stdout",
     "output_type": "stream",
     "text": [
      "                            OLS Regression Results                            \n",
      "==============================================================================\n",
      "Dep. Variable:                      y   R-squared:                       0.968\n",
      "Model:                            OLS   Adj. R-squared:                  0.965\n",
      "Method:                 Least Squares   F-statistic:                     457.3\n",
      "Date:                Tue, 11 Aug 2020   Prob (F-statistic):           3.08e-34\n",
      "Time:                        13:23:58   Log-Likelihood:                -74.222\n",
      "No. Observations:                  50   AIC:                             156.4\n",
      "Df Residuals:                      46   BIC:                             164.1\n",
      "Df Model:                           3                                         \n",
      "Covariance Type:            nonrobust                                         \n",
      "==============================================================================\n",
      "                 coef    std err          t      P>|t|      [0.025      0.975]\n",
      "------------------------------------------------------------------------------\n",
      "x1             1.1042      0.073     15.217      0.000       0.958       1.250\n",
      "x2            -0.7050      0.689     -1.023      0.312      -2.092       0.682\n",
      "x3            -2.1160      1.123     -1.885      0.066      -4.376       0.144\n",
      "const          9.6050      0.376     25.568      0.000       8.849      10.361\n",
      "==============================================================================\n",
      "Omnibus:                        1.258   Durbin-Watson:                   1.927\n",
      "Prob(Omnibus):                  0.533   Jarque-Bera (JB):                0.796\n",
      "Skew:                           0.306   Prob(JB):                        0.672\n",
      "Kurtosis:                       3.089   Cond. No.                         96.3\n",
      "==============================================================================\n",
      "\n",
      "Warnings:\n",
      "[1] Standard Errors assume that the covariance matrix of the errors is correctly specified.\n"
     ]
    }
   ],
   "source": [
    "print(res3.summary())"
   ]
  },
  {
   "cell_type": "markdown",
   "metadata": {},
   "source": [
    "株式市場では、よく価格がランダムウォークにしたがうという帰無仮説を立てる。これは金融理論の骨幹である。この帰無仮説を棄却できる場合はかなり稀である。しかし、だからと言って株価がランダムウォークにしたがうとは言えないのである。単に、今回は棄却するに十分な証拠がなかっただけなのである。\n",
    "\n",
    "# 多重共線性\n",
    "\n",
    "[Longley(1967)](https://www.statsmodels.org/devel/datasets/generated/longley.html)のデータは高い多重共線性をもつことで知られている。これは非常に高い相関をもつデータであることを示している。回帰係数を計算する際にそれらを不安定にする原因となる。したがって、データが多重共線性をもてば、安定性を得るためにモデルの特性を若干変える必要がある。\n",
    "\n",
    "観測値の数 - 6\n",
    "\n",
    "変数名と内容::\n",
    "\n",
    "        TOTEMP - 総雇用者数(endog)\n",
    "        GNPDEFL - GNP デフレーター\n",
    "        GNP - GNP\n",
    "        UNEMP - 非雇用者数\n",
    "        ARMED - 軍隊の規模\n",
    "        POP - 人口\n",
    "        YEAR - 西暦 (1947 - 1962)"
   ]
  },
  {
   "cell_type": "code",
   "execution_count": 46,
   "metadata": {},
   "outputs": [
    {
     "name": "stdout",
     "output_type": "stream",
     "text": [
      "                            OLS Regression Results                            \n",
      "==============================================================================\n",
      "Dep. Variable:                 TOTEMP   R-squared:                       0.995\n",
      "Model:                            OLS   Adj. R-squared:                  0.992\n",
      "Method:                 Least Squares   F-statistic:                     330.3\n",
      "Date:                Tue, 11 Aug 2020   Prob (F-statistic):           4.98e-10\n",
      "Time:                        13:23:58   Log-Likelihood:                -109.62\n",
      "No. Observations:                  16   AIC:                             233.2\n",
      "Df Residuals:                       9   BIC:                             238.6\n",
      "Df Model:                           6                                         \n",
      "Covariance Type:            nonrobust                                         \n",
      "==============================================================================\n",
      "                 coef    std err          t      P>|t|      [0.025      0.975]\n",
      "------------------------------------------------------------------------------\n",
      "const      -3.482e+06    8.9e+05     -3.911      0.004    -5.5e+06   -1.47e+06\n",
      "GNPDEFL       15.0619     84.915      0.177      0.863    -177.029     207.153\n",
      "GNP           -0.0358      0.033     -1.070      0.313      -0.112       0.040\n",
      "UNEMP         -2.0202      0.488     -4.136      0.003      -3.125      -0.915\n",
      "ARMED         -1.0332      0.214     -4.822      0.001      -1.518      -0.549\n",
      "POP           -0.0511      0.226     -0.226      0.826      -0.563       0.460\n",
      "YEAR        1829.1515    455.478      4.016      0.003     798.788    2859.515\n",
      "==============================================================================\n",
      "Omnibus:                        0.749   Durbin-Watson:                   2.559\n",
      "Prob(Omnibus):                  0.688   Jarque-Bera (JB):                0.684\n",
      "Skew:                           0.420   Prob(JB):                        0.710\n",
      "Kurtosis:                       2.434   Cond. No.                     4.86e+09\n",
      "==============================================================================\n",
      "\n",
      "Warnings:\n",
      "[1] Standard Errors assume that the covariance matrix of the errors is correctly specified.\n",
      "[2] The condition number is large, 4.86e+09. This might indicate that there are\n",
      "strong multicollinearity or other numerical problems.\n"
     ]
    },
    {
     "name": "stderr",
     "output_type": "stream",
     "text": [
      "C:\\Users\\moriya\\Anaconda3\\lib\\site-packages\\numpy\\core\\fromnumeric.py:2389: FutureWarning: Method .ptp is deprecated and will be removed in a future version. Use numpy.ptp instead.\n",
      "  return ptp(axis=axis, out=out, **kwargs)\n",
      "C:\\Users\\moriya\\Anaconda3\\lib\\site-packages\\scipy\\stats\\stats.py:1416: UserWarning: kurtosistest only valid for n>=20 ... continuing anyway, n=16\n",
      "  \"anyway, n=%i\" % int(n))\n"
     ]
    }
   ],
   "source": [
    "from statsmodels.datasets.longley import load_pandas\n",
    "y = load_pandas().endog\n",
    "X = load_pandas().exog\n",
    "X = sm.add_constant(X)\n",
    "\n",
    "# Fit and summary:\n",
    "\n",
    "ols_model = sm.OLS(y, X)\n",
    "ols_results = ols_model.fit()\n",
    "print(ols_results.summary())"
   ]
  },
  {
   "cell_type": "markdown",
   "metadata": {},
   "source": [
    "#### 条件数(Condition number)\n",
    "\n",
    "多重共線性を測る方法として条件数(Cond. No.)がある。Greeneによると、20を超えるとモデルには問題があるととらえたほうがよさそうである。条件数の計算は\n",
    "- ステップ１：説明変数を標準化する。\n",
    "- ステップ２：相関行列の固有値を求め、固有値の最大値と最小値の比率の平方根をとる。\n",
    "\n",
    "という2つのステップからなる。"
   ]
  },
  {
   "cell_type": "code",
   "execution_count": 47,
   "metadata": {},
   "outputs": [
    {
     "name": "stdout",
     "output_type": "stream",
     "text": [
      "56240.8709117813\n"
     ]
    }
   ],
   "source": [
    "# step 1\n",
    "norm_x = X.values\n",
    "for i, name in enumerate(X):\n",
    "    if name == \"const\":\n",
    "        continue\n",
    "    norm_x[:,i] = X[name]/np.linalg.norm(X[name])\n",
    "norm_xtx = np.dot(norm_x.T,norm_x)\n",
    "# step 2\n",
    "eigs = np.linalg.eigvals(norm_xtx)\n",
    "condition_number = np.sqrt(eigs.max() / eigs.min())\n",
    "print(condition_number)"
   ]
  },
  {
   "cell_type": "markdown",
   "metadata": {},
   "source": [
    "条件数に問題があれば、相関行列を別のものにすればよいのであるから、\n",
    "条件数が大きければ説明変数を1つ落とすことで、大きな改善がみられることがある。モデルの特性を若干変えるのである。"
   ]
  },
  {
   "cell_type": "code",
   "execution_count": 48,
   "metadata": {},
   "outputs": [
    {
     "name": "stdout",
     "output_type": "stream",
     "text": [
      "Percentage change 4.55%\n",
      "Percentage change -2228.01%\n",
      "Percentage change 154304695.31%\n",
      "Percentage change 1366329.02%\n",
      "Percentage change 1112549.36%\n",
      "Percentage change 92708715.91%\n",
      "Percentage change 817944.26%\n",
      "\n"
     ]
    }
   ],
   "source": [
    "# 説明変数の削減\n",
    "ols_results2 = sm.OLS(y.iloc[:14], X.iloc[:14]).fit()\n",
    "print(\"Percentage change %4.2f%%\\n\"*7 % tuple\n",
    "      ([i for i in (ols_results2.params - ols_results.params)/ols_results.params*100]))"
   ]
  },
  {
   "cell_type": "code",
   "execution_count": 49,
   "metadata": {},
   "outputs": [
    {
     "data": {
      "text/html": [
       "<div>\n",
       "<style scoped>\n",
       "    .dataframe tbody tr th:only-of-type {\n",
       "        vertical-align: middle;\n",
       "    }\n",
       "\n",
       "    .dataframe tbody tr th {\n",
       "        vertical-align: top;\n",
       "    }\n",
       "\n",
       "    .dataframe thead th {\n",
       "        text-align: right;\n",
       "    }\n",
       "</style>\n",
       "<table border=\"1\" class=\"dataframe\">\n",
       "  <thead>\n",
       "    <tr style=\"text-align: right;\">\n",
       "      <th></th>\n",
       "      <th>const</th>\n",
       "      <th>GNPDEFL</th>\n",
       "      <th>GNP</th>\n",
       "      <th>UNEMP</th>\n",
       "      <th>ARMED</th>\n",
       "      <th>POP</th>\n",
       "      <th>YEAR</th>\n",
       "    </tr>\n",
       "  </thead>\n",
       "  <tbody>\n",
       "    <tr>\n",
       "      <th>0</th>\n",
       "      <td>1.0</td>\n",
       "      <td>0.203000</td>\n",
       "      <td>0.146627</td>\n",
       "      <td>0.177462</td>\n",
       "      <td>0.147639</td>\n",
       "      <td>0.228725</td>\n",
       "      <td>0.249040</td>\n",
       "    </tr>\n",
       "    <tr>\n",
       "      <th>1</th>\n",
       "      <td>1.0</td>\n",
       "      <td>0.216452</td>\n",
       "      <td>0.162359</td>\n",
       "      <td>0.175127</td>\n",
       "      <td>0.135197</td>\n",
       "      <td>0.230902</td>\n",
       "      <td>0.249168</td>\n",
       "    </tr>\n",
       "    <tr>\n",
       "      <th>2</th>\n",
       "      <td>1.0</td>\n",
       "      <td>0.215718</td>\n",
       "      <td>0.161500</td>\n",
       "      <td>0.277341</td>\n",
       "      <td>0.150054</td>\n",
       "      <td>0.233327</td>\n",
       "      <td>0.249296</td>\n",
       "    </tr>\n",
       "    <tr>\n",
       "      <th>3</th>\n",
       "      <td>1.0</td>\n",
       "      <td>0.218898</td>\n",
       "      <td>0.178113</td>\n",
       "      <td>0.252409</td>\n",
       "      <td>0.153211</td>\n",
       "      <td>0.235784</td>\n",
       "      <td>0.249424</td>\n",
       "    </tr>\n",
       "    <tr>\n",
       "      <th>4</th>\n",
       "      <td>1.0</td>\n",
       "      <td>0.235284</td>\n",
       "      <td>0.205885</td>\n",
       "      <td>0.158104</td>\n",
       "      <td>0.287758</td>\n",
       "      <td>0.238220</td>\n",
       "      <td>0.249552</td>\n",
       "    </tr>\n",
       "    <tr>\n",
       "      <th>5</th>\n",
       "      <td>1.0</td>\n",
       "      <td>0.239931</td>\n",
       "      <td>0.217165</td>\n",
       "      <td>0.145525</td>\n",
       "      <td>0.333721</td>\n",
       "      <td>0.240760</td>\n",
       "      <td>0.249680</td>\n",
       "    </tr>\n",
       "    <tr>\n",
       "      <th>6</th>\n",
       "      <td>1.0</td>\n",
       "      <td>0.242133</td>\n",
       "      <td>0.228672</td>\n",
       "      <td>0.140855</td>\n",
       "      <td>0.329357</td>\n",
       "      <td>0.244637</td>\n",
       "      <td>0.249807</td>\n",
       "    </tr>\n",
       "    <tr>\n",
       "      <th>7</th>\n",
       "      <td>1.0</td>\n",
       "      <td>0.244578</td>\n",
       "      <td>0.227249</td>\n",
       "      <td>0.269507</td>\n",
       "      <td>0.311064</td>\n",
       "      <td>0.247028</td>\n",
       "      <td>0.249935</td>\n",
       "    </tr>\n",
       "    <tr>\n",
       "      <th>8</th>\n",
       "      <td>1.0</td>\n",
       "      <td>0.247513</td>\n",
       "      <td>0.248751</td>\n",
       "      <td>0.218739</td>\n",
       "      <td>0.283022</td>\n",
       "      <td>0.249513</td>\n",
       "      <td>0.250063</td>\n",
       "    </tr>\n",
       "    <tr>\n",
       "      <th>9</th>\n",
       "      <td>1.0</td>\n",
       "      <td>0.255829</td>\n",
       "      <td>0.262339</td>\n",
       "      <td>0.212563</td>\n",
       "      <td>0.265287</td>\n",
       "      <td>0.252374</td>\n",
       "      <td>0.250191</td>\n",
       "    </tr>\n",
       "    <tr>\n",
       "      <th>10</th>\n",
       "      <td>1.0</td>\n",
       "      <td>0.265123</td>\n",
       "      <td>0.277102</td>\n",
       "      <td>0.221150</td>\n",
       "      <td>0.259808</td>\n",
       "      <td>0.256011</td>\n",
       "      <td>0.250319</td>\n",
       "    </tr>\n",
       "    <tr>\n",
       "      <th>11</th>\n",
       "      <td>1.0</td>\n",
       "      <td>0.270993</td>\n",
       "      <td>0.278214</td>\n",
       "      <td>0.352589</td>\n",
       "      <td>0.244859</td>\n",
       "      <td>0.259210</td>\n",
       "      <td>0.250447</td>\n",
       "    </tr>\n",
       "    <tr>\n",
       "      <th>12</th>\n",
       "      <td>1.0</td>\n",
       "      <td>0.275395</td>\n",
       "      <td>0.302094</td>\n",
       "      <td>0.287208</td>\n",
       "      <td>0.236966</td>\n",
       "      <td>0.262220</td>\n",
       "      <td>0.250575</td>\n",
       "    </tr>\n",
       "    <tr>\n",
       "      <th>13</th>\n",
       "      <td>1.0</td>\n",
       "      <td>0.279309</td>\n",
       "      <td>0.314547</td>\n",
       "      <td>0.296096</td>\n",
       "      <td>0.233437</td>\n",
       "      <td>0.266475</td>\n",
       "      <td>0.250703</td>\n",
       "    </tr>\n",
       "    <tr>\n",
       "      <th>14</th>\n",
       "      <td>1.0</td>\n",
       "      <td>0.282977</td>\n",
       "      <td>0.324292</td>\n",
       "      <td>0.362004</td>\n",
       "      <td>0.238823</td>\n",
       "      <td>0.271755</td>\n",
       "      <td>0.250831</td>\n",
       "    </tr>\n",
       "    <tr>\n",
       "      <th>15</th>\n",
       "      <td>1.0</td>\n",
       "      <td>0.285912</td>\n",
       "      <td>0.347274</td>\n",
       "      <td>0.301821</td>\n",
       "      <td>0.262501</td>\n",
       "      <td>0.276493</td>\n",
       "      <td>0.250959</td>\n",
       "    </tr>\n",
       "  </tbody>\n",
       "</table>\n",
       "</div>"
      ],
      "text/plain": [
       "    const   GNPDEFL       GNP     UNEMP     ARMED       POP      YEAR\n",
       "0     1.0  0.203000  0.146627  0.177462  0.147639  0.228725  0.249040\n",
       "1     1.0  0.216452  0.162359  0.175127  0.135197  0.230902  0.249168\n",
       "2     1.0  0.215718  0.161500  0.277341  0.150054  0.233327  0.249296\n",
       "3     1.0  0.218898  0.178113  0.252409  0.153211  0.235784  0.249424\n",
       "4     1.0  0.235284  0.205885  0.158104  0.287758  0.238220  0.249552\n",
       "5     1.0  0.239931  0.217165  0.145525  0.333721  0.240760  0.249680\n",
       "6     1.0  0.242133  0.228672  0.140855  0.329357  0.244637  0.249807\n",
       "7     1.0  0.244578  0.227249  0.269507  0.311064  0.247028  0.249935\n",
       "8     1.0  0.247513  0.248751  0.218739  0.283022  0.249513  0.250063\n",
       "9     1.0  0.255829  0.262339  0.212563  0.265287  0.252374  0.250191\n",
       "10    1.0  0.265123  0.277102  0.221150  0.259808  0.256011  0.250319\n",
       "11    1.0  0.270993  0.278214  0.352589  0.244859  0.259210  0.250447\n",
       "12    1.0  0.275395  0.302094  0.287208  0.236966  0.262220  0.250575\n",
       "13    1.0  0.279309  0.314547  0.296096  0.233437  0.266475  0.250703\n",
       "14    1.0  0.282977  0.324292  0.362004  0.238823  0.271755  0.250831\n",
       "15    1.0  0.285912  0.347274  0.301821  0.262501  0.276493  0.250959"
      ]
     },
     "execution_count": 49,
     "metadata": {},
     "output_type": "execute_result"
    }
   ],
   "source": [
    "X"
   ]
  },
  {
   "cell_type": "code",
   "execution_count": 50,
   "metadata": {},
   "outputs": [
    {
     "data": {
      "text/plain": [
       "const     -3.640776e+06\n",
       "GNPDEFL   -3.205182e+02\n",
       "GNP       -5.527071e+04\n",
       "UNEMP     -2.760501e+04\n",
       "ARMED     -1.149619e+04\n",
       "POP       -4.737801e+04\n",
       "YEAR       1.496327e+07\n",
       "dtype: float64"
      ]
     },
     "execution_count": 50,
     "metadata": {},
     "output_type": "execute_result"
    }
   ],
   "source": [
    "ols_results2.params"
   ]
  },
  {
   "cell_type": "code",
   "execution_count": 51,
   "metadata": {},
   "outputs": [
    {
     "data": {
      "text/plain": [
       "const     -3.482259e+06\n",
       "GNPDEFL    1.506187e+01\n",
       "GNP       -3.581918e-02\n",
       "UNEMP     -2.020230e+00\n",
       "ARMED     -1.033227e+00\n",
       "POP       -5.110411e-02\n",
       "YEAR       1.829151e+03\n",
       "dtype: float64"
      ]
     },
     "execution_count": 51,
     "metadata": {},
     "output_type": "execute_result"
    }
   ],
   "source": [
    "ols_results.params"
   ]
  },
  {
   "cell_type": "markdown",
   "metadata": {},
   "source": [
    "#### DFBETAS\n",
    "\n",
    "DFBETASを見る方法もある。これはそれぞれの回帰係数がどの程度変わるかを測定する標準的な方法である。 \n",
    "\n",
    "統計では、データセットから特定のデータを削除することによって計算結果が著しく変化する場合、そのデータを「影響力のある観測点」という。特に、回帰分析では、あるデータ点を除くことでパラメーター推定に大きな影響を与えるものを影響力のあるデータポイントという。\n",
    "\n",
    "一般に絶対値が$2/ \\sqrt(N)$よりも大きいと影響のある観測値とみなせる"
   ]
  },
  {
   "cell_type": "code",
   "execution_count": 53,
   "metadata": {},
   "outputs": [
    {
     "data": {
      "text/plain": [
       "0.5"
      ]
     },
     "execution_count": 53,
     "metadata": {},
     "output_type": "execute_result"
    }
   ],
   "source": [
    "2./len(X)**.5"
   ]
  },
  {
   "cell_type": "code",
   "execution_count": 54,
   "metadata": {},
   "outputs": [
    {
     "name": "stdout",
     "output_type": "stream",
     "text": [
      "    dfb_const  dfb_GNPDEFL       dfb_GNP     dfb_UNEMP     dfb_ARMED  \\\n",
      "0   -0.016406  -169.822675  1.673981e+06  54490.318088  51447.824036   \n",
      "1   -0.020608  -187.251727  1.829990e+06  54495.312977  52659.808664   \n",
      "2   -0.008382   -65.417834  1.587601e+06  52002.330476  49078.352378   \n",
      "3    0.018093   288.503914  1.155359e+06  56211.331922  60350.723082   \n",
      "4    1.871260  -171.109595  4.498197e+06  82532.785818  71034.429294   \n",
      "5   -0.321373  -104.123822  1.398891e+06  52559.760056  47486.527649   \n",
      "6    0.315945  -169.413317  2.364827e+06  59754.651394  50371.817827   \n",
      "7    0.015816   -69.343793  1.641243e+06  51849.056936  48628.749338   \n",
      "8   -0.004019   -86.903523  1.649443e+06  52023.265116  49114.178265   \n",
      "9   -1.018242  -201.315802  1.371257e+06  56432.027292  53997.742487   \n",
      "10   0.030947   -78.359439  1.658753e+06  52254.848135  49341.055289   \n",
      "11   0.005987  -100.926843  1.662425e+06  51744.606934  48968.560299   \n",
      "12  -0.135883   -32.093127  1.245487e+06  50203.467593  51148.376274   \n",
      "13   0.032736   -78.513866  1.648417e+06  52509.194459  50212.844641   \n",
      "14   0.305868   -16.833121  1.829996e+06  60975.868083  58263.878679   \n",
      "15  -0.538323   102.027105  1.344844e+06  54721.897640  49660.474568   \n",
      "\n",
      "          dfb_POP      dfb_YEAR  \n",
      "0   207954.113590 -31969.158503  \n",
      "1    25343.938291 -29760.155888  \n",
      "2   107465.770565 -29593.195253  \n",
      "3   456190.215133 -36213.129569  \n",
      "4  -389122.401699 -49905.782854  \n",
      "5   144354.586054 -28985.057609  \n",
      "6  -107413.074918 -32984.462465  \n",
      "7    92843.959345 -29724.975873  \n",
      "8    83931.635336 -29563.619222  \n",
      "9    18392.575057 -29203.217108  \n",
      "10   93617.648517 -29846.022426  \n",
      "11   95414.217290 -29690.904188  \n",
      "12  258559.048569 -29296.334617  \n",
      "13  104434.061226 -30025.564763  \n",
      "14  275103.677859 -36060.612522  \n",
      "15 -110176.960671 -28053.834556  \n"
     ]
    },
    {
     "name": "stderr",
     "output_type": "stream",
     "text": [
      "C:\\Users\\moriya\\Anaconda3\\lib\\site-packages\\statsmodels\\stats\\outliers_influence.py:695: RuntimeWarning: invalid value encountered in sqrt\n",
      "  return self.resid / sigma / np.sqrt(1 - hii)\n",
      "C:\\Users\\moriya\\Anaconda3\\lib\\site-packages\\scipy\\stats\\_distn_infrastructure.py:877: RuntimeWarning: invalid value encountered in greater\n",
      "  return (self.a < x) & (x < self.b)\n",
      "C:\\Users\\moriya\\Anaconda3\\lib\\site-packages\\scipy\\stats\\_distn_infrastructure.py:877: RuntimeWarning: invalid value encountered in less\n",
      "  return (self.a < x) & (x < self.b)\n",
      "C:\\Users\\moriya\\Anaconda3\\lib\\site-packages\\scipy\\stats\\_distn_infrastructure.py:1831: RuntimeWarning: invalid value encountered in less_equal\n",
      "  cond2 = cond0 & (x <= self.a)\n",
      "C:\\Users\\moriya\\Anaconda3\\lib\\site-packages\\statsmodels\\stats\\outliers_influence.py:729: RuntimeWarning: invalid value encountered in sqrt\n",
      "  dffits_ = self.resid_studentized_internal * np.sqrt(hii / (1 - hii))\n",
      "C:\\Users\\moriya\\Anaconda3\\lib\\site-packages\\statsmodels\\stats\\outliers_influence.py:758: RuntimeWarning: invalid value encountered in sqrt\n",
      "  dffits_ = self.resid_studentized_external * np.sqrt(hii / (1 - hii))\n"
     ]
    }
   ],
   "source": [
    "infl = ols_results.get_influence()\n",
    "print(infl.summary_frame().filter(regex=\"dfb\"))"
   ]
  },
  {
   "cell_type": "markdown",
   "metadata": {},
   "source": [
    "### AIC\n",
    "\n",
    "つぎにどのようにモデルを選択したらよいのか考えてみる。実験室で行う実験のように実験計画が緻密にできる場合と、社会科学のように何もかも未知の場合では選択の方法は全く違うはずだ。\n",
    "\n",
    "ここでは人工データを作っているので、真の値は分かっているし、その生成の仕方も分かっているので、真のモデルと複雑なモデルで試してみる。\n",
    "\n",
    "真のモデルは  \n",
    "$X=\\beta_0+\\beta_1 x$で  \n",
    "複雑なモデルは  \n",
    "$X=\\beta_0+\\beta_1 x + \\beta_2 x^2$  \n",
    "とする。  \n",
    "\n",
    "まずはノイズを正規分布で生成し、真のモデルと複雑なモデルでデータの当てはめを行う。\n"
   ]
  },
  {
   "cell_type": "code",
   "execution_count": 56,
   "metadata": {},
   "outputs": [],
   "source": [
    "def normal_ols(nsample=100):\n",
    "    x = np.linspace(0, 10, nsample)\n",
    "    beta = np.array([1, 0.1])\n",
    "    X = sm.add_constant(x)\n",
    "    y_true=np.dot(X, beta)\n",
    "    y = y_true + sig * np.random.normal(size=nsample)\n",
    "    model = sm.OLS(y, X)\n",
    "    res1 = model.fit()\n",
    "    \n",
    "    X1 = np.column_stack((x, x**2))\n",
    "    beta = np.array([1, 0.1, 10])\n",
    "    X1 = sm.add_constant(X1)\n",
    "    model = sm.OLS(y, X1)\n",
    "    res2 = model.fit()\n",
    "    return res1,res2"
   ]
  },
  {
   "cell_type": "markdown",
   "metadata": {},
   "source": [
    "真のモデルのAICと残差平方和をaに保存する。複雑なモデルの結果をbに保存する。"
   ]
  },
  {
   "cell_type": "code",
   "execution_count": 60,
   "metadata": {},
   "outputs": [
    {
     "data": {
      "image/png": "[encoded data removed]",
      "text/plain": [
       "<Figure size 432x288 with 1 Axes>"
      ]
     },
     "metadata": {
      "needs_background": "light"
     },
     "output_type": "display_data"
    }
   ],
   "source": [
    "a=[]\n",
    "b=[]\n",
    "nsample=100\n",
    "for i in range(1000):\n",
    "    res1,res2=normal_ols(nsample)\n",
    "    a.append([res1.aic,(res1.resid**2).sum()])\n",
    "    b.append([res2.aic,(res2.resid**2).sum()])\n",
    "a=pd.DataFrame(a)\n",
    "b=pd.DataFrame(b)\n",
    "plt.scatter(a.iloc[:,0],b.iloc[:,0])\n",
    "plt.xlabel('AIC original')\n",
    "plt.ylabel('AIC complex')\n",
    "plt.show()"
   ]
  },
  {
   "cell_type": "markdown",
   "metadata": {},
   "source": [
    "AICの散布図の結果だけでは微妙な違いが分からない。そこで残差平方和も比べてみる。ついでにその平均値も求めてみる。"
   ]
  },
  {
   "cell_type": "code",
   "execution_count": 64,
   "metadata": {},
   "outputs": [
    {
     "data": {
      "image/png": "[encoded data removed]",
      "text/plain": [
       "<Figure size 432x288 with 1 Axes>"
      ]
     },
     "metadata": {
      "needs_background": "light"
     },
     "output_type": "display_data"
    },
    {
     "name": "stdout",
     "output_type": "stream",
     "text": [
      "145.88304544252185 146.84444093076596 24.439749932704437 24.188326516523965\n"
     ]
    }
   ],
   "source": [
    "plt.scatter(a.iloc[:,1],b.iloc[:,1])\n",
    "plt.xlabel('sum res^2 original')\n",
    "plt.ylabel('sum res^2 complex')\n",
    "plt.show()\n",
    "print(a.iloc[:,0].mean(),b.iloc[:,0].mean(),a.iloc[:,1].mean(),b.iloc[:,1].mean())"
   ]
  },
  {
   "cell_type": "markdown",
   "metadata": {},
   "source": [
    "散布図の結果は同じようなものだ。\n",
    "\n",
    "AICの平均は\n",
    "\n",
    "```\n",
    "145.88304544252185 146.84444093076596\n",
    "```\n",
    "で、真のモデルの方が小さい。残差平方和の平均値は\n",
    "\n",
    "```\n",
    "24.439749932704437 24.188326516523965\n",
    "```\n",
    "複雑なモデルの方が小さい。ただし、この違いに大きな意味があるわけではない。1000回という実験(シミュレーション)では回数が少なすぎる。\n",
    "\n",
    "つぎにnsample=5と極端に小さくしてみる。"
   ]
  },
  {
   "cell_type": "code",
   "execution_count": 65,
   "metadata": {},
   "outputs": [
    {
     "data": {
      "image/png": "[encoded data removed]",
      "text/plain": [
       "<Figure size 432x288 with 1 Axes>"
      ]
     },
     "metadata": {
      "needs_background": "light"
     },
     "output_type": "display_data"
    }
   ],
   "source": [
    "a=[]\n",
    "b=[]\n",
    "nsample=5\n",
    "for i in range(1000):\n",
    "    res1,res2=normal_ols(nsample)\n",
    "    a.append([res1.aic,(res1.resid**2).sum()])\n",
    "    b.append([res2.aic,(res2.resid**2).sum()])\n",
    "a=pd.DataFrame(a)\n",
    "b=pd.DataFrame(b)\n",
    "plt.scatter(a.iloc[:,0],b.iloc[:,0])\n",
    "plt.xlabel('AIC original')\n",
    "plt.ylabel('AIC complex')\n",
    "plt.show()"
   ]
  },
  {
   "cell_type": "markdown",
   "metadata": {},
   "source": [
    "大分ひずんでいる。"
   ]
  },
  {
   "cell_type": "code",
   "execution_count": 66,
   "metadata": {},
   "outputs": [
    {
     "data": {
      "image/png": "[encoded data removed]",
      "text/plain": [
       "<Figure size 432x288 with 1 Axes>"
      ]
     },
     "metadata": {
      "needs_background": "light"
     },
     "output_type": "display_data"
    },
    {
     "name": "stdout",
     "output_type": "stream",
     "text": [
      "6.725413098854825 5.411760361202315 0.7227526628984559 0.47294448870165023\n"
     ]
    }
   ],
   "source": [
    "plt.scatter(a.iloc[:,1],b.iloc[:,1])\n",
    "plt.xlabel('sum res^2 original')\n",
    "plt.ylabel('sum res^2 complex')\n",
    "plt.show()\n",
    "print(a.iloc[:,0].mean(),b.iloc[:,0].mean(),a.iloc[:,1].mean(),b.iloc[:,1].mean())"
   ]
  },
  {
   "cell_type": "markdown",
   "metadata": {},
   "source": [
    "AICは複雑なモデルの方が小さく、残差平方和の平均も複雑なモデルの方が小さい。\n",
    "\n",
    "つぎに極端なノイズの影響をみたいので、コーシー分布を使う。コーシー分布には平均もないので、実際の状況に近いと考える。まず、正規分布とコーシー分を比べる。"
   ]
  },
  {
   "cell_type": "code",
   "execution_count": 67,
   "metadata": {},
   "outputs": [
    {
     "data": {
      "image/png": "[encoded data removed]",
      "text/plain": [
       "<Figure size 432x288 with 1 Axes>"
      ]
     },
     "metadata": {
      "needs_background": "light"
     },
     "output_type": "display_data"
    }
   ],
   "source": [
    "from scipy.stats import cauchy\n",
    "trial=100000\n",
    "m1=[]\n",
    "nsample=100\n",
    "for i in range(trial):\n",
    "    s = np.random.normal(0, 1, 100)\n",
    "    m1.append(np.mean(s))\n",
    "m2=[]\n",
    "for i in range(trial):\n",
    "    s=[]\n",
    "    i=1\n",
    "    while i<=100:\n",
    "        s0 = (cauchy.rvs(0,1,1))\n",
    "        if abs(s0)<10:\n",
    "            s.append(s0)\n",
    "            i+=1\n",
    "    m2.append(np.mean(s))\n",
    "bins=np.linspace(np.min(m2),np.max(m2),1000)\n",
    "plt.hist(m1,bins=bins,label='normal',alpha=0.5)\n",
    "plt.hist(m2,bins=bins,label='abs(cauchy) <10',alpha=0.5)\n",
    "plt.legend()\n",
    "plt.show()"
   ]
  },
  {
   "cell_type": "markdown",
   "metadata": {},
   "source": [
    "最初はnsample=100とする。"
   ]
  },
  {
   "cell_type": "code",
   "execution_count": 68,
   "metadata": {},
   "outputs": [],
   "source": [
    "def cauchy_ols(nsample=100):\n",
    "    x = np.linspace(0, 10, nsample)\n",
    "    beta = np.array([1, 0.1])\n",
    "    X = sm.add_constant(x)\n",
    "    y_true=np.dot(X, beta)\n",
    "    e=[]\n",
    "    i=1\n",
    "    while i<=nsample:\n",
    "        e0 = cauchy.rvs(loc=0,scale=1,size=1)\n",
    "        if abs(e0)<10:\n",
    "            e.append(e0[0])\n",
    "            i+=1\n",
    "    y = y_true + e\n",
    "    X1 = np.column_stack((x))\n",
    "    beta = np.array([1, 0.1])\n",
    "    X1 = sm.add_constant(X1)\n",
    "    model = sm.OLS(y, X)\n",
    "    res1 = model.fit()\n",
    "\n",
    "    X1 = np.column_stack((x, x**2))\n",
    "    beta = np.array([1, 0.1, 10])\n",
    "    X1 = sm.add_constant(X1)\n",
    "    model = sm.OLS(y, X1)\n",
    "    res2 = model.fit()\n",
    "    return res1,res2"
   ]
  },
  {
   "cell_type": "code",
   "execution_count": 69,
   "metadata": {},
   "outputs": [
    {
     "data": {
      "image/png": "[encoded data removed]",
      "text/plain": [
       "<Figure size 432x288 with 1 Axes>"
      ]
     },
     "metadata": {
      "needs_background": "light"
     },
     "output_type": "display_data"
    }
   ],
   "source": [
    "a=[]\n",
    "b=[]\n",
    "nsample=100\n",
    "for i in range(1000):\n",
    "    res1,res2=cauchy_ols(nsample)\n",
    "    a.append([res1.aic,(res1.resid**2).sum()])\n",
    "    b.append([res2.aic,(res2.resid**2).sum()])\n",
    "a=pd.DataFrame(a)\n",
    "b=pd.DataFrame(b)\n",
    "\n",
    "plt.scatter(a.iloc[:,0],b.iloc[:,0])\n",
    "plt.xlabel('AIC original')\n",
    "plt.ylabel('AIC complex')\n",
    "plt.show()"
   ]
  },
  {
   "cell_type": "markdown",
   "metadata": {},
   "source": [
    "AICそのものが大きく増えている。散布図ではよくわからないが複雑なモデルの方がAICは小さそうだ。"
   ]
  },
  {
   "cell_type": "code",
   "execution_count": 70,
   "metadata": {},
   "outputs": [
    {
     "data": {
      "image/png": "[encoded data removed]",
      "text/plain": [
       "<Figure size 432x288 with 1 Axes>"
      ]
     },
     "metadata": {
      "needs_background": "light"
     },
     "output_type": "display_data"
    },
    {
     "name": "stdout",
     "output_type": "stream",
     "text": [
      "457.8494056403965 458.774681876408 563.7204214141354 557.764029367077\n"
     ]
    }
   ],
   "source": [
    "plt.scatter(a.iloc[:,1],b.iloc[:,1])\n",
    "plt.xlabel('sum res^2 original')\n",
    "plt.ylabel('sum res^2 complex')\n",
    "plt.show()\n",
    "print(a.iloc[:,0].mean(),b.iloc[:,0].mean(),a.iloc[:,1].mean(),b.iloc[:,1].mean())"
   ]
  },
  {
   "cell_type": "markdown",
   "metadata": {},
   "source": [
    "結果は解釈に難しくなった。\n",
    "\n",
    "真のモデルのAICが小さく、残差平方和の平均は複雑なモデルの方が小さい。\n",
    "\n",
    "つぎにnsample=5にしてみよう。"
   ]
  },
  {
   "cell_type": "code",
   "execution_count": 71,
   "metadata": {},
   "outputs": [
    {
     "data": {
      "image/png": "[encoded data removed]",
      "text/plain": [
       "<Figure size 432x288 with 1 Axes>"
      ]
     },
     "metadata": {
      "needs_background": "light"
     },
     "output_type": "display_data"
    }
   ],
   "source": [
    "a=[]\n",
    "b=[]\n",
    "nsample=5\n",
    "for i in range(1000):\n",
    "    res1,res2=cauchy_ols(nsample)\n",
    "    a.append([res1.aic,(res1.resid**2).sum()])\n",
    "    b.append([res2.aic,(res2.resid**2).sum()])\n",
    "a=pd.DataFrame(a)\n",
    "b=pd.DataFrame(b)\n",
    "\n",
    "plt.scatter(a.iloc[:,0],b.iloc[:,0])\n",
    "plt.xlabel('AIC original')\n",
    "plt.ylabel('AIC complex')\n",
    "plt.show()"
   ]
  },
  {
   "cell_type": "markdown",
   "metadata": {},
   "source": [
    "こちらは複雑な方がAICは小さそうだ。"
   ]
  },
  {
   "cell_type": "code",
   "execution_count": 72,
   "metadata": {},
   "outputs": [
    {
     "data": {
      "image/png": "[encoded data removed]",
      "text/plain": [
       "<Figure size 432x288 with 1 Axes>"
      ]
     },
     "metadata": {
      "needs_background": "light"
     },
     "output_type": "display_data"
    },
    {
     "name": "stdout",
     "output_type": "stream",
     "text": [
      "21.215569035290244 20.19236131483067 17.962506293922793 11.894966225938239\n"
     ]
    }
   ],
   "source": [
    "plt.scatter(a.iloc[:,1],b.iloc[:,1])\n",
    "plt.xlabel('sum res^2 original')\n",
    "plt.ylabel('sum res^2 complex')\n",
    "plt.show()\n",
    "print(a.iloc[:,0].mean(),b.iloc[:,0].mean(),a.iloc[:,1].mean(),b.iloc[:,1].mean())"
   ]
  },
  {
   "cell_type": "markdown",
   "metadata": {},
   "source": [
    "AICも残差も複雑な方が小さい。\n",
    "\n",
    "これがモデル選択のシミュレーションの結果だ。つまり、自分の置かれた状況で、自分で判断するしかないということだ。"
   ]
  },
  {
   "cell_type": "markdown",
   "metadata": {},
   "source": [
    "## 例１． [Spector and Mazzeo (1980)](https://www.statsmodels.org/stable/datasets/generated/spector.html) - 個人向け教育プログラム(PSI)の効果\n",
    "\n",
    "個人向け教育プログラムによる効果の実データ\n",
    "\n",
    "データの詳細：32行、4列\n",
    "\n",
    "|変数名|説明|\n",
    "|:-:|:-:|\n",
    "|Grade | 生徒の評価点(GPA)が改善したかどうかの2値データ。１が改善。|\n",
    "|TUCE| 経済のテストの評価点\n",
    "|GPA| 生徒の評価点(GPA)の平均\n",
    "|PSI|プログラムへの参加の可否"
   ]
  },
  {
   "cell_type": "code",
   "execution_count": 73,
   "metadata": {},
   "outputs": [
    {
     "data": {
      "text/plain": [
       "(array([0., 0., 0., 0., 1.]), array([[ 2.66, 20.  ,  0.  ],\n",
       "        [ 2.89, 22.  ,  0.  ],\n",
       "        [ 3.28, 24.  ,  0.  ],\n",
       "        [ 2.92, 12.  ,  0.  ],\n",
       "        [ 4.  , 21.  ,  0.  ]]))"
      ]
     },
     "execution_count": 73,
     "metadata": {},
     "output_type": "execute_result"
    }
   ],
   "source": [
    "# Load modules and data\n",
    "spector_data = sm.datasets.spector.load(as_pandas=False)\n",
    "spector_data.endog[:5],spector_data.exog[:5]"
   ]
  },
  {
   "cell_type": "markdown",
   "metadata": {},
   "source": [
    "data.endog: Grade\n",
    "data.exdog: TUCE, GPA, PSI\n",
    "\n",
    "まずはstatsmodelsのリファレンスのサンプルを動かす。"
   ]
  },
  {
   "cell_type": "code",
   "execution_count": 75,
   "metadata": {},
   "outputs": [
    {
     "name": "stdout",
     "output_type": "stream",
     "text": [
      "                            OLS Regression Results                            \n",
      "==============================================================================\n",
      "Dep. Variable:                      y   R-squared:                       0.416\n",
      "Model:                            OLS   Adj. R-squared:                  0.353\n",
      "Method:                 Least Squares   F-statistic:                     6.646\n",
      "Date:                Tue, 11 Aug 2020   Prob (F-statistic):            0.00157\n",
      "Time:                        14:24:05   Log-Likelihood:                -12.978\n",
      "No. Observations:                  32   AIC:                             33.96\n",
      "Df Residuals:                      28   BIC:                             39.82\n",
      "Df Model:                           3                                         \n",
      "Covariance Type:            nonrobust                                         \n",
      "==============================================================================\n",
      "                 coef    std err          t      P>|t|      [0.025      0.975]\n",
      "------------------------------------------------------------------------------\n",
      "x1             0.4639      0.162      2.864      0.008       0.132       0.796\n",
      "x2             0.0105      0.019      0.539      0.594      -0.029       0.050\n",
      "x3             0.3786      0.139      2.720      0.011       0.093       0.664\n",
      "const         -1.4980      0.524     -2.859      0.008      -2.571      -0.425\n",
      "==============================================================================\n",
      "Omnibus:                        0.176   Durbin-Watson:                   2.346\n",
      "Prob(Omnibus):                  0.916   Jarque-Bera (JB):                0.167\n",
      "Skew:                           0.141   Prob(JB):                        0.920\n",
      "Kurtosis:                       2.786   Cond. No.                         176.\n",
      "==============================================================================\n",
      "\n",
      "Warnings:\n",
      "[1] Standard Errors assume that the covariance matrix of the errors is correctly specified.\n"
     ]
    }
   ],
   "source": [
    "X = sm.add_constant(spector_data.exog, prepend=False)\n",
    "# Fit and summarize OLS model\n",
    "mod = sm.OLS(spector_data.endog, X)\n",
    "res = mod.fit()\n",
    "print(res.summary())"
   ]
  },
  {
   "cell_type": "markdown",
   "metadata": {},
   "source": [
    "条件数が多いので、$p$値の高い評価点(GPA)を除く。"
   ]
  },
  {
   "cell_type": "code",
   "execution_count": 77,
   "metadata": {},
   "outputs": [
    {
     "name": "stdout",
     "output_type": "stream",
     "text": [
      "                            OLS Regression Results                            \n",
      "==============================================================================\n",
      "Dep. Variable:                      y   R-squared:                       0.410\n",
      "Model:                            OLS   Adj. R-squared:                  0.369\n",
      "Method:                 Least Squares   F-statistic:                     10.07\n",
      "Date:                Tue, 11 Aug 2020   Prob (F-statistic):           0.000478\n",
      "Time:                        14:34:13   Log-Likelihood:                -13.143\n",
      "No. Observations:                  32   AIC:                             32.29\n",
      "Df Residuals:                      29   BIC:                             36.68\n",
      "Df Model:                           2                                         \n",
      "Covariance Type:            nonrobust                                         \n",
      "==============================================================================\n",
      "                 coef    std err          t      P>|t|      [0.025      0.975]\n",
      "------------------------------------------------------------------------------\n",
      "x1             0.4975      0.148      3.370      0.002       0.196       0.799\n",
      "x2             0.3865      0.137      2.827      0.008       0.107       0.666\n",
      "const         -1.3760      0.467     -2.949      0.006      -2.330      -0.422\n",
      "==============================================================================\n",
      "Omnibus:                        0.354   Durbin-Watson:                   2.313\n",
      "Prob(Omnibus):                  0.838   Jarque-Bera (JB):                0.303\n",
      "Skew:                           0.213   Prob(JB):                        0.859\n",
      "Kurtosis:                       2.785   Cond. No.                         24.0\n",
      "==============================================================================\n",
      "\n",
      "Warnings:\n",
      "[1] Standard Errors assume that the covariance matrix of the errors is correctly specified.\n"
     ]
    }
   ],
   "source": [
    "X=spector_data.exog[:,::2]\n",
    "X = sm.add_constant(X, prepend=False)\n",
    "y=spector_data.endog\n",
    "mod = sm.OLS(y, X)\n",
    "res = mod.fit()\n",
    "print(res.summary())"
   ]
  },
  {
   "cell_type": "markdown",
   "metadata": {},
   "source": [
    "結果が落ち着いてきた。今度は経済の評価点を除く。"
   ]
  },
  {
   "cell_type": "code",
   "execution_count": 78,
   "metadata": {},
   "outputs": [
    {
     "name": "stdout",
     "output_type": "stream",
     "text": [
      "                            OLS Regression Results                            \n",
      "==============================================================================\n",
      "Dep. Variable:                      y   R-squared:                       0.179\n",
      "Model:                            OLS   Adj. R-squared:                  0.151\n",
      "Method:                 Least Squares   F-statistic:                     6.529\n",
      "Date:                Tue, 11 Aug 2020   Prob (F-statistic):             0.0159\n",
      "Time:                        14:34:42   Log-Likelihood:                -18.431\n",
      "No. Observations:                  32   AIC:                             40.86\n",
      "Df Residuals:                      30   BIC:                             43.79\n",
      "Df Model:                           1                                         \n",
      "Covariance Type:            nonrobust                                         \n",
      "==============================================================================\n",
      "                 coef    std err          t      P>|t|      [0.025      0.975]\n",
      "------------------------------------------------------------------------------\n",
      "x1             0.4048      0.158      2.555      0.016       0.081       0.728\n",
      "const          0.1667      0.105      1.591      0.122      -0.047       0.381\n",
      "==============================================================================\n",
      "Omnibus:                        2.801   Durbin-Watson:                   2.558\n",
      "Prob(Omnibus):                  0.247   Jarque-Bera (JB):                2.084\n",
      "Skew:                           0.461   Prob(JB):                        0.353\n",
      "Kurtosis:                       2.156   Cond. No.                         2.50\n",
      "==============================================================================\n",
      "\n",
      "Warnings:\n",
      "[1] Standard Errors assume that the covariance matrix of the errors is correctly specified.\n"
     ]
    }
   ],
   "source": [
    "X = sm.add_constant(spector_data.exog[:,2], prepend=False)\n",
    "mod = sm.OLS(y, X)\n",
    "res = mod.fit()\n",
    "print(res.summary())"
   ]
  },
  {
   "cell_type": "markdown",
   "metadata": {},
   "source": [
    "切片は要らないかもしれない。"
   ]
  },
  {
   "cell_type": "code",
   "execution_count": 79,
   "metadata": {},
   "outputs": [
    {
     "name": "stdout",
     "output_type": "stream",
     "text": [
      "                                 OLS Regression Results                                \n",
      "=======================================================================================\n",
      "Dep. Variable:                      y   R-squared (uncentered):                   0.416\n",
      "Model:                            OLS   Adj. R-squared (uncentered):              0.397\n",
      "Method:                 Least Squares   F-statistic:                              22.04\n",
      "Date:                Tue, 11 Aug 2020   Prob (F-statistic):                    5.14e-05\n",
      "Time:                        14:35:15   Log-Likelihood:                         -19.726\n",
      "No. Observations:                  32   AIC:                                      41.45\n",
      "Df Residuals:                      31   BIC:                                      42.92\n",
      "Df Model:                           1                                                  \n",
      "Covariance Type:            nonrobust                                                  \n",
      "==============================================================================\n",
      "                 coef    std err          t      P>|t|      [0.025      0.975]\n",
      "------------------------------------------------------------------------------\n",
      "x1             0.5714      0.122      4.695      0.000       0.323       0.820\n",
      "==============================================================================\n",
      "Omnibus:                        0.592   Durbin-Watson:                   2.384\n",
      "Prob(Omnibus):                  0.744   Jarque-Bera (JB):                0.475\n",
      "Skew:                           0.280   Prob(JB):                        0.789\n",
      "Kurtosis:                       2.794   Cond. No.                         1.00\n",
      "==============================================================================\n",
      "\n",
      "Warnings:\n",
      "[1] Standard Errors assume that the covariance matrix of the errors is correctly specified.\n"
     ]
    }
   ],
   "source": [
    "X = spector_data.exog[:,2]\n",
    "mod = sm.OLS(y, X)\n",
    "res = mod.fit()\n",
    "print(res.summary())"
   ]
  },
  {
   "cell_type": "markdown",
   "metadata": {},
   "source": [
    "結果は大分すっきりした。プログラムに参加すると成績は上がりそうだ。実際にデータで見てみよう。"
   ]
  },
  {
   "cell_type": "code",
   "execution_count": 80,
   "metadata": {},
   "outputs": [
    {
     "data": {
      "text/plain": [
       "(3.0, 8.0)"
      ]
     },
     "execution_count": 80,
     "metadata": {},
     "output_type": "execute_result"
    }
   ],
   "source": [
    "spector_data.endog[spector_data.exog[:,2]==0].sum(),spector_data.endog[spector_data.exog[:,2]==1].sum()"
   ]
  },
  {
   "cell_type": "markdown",
   "metadata": {},
   "source": [
    "プログラムに参加しなくて成績が改善した人が3人、参加した人で改善した人が8人であった。プログラムに参加した人の数は"
   ]
  },
  {
   "cell_type": "code",
   "execution_count": 81,
   "metadata": {},
   "outputs": [
    {
     "data": {
      "text/plain": [
       "14.0"
      ]
     },
     "execution_count": 81,
     "metadata": {},
     "output_type": "execute_result"
    }
   ],
   "source": [
    "spector_data.exog[spector_data.exog[:,2]==1][:,2].sum()"
   ]
  },
  {
   "cell_type": "markdown",
   "metadata": {},
   "source": [
    "14人であるので、成績が改善する確率は5割を超える。\n",
    "\n",
    "Gradeは改善、非改善を1,0の2値で表している。こちらはダミー変数とは言わないが、PSIはプログラムの参加、不参加を1,0の2値で表しているので、これはダミー変数と見ることができる。結果をグラフにしてみよう。"
   ]
  },
  {
   "cell_type": "code",
   "execution_count": 83,
   "metadata": {},
   "outputs": [
    {
     "data": {
      "text/plain": [
       "<matplotlib.legend.Legend at 0x1bcbfe18898>"
      ]
     },
     "execution_count": 83,
     "metadata": {},
     "output_type": "execute_result"
    },
    {
     "data": {
      "image/png": "[encoded data removed]",
      "text/plain": [
       "<Figure size 432x288 with 1 Axes>"
      ]
     },
     "metadata": {
      "needs_background": "light"
     },
     "output_type": "display_data"
    }
   ],
   "source": [
    "X=spector_data.exog[:,2]\n",
    "#X = sm.add_constant(X, prepend=False)\n",
    "y=spector_data.endog\n",
    "mod = sm.OLS(y, X)\n",
    "res = mod.fit()\n",
    "plt.plot(X,label='PSI')\n",
    "plt.plot(y,label='Grade')\n",
    "plt.plot(res.fittedvalues,label='fitted')\n",
    "plt.legend()"
   ]
  },
  {
   "cell_type": "code",
   "execution_count": null,
   "metadata": {},
   "outputs": [],
   "source": []
  }
 ],
 "metadata": {
  "kernelspec": {
   "display_name": "Python 3",
   "language": "python",
   "name": "python3"
  },
  "language_info": {
   "codemirror_mode": {
    "name": "ipython",
    "version": 3
   },
   "file_extension": ".py",
   "mimetype": "text/x-python",
   "name": "python",
   "nbconvert_exporter": "python",
   "pygments_lexer": "ipython3",
   "version": "3.7.3"
  }
 },
 "nbformat": 4,
 "nbformat_minor": 2
}
