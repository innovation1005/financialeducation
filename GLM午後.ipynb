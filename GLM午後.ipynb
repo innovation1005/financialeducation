{
 "cells": [
  {
   "cell_type": "markdown",
   "metadata": {},
   "source": [
    "# 離散選択問題入門(Python編)\n",
    "\n",
    "## 金融財務研究会　\n",
    "\n",
    "## 2021/5/24(月)午後\n",
    "\n",
    "## 講師：森谷博之　Quasars22 Private Limited\n",
    "\n",
    "\n",
    "### 内容\n",
    "\n",
    "- 一部\n",
    "    - 確率分布と最尤推定\n",
    "        - ポアソン分布\n",
    "        - 尤度\n",
    "        - 疑似乱数と区間推定\n",
    "        - 模型(モデル)\n",
    "    - 一般化線形モデル\n",
    "        - 線形予測子\n",
    "        - リンク関数\n",
    "    - 一般化線形モデルのモデル選択\n",
    "        - 逸脱度\n",
    "        - AIC\n",
    "    - 一般化線形モデルの尤度比検定\n",
    "    - 一般化線形モデルの適応範囲\n",
    "        - 離散確率分布\n",
    "            - ポアソン分布\n",
    "            - 二項分布\n",
    "            - 負の二項分布\n",
    "        - 連続確率分布\n",
    "            - 正規分布\n",
    "            - ガンマ分布\n",
    "    - \n",
    "\n",
    "- 二部\n",
    "    - カリフォルニア教育問題：二項分布\n",
    "    - スコットランドの選挙問題：ガンマ分布\n",
    "    - ポルトガル産ワインデータ\n",
    "    - \n",
    "    \n",
    "\n",
    "\n",
    "### 参考文献：\n",
    "- データ解析のために統計モデリング入門\n",
    "\n",
    "- 離散選択問題オーバービュー(statsmodelsサンプルリファレンス)\n",
    "- Generalized Linear Models AUnified Approach second edition Jeff Gill and Michelle Torres\n",
    "- \n",
    "- \n",
    "- \n",
    "- \n",
    "\n"
   ]
  },
  {
   "cell_type": "markdown",
   "metadata": {},
   "source": [
    "# 確率分布と最尤推定\n",
    "\n",
    "ポアソン分布は計数データを扱うために用いられます。\n",
    "\n",
    "$p(y|\\lambda)=\\frac{\\lambda^y \\exp(-\\lambda)}{y!}$\n",
    "\n",
    "$\\lambda$は平均を表します。\n",
    "\n",
    "- 確率の和は１になる。\n",
    "$\\sum_{y=0}^{\\infty} p(y|\\lambda)=1$\n",
    "\n",
    "- 確率分布の平均は$\\lambda$である。\n",
    "\n",
    "- 分散と平均はともに$\\lambda$である。\n",
    "\n",
    "#### 例\n",
    "\n",
    "- 電気通信においてシステムに到着する電話の回数\n",
    "- 天文学における望遠鏡に到達する光子の数\n",
    "- 光学における単一のレーザーパルスで放出される光子の数\n",
    "- 地震学では、大地震のリスクは漸近ポアソンモデルにしたがう\n",
    "- 放射性サンプルの特定の時間間隔での崩壊の数"
   ]
  },
  {
   "cell_type": "code",
   "execution_count": 77,
   "metadata": {},
   "outputs": [],
   "source": [
    "%matplotlib inline\n",
    "import matplotlib.pyplot as plt\n",
    "import numpy as np\n",
    "import pandas as pd\n",
    "from scipy import stats\n",
    "import statsmodels.api as sm\n",
    "from statsmodels.graphics.api import abline_plot"
   ]
  },
  {
   "cell_type": "code",
   "execution_count": 78,
   "metadata": {},
   "outputs": [
    {
     "data": {
      "image/png": "[encoded data removed]",
      "text/plain": [
       "<Figure size 432x288 with 1 Axes>"
      ]
     },
     "metadata": {
      "needs_background": "light"
     },
     "output_type": "display_data"
    }
   ],
   "source": [
    "# 異なる平均をもつポアソン分布の形状\n",
    "x = np.arange(0,20)\n",
    "plt.plot(x, stats.poisson.pmf(x, 3.5))\n",
    "plt.plot(x, stats.poisson.pmf(x, 7.7))\n",
    "plt.plot(x, stats.poisson.pmf(x, 15.1))\n",
    "plt.show()"
   ]
  },
  {
   "cell_type": "markdown",
   "metadata": {},
   "source": [
    "#### 例題：架空データ５０個の分析\n",
    "\n",
    "各データの取得と性質の把握"
   ]
  },
  {
   "cell_type": "code",
   "execution_count": 79,
   "metadata": {},
   "outputs": [
    {
     "name": "stderr",
     "output_type": "stream",
     "text": [
      "C:\\Users\\moriya\\anaconda3\\lib\\site-packages\\rdata\\conversion\\_conversion.py:267: UserWarning: Unknown encoding. Assumed ASCII.\n",
      "  warnings.warn(f\"Unknown encoding. Assumed ASCII.\")\n"
     ]
    }
   ],
   "source": [
    "# データの取得\n",
    "import rdata\n",
    "parsed = rdata.parser.parse_file('data.rdata')\n",
    "data1 = rdata.conversion.convert(parsed)"
   ]
  },
  {
   "cell_type": "code",
   "execution_count": 80,
   "metadata": {},
   "outputs": [
    {
     "data": {
      "text/plain": [
       "{'data': array([2., 2., 4., 6., 4., 5., 2., 3., 1., 2., 0., 4., 3., 3., 3., 3., 4.,\n",
       "        2., 7., 2., 4., 3., 3., 3., 4., 3., 7., 5., 3., 1., 7., 6., 4., 6.,\n",
       "        5., 2., 4., 7., 2., 2., 6., 2., 4., 5., 4., 5., 1., 3., 2., 3.])}"
      ]
     },
     "execution_count": 80,
     "metadata": {},
     "output_type": "execute_result"
    }
   ],
   "source": [
    "# data1の内容の確認\n",
    "data1"
   ]
  },
  {
   "cell_type": "code",
   "execution_count": 81,
   "metadata": {},
   "outputs": [
    {
     "data": {
      "text/plain": [
       "1"
      ]
     },
     "execution_count": 81,
     "metadata": {},
     "output_type": "execute_result"
    }
   ],
   "source": [
    "# data1の要素の個数の把握\n",
    "len(data1)"
   ]
  },
  {
   "cell_type": "code",
   "execution_count": 82,
   "metadata": {},
   "outputs": [
    {
     "data": {
      "text/html": [
       "<div>\n",
       "<style scoped>\n",
       "    .dataframe tbody tr th:only-of-type {\n",
       "        vertical-align: middle;\n",
       "    }\n",
       "\n",
       "    .dataframe tbody tr th {\n",
       "        vertical-align: top;\n",
       "    }\n",
       "\n",
       "    .dataframe thead th {\n",
       "        text-align: right;\n",
       "    }\n",
       "</style>\n",
       "<table border=\"1\" class=\"dataframe\">\n",
       "  <thead>\n",
       "    <tr style=\"text-align: right;\">\n",
       "      <th></th>\n",
       "      <th>0</th>\n",
       "    </tr>\n",
       "  </thead>\n",
       "  <tbody>\n",
       "    <tr>\n",
       "      <th>count</th>\n",
       "      <td>50.00000</td>\n",
       "    </tr>\n",
       "    <tr>\n",
       "      <th>mean</th>\n",
       "      <td>3.56000</td>\n",
       "    </tr>\n",
       "    <tr>\n",
       "      <th>std</th>\n",
       "      <td>1.72804</td>\n",
       "    </tr>\n",
       "    <tr>\n",
       "      <th>min</th>\n",
       "      <td>0.00000</td>\n",
       "    </tr>\n",
       "    <tr>\n",
       "      <th>25%</th>\n",
       "      <td>2.00000</td>\n",
       "    </tr>\n",
       "    <tr>\n",
       "      <th>50%</th>\n",
       "      <td>3.00000</td>\n",
       "    </tr>\n",
       "    <tr>\n",
       "      <th>75%</th>\n",
       "      <td>4.75000</td>\n",
       "    </tr>\n",
       "    <tr>\n",
       "      <th>max</th>\n",
       "      <td>7.00000</td>\n",
       "    </tr>\n",
       "  </tbody>\n",
       "</table>\n",
       "</div>"
      ],
      "text/plain": [
       "              0\n",
       "count  50.00000\n",
       "mean    3.56000\n",
       "std     1.72804\n",
       "min     0.00000\n",
       "25%     2.00000\n",
       "50%     3.00000\n",
       "75%     4.75000\n",
       "max     7.00000"
      ]
     },
     "execution_count": 82,
     "metadata": {},
     "output_type": "execute_result"
    }
   ],
   "source": [
    "# リストをデータフレームに変換\n",
    "data1=pd.DataFrame(data1['data'].tolist())\n",
    "data1.describe()"
   ]
  },
  {
   "cell_type": "code",
   "execution_count": 83,
   "metadata": {},
   "outputs": [
    {
     "data": {
      "text/plain": [
       "array([[<AxesSubplot:title={'center':'0'}>]], dtype=object)"
      ]
     },
     "execution_count": 83,
     "metadata": {},
     "output_type": "execute_result"
    },
    {
     "data": {
      "image/png": "[encoded data removed]",
      "text/plain": [
       "<Figure size 432x288 with 1 Axes>"
      ]
     },
     "metadata": {
      "needs_background": "light"
     },
     "output_type": "display_data"
    }
   ],
   "source": [
    "# data1の散布図の作成\n",
    "data1.hist(bins=[0,1,2,3,4,5,6,7,8])"
   ]
  },
  {
   "cell_type": "code",
   "execution_count": 84,
   "metadata": {},
   "outputs": [
    {
     "data": {
      "text/plain": [
       "0    3.56\n",
       "dtype: float64"
      ]
     },
     "execution_count": 84,
     "metadata": {},
     "output_type": "execute_result"
    }
   ],
   "source": [
    "# 平均の取得\n",
    "mu=data1.mean()\n",
    "mu"
   ]
  },
  {
   "cell_type": "code",
   "execution_count": 85,
   "metadata": {},
   "outputs": [
    {
     "data": {
      "text/plain": [
       "3.0    12\n",
       "2.0    11\n",
       "4.0    10\n",
       "5.0     5\n",
       "7.0     4\n",
       "6.0     4\n",
       "1.0     3\n",
       "0.0     1\n",
       "dtype: int64"
      ]
     },
     "execution_count": 85,
     "metadata": {},
     "output_type": "execute_result"
    }
   ],
   "source": [
    "# 頻度の取得\n",
    "data1.value_counts()"
   ]
  },
  {
   "cell_type": "code",
   "execution_count": 86,
   "metadata": {},
   "outputs": [
    {
     "data": {
      "text/plain": [
       "(0    2.986122\n",
       " dtype: float64,\n",
       " 0    1.72804\n",
       " dtype: float64)"
      ]
     },
     "execution_count": 86,
     "metadata": {},
     "output_type": "execute_result"
    }
   ],
   "source": [
    "# 分散と標準偏差の取得\n",
    "data1.var(),data1.std()"
   ]
  },
  {
   "cell_type": "code",
   "execution_count": 87,
   "metadata": {},
   "outputs": [
    {
     "data": {
      "image/png": "[encoded data removed]",
      "text/plain": [
       "<Figure size 432x288 with 1 Axes>"
      ]
     },
     "metadata": {
      "needs_background": "light"
     },
     "output_type": "display_data"
    }
   ],
   "source": [
    "from scipy.stats import poisson\n",
    "x=np.arange(0,9)\n",
    "# 架空データのヒストグラムとポアソン分布のあてはめ\n",
    "data1.hist(bins=[0,1,2,3,4,5,6,7,8])\n",
    "plt.plot(x, poisson.pmf(x, mu)*50)\n",
    "plt.plot(x, poisson.pmf(x, mu+1)*50)\n",
    "plt.plot(x+0.5, poisson.pmf(x, mu-1)*50)\n",
    "plt.show()"
   ]
  },
  {
   "cell_type": "markdown",
   "metadata": {},
   "source": [
    "### 尤度\n",
    "\n",
    "尤度：当てはまりの良さを示す指標\n",
    "\n",
    "尤度は\n",
    "\n",
    "$L(\\theta|Y)=\\Pi p(y_i|\\theta)$\n",
    "\n",
    "対数尤度は\n",
    "\n",
    "$\\log L(\\theta|Y)=\\sum_i \\log p(y_i|\\theta)$\n",
    "\n",
    "尤度は全ての観測値$y_1$の確率の積です。\n",
    "\n",
    "$L(\\lambda)=p(y_1|\\lambda)\\cdot p(y_2|\\lambda)\\cdots p(y_n|\\lambda)=\\Pi_{i}p(y_i|\\lambda)$\n",
    "\n",
    "ポアソン分布では\n",
    "\n",
    "$L(\\lambda)=\\Pi_i \\frac{\\lambda^y_i \\exp(-\\lambda)}{y_i!}$\n",
    "\n",
    "$L(\\lambda)$では扱いにくいので対数を取ります。\n",
    "\n",
    "$\\log L(\\lambda)=\\sum_i(y_i \\log \\lambda^\\lambda-\\sum_k^{y_i} \\log k)$\n",
    "\n",
    "対数尤度を最大にする$\\lambda$を$\\hat{\\lambda}$とします。\n",
    "\n",
    "$\\frac{\\partial \\log L(\\lambda)}{\\partial \\lambda}=\\sum_i \\left\\{ \\frac{y_i}{\\lambda}-1 \\right\\}= \\frac{1}{\\lambda}\\sum_i y_i - N$\n",
    "\n",
    "ゆえに$\\hat{\\lambda}$はデータの標本平均になります。\n",
    "\n",
    "- data1の異なる確率分布によるあてはめと対数尤度\n",
    "    - ポアソン分布\n",
    "    - 正規分布\n",
    "    - ガンマ分布\n",
    "    - 対数正規分布\n",
    "    - ワイブル分布\n",
    "    "
   ]
  },
  {
   "cell_type": "code",
   "execution_count": 88,
   "metadata": {},
   "outputs": [
    {
     "name": "stdout",
     "output_type": "stream",
     "text": [
      "ポアソン -97.24400294080665\n",
      "正規分布 -97.79125162659524\n",
      "ガンマ分布 -97.17277595556963\n",
      "対数正規分布 -98.9777768860124\n",
      "ワイブル分布 -171.96331773228113\n"
     ]
    }
   ],
   "source": [
    "logL_poi = np.sum(stats.poisson.logpmf(data1, mu=mu))\n",
    "\n",
    "params_n = stats.norm.fit(data1)\n",
    "logL_n = np.sum( stats.norm.logpdf(data1, loc=params_n[0], scale=params_n[1]) )\n",
    "\n",
    "# data1には０が含まれているので、１ずらしていることに注意\n",
    "params_g = stats.gamma.fit(data1+1,floc=0)\n",
    "logL_g = np.sum( stats.gamma.logpdf(data1+1, params_g[0], loc=params_g[1], scale=params_g[2]) )\n",
    "\n",
    "# data1には０が含まれているので、１ずらしていることに注意\n",
    "params_logn = stats.lognorm.fit(data1+1,floc=0)\n",
    "logL_logn = np.sum( stats.lognorm.logpdf(data1+1, params_logn[0], loc=params_logn[1], scale=params_logn[2]) )\n",
    "\n",
    "params_w = stats.weibull_min.fit(data1.values,floc=0)\n",
    "logL_w = np.sum( stats.weibull_min.logpdf(data1.values, params_w[0], loc=params_w[1], scale=params_w[2]) )\n",
    "\n",
    "print('ポアソン',logL_poi)\n",
    "print('正規分布', logL_n)\n",
    "print('ガンマ分布',logL_g)\n",
    "print('対数正規分布',logL_logn)\n",
    "print('ワイブル分布',logL_w)"
   ]
  },
  {
   "cell_type": "markdown",
   "metadata": {},
   "source": [
    "### 疑似乱数\n",
    "\n",
    "標準誤差を見積もる方法としてコンピュータによる生成された乱数を利用する方法があります。このような乱数を疑似乱数といいます。疑似乱数を用いて各種分布の信頼区間を求めることができます。"
   ]
  },
  {
   "cell_type": "code",
   "execution_count": 89,
   "metadata": {},
   "outputs": [
    {
     "data": {
      "image/png": "[encoded data removed]",
      "text/plain": [
       "<Figure size 432x288 with 1 Axes>"
      ]
     },
     "metadata": {
      "needs_background": "light"
     },
     "output_type": "display_data"
    }
   ],
   "source": [
    "# ポアソン分布にしたがう確率変数の生成\n",
    "s = np.random.poisson(mu, 10000)\n",
    "plt.hist(s)\n",
    "plt.show()"
   ]
  },
  {
   "cell_type": "code",
   "execution_count": 90,
   "metadata": {},
   "outputs": [
    {
     "data": {
      "image/png": "[encoded data removed]",
      "text/plain": [
       "<Figure size 432x288 with 1 Axes>"
      ]
     },
     "metadata": {
      "needs_background": "light"
     },
     "output_type": "display_data"
    }
   ],
   "source": [
    "# 疑似乱数による信頼区間の生成:ポアソン分布の平均\n",
    "v=[]\n",
    "for i in range(1000):\n",
    "    s = np.random.poisson(mu, 50)\n",
    "    v.append(np.mean(s))\n",
    "plt.hist(v)\n",
    "plt.show()"
   ]
  },
  {
   "cell_type": "markdown",
   "metadata": {},
   "source": [
    "## 模型(モデル)\n",
    "\n",
    "模型とは、観測値を生起するメカニズムのことです。もっとも簡単なモデルは、確率分布、つぎは条件つき確率分布、線形単回帰分析などとなります。模型が決まると、その模型の母数(パラメータ)を推定します。しかし、実際問題として模型もパラメータも常に未知のままです。\n",
    "\n",
    "真の模型(母集団)を得ることと、予測することは別の行為です。\n",
    "\n",
    "- 真の模型: 真の模型は不偏的な原理を表現するもので、観測値(標本)を正確にあてはめることのできる模型です。しかし、真の模型を明確にすることは多くの場合で不可能であり、観測値を最もよくあてはめることのできる模型と混同しています。\n",
    "- 予測のための模型：観測値を正確に再現できなくても、実用に耐えうる予測をすることは可能です。予測は観測値で模型を推定し、新しく得られた観測値で模型を評価した際に、実用に耐えうる条件を満たしていればよいと考えます。\n",
    "\n",
    "# 一般化線形モデル\n",
    "\n",
    "$y_i$を平均$\\lambda$のポアソン分布にしたがうとして、$y_i$を説明する因子$x_i$を導入します。これを説明変数といいます。$y_i$の変動を、$x_i$が説明するという統計模型です。これをポアソン回帰といいます。また、このようなモデルを総称して一般化線形回帰モデルといいます。\n",
    "\n",
    "一般化線形回帰モデルでは、$y_i$を応答変数,$x_i$を説明変数といいます。\n",
    "$y_i$は平均$\\lambda_i$のポアソン分布にしたがうとします。このポアソン分布を$p(y_i|\\lambda_i)$と書きます。\n",
    "\n",
    "$p(y_i|\\lambda_i)=\\frac{\\lambda_i^{y_i}\\exp(-\\lambda_i)}{y_i!}$\n",
    "\n",
    "データiの平均値$\\lambda_i$が\n",
    "\n",
    "$\\lambda_i=\\exp(\\beta_1+\\beta_2x_i)$\n",
    "\n",
    "であると考えます。$\\beta_1$は直線の切片で$\\beta_2$は傾きです。この直線はついでも一定です。その指数関数が$\\lambda_i$です。\n",
    "\n",
    "両辺の対数を取ると\n",
    "\n",
    "$\\log \\lambda_i=\\beta_1+\\beta_2x_i$\n",
    "\n",
    "となり、右辺を線形予測子といいます。また、左辺は平均の関数になっています。この関数をリンク関数といい、対数関数を用いているので、対数リンク関数とよばれます。\n",
    "\n",
    "パラメータ$\\beta_1,\\beta_2$は未知ですのでのそれらを推定します。推定値の取得には最尤推定法が用いられます。\n",
    "\n",
    "$\\log L(\\beta_1,\\beta_2)=\\sum_i \\log \\frac{ \\lambda_i^{y_i} \\exp(-\\lambda_i)}{y_i!}$\n",
    "\n",
    "$\\lambda_i$は$\\beta_1,\\beta_2$の関数です。\n",
    "\n",
    "- 新しいデータの取得"
   ]
  },
  {
   "cell_type": "code",
   "execution_count": 91,
   "metadata": {},
   "outputs": [],
   "source": [
    "data3a = pd.read_csv('data3a.csv')"
   ]
  },
  {
   "cell_type": "code",
   "execution_count": 92,
   "metadata": {},
   "outputs": [
    {
     "data": {
      "text/html": [
       "<div>\n",
       "<style scoped>\n",
       "    .dataframe tbody tr th:only-of-type {\n",
       "        vertical-align: middle;\n",
       "    }\n",
       "\n",
       "    .dataframe tbody tr th {\n",
       "        vertical-align: top;\n",
       "    }\n",
       "\n",
       "    .dataframe thead th {\n",
       "        text-align: right;\n",
       "    }\n",
       "</style>\n",
       "<table border=\"1\" class=\"dataframe\">\n",
       "  <thead>\n",
       "    <tr style=\"text-align: right;\">\n",
       "      <th></th>\n",
       "      <th>y</th>\n",
       "      <th>x</th>\n",
       "      <th>f</th>\n",
       "    </tr>\n",
       "  </thead>\n",
       "  <tbody>\n",
       "    <tr>\n",
       "      <th>0</th>\n",
       "      <td>6</td>\n",
       "      <td>8.31</td>\n",
       "      <td>C</td>\n",
       "    </tr>\n",
       "    <tr>\n",
       "      <th>1</th>\n",
       "      <td>6</td>\n",
       "      <td>9.44</td>\n",
       "      <td>C</td>\n",
       "    </tr>\n",
       "    <tr>\n",
       "      <th>2</th>\n",
       "      <td>6</td>\n",
       "      <td>9.50</td>\n",
       "      <td>C</td>\n",
       "    </tr>\n",
       "    <tr>\n",
       "      <th>3</th>\n",
       "      <td>12</td>\n",
       "      <td>9.07</td>\n",
       "      <td>C</td>\n",
       "    </tr>\n",
       "    <tr>\n",
       "      <th>4</th>\n",
       "      <td>10</td>\n",
       "      <td>10.16</td>\n",
       "      <td>C</td>\n",
       "    </tr>\n",
       "  </tbody>\n",
       "</table>\n",
       "</div>"
      ],
      "text/plain": [
       "    y      x  f\n",
       "0   6   8.31  C\n",
       "1   6   9.44  C\n",
       "2   6   9.50  C\n",
       "3  12   9.07  C\n",
       "4  10  10.16  C"
      ]
     },
     "execution_count": 92,
     "metadata": {},
     "output_type": "execute_result"
    }
   ],
   "source": [
    "# fはカテゴリカル(質的変数)データ\n",
    "data3a.head()"
   ]
  },
  {
   "cell_type": "code",
   "execution_count": 93,
   "metadata": {},
   "outputs": [
    {
     "data": {
      "text/html": [
       "<div>\n",
       "<style scoped>\n",
       "    .dataframe tbody tr th:only-of-type {\n",
       "        vertical-align: middle;\n",
       "    }\n",
       "\n",
       "    .dataframe tbody tr th {\n",
       "        vertical-align: top;\n",
       "    }\n",
       "\n",
       "    .dataframe thead th {\n",
       "        text-align: right;\n",
       "    }\n",
       "</style>\n",
       "<table border=\"1\" class=\"dataframe\">\n",
       "  <thead>\n",
       "    <tr style=\"text-align: right;\">\n",
       "      <th></th>\n",
       "      <th>y</th>\n",
       "      <th>x</th>\n",
       "    </tr>\n",
       "  </thead>\n",
       "  <tbody>\n",
       "    <tr>\n",
       "      <th>count</th>\n",
       "      <td>100.000000</td>\n",
       "      <td>100.000000</td>\n",
       "    </tr>\n",
       "    <tr>\n",
       "      <th>mean</th>\n",
       "      <td>7.830000</td>\n",
       "      <td>10.089100</td>\n",
       "    </tr>\n",
       "    <tr>\n",
       "      <th>std</th>\n",
       "      <td>2.624881</td>\n",
       "      <td>1.008049</td>\n",
       "    </tr>\n",
       "    <tr>\n",
       "      <th>min</th>\n",
       "      <td>2.000000</td>\n",
       "      <td>7.190000</td>\n",
       "    </tr>\n",
       "    <tr>\n",
       "      <th>25%</th>\n",
       "      <td>6.000000</td>\n",
       "      <td>9.427500</td>\n",
       "    </tr>\n",
       "    <tr>\n",
       "      <th>50%</th>\n",
       "      <td>8.000000</td>\n",
       "      <td>10.155000</td>\n",
       "    </tr>\n",
       "    <tr>\n",
       "      <th>75%</th>\n",
       "      <td>10.000000</td>\n",
       "      <td>10.685000</td>\n",
       "    </tr>\n",
       "    <tr>\n",
       "      <th>max</th>\n",
       "      <td>15.000000</td>\n",
       "      <td>12.400000</td>\n",
       "    </tr>\n",
       "  </tbody>\n",
       "</table>\n",
       "</div>"
      ],
      "text/plain": [
       "                y           x\n",
       "count  100.000000  100.000000\n",
       "mean     7.830000   10.089100\n",
       "std      2.624881    1.008049\n",
       "min      2.000000    7.190000\n",
       "25%      6.000000    9.427500\n",
       "50%      8.000000   10.155000\n",
       "75%     10.000000   10.685000\n",
       "max     15.000000   12.400000"
      ]
     },
     "execution_count": 93,
     "metadata": {},
     "output_type": "execute_result"
    }
   ],
   "source": [
    "# 量的変数の主な要約統計量\n",
    "# Pythonでは質的変数の統計量は提示されない\n",
    "data3a.describe()"
   ]
  },
  {
   "cell_type": "code",
   "execution_count": 94,
   "metadata": {},
   "outputs": [
    {
     "data": {
      "image/png": "[encoded data removed]",
      "text/plain": [
       "<Figure size 432x288 with 1 Axes>"
      ]
     },
     "metadata": {
      "needs_background": "light"
     },
     "output_type": "display_data"
    }
   ],
   "source": [
    "# ｆにより分類してデータを可視化\n",
    "plt.scatter(data3a[data3a.f==\"C\"].x,data3a[data3a.f==\"C\"].y)\n",
    "plt.scatter(data3a[data3a.f==\"T\"].x,data3a[data3a.f==\"T\"].y)\n",
    "plt.show()"
   ]
  },
  {
   "cell_type": "code",
   "execution_count": 95,
   "metadata": {},
   "outputs": [
    {
     "data": {
      "image/png": "[encoded data removed]",
      "text/plain": [
       "<Figure size 432x288 with 1 Axes>"
      ]
     },
     "metadata": {
      "needs_background": "light"
     },
     "output_type": "display_data"
    }
   ],
   "source": [
    "# f=Cの箱ひげ図\n",
    "# 箱ひげ図のてっぺんは最大値、そこは最小値です。\n",
    "# 中央の箱は底辺が第一四分位で、天井が第３四分位、中央の赤い線が中央値です。\n",
    "plt.boxplot(data3a[data3a.f==\"C\"].y)\n",
    "plt.show()"
   ]
  },
  {
   "cell_type": "code",
   "execution_count": 96,
   "metadata": {},
   "outputs": [
    {
     "data": {
      "image/png": "[encoded data removed]",
      "text/plain": [
       "<Figure size 432x288 with 1 Axes>"
      ]
     },
     "metadata": {
      "needs_background": "light"
     },
     "output_type": "display_data"
    }
   ],
   "source": [
    "# f=Tの箱ひげ図\n",
    "# 箱ひげ図では第３(第１)四分位の1.5(1/1.5)倍から外れ値となり、〇で表します。\n",
    "plt.boxplot(data3a[data3a.f==\"T\"].y)\n",
    "plt.show()"
   ]
  },
  {
   "cell_type": "code",
   "execution_count": 97,
   "metadata": {},
   "outputs": [
    {
     "name": "stdout",
     "output_type": "stream",
     "text": [
      "number of data: 13\n"
     ]
    },
    {
     "data": {
      "image/png": "[encoded data removed]",
      "text/plain": [
       "<Figure size 432x288 with 1 Axes>"
      ]
     },
     "metadata": {
      "needs_background": "light"
     },
     "output_type": "display_data"
    }
   ],
   "source": [
    "plt.hist(data3a.y)\n",
    "x = np.arange(min(data3a.y),max(data3a.y))\n",
    "print('number of data:',len(x))\n",
    "plt.plot(x,poisson.pmf(x, 7.83)*len(data3a.y))\n",
    "plt.show()"
   ]
  },
  {
   "cell_type": "code",
   "execution_count": 98,
   "metadata": {},
   "outputs": [
    {
     "data": {
      "image/png": "[encoded data removed]",
      "text/plain": [
       "<Figure size 432x288 with 1 Axes>"
      ]
     },
     "metadata": {
      "needs_background": "light"
     },
     "output_type": "display_data"
    }
   ],
   "source": [
    "plt.hist(data3a[data3a.f==\"C\"].y)\n",
    "plt.show()"
   ]
  },
  {
   "cell_type": "code",
   "execution_count": 99,
   "metadata": {},
   "outputs": [
    {
     "data": {
      "image/png": "[encoded data removed]",
      "text/plain": [
       "<Figure size 432x288 with 1 Axes>"
      ]
     },
     "metadata": {
      "needs_background": "light"
     },
     "output_type": "display_data"
    }
   ],
   "source": [
    "plt.hist(data3a[data3a.f==\"T\"].y)\n",
    "plt.show()"
   ]
  },
  {
   "cell_type": "code",
   "execution_count": 100,
   "metadata": {},
   "outputs": [
    {
     "data": {
      "text/html": [
       "<table class=\"simpletable\">\n",
       "<caption>Generalized Linear Model Regression Results</caption>\n",
       "<tr>\n",
       "  <th>Dep. Variable:</th>           <td>y</td>        <th>  No. Observations:  </th>  <td>   100</td> \n",
       "</tr>\n",
       "<tr>\n",
       "  <th>Model:</th>                  <td>GLM</td>       <th>  Df Residuals:      </th>  <td>    98</td> \n",
       "</tr>\n",
       "<tr>\n",
       "  <th>Model Family:</th>         <td>Poisson</td>     <th>  Df Model:          </th>  <td>     1</td> \n",
       "</tr>\n",
       "<tr>\n",
       "  <th>Link Function:</th>          <td>log</td>       <th>  Scale:             </th> <td>  1.0000</td>\n",
       "</tr>\n",
       "<tr>\n",
       "  <th>Method:</th>                <td>IRLS</td>       <th>  Log-Likelihood:    </th> <td> -235.39</td>\n",
       "</tr>\n",
       "<tr>\n",
       "  <th>Date:</th>            <td>Mon, 24 May 2021</td> <th>  Deviance:          </th> <td>  84.993</td>\n",
       "</tr>\n",
       "<tr>\n",
       "  <th>Time:</th>                <td>01:57:53</td>     <th>  Pearson chi2:      </th>  <td>  83.8</td> \n",
       "</tr>\n",
       "<tr>\n",
       "  <th>No. Iterations:</th>          <td>4</td>        <th>                     </th>     <td> </td>   \n",
       "</tr>\n",
       "<tr>\n",
       "  <th>Covariance Type:</th>     <td>nonrobust</td>    <th>                     </th>     <td> </td>   \n",
       "</tr>\n",
       "</table>\n",
       "<table class=\"simpletable\">\n",
       "<tr>\n",
       "    <td></td>       <th>coef</th>     <th>std err</th>      <th>z</th>      <th>P>|z|</th>  <th>[0.025</th>    <th>0.975]</th>  \n",
       "</tr>\n",
       "<tr>\n",
       "  <th>const</th> <td>    1.2917</td> <td>    0.364</td> <td>    3.552</td> <td> 0.000</td> <td>    0.579</td> <td>    2.005</td>\n",
       "</tr>\n",
       "<tr>\n",
       "  <th>x</th>     <td>    0.0757</td> <td>    0.036</td> <td>    2.125</td> <td> 0.034</td> <td>    0.006</td> <td>    0.145</td>\n",
       "</tr>\n",
       "</table>"
      ],
      "text/plain": [
       "<class 'statsmodels.iolib.summary.Summary'>\n",
       "\"\"\"\n",
       "                 Generalized Linear Model Regression Results                  \n",
       "==============================================================================\n",
       "Dep. Variable:                      y   No. Observations:                  100\n",
       "Model:                            GLM   Df Residuals:                       98\n",
       "Model Family:                 Poisson   Df Model:                            1\n",
       "Link Function:                    log   Scale:                          1.0000\n",
       "Method:                          IRLS   Log-Likelihood:                -235.39\n",
       "Date:                Mon, 24 May 2021   Deviance:                       84.993\n",
       "Time:                        01:57:53   Pearson chi2:                     83.8\n",
       "No. Iterations:                     4                                         \n",
       "Covariance Type:            nonrobust                                         \n",
       "==============================================================================\n",
       "                 coef    std err          z      P>|z|      [0.025      0.975]\n",
       "------------------------------------------------------------------------------\n",
       "const          1.2917      0.364      3.552      0.000       0.579       2.005\n",
       "x              0.0757      0.036      2.125      0.034       0.006       0.145\n",
       "==============================================================================\n",
       "\"\"\""
      ]
     },
     "execution_count": 100,
     "metadata": {},
     "output_type": "execute_result"
    }
   ],
   "source": [
    "data3a_exog=sm.add_constant(data3a.x)# 切片の追加\n",
    "pglm = sm.GLM(data3a.y, data3a_exog, family=sm.families.Poisson()) #モデルの設定 \n",
    "res=pglm.fit()# モデルの最適化\n",
    "res.summary() # サマリーレポートの出力"
   ]
  },
  {
   "cell_type": "markdown",
   "metadata": {},
   "source": [
    "サマリーレポート(res.summary())の上半分は、総合的なレポートで、下半分は回帰係数に関するものです。\n",
    "\n",
    "- coef:回帰係数\n",
    "\n",
    "- std err: 各回帰係数の標準誤差です。推定値$\\hat{\\theta}$のバラツキを標準偏差で表しています。推定値$\\hat{\\theta}$は統計量なので正規分布にしたがうと仮定します。\n",
    "\n",
    "- z: z値は最尤推定値$\\hat{\\theta}$を標準誤差で割ったものです。Wald統計量といいます。\n",
    "\n",
    "- P>|z|: z値のp値です。この検定の帰無仮説は最尤推定値$\\hat{\\theta}=0$ですから、平均z、標準偏差が1の正規分布の－∞から0までの累積確率の2倍です。この確率が大きいほどz値はゼロにちかいことになり、帰無仮説を棄却できなくなります。\n",
    "\n",
    "- [0.025 0.975]:回帰係数のWald信頼区間です。\n",
    "\n",
    "サマリーレポート上半分については\n",
    "\n",
    "- Scale: 共分散マトリックスのスケールパラメータ。ポアソン分布のディフォルト値は1です。\n",
    "- Log-likelihood: 対数最尤推定値です。\n",
    "- Deviance：あてはまりの悪さを示す逸脱度です。最大対数尤度$\\log L_*$に-2をかけたものです。$R^2$の代替といして使用されます。\n",
    "- Pearson chi2: $\\sum \\frac{(観測値-期待値)^2}{期待値}$です。\n",
    "- method: Iteratively reweighted least squares (IRLS);IRLSはニュートン法を用いたベルヌーイ分布の対数尤度を最大化する最適化法と同等です。\n",
    "\n",
    "最尤推定の過程で得られる$\\lambda_i$はPythonではmuで得られます。muは観測値の数だけ得られるので、その平均と観測値の平均を比べてみます。"
   ]
  },
  {
   "cell_type": "code",
   "execution_count": 101,
   "metadata": {},
   "outputs": [
    {
     "name": "stdout",
     "output_type": "stream",
     "text": [
      "mu 7.8300000000000045\n",
      "平均 7.83\n"
     ]
    }
   ],
   "source": [
    "#mu=res.fittedvalues\n",
    "mu=res.mu\n",
    "print('mu',np.mean(mu))\n",
    "print('平均',np.mean(data3a.y))"
   ]
  },
  {
   "cell_type": "code",
   "execution_count": 102,
   "metadata": {},
   "outputs": [
    {
     "data": {
      "image/png": "[encoded data removed]",
      "text/plain": [
       "<Figure size 432x288 with 1 Axes>"
      ]
     },
     "metadata": {
      "needs_background": "light"
     },
     "output_type": "display_data"
    }
   ],
   "source": [
    "# 回帰直線と平均(λ)のプロット\n",
    "xx=np.linspace(min(data3a.x),max(data3a.x),100)\n",
    "# linspaceは第一引数と第二引数の間を第三引数個に分割します。\n",
    "\n",
    "plt.scatter(data3a[data3a.f==\"C\"].x,data3a[data3a.f==\"C\"].y)\n",
    "plt.scatter(data3a[data3a.f==\"T\"].x,data3a[data3a.f==\"T\"].y)\n",
    "plt.plot(xx,np.exp(1.2917+0.0757*xx),label='prediction')\n",
    "\n",
    "plt.plot(xx,mu,label='mu')\n",
    "plt.legend()\n",
    "plt.show()"
   ]
  },
  {
   "cell_type": "code",
   "execution_count": 103,
   "metadata": {},
   "outputs": [
    {
     "data": {
      "text/html": [
       "<table class=\"simpletable\">\n",
       "<caption>Generalized Linear Model Regression Results</caption>\n",
       "<tr>\n",
       "  <th>Dep. Variable:</th>           <td>y</td>        <th>  No. Observations:  </th>  <td>   100</td> \n",
       "</tr>\n",
       "<tr>\n",
       "  <th>Model:</th>                  <td>GLM</td>       <th>  Df Residuals:      </th>  <td>    98</td> \n",
       "</tr>\n",
       "<tr>\n",
       "  <th>Model Family:</th>         <td>Poisson</td>     <th>  Df Model:          </th>  <td>     1</td> \n",
       "</tr>\n",
       "<tr>\n",
       "  <th>Link Function:</th>          <td>log</td>       <th>  Scale:             </th> <td>  1.0000</td>\n",
       "</tr>\n",
       "<tr>\n",
       "  <th>Method:</th>                <td>IRLS</td>       <th>  Log-Likelihood:    </th> <td> -237.63</td>\n",
       "</tr>\n",
       "<tr>\n",
       "  <th>Date:</th>            <td>Mon, 24 May 2021</td> <th>  Deviance:          </th> <td>  89.475</td>\n",
       "</tr>\n",
       "<tr>\n",
       "  <th>Time:</th>                <td>01:57:53</td>     <th>  Pearson chi2:      </th>  <td>  87.1</td> \n",
       "</tr>\n",
       "<tr>\n",
       "  <th>No. Iterations:</th>          <td>4</td>        <th>                     </th>     <td> </td>   \n",
       "</tr>\n",
       "<tr>\n",
       "  <th>Covariance Type:</th>     <td>nonrobust</td>    <th>                     </th>     <td> </td>   \n",
       "</tr>\n",
       "</table>\n",
       "<table class=\"simpletable\">\n",
       "<tr>\n",
       "    <td></td>       <th>coef</th>     <th>std err</th>      <th>z</th>      <th>P>|z|</th>  <th>[0.025</th>    <th>0.975]</th>  \n",
       "</tr>\n",
       "<tr>\n",
       "  <th>const</th> <td>    2.0516</td> <td>    0.051</td> <td>   40.463</td> <td> 0.000</td> <td>    1.952</td> <td>    2.151</td>\n",
       "</tr>\n",
       "<tr>\n",
       "  <th>T</th>     <td>    0.0128</td> <td>    0.071</td> <td>    0.179</td> <td> 0.858</td> <td>   -0.127</td> <td>    0.153</td>\n",
       "</tr>\n",
       "</table>"
      ],
      "text/plain": [
       "<class 'statsmodels.iolib.summary.Summary'>\n",
       "\"\"\"\n",
       "                 Generalized Linear Model Regression Results                  \n",
       "==============================================================================\n",
       "Dep. Variable:                      y   No. Observations:                  100\n",
       "Model:                            GLM   Df Residuals:                       98\n",
       "Model Family:                 Poisson   Df Model:                            1\n",
       "Link Function:                    log   Scale:                          1.0000\n",
       "Method:                          IRLS   Log-Likelihood:                -237.63\n",
       "Date:                Mon, 24 May 2021   Deviance:                       89.475\n",
       "Time:                        01:57:53   Pearson chi2:                     87.1\n",
       "No. Iterations:                     4                                         \n",
       "Covariance Type:            nonrobust                                         \n",
       "==============================================================================\n",
       "                 coef    std err          z      P>|z|      [0.025      0.975]\n",
       "------------------------------------------------------------------------------\n",
       "const          2.0516      0.051     40.463      0.000       1.952       2.151\n",
       "T              0.0128      0.071      0.179      0.858      -0.127       0.153\n",
       "==============================================================================\n",
       "\"\"\""
      ]
     },
     "execution_count": 103,
     "metadata": {},
     "output_type": "execute_result"
    }
   ],
   "source": [
    "# 説明変数をｆ(T)とした場合\n",
    "ff=pd.get_dummies(data3a.f)# 質的変数(カテゴリカルデータ)をダミー変数(0,1)に変換します。\n",
    "data3a_exog=sm.add_constant(ff['T'])\n",
    "pglm = sm.GLM(data3a.y, data3a_exog, family=sm.families.Poisson())\n",
    "res=pglm.fit()\n",
    "res.summary()"
   ]
  },
  {
   "cell_type": "code",
   "execution_count": 104,
   "metadata": {},
   "outputs": [
    {
     "data": {
      "text/html": [
       "<table class=\"simpletable\">\n",
       "<caption>Generalized Linear Model Regression Results</caption>\n",
       "<tr>\n",
       "  <th>Dep. Variable:</th>           <td>y</td>        <th>  No. Observations:  </th>  <td>   100</td> \n",
       "</tr>\n",
       "<tr>\n",
       "  <th>Model:</th>                  <td>GLM</td>       <th>  Df Residuals:      </th>  <td>    98</td> \n",
       "</tr>\n",
       "<tr>\n",
       "  <th>Model Family:</th>         <td>Poisson</td>     <th>  Df Model:          </th>  <td>     1</td> \n",
       "</tr>\n",
       "<tr>\n",
       "  <th>Link Function:</th>          <td>log</td>       <th>  Scale:             </th> <td>  1.0000</td>\n",
       "</tr>\n",
       "<tr>\n",
       "  <th>Method:</th>                <td>IRLS</td>       <th>  Log-Likelihood:    </th> <td> -237.63</td>\n",
       "</tr>\n",
       "<tr>\n",
       "  <th>Date:</th>            <td>Mon, 24 May 2021</td> <th>  Deviance:          </th> <td>  89.475</td>\n",
       "</tr>\n",
       "<tr>\n",
       "  <th>Time:</th>                <td>01:57:53</td>     <th>  Pearson chi2:      </th>  <td>  87.1</td> \n",
       "</tr>\n",
       "<tr>\n",
       "  <th>No. Iterations:</th>          <td>6</td>        <th>                     </th>     <td> </td>   \n",
       "</tr>\n",
       "<tr>\n",
       "  <th>Covariance Type:</th>     <td>nonrobust</td>    <th>                     </th>     <td> </td>   \n",
       "</tr>\n",
       "</table>\n",
       "<table class=\"simpletable\">\n",
       "<tr>\n",
       "    <td></td>       <th>coef</th>     <th>std err</th>      <th>z</th>      <th>P>|z|</th>  <th>[0.025</th>    <th>0.975]</th>  \n",
       "</tr>\n",
       "<tr>\n",
       "  <th>const</th> <td>    1.3720</td> <td>    0.024</td> <td>   57.584</td> <td> 0.000</td> <td>    1.325</td> <td>    1.419</td>\n",
       "</tr>\n",
       "<tr>\n",
       "  <th>C</th>     <td>    0.6796</td> <td>    0.038</td> <td>   18.006</td> <td> 0.000</td> <td>    0.606</td> <td>    0.754</td>\n",
       "</tr>\n",
       "<tr>\n",
       "  <th>T</th>     <td>    0.6924</td> <td>    0.038</td> <td>   18.415</td> <td> 0.000</td> <td>    0.619</td> <td>    0.766</td>\n",
       "</tr>\n",
       "</table>"
      ],
      "text/plain": [
       "<class 'statsmodels.iolib.summary.Summary'>\n",
       "\"\"\"\n",
       "                 Generalized Linear Model Regression Results                  \n",
       "==============================================================================\n",
       "Dep. Variable:                      y   No. Observations:                  100\n",
       "Model:                            GLM   Df Residuals:                       98\n",
       "Model Family:                 Poisson   Df Model:                            1\n",
       "Link Function:                    log   Scale:                          1.0000\n",
       "Method:                          IRLS   Log-Likelihood:                -237.63\n",
       "Date:                Mon, 24 May 2021   Deviance:                       89.475\n",
       "Time:                        01:57:53   Pearson chi2:                     87.1\n",
       "No. Iterations:                     6                                         \n",
       "Covariance Type:            nonrobust                                         \n",
       "==============================================================================\n",
       "                 coef    std err          z      P>|z|      [0.025      0.975]\n",
       "------------------------------------------------------------------------------\n",
       "const          1.3720      0.024     57.584      0.000       1.325       1.419\n",
       "C              0.6796      0.038     18.006      0.000       0.606       0.754\n",
       "T              0.6924      0.038     18.415      0.000       0.619       0.766\n",
       "==============================================================================\n",
       "\"\"\""
      ]
     },
     "execution_count": 104,
     "metadata": {},
     "output_type": "execute_result"
    }
   ],
   "source": [
    "# 説明変数をｆ(C,T)とした場合\n",
    "ff=pd.get_dummies(data3a.f)\n",
    "data3a_exog=sm.add_constant(ff)\n",
    "pglm = sm.GLM(data3a.y, data3a_exog, family=sm.families.Poisson())\n",
    "res=pglm.fit()\n",
    "res.summary()"
   ]
  },
  {
   "cell_type": "code",
   "execution_count": 105,
   "metadata": {},
   "outputs": [
    {
     "data": {
      "text/html": [
       "<table class=\"simpletable\">\n",
       "<caption>Generalized Linear Model Regression Results</caption>\n",
       "<tr>\n",
       "  <th>Dep. Variable:</th>           <td>y</td>        <th>  No. Observations:  </th>  <td>   100</td> \n",
       "</tr>\n",
       "<tr>\n",
       "  <th>Model:</th>                  <td>GLM</td>       <th>  Df Residuals:      </th>  <td>    97</td> \n",
       "</tr>\n",
       "<tr>\n",
       "  <th>Model Family:</th>         <td>Poisson</td>     <th>  Df Model:          </th>  <td>     2</td> \n",
       "</tr>\n",
       "<tr>\n",
       "  <th>Link Function:</th>          <td>log</td>       <th>  Scale:             </th> <td>  1.0000</td>\n",
       "</tr>\n",
       "<tr>\n",
       "  <th>Method:</th>                <td>IRLS</td>       <th>  Log-Likelihood:    </th> <td> -235.29</td>\n",
       "</tr>\n",
       "<tr>\n",
       "  <th>Date:</th>            <td>Mon, 24 May 2021</td> <th>  Deviance:          </th> <td>  84.808</td>\n",
       "</tr>\n",
       "<tr>\n",
       "  <th>Time:</th>                <td>01:57:53</td>     <th>  Pearson chi2:      </th>  <td>  83.8</td> \n",
       "</tr>\n",
       "<tr>\n",
       "  <th>No. Iterations:</th>          <td>4</td>        <th>                     </th>     <td> </td>   \n",
       "</tr>\n",
       "<tr>\n",
       "  <th>Covariance Type:</th>     <td>nonrobust</td>    <th>                     </th>     <td> </td>   \n",
       "</tr>\n",
       "</table>\n",
       "<table class=\"simpletable\">\n",
       "<tr>\n",
       "    <td></td>       <th>coef</th>     <th>std err</th>      <th>z</th>      <th>P>|z|</th>  <th>[0.025</th>    <th>0.975]</th>  \n",
       "</tr>\n",
       "<tr>\n",
       "  <th>const</th> <td>    1.2631</td> <td>    0.370</td> <td>    3.417</td> <td> 0.001</td> <td>    0.539</td> <td>    1.988</td>\n",
       "</tr>\n",
       "<tr>\n",
       "  <th>x</th>     <td>    0.0801</td> <td>    0.037</td> <td>    2.162</td> <td> 0.031</td> <td>    0.007</td> <td>    0.153</td>\n",
       "</tr>\n",
       "<tr>\n",
       "  <th>T</th>     <td>   -0.0320</td> <td>    0.074</td> <td>   -0.430</td> <td> 0.667</td> <td>   -0.178</td> <td>    0.114</td>\n",
       "</tr>\n",
       "</table>"
      ],
      "text/plain": [
       "<class 'statsmodels.iolib.summary.Summary'>\n",
       "\"\"\"\n",
       "                 Generalized Linear Model Regression Results                  \n",
       "==============================================================================\n",
       "Dep. Variable:                      y   No. Observations:                  100\n",
       "Model:                            GLM   Df Residuals:                       97\n",
       "Model Family:                 Poisson   Df Model:                            2\n",
       "Link Function:                    log   Scale:                          1.0000\n",
       "Method:                          IRLS   Log-Likelihood:                -235.29\n",
       "Date:                Mon, 24 May 2021   Deviance:                       84.808\n",
       "Time:                        01:57:53   Pearson chi2:                     83.8\n",
       "No. Iterations:                     4                                         \n",
       "Covariance Type:            nonrobust                                         \n",
       "==============================================================================\n",
       "                 coef    std err          z      P>|z|      [0.025      0.975]\n",
       "------------------------------------------------------------------------------\n",
       "const          1.2631      0.370      3.417      0.001       0.539       1.988\n",
       "x              0.0801      0.037      2.162      0.031       0.007       0.153\n",
       "T             -0.0320      0.074     -0.430      0.667      -0.178       0.114\n",
       "==============================================================================\n",
       "\"\"\""
      ]
     },
     "execution_count": 105,
     "metadata": {},
     "output_type": "execute_result"
    }
   ],
   "source": [
    "# 説明変数をxとｆ(T)とした場合\n",
    "# pandasのconcatを用いて２つのデータを結合しています。\n",
    "xxx=pd.concat([data3a.x,ff['T']],axis=1)\n",
    "data3a_exog=sm.add_constant(xxx)\n",
    "pglm = sm.GLM(data3a.y, data3a_exog, family=sm.families.Poisson())\n",
    "res=pglm.fit()\n",
    "res.summary()"
   ]
  },
  {
   "cell_type": "markdown",
   "metadata": {},
   "source": [
    "# GLM のモデル選択\n",
    "\n",
    "- 逸脱度(Deviance)\n",
    "    - $R^2$の代替\n",
    "    - フルモデル($\\lambda_i$のすべてについて正確に予測できた場合)\n",
    "    - ナルモデル($\\beta_0$以外のすべての回帰係数は０)サマリーレポートではnull\n",
    "    - 逸脱度=-2×ln(予測モデルの尤度/フルモデルの尤度)\n",
    "    - ナル逸脱度=-2×ln(ナルモデルの尤度/フルモデルの尤度)\n",
    "    - フルモデル逸脱度=-2×ln(フルモデルの尤度/フルモデルの尤度)\n",
    "    - res.devianceは残差逸脱度\n",
    "- AIC：予測にもちいられる赤池情報量基準\n",
    "    - AIC＝-2×(対数尤度-自由パラメータの数)\n",
    "- \n",
    "\n",
    "## 逸脱度(Deviance)\n"
   ]
  },
  {
   "cell_type": "code",
   "execution_count": 106,
   "metadata": {},
   "outputs": [
    {
     "name": "stdout",
     "output_type": "stream",
     "text": [
      "残差逸脱度(deviance) 84.99299649072958\n",
      "最尤推定値 -235.3862507698608\n",
      "逸脱度 470.7725015397216\n",
      "AIC 474.7725015397216\n"
     ]
    }
   ],
   "source": [
    "data3a_exog=sm.add_constant(data3a.x)\n",
    "pglm = sm.GLM(data3a.y, data3a_exog, family=sm.families.Poisson())\n",
    "res=pglm.fit()\n",
    "print('残差逸脱度(deviance)',res.deviance)\n",
    "print('最尤推定値',res.llf)\n",
    "print('逸脱度',-res.llf*2)\n",
    "print('AIC',res.aic)"
   ]
  },
  {
   "cell_type": "code",
   "execution_count": 107,
   "metadata": {},
   "outputs": [
    {
     "data": {
      "text/plain": [
       "array([7.83, 7.83, 7.83, 7.83, 7.83, 7.83, 7.83, 7.83, 7.83, 7.83, 7.83,\n",
       "       7.83, 7.83, 7.83, 7.83, 7.83, 7.83, 7.83, 7.83, 7.83, 7.83, 7.83,\n",
       "       7.83, 7.83, 7.83, 7.83, 7.83, 7.83, 7.83, 7.83, 7.83, 7.83, 7.83,\n",
       "       7.83, 7.83, 7.83, 7.83, 7.83, 7.83, 7.83, 7.83, 7.83, 7.83, 7.83,\n",
       "       7.83, 7.83, 7.83, 7.83, 7.83, 7.83, 7.83, 7.83, 7.83, 7.83, 7.83,\n",
       "       7.83, 7.83, 7.83, 7.83, 7.83, 7.83, 7.83, 7.83, 7.83, 7.83, 7.83,\n",
       "       7.83, 7.83, 7.83, 7.83, 7.83, 7.83, 7.83, 7.83, 7.83, 7.83, 7.83,\n",
       "       7.83, 7.83, 7.83, 7.83, 7.83, 7.83, 7.83, 7.83, 7.83, 7.83, 7.83,\n",
       "       7.83, 7.83, 7.83, 7.83, 7.83, 7.83, 7.83, 7.83, 7.83, 7.83, 7.83,\n",
       "       7.83])"
      ]
     },
     "execution_count": 107,
     "metadata": {},
     "output_type": "execute_result"
    }
   ],
   "source": [
    "# ナルモデルのλi\n",
    "# 最適化するとナルモデルの結果も保存されています。\n",
    "res.null"
   ]
  },
  {
   "cell_type": "code",
   "execution_count": 108,
   "metadata": {},
   "outputs": [
    {
     "data": {
      "text/plain": [
       "(89.50693756958132, -237.6432213092868, 475.2864426185736)"
      ]
     },
     "execution_count": 108,
     "metadata": {},
     "output_type": "execute_result"
    }
   ],
   "source": [
    "res.null_deviance, res.llnull,-res.llnull*2"
   ]
  },
  {
   "cell_type": "code",
   "execution_count": 109,
   "metadata": {},
   "outputs": [
    {
     "data": {
      "text/html": [
       "<table class=\"simpletable\">\n",
       "<caption>Generalized Linear Model Regression Results</caption>\n",
       "<tr>\n",
       "  <th>Dep. Variable:</th>           <td>y</td>        <th>  No. Observations:  </th>  <td>   100</td> \n",
       "</tr>\n",
       "<tr>\n",
       "  <th>Model:</th>                  <td>GLM</td>       <th>  Df Residuals:      </th>  <td>    99</td> \n",
       "</tr>\n",
       "<tr>\n",
       "  <th>Model Family:</th>         <td>Poisson</td>     <th>  Df Model:          </th>  <td>     0</td> \n",
       "</tr>\n",
       "<tr>\n",
       "  <th>Link Function:</th>          <td>log</td>       <th>  Scale:             </th> <td>  1.0000</td>\n",
       "</tr>\n",
       "<tr>\n",
       "  <th>Method:</th>                <td>IRLS</td>       <th>  Log-Likelihood:    </th> <td> -237.64</td>\n",
       "</tr>\n",
       "<tr>\n",
       "  <th>Date:</th>            <td>Mon, 24 May 2021</td> <th>  Deviance:          </th> <td>  89.507</td>\n",
       "</tr>\n",
       "<tr>\n",
       "  <th>Time:</th>                <td>01:57:53</td>     <th>  Pearson chi2:      </th>  <td>  87.1</td> \n",
       "</tr>\n",
       "<tr>\n",
       "  <th>No. Iterations:</th>          <td>4</td>        <th>                     </th>     <td> </td>   \n",
       "</tr>\n",
       "<tr>\n",
       "  <th>Covariance Type:</th>     <td>nonrobust</td>    <th>                     </th>     <td> </td>   \n",
       "</tr>\n",
       "</table>\n",
       "<table class=\"simpletable\">\n",
       "<tr>\n",
       "   <td></td>     <th>coef</th>     <th>std err</th>      <th>z</th>      <th>P>|z|</th>  <th>[0.025</th>    <th>0.975]</th>  \n",
       "</tr>\n",
       "<tr>\n",
       "  <th>x1</th> <td>    0.2628</td> <td>    0.005</td> <td>   57.586</td> <td> 0.000</td> <td>    0.254</td> <td>    0.272</td>\n",
       "</tr>\n",
       "</table>"
      ],
      "text/plain": [
       "<class 'statsmodels.iolib.summary.Summary'>\n",
       "\"\"\"\n",
       "                 Generalized Linear Model Regression Results                  \n",
       "==============================================================================\n",
       "Dep. Variable:                      y   No. Observations:                  100\n",
       "Model:                            GLM   Df Residuals:                       99\n",
       "Model Family:                 Poisson   Df Model:                            0\n",
       "Link Function:                    log   Scale:                          1.0000\n",
       "Method:                          IRLS   Log-Likelihood:                -237.64\n",
       "Date:                Mon, 24 May 2021   Deviance:                       89.507\n",
       "Time:                        01:57:53   Pearson chi2:                     87.1\n",
       "No. Iterations:                     4                                         \n",
       "Covariance Type:            nonrobust                                         \n",
       "==============================================================================\n",
       "                 coef    std err          z      P>|z|      [0.025      0.975]\n",
       "------------------------------------------------------------------------------\n",
       "x1             0.2628      0.005     57.586      0.000       0.254       0.272\n",
       "==============================================================================\n",
       "\"\"\""
      ]
     },
     "execution_count": 109,
     "metadata": {},
     "output_type": "execute_result"
    }
   ],
   "source": [
    "#ナルモデルの設定\n",
    "pglm = sm.GLM(data3a.y, res.null, family=sm.families.Poisson())\n",
    "res=pglm.fit()\n",
    "res.summary()"
   ]
  },
  {
   "cell_type": "code",
   "execution_count": 110,
   "metadata": {},
   "outputs": [
    {
     "data": {
      "text/plain": [
       "(-237.6432213092866, 475.2864426185732)"
      ]
     },
     "execution_count": 110,
     "metadata": {},
     "output_type": "execute_result"
    }
   ],
   "source": [
    "# ナルモデル：muが観測値の平均値\n",
    "logL_poi = np.sum(stats.poisson.logpmf(data3a.y, mu=np.mean(data3a.y)))\n",
    "logL_poi,-2*logL_poi"
   ]
  },
  {
   "cell_type": "code",
   "execution_count": 111,
   "metadata": {},
   "outputs": [
    {
     "name": "stdout",
     "output_type": "stream",
     "text": [
      "フルモデルの最尤推定値 -192.88975252449595\n",
      "フルモデルの逸脱度 385.7795050489919\n",
      "xモデルの逸脱度: モデルの逸脱度-フルモデルの逸脱度 89.50693756958151\n",
      "xモデルの逸脱度 89.50693756958138\n"
     ]
    }
   ],
   "source": [
    "# フルモデル：mu_iが事前にわかっている。\n",
    "logL_poi_min = np.sum(stats.poisson.logpmf(data3a.y, mu=data3a.y))\n",
    "print('フルモデルの最尤推定値',logL_poi_min)\n",
    "print('フルモデルの逸脱度',-2*logL_poi_min)\n",
    "print('xモデルの逸脱度: モデルの逸脱度-フルモデルの逸脱度',-2*res.llf+2*logL_poi_min)\n",
    "print('xモデルの逸脱度',res.deviance)"
   ]
  },
  {
   "cell_type": "markdown",
   "metadata": {},
   "source": [
    "## [AIC(赤池情報量規準)](https://ja.wikipedia.org/wiki/%E8%B5%A4%E6%B1%A0%E6%83%85%E5%A0%B1%E9の87%8F%E8%A6%8F%E6%BA%96)\n",
    "\n",
    "つぎにどのようにモデルを選択したらよいのか考えてみます。赤池情報量基準を用いますが、ここでいう情報の意味は一般的な使用とは異なるので注意が必要です。情報には多様な意味がり、ここでは情報理論に基づく意味です。それは情報・通信を数学的に扱い、情報の定量化に用いられます。そして情報量とはある事象が起きた際にそれがどれほど起こりにくいかを示す尺度です。確定的な事象には情報量が少なく、不確定な事象ほど情報量が多くなります。ある事象Eが起きたときに受け取る情報量は、その確率の対数をとりそのマイナスを取ったものです。\n",
    "\n",
    "赤池情報量規準は、統計モデルの良さを評価するための指標です。その情報量の測定には確率ではなくて、尤度を用います。尤度は尤度関数とも呼ばれ、B=bであることが確定している場合に、Aが起きる確率の関数のことです。具体的にはAIC最小のモデルを選択します。(wiki)\n",
    "\n",
    "$AIC=-2\\ln L +2k $\n",
    "\n",
    "$L:$ 最大尤度  \n",
    "$k:$ 自由パラメータ数\n",
    "標本の大きさが$n$で各標本の誤差項が独立で確率分布が正規分布、かつ各標本誤差が等しい場合には\n",
    "\n",
    "$AIC=n \\ln \\sigma^2 +2k$  "
   ]
  },
  {
   "cell_type": "markdown",
   "metadata": {},
   "source": [
    "# GLMの尤度比検定と検定の非対称性"
   ]
  },
  {
   "cell_type": "markdown",
   "metadata": {},
   "source": [
    "# GLMの応用範囲を広げる\n",
    "\n",
    "一般化線形回帰は確率分布、リンク関数、線形予測子をいろいろと組み合わせることでさまざまな特徴をもったデータに適応できます。\n",
    "\n",
    "Fisher(1934)は一般に使われている確率質量関数と確率密度関数が指数分布と呼ばれる分布の特別の場合ではないかと提案しました。\n",
    "\n",
    "- 離散確率分布\n",
    "    - 二項分布\n",
    "    - ポアソン分布\n",
    "    - 負の二項分布\n",
    "- 連続確率分布\n",
    "    - ガンマ分布\n",
    "    - 正規分布\n",
    "    \n",
    "\n",
    "- それぞれの分布に適応できるstatsmodelsのリンク関数 ![image.png](https://qiita-image-store.s3.ap-northeast-1.amazonaws.com/0/267055/7cbf8b94-3003-6164-d78b-002da80985ce.png)\n",
    "\n",
    "### 例題　上限のある計数データ\n",
    "\n",
    "二項分布は上限のある計数データに使います。応答変数$y_i$は$y_i \\in {0,2,3,...,8}$とします。\n",
    "\n",
    "二項分布で二値のデータの特性を表現できます。\n",
    "\n",
    "二項分布の確率分布は\n",
    "\n",
    "$ p(y|N,q)=_NC_y q^y(1-q)^{N-y}$\n",
    "\n",
    "で与えられます。$ p(y|N,q)$は$N$個から$y$個で表現できる事象が生起する確率です。$_NC_y$は異なる$N$個から$y$個を選ぶ組み合わせの総数のことです。これは\n",
    "\n",
    "$_NC_y=\\frac{(N-y+1)!}{y!}$\n",
    "\n",
    "です。\n",
    "\n",
    "豆知識：nPrは異なるn個からr個を選んで並べた順列の総数です。これは樹形図を書けば簡単に求まります。一方でnCrは組み合わせの総数です。組み合わせは選んでいるだけです。ですからABとBAの順番を区別しません。したがって、順列から重複分を補正します。並べ方の総数はr!ですから、その分を順列から割れば、組み合わせになります。"
   ]
  },
  {
   "cell_type": "code",
   "execution_count": 112,
   "metadata": {},
   "outputs": [
    {
     "data": {
      "text/plain": [
       "[<matplotlib.lines.Line2D at 0x25724f9b070>]"
      ]
     },
     "execution_count": 112,
     "metadata": {},
     "output_type": "execute_result"
    },
    {
     "data": {
      "image/png": "[encoded data removed]",
      "text/plain": [
       "<Figure size 432x288 with 1 Axes>"
      ]
     },
     "metadata": {
      "needs_background": "light"
     },
     "output_type": "display_data"
    }
   ],
   "source": [
    "# 二項分布と計数の上限と確率の確認\n",
    "from scipy.stats import binom\n",
    "x = np.arange(0,9)\n",
    "plt.plot(x, binom.pmf(x, 8, 0.1))\n",
    "plt.plot(x, binom.pmf(x, 8, 0.3))\n",
    "plt.plot(x, binom.pmf(x, 8, 0.8))"
   ]
  },
  {
   "cell_type": "markdown",
   "metadata": {},
   "source": [
    "#### ロジットリンク関数\n",
    "\n",
    "ロジスティック回帰では確率分布は二項分布、リンク関数にはロジットリンク関数を使います。\n",
    "\n",
    "ロジスティック関数は\n",
    "\n",
    "$q_i=logistic(z_i)=\\frac{1}{1+\\exp(-z_i)}=\\frac{\\exp(z_i)}{1+\\exp(z_i)}$\n",
    "\n",
    "です。$z_i=\\beta_1+\\beta_2x_i+,.....$は線形予測子です。\n",
    "\n",
    "ロジスティック関数は\n",
    "\n",
    "$logit(q_i)=\\log\\frac{q_i}{1-q_i}=z_i$\n",
    "\n",
    "と変形でき、ロジット関数といいます。ロジット関数はロジスティック関数の逆関数です。"
   ]
  },
  {
   "cell_type": "code",
   "execution_count": 113,
   "metadata": {},
   "outputs": [
    {
     "data": {
      "text/plain": [
       "[<matplotlib.lines.Line2D at 0x25724df1220>]"
      ]
     },
     "execution_count": 113,
     "metadata": {},
     "output_type": "execute_result"
    },
    {
     "data": {
      "image/png": "[encoded data removed]",
      "text/plain": [
       "<Figure size 432x288 with 1 Axes>"
      ]
     },
     "metadata": {
      "needs_background": "light"
     },
     "output_type": "display_data"
    }
   ],
   "source": [
    "from scipy.stats import logistic\n",
    "x = np.linspace(-6,6, 100)\n",
    "plt.plot(x, logistic.cdf(x))"
   ]
  },
  {
   "cell_type": "code",
   "execution_count": 114,
   "metadata": {},
   "outputs": [
    {
     "data": {
      "text/plain": [
       "[<matplotlib.lines.Line2D at 0x2572562e3a0>]"
      ]
     },
     "execution_count": 114,
     "metadata": {},
     "output_type": "execute_result"
    },
    {
     "data": {
      "image/png": "[encoded data removed]",
      "text/plain": [
       "<Figure size 432x288 with 1 Axes>"
      ]
     },
     "metadata": {
      "needs_background": "light"
     },
     "output_type": "display_data"
    }
   ],
   "source": [
    "x=np.linspace(-3,3,100)\n",
    "p=1/(1+np.exp(-(2+2*x)))\n",
    "plt.plot(p)\n",
    "p=1/(1+np.exp(-(0+2*x)))\n",
    "plt.plot(p)\n",
    "p=1/(1+np.exp(-(-3+2*x)))\n",
    "plt.plot(p)"
   ]
  },
  {
   "cell_type": "code",
   "execution_count": 115,
   "metadata": {},
   "outputs": [
    {
     "data": {
      "text/plain": [
       "[<matplotlib.lines.Line2D at 0x257255b8760>]"
      ]
     },
     "execution_count": 115,
     "metadata": {},
     "output_type": "execute_result"
    },
    {
     "data": {
      "image/png": "[encoded data removed]",
      "text/plain": [
       "<Figure size 432x288 with 1 Axes>"
      ]
     },
     "metadata": {
      "needs_background": "light"
     },
     "output_type": "display_data"
    }
   ],
   "source": [
    "x=np.linspace(-3,3,100)\n",
    "p=1/(1+np.exp(-(-1*x)))\n",
    "plt.plot(p)\n",
    "p=1/(1+np.exp(-(2*x)))\n",
    "plt.plot(p)\n",
    "p=1/(1+np.exp(-(4*x)))\n",
    "plt.plot(p)"
   ]
  },
  {
   "cell_type": "markdown",
   "metadata": {},
   "source": [
    "#### パラメータ推定\n",
    "\n",
    "二項分布のパラメータを推定します。尤度関数は\n",
    "\n",
    "$L({\\beta_j})=L(\\beta_1,...)=\\Pi _{N_i}C_{y_i}q_i^{y_i}(1-q_i)^{N_i-y_i}$\n",
    "\n",
    "で対数を取ると\n",
    "\n",
    "$\\log L({\\beta_j})=\\sum_i [\\log _{N_i}C_{y_i} +y_i\\log(q_i)+(N_i-y_i)\\log(1-q_i)]$"
   ]
  },
  {
   "cell_type": "code",
   "execution_count": 116,
   "metadata": {},
   "outputs": [],
   "source": [
    "# 新しいデータの取得\n",
    "data4a = pd.read_csv('data4a.csv')"
   ]
  },
  {
   "cell_type": "code",
   "execution_count": 117,
   "metadata": {},
   "outputs": [
    {
     "data": {
      "text/html": [
       "<div>\n",
       "<style scoped>\n",
       "    .dataframe tbody tr th:only-of-type {\n",
       "        vertical-align: middle;\n",
       "    }\n",
       "\n",
       "    .dataframe tbody tr th {\n",
       "        vertical-align: top;\n",
       "    }\n",
       "\n",
       "    .dataframe thead th {\n",
       "        text-align: right;\n",
       "    }\n",
       "</style>\n",
       "<table border=\"1\" class=\"dataframe\">\n",
       "  <thead>\n",
       "    <tr style=\"text-align: right;\">\n",
       "      <th></th>\n",
       "      <th>N</th>\n",
       "      <th>y</th>\n",
       "      <th>x</th>\n",
       "      <th>f</th>\n",
       "    </tr>\n",
       "  </thead>\n",
       "  <tbody>\n",
       "    <tr>\n",
       "      <th>0</th>\n",
       "      <td>8</td>\n",
       "      <td>1</td>\n",
       "      <td>9.76</td>\n",
       "      <td>C</td>\n",
       "    </tr>\n",
       "    <tr>\n",
       "      <th>1</th>\n",
       "      <td>8</td>\n",
       "      <td>6</td>\n",
       "      <td>10.48</td>\n",
       "      <td>C</td>\n",
       "    </tr>\n",
       "    <tr>\n",
       "      <th>2</th>\n",
       "      <td>8</td>\n",
       "      <td>5</td>\n",
       "      <td>10.83</td>\n",
       "      <td>C</td>\n",
       "    </tr>\n",
       "    <tr>\n",
       "      <th>3</th>\n",
       "      <td>8</td>\n",
       "      <td>6</td>\n",
       "      <td>10.94</td>\n",
       "      <td>C</td>\n",
       "    </tr>\n",
       "    <tr>\n",
       "      <th>4</th>\n",
       "      <td>8</td>\n",
       "      <td>1</td>\n",
       "      <td>9.37</td>\n",
       "      <td>C</td>\n",
       "    </tr>\n",
       "  </tbody>\n",
       "</table>\n",
       "</div>"
      ],
      "text/plain": [
       "   N  y      x  f\n",
       "0  8  1   9.76  C\n",
       "1  8  6  10.48  C\n",
       "2  8  5  10.83  C\n",
       "3  8  6  10.94  C\n",
       "4  8  1   9.37  C"
      ]
     },
     "execution_count": 117,
     "metadata": {},
     "output_type": "execute_result"
    }
   ],
   "source": [
    "# データの確認\n",
    "data4a[:5]"
   ]
  },
  {
   "cell_type": "code",
   "execution_count": 118,
   "metadata": {},
   "outputs": [
    {
     "data": {
      "text/html": [
       "<div>\n",
       "<style scoped>\n",
       "    .dataframe tbody tr th:only-of-type {\n",
       "        vertical-align: middle;\n",
       "    }\n",
       "\n",
       "    .dataframe tbody tr th {\n",
       "        vertical-align: top;\n",
       "    }\n",
       "\n",
       "    .dataframe thead th {\n",
       "        text-align: right;\n",
       "    }\n",
       "</style>\n",
       "<table border=\"1\" class=\"dataframe\">\n",
       "  <thead>\n",
       "    <tr style=\"text-align: right;\">\n",
       "      <th></th>\n",
       "      <th>y</th>\n",
       "      <th>x</th>\n",
       "    </tr>\n",
       "  </thead>\n",
       "  <tbody>\n",
       "    <tr>\n",
       "      <th>count</th>\n",
       "      <td>100.000000</td>\n",
       "      <td>100.000000</td>\n",
       "    </tr>\n",
       "    <tr>\n",
       "      <th>mean</th>\n",
       "      <td>7.830000</td>\n",
       "      <td>10.089100</td>\n",
       "    </tr>\n",
       "    <tr>\n",
       "      <th>std</th>\n",
       "      <td>2.624881</td>\n",
       "      <td>1.008049</td>\n",
       "    </tr>\n",
       "    <tr>\n",
       "      <th>min</th>\n",
       "      <td>2.000000</td>\n",
       "      <td>7.190000</td>\n",
       "    </tr>\n",
       "    <tr>\n",
       "      <th>25%</th>\n",
       "      <td>6.000000</td>\n",
       "      <td>9.427500</td>\n",
       "    </tr>\n",
       "    <tr>\n",
       "      <th>50%</th>\n",
       "      <td>8.000000</td>\n",
       "      <td>10.155000</td>\n",
       "    </tr>\n",
       "    <tr>\n",
       "      <th>75%</th>\n",
       "      <td>10.000000</td>\n",
       "      <td>10.685000</td>\n",
       "    </tr>\n",
       "    <tr>\n",
       "      <th>max</th>\n",
       "      <td>15.000000</td>\n",
       "      <td>12.400000</td>\n",
       "    </tr>\n",
       "  </tbody>\n",
       "</table>\n",
       "</div>"
      ],
      "text/plain": [
       "                y           x\n",
       "count  100.000000  100.000000\n",
       "mean     7.830000   10.089100\n",
       "std      2.624881    1.008049\n",
       "min      2.000000    7.190000\n",
       "25%      6.000000    9.427500\n",
       "50%      8.000000   10.155000\n",
       "75%     10.000000   10.685000\n",
       "max     15.000000   12.400000"
      ]
     },
     "execution_count": 118,
     "metadata": {},
     "output_type": "execute_result"
    }
   ],
   "source": [
    "# データの統計量の確認\n",
    "data3a.describe()"
   ]
  },
  {
   "cell_type": "code",
   "execution_count": 119,
   "metadata": {},
   "outputs": [
    {
     "data": {
      "text/plain": [
       "[[1, 7], [6, 2], [5, 3], [6, 2], [1, 7]]"
      ]
     },
     "execution_count": 119,
     "metadata": {},
     "output_type": "execute_result"
    }
   ],
   "source": [
    "# 応答変数の作成　(成功の数、失敗の数)\n",
    "y=pd.concat([data4a.y,data4a.N-data4a.y],axis=1)\n",
    "y=y.values.tolist()\n",
    "y[:5]"
   ]
  },
  {
   "cell_type": "code",
   "execution_count": 120,
   "metadata": {},
   "outputs": [
    {
     "data": {
      "text/plain": [
       "0    0\n",
       "1    0\n",
       "2    0\n",
       "3    0\n",
       "4    0\n",
       "Name: T, dtype: uint8"
      ]
     },
     "execution_count": 120,
     "metadata": {},
     "output_type": "execute_result"
    }
   ],
   "source": [
    "# 説明変数の作成　\n",
    "# xの取得\n",
    "x=data4a.iloc[:,2]\n",
    "# fを取得して、カテゴリカルデータをダミー変数に変換\n",
    "xx=pd.get_dummies(data4a.iloc[:,3])\n",
    "xx=xx.iloc[:,1]#CとTのダミー変数の内Tを取得\n",
    "xx[:5]"
   ]
  },
  {
   "cell_type": "code",
   "execution_count": 121,
   "metadata": {},
   "outputs": [
    {
     "data": {
      "text/html": [
       "<div>\n",
       "<style scoped>\n",
       "    .dataframe tbody tr th:only-of-type {\n",
       "        vertical-align: middle;\n",
       "    }\n",
       "\n",
       "    .dataframe tbody tr th {\n",
       "        vertical-align: top;\n",
       "    }\n",
       "\n",
       "    .dataframe thead th {\n",
       "        text-align: right;\n",
       "    }\n",
       "</style>\n",
       "<table border=\"1\" class=\"dataframe\">\n",
       "  <thead>\n",
       "    <tr style=\"text-align: right;\">\n",
       "      <th></th>\n",
       "      <th>const</th>\n",
       "      <th>x</th>\n",
       "      <th>T</th>\n",
       "    </tr>\n",
       "  </thead>\n",
       "  <tbody>\n",
       "    <tr>\n",
       "      <th>0</th>\n",
       "      <td>1.0</td>\n",
       "      <td>9.76</td>\n",
       "      <td>0</td>\n",
       "    </tr>\n",
       "    <tr>\n",
       "      <th>1</th>\n",
       "      <td>1.0</td>\n",
       "      <td>10.48</td>\n",
       "      <td>0</td>\n",
       "    </tr>\n",
       "    <tr>\n",
       "      <th>2</th>\n",
       "      <td>1.0</td>\n",
       "      <td>10.83</td>\n",
       "      <td>0</td>\n",
       "    </tr>\n",
       "    <tr>\n",
       "      <th>3</th>\n",
       "      <td>1.0</td>\n",
       "      <td>10.94</td>\n",
       "      <td>0</td>\n",
       "    </tr>\n",
       "    <tr>\n",
       "      <th>4</th>\n",
       "      <td>1.0</td>\n",
       "      <td>9.37</td>\n",
       "      <td>0</td>\n",
       "    </tr>\n",
       "  </tbody>\n",
       "</table>\n",
       "</div>"
      ],
      "text/plain": [
       "   const      x  T\n",
       "0    1.0   9.76  0\n",
       "1    1.0  10.48  0\n",
       "2    1.0  10.83  0\n",
       "3    1.0  10.94  0\n",
       "4    1.0   9.37  0"
      ]
     },
     "execution_count": 121,
     "metadata": {},
     "output_type": "execute_result"
    }
   ],
   "source": [
    "# x とfを結合\n",
    "x=pd.concat([x,xx],axis=1)\n",
    "x=sm.add_constant(x)\n",
    "x[:5]"
   ]
  },
  {
   "cell_type": "code",
   "execution_count": 122,
   "metadata": {},
   "outputs": [
    {
     "data": {
      "text/html": [
       "<table class=\"simpletable\">\n",
       "<caption>Generalized Linear Model Regression Results</caption>\n",
       "<tr>\n",
       "  <th>Dep. Variable:</th>     <td>['y1', 'y2']</td>   <th>  No. Observations:  </th>  <td>   100</td> \n",
       "</tr>\n",
       "<tr>\n",
       "  <th>Model:</th>                  <td>GLM</td>       <th>  Df Residuals:      </th>  <td>    97</td> \n",
       "</tr>\n",
       "<tr>\n",
       "  <th>Model Family:</th>        <td>Binomial</td>     <th>  Df Model:          </th>  <td>     2</td> \n",
       "</tr>\n",
       "<tr>\n",
       "  <th>Link Function:</th>         <td>logit</td>      <th>  Scale:             </th> <td>  1.0000</td>\n",
       "</tr>\n",
       "<tr>\n",
       "  <th>Method:</th>                <td>IRLS</td>       <th>  Log-Likelihood:    </th> <td> -133.11</td>\n",
       "</tr>\n",
       "<tr>\n",
       "  <th>Date:</th>            <td>Mon, 24 May 2021</td> <th>  Deviance:          </th> <td>  123.03</td>\n",
       "</tr>\n",
       "<tr>\n",
       "  <th>Time:</th>                <td>01:57:54</td>     <th>  Pearson chi2:      </th>  <td>  109.</td> \n",
       "</tr>\n",
       "<tr>\n",
       "  <th>No. Iterations:</th>          <td>6</td>        <th>                     </th>     <td> </td>   \n",
       "</tr>\n",
       "<tr>\n",
       "  <th>Covariance Type:</th>     <td>nonrobust</td>    <th>                     </th>     <td> </td>   \n",
       "</tr>\n",
       "</table>\n",
       "<table class=\"simpletable\">\n",
       "<tr>\n",
       "    <td></td>       <th>coef</th>     <th>std err</th>      <th>z</th>      <th>P>|z|</th>  <th>[0.025</th>    <th>0.975]</th>  \n",
       "</tr>\n",
       "<tr>\n",
       "  <th>const</th> <td>  -19.5361</td> <td>    1.414</td> <td>  -13.818</td> <td> 0.000</td> <td>  -22.307</td> <td>  -16.765</td>\n",
       "</tr>\n",
       "<tr>\n",
       "  <th>x</th>     <td>    1.9524</td> <td>    0.139</td> <td>   14.059</td> <td> 0.000</td> <td>    1.680</td> <td>    2.225</td>\n",
       "</tr>\n",
       "<tr>\n",
       "  <th>T</th>     <td>    2.0215</td> <td>    0.231</td> <td>    8.740</td> <td> 0.000</td> <td>    1.568</td> <td>    2.475</td>\n",
       "</tr>\n",
       "</table>"
      ],
      "text/plain": [
       "<class 'statsmodels.iolib.summary.Summary'>\n",
       "\"\"\"\n",
       "                 Generalized Linear Model Regression Results                  \n",
       "==============================================================================\n",
       "Dep. Variable:           ['y1', 'y2']   No. Observations:                  100\n",
       "Model:                            GLM   Df Residuals:                       97\n",
       "Model Family:                Binomial   Df Model:                            2\n",
       "Link Function:                  logit   Scale:                          1.0000\n",
       "Method:                          IRLS   Log-Likelihood:                -133.11\n",
       "Date:                Mon, 24 May 2021   Deviance:                       123.03\n",
       "Time:                        01:57:54   Pearson chi2:                     109.\n",
       "No. Iterations:                     6                                         \n",
       "Covariance Type:            nonrobust                                         \n",
       "==============================================================================\n",
       "                 coef    std err          z      P>|z|      [0.025      0.975]\n",
       "------------------------------------------------------------------------------\n",
       "const        -19.5361      1.414    -13.818      0.000     -22.307     -16.765\n",
       "x              1.9524      0.139     14.059      0.000       1.680       2.225\n",
       "T              2.0215      0.231      8.740      0.000       1.568       2.475\n",
       "==============================================================================\n",
       "\"\"\""
      ]
     },
     "execution_count": 122,
     "metadata": {},
     "output_type": "execute_result"
    }
   ],
   "source": [
    "# 二項分布による最適化\n",
    "bpglm = sm.GLM(y, x, family=sm.families.Binomial())\n",
    "res_b=bpglm.fit()\n",
    "res_b.summary()"
   ]
  },
  {
   "cell_type": "markdown",
   "metadata": {},
   "source": [
    "- ロジスティックリンク関数：意味と解釈\n",
    "\n",
    "ロジット関数は\n",
    "\n",
    "$logit(q_i)=\\log\\frac{q_i}{1-q_i}=z_i$\n",
    "\n",
    "ですから、指数関数をとって\n",
    "\n",
    "$\\frac{q_i}{1-q_i}=\\exp(z_i)=\\exp(\\beta_1+\\beta_2 x_i+\\beta_3 f_i)$\n",
    "\n",
    "となります。$\\frac{q_i}{1-q_i}$をオッズといいます。これは$\\exp(\\beta_1)\\exp(\\beta_2 x_i)\\exp(\\beta_3 f_i)$と等しくなります。切片を除いて考えると\n",
    "\n",
    "$\\frac{q_i}{1-q_i}=\\exp(1.95x_i)\\exp(2.02f_i)$\n",
    "\n",
    "$x_i$が１単位増えると$\\exp(1.95)$倍になるので、オッズは７倍ほど増えます。$f_i$が一単位増えるとオッズは7.5倍程度増えます。"
   ]
  },
  {
   "cell_type": "code",
   "execution_count": 123,
   "metadata": {},
   "outputs": [
    {
     "data": {
      "text/plain": [
       "(7.028687580589293, 7.538324933661922)"
      ]
     },
     "execution_count": 123,
     "metadata": {},
     "output_type": "execute_result"
    }
   ],
   "source": [
    "np.exp(1.95),np.exp(2.02)"
   ]
  },
  {
   "cell_type": "markdown",
   "metadata": {},
   "source": [
    "### ガンマ分布のGLM\n",
    "\n",
    "ガンマ分布の確率密度関数は\n",
    "\n",
    "$p(y|x,r)=\\frac{r^2}{\\Gamma(s)}y^{s-1}\\exp(-ry)$\n",
    "\n",
    "$s$は形状パラメータ、$r$が率パラメータ、$\\Gamma(s)$はガンマ関数です。\n",
    "\n",
    "平均: $s/r$\n",
    "\n",
    "分散: $s/r^2$\n",
    "\n",
    "となります。\n",
    "\n",
    "##### ガンマ分布の応用\n",
    "\n",
    "- 通信工学におけるトラフィックの待ち時間の分布\n",
    "- 所得の分布\n",
    "- 信頼性工学における電子部品の寿命の分布\n",
    "- 雨粒の分布\n",
    "- 保険金請求の分布\n",
    "- ガン患者の年齢の分布\n",
    "- 神経科学の発火時間間隔(興奮抑制)の分布\n",
    "- バクテリア遺伝子発現における構造発現たんぱく質のコピーの数\n",
    "- ゲノミクスにおけるChIP-chip分析のピークコーリングステップの分布\n",
    "\n",
    "変数が正の値だけを取る場合などに使われます。"
   ]
  },
  {
   "cell_type": "code",
   "execution_count": 124,
   "metadata": {},
   "outputs": [
    {
     "name": "stderr",
     "output_type": "stream",
     "text": [
      "C:\\Users\\moriya\\anaconda3\\lib\\site-packages\\rdata\\conversion\\_conversion.py:267: UserWarning: Unknown encoding. Assumed ASCII.\n",
      "  warnings.warn(f\"Unknown encoding. Assumed ASCII.\")\n"
     ]
    },
    {
     "data": {
      "text/html": [
       "<div>\n",
       "<style scoped>\n",
       "    .dataframe tbody tr th:only-of-type {\n",
       "        vertical-align: middle;\n",
       "    }\n",
       "\n",
       "    .dataframe tbody tr th {\n",
       "        vertical-align: top;\n",
       "    }\n",
       "\n",
       "    .dataframe thead th {\n",
       "        text-align: right;\n",
       "    }\n",
       "</style>\n",
       "<table border=\"1\" class=\"dataframe\">\n",
       "  <thead>\n",
       "    <tr style=\"text-align: right;\">\n",
       "      <th></th>\n",
       "      <th>x</th>\n",
       "      <th>y</th>\n",
       "    </tr>\n",
       "  </thead>\n",
       "  <tbody>\n",
       "    <tr>\n",
       "      <th>0</th>\n",
       "      <td>0.001000</td>\n",
       "      <td>0.000887</td>\n",
       "    </tr>\n",
       "    <tr>\n",
       "      <th>1</th>\n",
       "      <td>0.017306</td>\n",
       "      <td>0.023465</td>\n",
       "    </tr>\n",
       "    <tr>\n",
       "      <th>2</th>\n",
       "      <td>0.033612</td>\n",
       "      <td>0.069876</td>\n",
       "    </tr>\n",
       "    <tr>\n",
       "      <th>3</th>\n",
       "      <td>0.049918</td>\n",
       "      <td>0.034340</td>\n",
       "    </tr>\n",
       "    <tr>\n",
       "      <th>4</th>\n",
       "      <td>0.066224</td>\n",
       "      <td>0.026520</td>\n",
       "    </tr>\n",
       "  </tbody>\n",
       "</table>\n",
       "</div>"
      ],
      "text/plain": [
       "          x         y\n",
       "0  0.001000  0.000887\n",
       "1  0.017306  0.023465\n",
       "2  0.033612  0.069876\n",
       "3  0.049918  0.034340\n",
       "4  0.066224  0.026520"
      ]
     },
     "execution_count": 124,
     "metadata": {},
     "output_type": "execute_result"
    }
   ],
   "source": [
    "import rdata\n",
    "parsed = rdata.parser.parse_file('d.RData')\n",
    "data_g = rdata.conversion.convert(parsed)\n",
    "data_g=pd.DataFrame(data_g['d'])\n",
    "data_g.head()"
   ]
  },
  {
   "cell_type": "code",
   "execution_count": 125,
   "metadata": {},
   "outputs": [
    {
     "data": {
      "text/html": [
       "<table class=\"simpletable\">\n",
       "<caption>Generalized Linear Model Regression Results</caption>\n",
       "<tr>\n",
       "  <th>Dep. Variable:</th>           <td>y</td>        <th>  No. Observations:  </th>  <td>    50</td> \n",
       "</tr>\n",
       "<tr>\n",
       "  <th>Model:</th>                  <td>GLM</td>       <th>  Df Residuals:      </th>  <td>    48</td> \n",
       "</tr>\n",
       "<tr>\n",
       "  <th>Model Family:</th>          <td>Gamma</td>      <th>  Df Model:          </th>  <td>     1</td> \n",
       "</tr>\n",
       "<tr>\n",
       "  <th>Link Function:</th>          <td>log</td>       <th>  Scale:             </th> <td> 0.32508</td>\n",
       "</tr>\n",
       "<tr>\n",
       "  <th>Method:</th>                <td>IRLS</td>       <th>  Log-Likelihood:    </th> <td>  58.471</td>\n",
       "</tr>\n",
       "<tr>\n",
       "  <th>Date:</th>            <td>Mon, 24 May 2021</td> <th>  Deviance:          </th> <td>  17.251</td>\n",
       "</tr>\n",
       "<tr>\n",
       "  <th>Time:</th>                <td>01:57:55</td>     <th>  Pearson chi2:      </th>  <td>  15.6</td> \n",
       "</tr>\n",
       "<tr>\n",
       "  <th>No. Iterations:</th>         <td>18</td>        <th>                     </th>     <td> </td>   \n",
       "</tr>\n",
       "<tr>\n",
       "  <th>Covariance Type:</th>     <td>nonrobust</td>    <th>                     </th>     <td> </td>   \n",
       "</tr>\n",
       "</table>\n",
       "<table class=\"simpletable\">\n",
       "<tr>\n",
       "    <td></td>       <th>coef</th>     <th>std err</th>      <th>z</th>      <th>P>|z|</th>  <th>[0.025</th>    <th>0.975]</th>  \n",
       "</tr>\n",
       "<tr>\n",
       "  <th>const</th> <td>   -1.0403</td> <td>    0.119</td> <td>   -8.759</td> <td> 0.000</td> <td>   -1.273</td> <td>   -0.808</td>\n",
       "</tr>\n",
       "<tr>\n",
       "  <th>x</th>     <td>    0.6832</td> <td>    0.068</td> <td>    9.992</td> <td> 0.000</td> <td>    0.549</td> <td>    0.817</td>\n",
       "</tr>\n",
       "</table>"
      ],
      "text/plain": [
       "<class 'statsmodels.iolib.summary.Summary'>\n",
       "\"\"\"\n",
       "                 Generalized Linear Model Regression Results                  \n",
       "==============================================================================\n",
       "Dep. Variable:                      y   No. Observations:                   50\n",
       "Model:                            GLM   Df Residuals:                       48\n",
       "Model Family:                   Gamma   Df Model:                            1\n",
       "Link Function:                    log   Scale:                         0.32508\n",
       "Method:                          IRLS   Log-Likelihood:                 58.471\n",
       "Date:                Mon, 24 May 2021   Deviance:                       17.251\n",
       "Time:                        01:57:55   Pearson chi2:                     15.6\n",
       "No. Iterations:                    18                                         \n",
       "Covariance Type:            nonrobust                                         \n",
       "==============================================================================\n",
       "                 coef    std err          z      P>|z|      [0.025      0.975]\n",
       "------------------------------------------------------------------------------\n",
       "const         -1.0403      0.119     -8.759      0.000      -1.273      -0.808\n",
       "x              0.6832      0.068      9.992      0.000       0.549       0.817\n",
       "==============================================================================\n",
       "\"\"\""
      ]
     },
     "execution_count": 125,
     "metadata": {},
     "output_type": "execute_result"
    }
   ],
   "source": [
    "xx=sm.add_constant(np.log(data_g.x))\n",
    "gglm = sm.GLM(data_g.y, xx, family=sm.families.Gamma(sm.families.links.log()))\n",
    "res=gglm.fit()\n",
    "res.summary()"
   ]
  },
  {
   "cell_type": "code",
   "execution_count": 126,
   "metadata": {},
   "outputs": [],
   "source": [
    "y_hat=res.predict()"
   ]
  },
  {
   "cell_type": "code",
   "execution_count": 127,
   "metadata": {},
   "outputs": [
    {
     "data": {
      "text/plain": [
       "<matplotlib.collections.PathCollection at 0x2572a89fd00>"
      ]
     },
     "execution_count": 127,
     "metadata": {},
     "output_type": "execute_result"
    },
    {
     "data": {
      "image/png": "[encoded data removed]",
      "text/plain": [
       "<Figure size 432x288 with 1 Axes>"
      ]
     },
     "metadata": {
      "needs_background": "light"
     },
     "output_type": "display_data"
    }
   ],
   "source": [
    "plt.scatter(data_g.x,data_g.y)\n",
    "plt.scatter(data_g.x,y_hat)"
   ]
  },
  {
   "cell_type": "markdown",
   "metadata": {},
   "source": [
    "# 例\n",
    "\n",
    "## 例１：カリフォルニア州教育方針とその成果\n",
    "\n",
    "\n",
    "教育問題の分析は難しく、経済学者と教育学者の間でアプローチがまったく異なります。\n",
    "\n",
    "\n",
    "観測データ数：303(カリフォルニア州の郡)\n",
    "\n",
    "変数の数：13項目＋8相互作用項\n",
    "\n",
    "変数名と内容：\n",
    "\n",
    "    - NABOVE   - 数学の成績で国内の中央値を上回る生徒の数\n",
    "    - NBELOW   - 数学の成績で国内の中央値を下回る生徒の数\n",
    "    - LOWINC   - 低所得層の生徒の割合\n",
    "    - PERASIAN - アジアの生徒の割合\n",
    "    - PERBLACK - ブラックの生徒の割合\n",
    "    - PERHISP  - ヒスパニックの生徒の割合\n",
    "    - PERMINTE - マイノリティ教師の割合\n",
    "    - AVYRSEXP - 先生の教育に従事した年数の和を先生の数で割った平均値\n",
    "    - AVSALK   - 総給与予算額をフルタイムの先生の数で割った平均値\n",
    "    - PERSPENK - １生徒あたりの支出額\n",
    "    - PTRATIO  - 先生と生徒の比率\n",
    "    - PCTAF    - UC/CSUの準備コースを受けた生徒の割合\n",
    "    - PCTCHRT  - チャータースクールの割合\n",
    "    - PCTYRRND - year-round スクールの割合\n",
    "\n",
    "相互作用項\n",
    "\n",
    "    - PERMINTE_AVYRSEXP\n",
    "    - PEMINTE_AVSAL\n",
    "    - AVYRSEXP_AVSAL\n",
    "    - PERSPEN_PTRATIO\n",
    "    - PERSPEN_PCTAF\n",
    "    - PTRATIO_PCTAF\n",
    "    - PERMINTE_AVTRSEXP_AVSAL\n",
    "    - PERSPEN_PTRATIO_PCTAF"
   ]
  },
  {
   "cell_type": "code",
   "execution_count": 128,
   "metadata": {},
   "outputs": [
    {
     "name": "stdout",
     "output_type": "stream",
     "text": [
      "[[452. 355.]\n",
      " [144.  40.]\n",
      " [337. 234.]\n",
      " [395. 178.]\n",
      " [  8.  57.]]\n"
     ]
    }
   ],
   "source": [
    "cdata = sm.datasets.star98.load(as_pandas=False)\n",
    "cdata.exog = sm.add_constant(cdata.exog, prepend=False)\n",
    "print(cdata.endog[:5,:])"
   ]
  },
  {
   "cell_type": "code",
   "execution_count": 129,
   "metadata": {},
   "outputs": [
    {
     "data": {
      "text/plain": [
       "(357.8151815181518, 199.0)"
      ]
     },
     "execution_count": 129,
     "metadata": {},
     "output_type": "execute_result"
    },
    {
     "data": {
      "image/png": "[encoded data removed]",
      "text/plain": [
       "<Figure size 432x288 with 1 Axes>"
      ]
     },
     "metadata": {
      "needs_background": "light"
     },
     "output_type": "display_data"
    }
   ],
   "source": [
    "plt.plot(cdata.endog[:,0])\n",
    "np.mean(cdata.endog[:,0]),np.median(cdata.endog[:,0]),"
   ]
  },
  {
   "cell_type": "code",
   "execution_count": 130,
   "metadata": {},
   "outputs": [
    {
     "data": {
      "text/plain": [
       "120.0"
      ]
     },
     "execution_count": 130,
     "metadata": {},
     "output_type": "execute_result"
    }
   ],
   "source": [
    "unique, freq = np.unique(cdata.endog[:,0]+cdata.endog[:,1], return_counts=True) #return_counts=Trueが肝\n",
    "mode = unique[np.argmax(freq)]\n",
    "mode"
   ]
  },
  {
   "cell_type": "code",
   "execution_count": 131,
   "metadata": {},
   "outputs": [
    {
     "data": {
      "text/plain": [
       "[<matplotlib.lines.Line2D at 0x2572a6c68e0>]"
      ]
     },
     "execution_count": 131,
     "metadata": {},
     "output_type": "execute_result"
    },
    {
     "data": {
      "image/png": "[encoded data removed]",
      "text/plain": [
       "<Figure size 432x288 with 1 Axes>"
      ]
     },
     "metadata": {
      "needs_background": "light"
     },
     "output_type": "display_data"
    }
   ],
   "source": [
    "plt.plot(cdata.endog[:,0]/(cdata.endog[:,0]+cdata.endog[:,1]))"
   ]
  },
  {
   "cell_type": "code",
   "execution_count": 132,
   "metadata": {},
   "outputs": [
    {
     "data": {
      "text/plain": [
       "<matplotlib.collections.PathCollection at 0x2572a92f130>"
      ]
     },
     "execution_count": 132,
     "metadata": {},
     "output_type": "execute_result"
    },
    {
     "data": {
      "image/png": "[encoded data removed]",
      "text/plain": [
       "<Figure size 432x288 with 1 Axes>"
      ]
     },
     "metadata": {
      "needs_background": "light"
     },
     "output_type": "display_data"
    }
   ],
   "source": [
    "plt.scatter(cdata.endog[:,0]+cdata.endog[:,1],cdata.endog[:,0]/(cdata.endog[:,0]+cdata.endog[:,1]))"
   ]
  },
  {
   "cell_type": "code",
   "execution_count": 133,
   "metadata": {},
   "outputs": [
    {
     "name": "stdout",
     "output_type": "stream",
     "text": [
      "                 Generalized Linear Model Regression Results                  \n",
      "==============================================================================\n",
      "Dep. Variable:           ['y1', 'y2']   No. Observations:                  303\n",
      "Model:                            GLM   Df Residuals:                      282\n",
      "Model Family:                Binomial   Df Model:                           20\n",
      "Link Function:                  logit   Scale:                          1.0000\n",
      "Method:                          IRLS   Log-Likelihood:                -2998.6\n",
      "Date:                Mon, 24 May 2021   Deviance:                       4078.8\n",
      "Time:                        01:57:55   Pearson chi2:                 4.05e+03\n",
      "No. Iterations:                     5                                         \n",
      "Covariance Type:            nonrobust                                         \n",
      "==============================================================================\n",
      "                 coef    std err          z      P>|z|      [0.025      0.975]\n",
      "------------------------------------------------------------------------------\n",
      "x1            -0.0168      0.000    -38.749      0.000      -0.018      -0.016\n",
      "x2             0.0099      0.001     16.505      0.000       0.009       0.011\n",
      "x3            -0.0187      0.001    -25.182      0.000      -0.020      -0.017\n",
      "x4            -0.0142      0.000    -32.818      0.000      -0.015      -0.013\n",
      "x5             0.2545      0.030      8.498      0.000       0.196       0.313\n",
      "x6             0.2407      0.057      4.212      0.000       0.129       0.353\n",
      "x7             0.0804      0.014      5.775      0.000       0.053       0.108\n",
      "x8            -1.9522      0.317     -6.162      0.000      -2.573      -1.331\n",
      "x9            -0.3341      0.061     -5.453      0.000      -0.454      -0.214\n",
      "x10           -0.1690      0.033     -5.169      0.000      -0.233      -0.105\n",
      "x11            0.0049      0.001      3.921      0.000       0.002       0.007\n",
      "x12           -0.0036      0.000    -15.878      0.000      -0.004      -0.003\n",
      "x13           -0.0141      0.002     -7.391      0.000      -0.018      -0.010\n",
      "x14           -0.0040      0.000     -8.450      0.000      -0.005      -0.003\n",
      "x15           -0.0039      0.001     -4.059      0.000      -0.006      -0.002\n",
      "x16            0.0917      0.015      6.321      0.000       0.063       0.120\n",
      "x17            0.0490      0.007      6.574      0.000       0.034       0.064\n",
      "x18            0.0080      0.001      5.362      0.000       0.005       0.011\n",
      "x19            0.0002   2.99e-05      7.428      0.000       0.000       0.000\n",
      "x20           -0.0022      0.000     -6.445      0.000      -0.003      -0.002\n",
      "const          2.9589      1.547      1.913      0.056      -0.073       5.990\n",
      "==============================================================================\n"
     ]
    }
   ],
   "source": [
    "glm_binom = sm.GLM(cdata.endog, cdata.exog, family=sm.families.Binomial())\n",
    "cres = glm_binom.fit()\n",
    "print(cres.summary())"
   ]
  },
  {
   "cell_type": "code",
   "execution_count": 134,
   "metadata": {},
   "outputs": [
    {
     "data": {
      "text/plain": [
       "(50,)"
      ]
     },
     "execution_count": 134,
     "metadata": {},
     "output_type": "execute_result"
    }
   ],
   "source": [
    "len(y_hat),"
   ]
  },
  {
   "cell_type": "code",
   "execution_count": 135,
   "metadata": {},
   "outputs": [
    {
     "data": {
      "image/png": "[encoded data removed]",
      "text/plain": [
       "<Figure size 432x288 with 1 Axes>"
      ]
     },
     "metadata": {
      "needs_background": "light"
     },
     "output_type": "display_data"
    }
   ],
   "source": [
    "y_hat=cres.predict()\n",
    "fig, ax = plt.subplots()\n",
    "ax.scatter(y_hat, cdata.endog[:,0])\n",
    "line_fit = sm.OLS(cdata.endog[:,0], sm.add_constant(y_hat, prepend=True)).fit()\n",
    "abline_plot(model_results=line_fit, ax=ax)\n",
    "plt.show()"
   ]
  },
  {
   "cell_type": "markdown",
   "metadata": {},
   "source": [
    "## 例：スコットランドの選挙 (ガンマ分布)\n",
    "\n",
    "データはGillの例を基にしている。地方税に関する権限を議会に与えるために「はい」と答えた人の割合である。データは32の地区に分割されている。この例の説明変数には1997年4月に徴収された2人の成人当たりの調整前の地方税の額、1998年1月の失業保険総給付額の女性の割合、標準死亡率(UK=100)、労働組合参加率、地域GDP、5から15歳までの子供の割合、女性の失業と地方税の関係が示されている。Gamma関数は比例計数応答変数に対応している(Gamma for proportional count response)。\n",
    "\n",
    "観測データ数：32\n",
    "\n",
    "変数の数：8項目\n",
    "    \n",
    "    - YES    - 「はい」と答えた人の割合\n",
    "    - COUTAX - 地方税の額\n",
    "    - UNEMPF - 失業保険総給付額の女性の割合\n",
    "    - MOR    - 標準化死亡率(UK=100)\n",
    "    - ACT    - 労働組合参加率\n",
    "    - GDP    - 地域GDP\n",
    "    - AGE    - 5から15歳までの子供の割合\n",
    "    - COUTAX_FEMALEUNEMP - 女性の失業と地方税の関係\n",
    "    \n",
    "説明変数には定数を付加した。\n",
    "\n",
    "データの詳細はつぎのように得られる。"
   ]
  },
  {
   "cell_type": "code",
   "execution_count": 136,
   "metadata": {},
   "outputs": [
    {
     "name": "stdout",
     "output_type": "stream",
     "text": [
      "[60.3 52.3 53.4 57.  68.7]\n",
      "[[7.12000e+02 2.10000e+01 1.05000e+02 8.24000e+01 1.35660e+04 1.23000e+01\n",
      "  1.49520e+04 1.00000e+00]\n",
      " [6.43000e+02 2.65000e+01 9.70000e+01 8.02000e+01 1.35660e+04 1.53000e+01\n",
      "  1.70395e+04 1.00000e+00]\n",
      " [6.79000e+02 2.83000e+01 1.13000e+02 8.63000e+01 9.61100e+03 1.39000e+01\n",
      "  1.92157e+04 1.00000e+00]\n",
      " [8.01000e+02 2.71000e+01 1.09000e+02 8.04000e+01 9.48300e+03 1.36000e+01\n",
      "  2.17071e+04 1.00000e+00]\n",
      " [7.53000e+02 2.20000e+01 1.15000e+02 6.47000e+01 9.26500e+03 1.46000e+01\n",
      "  1.65660e+04 1.00000e+00]]\n"
     ]
    }
   ],
   "source": [
    "sdata = sm.datasets.scotland.load()\n",
    "sdata.exog = sm.add_constant(sdata.exog, prepend=False)\n",
    "print(sdata.endog[:5])\n",
    "print(sdata.exog[:5,:])"
   ]
  },
  {
   "cell_type": "code",
   "execution_count": 137,
   "metadata": {},
   "outputs": [
    {
     "data": {
      "text/plain": [
       "[<matplotlib.lines.Line2D at 0x2572a9ed1c0>]"
      ]
     },
     "execution_count": 137,
     "metadata": {},
     "output_type": "execute_result"
    },
    {
     "data": {
      "image/png": "[encoded data removed]",
      "text/plain": [
       "<Figure size 432x288 with 1 Axes>"
      ]
     },
     "metadata": {
      "needs_background": "light"
     },
     "output_type": "display_data"
    }
   ],
   "source": [
    "plt.plot(sdata.endog)"
   ]
  },
  {
   "cell_type": "code",
   "execution_count": 138,
   "metadata": {},
   "outputs": [
    {
     "data": {
      "image/png": "[encoded data removed]",
      "text/plain": [
       "<Figure size 432x288 with 1 Axes>"
      ]
     },
     "metadata": {
      "needs_background": "light"
     },
     "output_type": "display_data"
    }
   ],
   "source": [
    "plt.hist(sdata.endog)\n",
    "plt.show()"
   ]
  },
  {
   "cell_type": "code",
   "execution_count": 139,
   "metadata": {},
   "outputs": [
    {
     "data": {
      "text/html": [
       "<table class=\"simpletable\">\n",
       "<caption>Generalized Linear Model Regression Results</caption>\n",
       "<tr>\n",
       "  <th>Dep. Variable:</th>           <td>y</td>        <th>  No. Observations:  </th>  <td>    32</td>  \n",
       "</tr>\n",
       "<tr>\n",
       "  <th>Model:</th>                  <td>GLM</td>       <th>  Df Residuals:      </th>  <td>    24</td>  \n",
       "</tr>\n",
       "<tr>\n",
       "  <th>Model Family:</th>          <td>Gamma</td>      <th>  Df Model:          </th>  <td>     7</td>  \n",
       "</tr>\n",
       "<tr>\n",
       "  <th>Link Function:</th>          <td>log</td>       <th>  Scale:             </th> <td>0.0035927</td>\n",
       "</tr>\n",
       "<tr>\n",
       "  <th>Method:</th>                <td>IRLS</td>       <th>  Log-Likelihood:    </th> <td> -83.110</td> \n",
       "</tr>\n",
       "<tr>\n",
       "  <th>Date:</th>            <td>Mon, 24 May 2021</td> <th>  Deviance:          </th> <td>0.087988</td> \n",
       "</tr>\n",
       "<tr>\n",
       "  <th>Time:</th>                <td>01:57:56</td>     <th>  Pearson chi2:      </th>  <td>0.0862</td>  \n",
       "</tr>\n",
       "<tr>\n",
       "  <th>No. Iterations:</th>          <td>7</td>        <th>                     </th>     <td> </td>    \n",
       "</tr>\n",
       "<tr>\n",
       "  <th>Covariance Type:</th>     <td>nonrobust</td>    <th>                     </th>     <td> </td>    \n",
       "</tr>\n",
       "</table>\n",
       "<table class=\"simpletable\">\n",
       "<tr>\n",
       "    <td></td>       <th>coef</th>     <th>std err</th>      <th>z</th>      <th>P>|z|</th>  <th>[0.025</th>    <th>0.975]</th>  \n",
       "</tr>\n",
       "<tr>\n",
       "  <th>x1</th>    <td>   -0.0024</td> <td>    0.001</td> <td>   -2.466</td> <td> 0.014</td> <td>   -0.004</td> <td>   -0.000</td>\n",
       "</tr>\n",
       "<tr>\n",
       "  <th>x2</th>    <td>   -0.1005</td> <td>    0.031</td> <td>   -3.269</td> <td> 0.001</td> <td>   -0.161</td> <td>   -0.040</td>\n",
       "</tr>\n",
       "<tr>\n",
       "  <th>x3</th>    <td>    0.0048</td> <td>    0.002</td> <td>    2.946</td> <td> 0.003</td> <td>    0.002</td> <td>    0.008</td>\n",
       "</tr>\n",
       "<tr>\n",
       "  <th>x4</th>    <td>   -0.0067</td> <td>    0.003</td> <td>   -2.534</td> <td> 0.011</td> <td>   -0.012</td> <td>   -0.002</td>\n",
       "</tr>\n",
       "<tr>\n",
       "  <th>x5</th>    <td> 8.173e-06</td> <td> 7.19e-06</td> <td>    1.136</td> <td> 0.256</td> <td>-5.93e-06</td> <td> 2.23e-05</td>\n",
       "</tr>\n",
       "<tr>\n",
       "  <th>x6</th>    <td>    0.0298</td> <td>    0.015</td> <td>    2.009</td> <td> 0.045</td> <td>    0.001</td> <td>    0.059</td>\n",
       "</tr>\n",
       "<tr>\n",
       "  <th>x7</th>    <td>    0.0001</td> <td> 4.33e-05</td> <td>    2.724</td> <td> 0.006</td> <td> 3.31e-05</td> <td>    0.000</td>\n",
       "</tr>\n",
       "<tr>\n",
       "  <th>const</th> <td>    5.6581</td> <td>    0.680</td> <td>    8.318</td> <td> 0.000</td> <td>    4.325</td> <td>    6.991</td>\n",
       "</tr>\n",
       "</table>"
      ],
      "text/plain": [
       "<class 'statsmodels.iolib.summary.Summary'>\n",
       "\"\"\"\n",
       "                 Generalized Linear Model Regression Results                  \n",
       "==============================================================================\n",
       "Dep. Variable:                      y   No. Observations:                   32\n",
       "Model:                            GLM   Df Residuals:                       24\n",
       "Model Family:                   Gamma   Df Model:                            7\n",
       "Link Function:                    log   Scale:                       0.0035927\n",
       "Method:                          IRLS   Log-Likelihood:                -83.110\n",
       "Date:                Mon, 24 May 2021   Deviance:                     0.087988\n",
       "Time:                        01:57:56   Pearson chi2:                   0.0862\n",
       "No. Iterations:                     7                                         \n",
       "Covariance Type:            nonrobust                                         \n",
       "==============================================================================\n",
       "                 coef    std err          z      P>|z|      [0.025      0.975]\n",
       "------------------------------------------------------------------------------\n",
       "x1            -0.0024      0.001     -2.466      0.014      -0.004      -0.000\n",
       "x2            -0.1005      0.031     -3.269      0.001      -0.161      -0.040\n",
       "x3             0.0048      0.002      2.946      0.003       0.002       0.008\n",
       "x4            -0.0067      0.003     -2.534      0.011      -0.012      -0.002\n",
       "x5          8.173e-06   7.19e-06      1.136      0.256   -5.93e-06    2.23e-05\n",
       "x6             0.0298      0.015      2.009      0.045       0.001       0.059\n",
       "x7             0.0001   4.33e-05      2.724      0.006    3.31e-05       0.000\n",
       "const          5.6581      0.680      8.318      0.000       4.325       6.991\n",
       "==============================================================================\n",
       "\"\"\""
      ]
     },
     "execution_count": 139,
     "metadata": {},
     "output_type": "execute_result"
    }
   ],
   "source": [
    "sglm_gamma = sm.GLM(sdata.endog, sdata.exog, family=sm.families.Gamma(sm.families.links.log()))\n",
    "sglm_results = sglm_gamma.fit()\n",
    "sglm_results.summary()"
   ]
  },
  {
   "cell_type": "code",
   "execution_count": 140,
   "metadata": {},
   "outputs": [
    {
     "data": {
      "image/png": "[encoded data removed]",
      "text/plain": [
       "<Figure size 432x288 with 1 Axes>"
      ]
     },
     "metadata": {
      "needs_background": "light"
     },
     "output_type": "display_data"
    }
   ],
   "source": [
    "y_hat=sglm_results.predict()\n",
    "fig, ax = plt.subplots()\n",
    "ax.scatter(y_hat, sdata.endog)\n",
    "line_fit = sm.OLS(sdata.endog, sm.add_constant(y_hat, prepend=True)).fit()\n",
    "abline_plot(model_results=line_fit, ax=ax)\n",
    "plt.show()"
   ]
  },
  {
   "cell_type": "code",
   "execution_count": 141,
   "metadata": {},
   "outputs": [
    {
     "data": {
      "image/png": "[encoded data removed]",
      "text/plain": [
       "<Figure size 432x288 with 1 Axes>"
      ]
     },
     "metadata": {
      "needs_background": "light"
     },
     "output_type": "display_data"
    }
   ],
   "source": [
    "plt.hist(sdata.endog, label='response data')\n",
    "plt.hist(y_hat,alpha=0.5,label='predict')\n",
    "plt.legend()\n",
    "plt.show()"
   ]
  },
  {
   "cell_type": "markdown",
   "metadata": {},
   "source": [
    "# ワインデータの分析\n",
    "\n",
    "ポルトガルのミーニョ地方（北西部）ヴィーニョ・ヴェルデのアルコール度数中程度の赤ワインの評価と物理化学的検査の結果です。データは2004年5月から2007年2月にかけて収集され公式認証機関（CVRVV）で検査されました。CVRVVは、ヴィーニョ・ヴェルデの品質とマーケティングを向上させることを目的とした専門組織です。ワインのサンプル検査はプロセスを自動的に管理するコンピュータシステムによって記録されました。また、評価については，各サンプルを最低3人の専門家が評価しています。評価は，0（非常に悪い）から10（素晴らしい）までのブラインドテイスティングの結果です。これからこのデータベースを活用して、データ分析の手法を学んでいきます。\n",
    "\n",
    "データの読み込み"
   ]
  },
  {
   "cell_type": "code",
   "execution_count": 142,
   "metadata": {},
   "outputs": [],
   "source": [
    "import pandas as pd\n",
    "wb='https://archive.ics.uci.edu/ml/machine-learning-databases/wine-quality/winequality-red.csv'\n",
    "wdata=pd.read_csv(wb,sep=\";\",header=0)  \n",
    "wdata_endog=wdata.quality\n",
    "wdata_exog=wdata.iloc[:,:-1]\n",
    "X = sm.add_constant(wdata_exog)"
   ]
  },
  {
   "cell_type": "code",
   "execution_count": 143,
   "metadata": {},
   "outputs": [
    {
     "data": {
      "text/html": [
       "<table class=\"simpletable\">\n",
       "<caption>Generalized Linear Model Regression Results</caption>\n",
       "<tr>\n",
       "  <th>Dep. Variable:</th>        <td>quality</td>     <th>  No. Observations:  </th>  <td>  1599</td> \n",
       "</tr>\n",
       "<tr>\n",
       "  <th>Model:</th>                  <td>GLM</td>       <th>  Df Residuals:      </th>  <td>  1587</td> \n",
       "</tr>\n",
       "<tr>\n",
       "  <th>Model Family:</th>         <td>Poisson</td>     <th>  Df Model:          </th>  <td>    11</td> \n",
       "</tr>\n",
       "<tr>\n",
       "  <th>Link Function:</th>          <td>log</td>       <th>  Scale:             </th> <td>  1.0000</td>\n",
       "</tr>\n",
       "<tr>\n",
       "  <th>Method:</th>                <td>IRLS</td>       <th>  Log-Likelihood:    </th> <td> -2927.2</td>\n",
       "</tr>\n",
       "<tr>\n",
       "  <th>Date:</th>            <td>Mon, 24 May 2021</td> <th>  Deviance:          </th> <td>  119.10</td>\n",
       "</tr>\n",
       "<tr>\n",
       "  <th>Time:</th>                <td>01:57:57</td>     <th>  Pearson chi2:      </th>  <td>  117.</td> \n",
       "</tr>\n",
       "<tr>\n",
       "  <th>No. Iterations:</th>          <td>4</td>        <th>                     </th>     <td> </td>   \n",
       "</tr>\n",
       "<tr>\n",
       "  <th>Covariance Type:</th>     <td>nonrobust</td>    <th>                     </th>     <td> </td>   \n",
       "</tr>\n",
       "</table>\n",
       "<table class=\"simpletable\">\n",
       "<tr>\n",
       "            <td></td>              <th>coef</th>     <th>std err</th>      <th>z</th>      <th>P>|z|</th>  <th>[0.025</th>    <th>0.975]</th>  \n",
       "</tr>\n",
       "<tr>\n",
       "  <th>const</th>                <td>    3.6538</td> <td>   13.670</td> <td>    0.267</td> <td> 0.789</td> <td>  -23.140</td> <td>   30.447</td>\n",
       "</tr>\n",
       "<tr>\n",
       "  <th>fixed acidity</th>        <td>    0.0037</td> <td>    0.017</td> <td>    0.220</td> <td> 0.826</td> <td>   -0.029</td> <td>    0.036</td>\n",
       "</tr>\n",
       "<tr>\n",
       "  <th>volatile acidity</th>     <td>   -0.1977</td> <td>    0.080</td> <td>   -2.459</td> <td> 0.014</td> <td>   -0.355</td> <td>   -0.040</td>\n",
       "</tr>\n",
       "<tr>\n",
       "  <th>citric acid</th>          <td>   -0.0359</td> <td>    0.096</td> <td>   -0.374</td> <td> 0.709</td> <td>   -0.224</td> <td>    0.153</td>\n",
       "</tr>\n",
       "<tr>\n",
       "  <th>residual sugar</th>       <td>    0.0026</td> <td>    0.010</td> <td>    0.269</td> <td> 0.788</td> <td>   -0.016</td> <td>    0.022</td>\n",
       "</tr>\n",
       "<tr>\n",
       "  <th>chlorides</th>            <td>   -0.3318</td> <td>    0.277</td> <td>   -1.198</td> <td> 0.231</td> <td>   -0.874</td> <td>    0.211</td>\n",
       "</tr>\n",
       "<tr>\n",
       "  <th>free sulfur dioxide</th>  <td>    0.0008</td> <td>    0.001</td> <td>    0.584</td> <td> 0.559</td> <td>   -0.002</td> <td>    0.004</td>\n",
       "</tr>\n",
       "<tr>\n",
       "  <th>total sulfur dioxide</th> <td>   -0.0006</td> <td>    0.000</td> <td>   -1.273</td> <td> 0.203</td> <td>   -0.002</td> <td>    0.000</td>\n",
       "</tr>\n",
       "<tr>\n",
       "  <th>density</th>              <td>   -2.1729</td> <td>   13.953</td> <td>   -0.156</td> <td> 0.876</td> <td>  -29.519</td> <td>   25.174</td>\n",
       "</tr>\n",
       "<tr>\n",
       "  <th>pH</th>                   <td>   -0.0748</td> <td>    0.124</td> <td>   -0.603</td> <td> 0.546</td> <td>   -0.318</td> <td>    0.168</td>\n",
       "</tr>\n",
       "<tr>\n",
       "  <th>sulphates</th>            <td>    0.1591</td> <td>    0.073</td> <td>    2.191</td> <td> 0.028</td> <td>    0.017</td> <td>    0.301</td>\n",
       "</tr>\n",
       "<tr>\n",
       "  <th>alcohol</th>              <td>    0.0482</td> <td>    0.017</td> <td>    2.832</td> <td> 0.005</td> <td>    0.015</td> <td>    0.081</td>\n",
       "</tr>\n",
       "</table>"
      ],
      "text/plain": [
       "<class 'statsmodels.iolib.summary.Summary'>\n",
       "\"\"\"\n",
       "                 Generalized Linear Model Regression Results                  \n",
       "==============================================================================\n",
       "Dep. Variable:                quality   No. Observations:                 1599\n",
       "Model:                            GLM   Df Residuals:                     1587\n",
       "Model Family:                 Poisson   Df Model:                           11\n",
       "Link Function:                    log   Scale:                          1.0000\n",
       "Method:                          IRLS   Log-Likelihood:                -2927.2\n",
       "Date:                Mon, 24 May 2021   Deviance:                       119.10\n",
       "Time:                        01:57:57   Pearson chi2:                     117.\n",
       "No. Iterations:                     4                                         \n",
       "Covariance Type:            nonrobust                                         \n",
       "========================================================================================\n",
       "                           coef    std err          z      P>|z|      [0.025      0.975]\n",
       "----------------------------------------------------------------------------------------\n",
       "const                    3.6538     13.670      0.267      0.789     -23.140      30.447\n",
       "fixed acidity            0.0037      0.017      0.220      0.826      -0.029       0.036\n",
       "volatile acidity        -0.1977      0.080     -2.459      0.014      -0.355      -0.040\n",
       "citric acid             -0.0359      0.096     -0.374      0.709      -0.224       0.153\n",
       "residual sugar           0.0026      0.010      0.269      0.788      -0.016       0.022\n",
       "chlorides               -0.3318      0.277     -1.198      0.231      -0.874       0.211\n",
       "free sulfur dioxide      0.0008      0.001      0.584      0.559      -0.002       0.004\n",
       "total sulfur dioxide    -0.0006      0.000     -1.273      0.203      -0.002       0.000\n",
       "density                 -2.1729     13.953     -0.156      0.876     -29.519      25.174\n",
       "pH                      -0.0748      0.124     -0.603      0.546      -0.318       0.168\n",
       "sulphates                0.1591      0.073      2.191      0.028       0.017       0.301\n",
       "alcohol                  0.0482      0.017      2.832      0.005       0.015       0.081\n",
       "========================================================================================\n",
       "\"\"\""
      ]
     },
     "execution_count": 143,
     "metadata": {},
     "output_type": "execute_result"
    }
   ],
   "source": [
    "pglm = sm.GLM(wdata_endog, X, family=sm.families.Poisson())\n",
    "wres_p=pglm.fit()\n",
    "wres_p.summary()"
   ]
  },
  {
   "cell_type": "code",
   "execution_count": 144,
   "metadata": {},
   "outputs": [
    {
     "data": {
      "text/plain": [
       "0.5941213258286429"
      ]
     },
     "execution_count": 144,
     "metadata": {},
     "output_type": "execute_result"
    }
   ],
   "source": [
    "from sklearn.metrics import accuracy_score\n",
    "accuracy_score(np.round(wres_p.predict()), wdata_endog, normalize=True)"
   ]
  },
  {
   "cell_type": "code",
   "execution_count": 145,
   "metadata": {},
   "outputs": [
    {
     "data": {
      "image/png": "[encoded data removed]",
      "text/plain": [
       "<Figure size 432x288 with 1 Axes>"
      ]
     },
     "metadata": {
      "needs_background": "light"
     },
     "output_type": "display_data"
    }
   ],
   "source": [
    "y_hat=wres_p.predict()\n",
    "fig, ax = plt.subplots()\n",
    "ax.scatter( wdata_endog,y_hat)\n",
    "line_fit = sm.OLS(y_hat, sm.add_constant(wdata_endog, prepend=True)).fit()\n",
    "abline_plot(model_results=line_fit, ax=ax)\n",
    "plt.show()"
   ]
  },
  {
   "cell_type": "code",
   "execution_count": 146,
   "metadata": {},
   "outputs": [
    {
     "data": {
      "text/html": [
       "<table class=\"simpletable\">\n",
       "<caption>Generalized Linear Model Regression Results</caption>\n",
       "<tr>\n",
       "  <th>Dep. Variable:</th>        <td>quality</td>     <th>  No. Observations:  </th>  <td>  1599</td> \n",
       "</tr>\n",
       "<tr>\n",
       "  <th>Model:</th>                  <td>GLM</td>       <th>  Df Residuals:      </th>  <td>  1587</td> \n",
       "</tr>\n",
       "<tr>\n",
       "  <th>Model Family:</th>          <td>Gamma</td>      <th>  Df Model:          </th>  <td>    11</td> \n",
       "</tr>\n",
       "<tr>\n",
       "  <th>Link Function:</th>          <td>log</td>       <th>  Scale:             </th> <td>0.013125</td>\n",
       "</tr>\n",
       "<tr>\n",
       "  <th>Method:</th>                <td>IRLS</td>       <th>  Log-Likelihood:    </th> <td> -1581.9</td>\n",
       "</tr>\n",
       "<tr>\n",
       "  <th>Date:</th>            <td>Mon, 24 May 2021</td> <th>  Deviance:          </th> <td>  21.707</td>\n",
       "</tr>\n",
       "<tr>\n",
       "  <th>Time:</th>                <td>01:57:58</td>     <th>  Pearson chi2:      </th>  <td>  20.8</td> \n",
       "</tr>\n",
       "<tr>\n",
       "  <th>No. Iterations:</th>          <td>9</td>        <th>                     </th>     <td> </td>   \n",
       "</tr>\n",
       "<tr>\n",
       "  <th>Covariance Type:</th>     <td>nonrobust</td>    <th>                     </th>     <td> </td>   \n",
       "</tr>\n",
       "</table>\n",
       "<table class=\"simpletable\">\n",
       "<tr>\n",
       "            <td></td>              <th>coef</th>     <th>std err</th>      <th>z</th>      <th>P>|z|</th>  <th>[0.025</th>    <th>0.975]</th>  \n",
       "</tr>\n",
       "<tr>\n",
       "  <th>const</th>                <td>    3.5579</td> <td>    3.747</td> <td>    0.950</td> <td> 0.342</td> <td>   -3.786</td> <td>   10.902</td>\n",
       "</tr>\n",
       "<tr>\n",
       "  <th>fixed acidity</th>        <td>    0.0039</td> <td>    0.005</td> <td>    0.847</td> <td> 0.397</td> <td>   -0.005</td> <td>    0.013</td>\n",
       "</tr>\n",
       "<tr>\n",
       "  <th>volatile acidity</th>     <td>   -0.2005</td> <td>    0.021</td> <td>   -9.365</td> <td> 0.000</td> <td>   -0.242</td> <td>   -0.159</td>\n",
       "</tr>\n",
       "<tr>\n",
       "  <th>citric acid</th>          <td>   -0.0412</td> <td>    0.026</td> <td>   -1.582</td> <td> 0.114</td> <td>   -0.092</td> <td>    0.010</td>\n",
       "</tr>\n",
       "<tr>\n",
       "  <th>residual sugar</th>       <td>    0.0027</td> <td>    0.003</td> <td>    1.028</td> <td> 0.304</td> <td>   -0.002</td> <td>    0.008</td>\n",
       "</tr>\n",
       "<tr>\n",
       "  <th>chlorides</th>            <td>   -0.3265</td> <td>    0.074</td> <td>   -4.405</td> <td> 0.000</td> <td>   -0.472</td> <td>   -0.181</td>\n",
       "</tr>\n",
       "<tr>\n",
       "  <th>free sulfur dioxide</th>  <td>    0.0008</td> <td>    0.000</td> <td>    1.965</td> <td> 0.049</td> <td> 1.99e-06</td> <td>    0.002</td>\n",
       "</tr>\n",
       "<tr>\n",
       "  <th>total sulfur dioxide</th> <td>   -0.0006</td> <td>    0.000</td> <td>   -4.350</td> <td> 0.000</td> <td>   -0.001</td> <td>   -0.000</td>\n",
       "</tr>\n",
       "<tr>\n",
       "  <th>density</th>              <td>   -2.0762</td> <td>    3.825</td> <td>   -0.543</td> <td> 0.587</td> <td>   -9.572</td> <td>    5.420</td>\n",
       "</tr>\n",
       "<tr>\n",
       "  <th>pH</th>                   <td>   -0.0767</td> <td>    0.034</td> <td>   -2.264</td> <td> 0.024</td> <td>   -0.143</td> <td>   -0.010</td>\n",
       "</tr>\n",
       "<tr>\n",
       "  <th>sulphates</th>            <td>    0.1613</td> <td>    0.020</td> <td>    7.981</td> <td> 0.000</td> <td>    0.122</td> <td>    0.201</td>\n",
       "</tr>\n",
       "<tr>\n",
       "  <th>alcohol</th>              <td>    0.0485</td> <td>    0.005</td> <td>   10.353</td> <td> 0.000</td> <td>    0.039</td> <td>    0.058</td>\n",
       "</tr>\n",
       "</table>"
      ],
      "text/plain": [
       "<class 'statsmodels.iolib.summary.Summary'>\n",
       "\"\"\"\n",
       "                 Generalized Linear Model Regression Results                  \n",
       "==============================================================================\n",
       "Dep. Variable:                quality   No. Observations:                 1599\n",
       "Model:                            GLM   Df Residuals:                     1587\n",
       "Model Family:                   Gamma   Df Model:                           11\n",
       "Link Function:                    log   Scale:                        0.013125\n",
       "Method:                          IRLS   Log-Likelihood:                -1581.9\n",
       "Date:                Mon, 24 May 2021   Deviance:                       21.707\n",
       "Time:                        01:57:58   Pearson chi2:                     20.8\n",
       "No. Iterations:                     9                                         \n",
       "Covariance Type:            nonrobust                                         \n",
       "========================================================================================\n",
       "                           coef    std err          z      P>|z|      [0.025      0.975]\n",
       "----------------------------------------------------------------------------------------\n",
       "const                    3.5579      3.747      0.950      0.342      -3.786      10.902\n",
       "fixed acidity            0.0039      0.005      0.847      0.397      -0.005       0.013\n",
       "volatile acidity        -0.2005      0.021     -9.365      0.000      -0.242      -0.159\n",
       "citric acid             -0.0412      0.026     -1.582      0.114      -0.092       0.010\n",
       "residual sugar           0.0027      0.003      1.028      0.304      -0.002       0.008\n",
       "chlorides               -0.3265      0.074     -4.405      0.000      -0.472      -0.181\n",
       "free sulfur dioxide      0.0008      0.000      1.965      0.049    1.99e-06       0.002\n",
       "total sulfur dioxide    -0.0006      0.000     -4.350      0.000      -0.001      -0.000\n",
       "density                 -2.0762      3.825     -0.543      0.587      -9.572       5.420\n",
       "pH                      -0.0767      0.034     -2.264      0.024      -0.143      -0.010\n",
       "sulphates                0.1613      0.020      7.981      0.000       0.122       0.201\n",
       "alcohol                  0.0485      0.005     10.353      0.000       0.039       0.058\n",
       "========================================================================================\n",
       "\"\"\""
      ]
     },
     "execution_count": 146,
     "metadata": {},
     "output_type": "execute_result"
    }
   ],
   "source": [
    "gglm = sm.GLM(wdata_endog, X, family=sm.families.Gamma(sm.families.links.log()))\n",
    "wres_g=gglm.fit()\n",
    "wres_g.summary()"
   ]
  },
  {
   "cell_type": "code",
   "execution_count": 147,
   "metadata": {},
   "outputs": [
    {
     "data": {
      "text/plain": [
       "0.5953721075672295"
      ]
     },
     "execution_count": 147,
     "metadata": {},
     "output_type": "execute_result"
    }
   ],
   "source": [
    "accuracy_score(np.round(wres_g.predict()), wdata_endog, normalize=True)"
   ]
  },
  {
   "cell_type": "code",
   "execution_count": 148,
   "metadata": {},
   "outputs": [
    {
     "data": {
      "image/png": "[encoded data removed]",
      "text/plain": [
       "<Figure size 432x288 with 1 Axes>"
      ]
     },
     "metadata": {
      "needs_background": "light"
     },
     "output_type": "display_data"
    }
   ],
   "source": [
    "y_hat=wres_g.predict()\n",
    "fig, ax = plt.subplots()\n",
    "ax.scatter( wdata_endog,y_hat)\n",
    "line_fit = sm.OLS(y_hat, sm.add_constant(wdata_endog, prepend=True)).fit()\n",
    "abline_plot(model_results=line_fit, ax=ax)\n",
    "plt.show()"
   ]
  },
  {
   "cell_type": "code",
   "execution_count": 149,
   "metadata": {},
   "outputs": [
    {
     "data": {
      "text/html": [
       "<table class=\"simpletable\">\n",
       "<caption>Generalized Linear Model Regression Results</caption>\n",
       "<tr>\n",
       "  <th>Dep. Variable:</th>   <td>['quality', 'quality']</td> <th>  No. Observations:  </th>  <td>  1599</td> \n",
       "</tr>\n",
       "<tr>\n",
       "  <th>Model:</th>                     <td>GLM</td>          <th>  Df Residuals:      </th>  <td>  1587</td> \n",
       "</tr>\n",
       "<tr>\n",
       "  <th>Model Family:</th>           <td>Binomial</td>        <th>  Df Model:          </th>  <td>    11</td> \n",
       "</tr>\n",
       "<tr>\n",
       "  <th>Link Function:</th>            <td>logit</td>         <th>  Scale:             </th> <td>  1.0000</td>\n",
       "</tr>\n",
       "<tr>\n",
       "  <th>Method:</th>                   <td>IRLS</td>          <th>  Log-Likelihood:    </th> <td> -2347.3</td>\n",
       "</tr>\n",
       "<tr>\n",
       "  <th>Date:</th>               <td>Mon, 24 May 2021</td>    <th>  Deviance:          </th> <td>  278.31</td>\n",
       "</tr>\n",
       "<tr>\n",
       "  <th>Time:</th>                   <td>01:57:58</td>        <th>  Pearson chi2:      </th>  <td>  275.</td> \n",
       "</tr>\n",
       "<tr>\n",
       "  <th>No. Iterations:</th>             <td>4</td>           <th>                     </th>     <td> </td>   \n",
       "</tr>\n",
       "<tr>\n",
       "  <th>Covariance Type:</th>        <td>nonrobust</td>       <th>                     </th>     <td> </td>   \n",
       "</tr>\n",
       "</table>\n",
       "<table class=\"simpletable\">\n",
       "<tr>\n",
       "            <td></td>              <th>coef</th>     <th>std err</th>      <th>z</th>      <th>P>|z|</th>  <th>[0.025</th>    <th>0.975]</th>  \n",
       "</tr>\n",
       "<tr>\n",
       "  <th>const</th>                <td>    7.6031</td> <td>   21.017</td> <td>    0.362</td> <td> 0.718</td> <td>  -33.590</td> <td>   48.797</td>\n",
       "</tr>\n",
       "<tr>\n",
       "  <th>fixed acidity</th>        <td>    0.0108</td> <td>    0.026</td> <td>    0.418</td> <td> 0.676</td> <td>   -0.040</td> <td>    0.061</td>\n",
       "</tr>\n",
       "<tr>\n",
       "  <th>volatile acidity</th>     <td>   -0.4415</td> <td>    0.119</td> <td>   -3.698</td> <td> 0.000</td> <td>   -0.676</td> <td>   -0.208</td>\n",
       "</tr>\n",
       "<tr>\n",
       "  <th>citric acid</th>          <td>   -0.0739</td> <td>    0.145</td> <td>   -0.508</td> <td> 0.611</td> <td>   -0.359</td> <td>    0.211</td>\n",
       "</tr>\n",
       "<tr>\n",
       "  <th>residual sugar</th>       <td>    0.0069</td> <td>    0.015</td> <td>    0.467</td> <td> 0.641</td> <td>   -0.022</td> <td>    0.036</td>\n",
       "</tr>\n",
       "<tr>\n",
       "  <th>chlorides</th>            <td>   -0.7680</td> <td>    0.413</td> <td>   -1.858</td> <td> 0.063</td> <td>   -1.578</td> <td>    0.042</td>\n",
       "</tr>\n",
       "<tr>\n",
       "  <th>free sulfur dioxide</th>  <td>    0.0017</td> <td>    0.002</td> <td>    0.813</td> <td> 0.416</td> <td>   -0.002</td> <td>    0.006</td>\n",
       "</tr>\n",
       "<tr>\n",
       "  <th>total sulfur dioxide</th> <td>   -0.0013</td> <td>    0.001</td> <td>   -1.826</td> <td> 0.068</td> <td>   -0.003</td> <td> 9.61e-05</td>\n",
       "</tr>\n",
       "<tr>\n",
       "  <th>density</th>              <td>   -8.0015</td> <td>   21.453</td> <td>   -0.373</td> <td> 0.709</td> <td>  -50.049</td> <td>   34.046</td>\n",
       "</tr>\n",
       "<tr>\n",
       "  <th>pH</th>                   <td>   -0.1690</td> <td>    0.190</td> <td>   -0.891</td> <td> 0.373</td> <td>   -0.541</td> <td>    0.203</td>\n",
       "</tr>\n",
       "<tr>\n",
       "  <th>sulphates</th>            <td>    0.3781</td> <td>    0.114</td> <td>    3.313</td> <td> 0.001</td> <td>    0.154</td> <td>    0.602</td>\n",
       "</tr>\n",
       "<tr>\n",
       "  <th>alcohol</th>              <td>    0.1140</td> <td>    0.026</td> <td>    4.330</td> <td> 0.000</td> <td>    0.062</td> <td>    0.166</td>\n",
       "</tr>\n",
       "</table>"
      ],
      "text/plain": [
       "<class 'statsmodels.iolib.summary.Summary'>\n",
       "\"\"\"\n",
       "                   Generalized Linear Model Regression Results                    \n",
       "==================================================================================\n",
       "Dep. Variable:     ['quality', 'quality']   No. Observations:                 1599\n",
       "Model:                                GLM   Df Residuals:                     1587\n",
       "Model Family:                    Binomial   Df Model:                           11\n",
       "Link Function:                      logit   Scale:                          1.0000\n",
       "Method:                              IRLS   Log-Likelihood:                -2347.3\n",
       "Date:                    Mon, 24 May 2021   Deviance:                       278.31\n",
       "Time:                            01:57:58   Pearson chi2:                     275.\n",
       "No. Iterations:                         4                                         \n",
       "Covariance Type:                nonrobust                                         \n",
       "========================================================================================\n",
       "                           coef    std err          z      P>|z|      [0.025      0.975]\n",
       "----------------------------------------------------------------------------------------\n",
       "const                    7.6031     21.017      0.362      0.718     -33.590      48.797\n",
       "fixed acidity            0.0108      0.026      0.418      0.676      -0.040       0.061\n",
       "volatile acidity        -0.4415      0.119     -3.698      0.000      -0.676      -0.208\n",
       "citric acid             -0.0739      0.145     -0.508      0.611      -0.359       0.211\n",
       "residual sugar           0.0069      0.015      0.467      0.641      -0.022       0.036\n",
       "chlorides               -0.7680      0.413     -1.858      0.063      -1.578       0.042\n",
       "free sulfur dioxide      0.0017      0.002      0.813      0.416      -0.002       0.006\n",
       "total sulfur dioxide    -0.0013      0.001     -1.826      0.068      -0.003    9.61e-05\n",
       "density                 -8.0015     21.453     -0.373      0.709     -50.049      34.046\n",
       "pH                      -0.1690      0.190     -0.891      0.373      -0.541       0.203\n",
       "sulphates                0.3781      0.114      3.313      0.001       0.154       0.602\n",
       "alcohol                  0.1140      0.026      4.330      0.000       0.062       0.166\n",
       "========================================================================================\n",
       "\"\"\""
      ]
     },
     "execution_count": 149,
     "metadata": {},
     "output_type": "execute_result"
    }
   ],
   "source": [
    "wdata_endog1=pd.concat([wdata_endog,10-wdata_endog],axis=1)\n",
    "wmod_b = sm.GLM(wdata_endog1, X, family=sm.families.Binomial())\n",
    "wres_b=wmod_b.fit()\n",
    "wres_b.summary()"
   ]
  },
  {
   "cell_type": "code",
   "execution_count": 150,
   "metadata": {},
   "outputs": [
    {
     "data": {
      "text/plain": [
       "0.590368980612883"
      ]
     },
     "execution_count": 150,
     "metadata": {},
     "output_type": "execute_result"
    }
   ],
   "source": [
    "accuracy_score(np.round(wres_b.predict()*10),wdata_endog, normalize=True)"
   ]
  },
  {
   "cell_type": "code",
   "execution_count": 151,
   "metadata": {},
   "outputs": [
    {
     "data": {
      "image/png": "[encoded data removed]",
      "text/plain": [
       "<Figure size 432x288 with 1 Axes>"
      ]
     },
     "metadata": {
      "needs_background": "light"
     },
     "output_type": "display_data"
    }
   ],
   "source": [
    "y_hat=(wres_b.predict()*10)\n",
    "fig, ax = plt.subplots()\n",
    "ax.scatter( wdata_endog,y_hat)\n",
    "line_fit = sm.OLS(y_hat, sm.add_constant(wdata_endog, prepend=True)).fit()\n",
    "abline_plot(model_results=line_fit, ax=ax)\n",
    "plt.show()"
   ]
  },
  {
   "cell_type": "code",
   "execution_count": 152,
   "metadata": {},
   "outputs": [
    {
     "data": {
      "text/plain": [
       "(5878.404796111396, 3187.8852863921784, 4718.553322233771)"
      ]
     },
     "execution_count": 152,
     "metadata": {},
     "output_type": "execute_result"
    }
   ],
   "source": [
    "wres_p.aic,wres_g.aic,wres_b.aic"
   ]
  },
  {
   "cell_type": "code",
   "execution_count": null,
   "metadata": {},
   "outputs": [],
   "source": []
  }
 ],
 "metadata": {
  "kernelspec": {
   "display_name": "Python 3",
   "language": "python",
   "name": "python3"
  },
  "language_info": {
   "codemirror_mode": {
    "name": "ipython",
    "version": 3
   },
   "file_extension": ".py",
   "mimetype": "text/x-python",
   "name": "python",
   "nbconvert_exporter": "python",
   "pygments_lexer": "ipython3",
   "version": "3.8.5"
  }
 },
 "nbformat": 4,
 "nbformat_minor": 4
}
