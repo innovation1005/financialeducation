{
 "cells": [
  {
   "cell_type": "markdown",
   "id": "8a3a2a03",
   "metadata": {},
   "source": [
    "\n",
    "![image.png](https://qiita-image-store.s3.ap-northeast-1.amazonaws.com/0/267055/6b82384c-38cc-903b-1f62-9a34110f3475.png)\n",
    "\n",
    "![image.png](https://qiita-image-store.s3.ap-northeast-1.amazonaws.com/0/267055/8915e2a3-8b01-1600-a941-0fed38c350d2.png)\n",
    "\n",
    "$\\ $ セミナーで使用するモデルはすてべ学習目的ですので注意してください。  \n",
    "$\\ $  \n",
    "$\\ $  \n",
    "$\\ $  \n",
    "$\\ $  \n",
    "$\\ $  \n",
    "$\\ $  \n",
    "$\\ $  \n",
    "$\\ $  \n",
    "$\\ $  \n",
    "$\\ $  \n",
    "$\\ $  \n",
    "$\\ $  \n",
    "$\\ $  \n",
    "$\\ $  \n",
    "$\\ $  \n",
    "$\\ $  \n"
   ]
  },
  {
   "cell_type": "markdown",
   "id": "5ebc33b3",
   "metadata": {},
   "source": [
    "# ブラック‐ショールズモデル\n",
    "確率変数を用いて、オプションという金融資産のもつ将来のキャッシュフローの期待値を計算します。\n",
    "モデルの導出に関して必要となる理想的な状態を仮定します。\n",
    "\n",
    "r:短期金利は既知で満期までの期間一定である。\n",
    "\n",
    "s:原資産の価格は連続時間のランダムウォークにしたがう。その際の分散は価格の二乗に比例する。そのために有限時間内の株価の分布は対数正規分布となる。配当はない。\n",
    "\n",
    "σ: 原資産のリターンの分散は一定である。\n",
    "\n",
    "k: 行使価格。オプションはヨーロピアンで満期でのみ行使可能である。\n",
    "\n",
    "オプションと原資産の売買には費用が掛からない。\n",
    "\n",
    "どのような金額でも、期間でも短期金利で借入、貸出ができる。\n",
    "\n",
    "空売りに制限はない。\n",
    "\n",
    "## 一般化されたブラック-ショールズモデル\n",
    "ブラック‐ショールズモデルと同様の方法で配当付株式オプション、先物オプションもモデル化できます。\n",
    "\n",
    "$C(s,k,σ,r,b,T)=se^{((b-r)T)} N(d_1)-ke^{(-rT)} N(d_2)$\n",
    "\n",
    "$P(s,k,σ,r,b,T)=ke^{(-rT)} N(-d_2)-e^{((b-r)T)} sN(-d_1)$\n",
    "\n",
    "$N(z)=\\frac{1}{\\sqrt{2\\pi}} \\int_{-\\infty}^z e^{(-y^2/2)} dy$\n",
    " \n",
    "\n",
    "\n",
    "$N(d)=\\frac{1}{2\\pi}\\int_{-\\infty}^{d}e^{-\\frac{z^2}{2}}$\n",
    "\n",
    "$d_1=\\frac{\\log\\frac{S}{K}+(b+\\sigma^2/2)(T)}{\\sigma\\sqrt{T}}$\n",
    "\n",
    "$d_2=\\frac{\\log\\frac{S}{K}+(b-\\sigma^2/2)(T)}{\\sigma\\sqrt{T}}$\n",
    "\n",
    "---\t\n",
    "- スポット価格\ts\n",
    "- 行使価格\tk\n",
    "- ボラティリティ\tσまたはv\n",
    "- 資金調達費用\tr\n",
    "- 配当、外国金利等\tq\n",
    "- キャリーコスト\tb=r-q\n",
    "- 満期・行使日までの期間\tT\n",
    "--- \n",
    "- b=r\tブラック株価オプション\n",
    "- b=r-q\t連続配当付き株価オプション\n",
    "- b=0\t先物オプション\n",
    "- b=0,r=0\tマージン先物オプション\n",
    "- b=r-r_f\t通貨オプション\n"
   ]
  },
  {
   "cell_type": "markdown",
   "id": "3ded2aa5",
   "metadata": {},
   "source": [
    "# モンテカルロ法\n",
    "\n",
    "モンテカルロ法では確率分布から確率変数を生成して、それを原資産価格の動きと見立てていきます。生成する乱数の数が精度と計算時間を支配します。\n",
    "\n",
    "基本的な流れは \n",
    "\n",
    "- 統計モデルを作成する \n",
    "- 乱数を発生させる \n",
    "- 生成した乱数をモデルに代入し、モデルによる値を算出する\n",
    "\n",
    "必要に応じて1,2,3を繰り返す。結果を平均して期待値とみなす。\n",
    "\n",
    "$g(x)$を任意の関数、$f(x)$を確率密度関数とすると、\n",
    "その期待値は\n",
    "\n",
    "$E[g(x)]=\\int_a^b g(x)f(x)dx=\\mu$\n",
    "\n",
    "分散は\n",
    "\n",
    "$V[g(x)]=E[(g(x)-\\mu)^2 ]=\\int_a^b(g(x)-μ)^2 f(x)dx=\\sigma^2$\n",
    "\n",
    "で表されます。ここで$\\int_a^bf(x)dx=1$。$a$と$b$は積分の範囲を示しています。$n$個の標本$x_i$を$f(x)$から生成して、母集団の平均$\\mu$と分散$\\sigma^2$を推定します。標本平均\n",
    "\n",
    "$\\bar{g}=1/n \\sum_{i=1}^ng(x_i)$ \n",
    "\n",
    "についてつぎの性質が成り立ちます。\n",
    "\n",
    "$E[\\bar{g}]=E(1/n \\sum_{i=1}^n g(x_i))=1/n \\sum_{i=1}^n E[g(x_i)]=1/n \\sum_{i=1}^n\\mu=\\mu$\n",
    "\n",
    "$V[\\bar{g}]=V\\left(1/n \\sum_{i=1}^ng(x_i)\\right)=(1/n)^2 \\sum_{i=1}^n V[ g(x_i)]=(1/n)^2 \\sum_{i=1}^n\\sigma^2=\\sigma^2/n$\n",
    "\n",
    "\n",
    "$z=\\frac{(\\bar{g}-\\mu)}{\\sqrt{\\sigma^2/n}}$の分布は標準正規分布にしたがいます。95％の信頼区間は\n",
    "\n",
    "$\\bar{g}-1.96 \\sigma/\\sqrt{n}≤\\mu≤\\bar{g}+1.96 \\sigma/\\sqrt{n}$\n",
    "\n",
    "となります。ここで、$P(|z|≤1.96│\\mu)=0.95$です。\n",
    "\n",
    "　また、母分散の不偏推定量は\n",
    "\n",
    "$\\hat{σ}^2=1/(n-1)\\sum_{i=1}^n[g(x_i )-\\bar{g}]^2$\n",
    "\n",
    "であるので、分散の95％の信頼区間は\n",
    "\n",
    "$\\frac{((n-1)\\hat{σ}^2)}{(\\chi_{0.975}^2 (n-1))}≤\\sigma^2≤\\frac{((n-1)\\sigma^2)}{(\\chi_{0.025}^2 (n-1))}$\n",
    "\n",
    "となります。ここで、$\\chi_{0.975}^2(n-1),\\chi_{0.025}^2 (n-1)$は$\\chi$二乗分布の下側および上側2.5%点です。\n",
    "\n",
    "\n",
    "## 乱数の種類\n",
    "\n",
    "### 物理乱数\n",
    "物理乱数は本質的にランダムな自然現象を利用する方法で、熱雑音とか原子核分裂などが用いられます。生成された乱数列には周期や再現性がない等、メリットがあります。一方で、専用のハードウェアや回路などの特別な生成器が必要となります。\n",
    "\n",
    "\n",
    "### 疑似乱数\n",
    "漸化式にもとづき乱数を発生させる方法で、コンピューターにより生成できます。再現性や周期、乱数としての性質が不明確なため、使用には注意が必要です。一様性、独立性、高次元での緻密性が求められます。線形合同法とか乗算合同法といった古典的な疑似乱数生成法から非常に長い周期と高次元での緻密性からメルセンヌツイスターが用いられてきました。しかし、最近では統計的評価、計算速度、メモリー占有率、予測不可能性、再現性に優れたPCG系列の乱数も注目されています。\n",
    "\n",
    "\n",
    "![image.png](https://qiita-image-store.s3.ap-northeast-1.amazonaws.com/0/267055/3bf14e2d-d4bd-2b36-93d4-a1aec93b2b29.png)\n",
    "出所：https://www.pcg-random.org/index.html\n",
    "\n",
    "## 乱数の精度の改良\n",
    "\n",
    "生成された乱数の平均と分散は目的とするものになるとは限りません。\n",
    "そこで、いくつかの改良法を紹介します。\n",
    "\n",
    "- 対称変量法：乱数部分のセルを2つに分け、一方にマイナスをかけたセルをもう一方にコピーします。\n",
    "- モーメント照合法：平均と標準偏差を用いて調整します。\n",
    "- 重点サンプリング：必要なデータを部分的にサンプリングして、その影響を後で調整します。\n",
    "- MCMC(マルコフ連鎖モンテカルロ法)：確率分布のサンプリングを行うアルゴリズムの総称です。\n",
    "\n",
    "\n",
    "\n",
    "母数と統計量の関係は普遍です。\n",
    "\n",
    "$\\bar{g}-1.96\\sigma/\\sqrt{n}≤\\mu≤\\bar{g}+1.96\\sigma/\\sqrt{n}$\n",
    "\n",
    "$\\frac{((n-1)\\sigma^2)}{(\\chi_0.975^2 (n-1))}≤\\sigma^2≤\\frac{((n-1)\\sigma^2)}{(\\chi_0.025^2 (n-1))}$\n",
    "\n"
   ]
  },
  {
   "cell_type": "markdown",
   "id": "55e567b4",
   "metadata": {},
   "source": [
    "# 時系列データの生成\n",
    "\n",
    "　金融の世界では、金融資産の価値の評価、リスク管理、トレーディング戦略の収益性の確認などにモンテカルロ法が活用されています。\n",
    "そこでは、価格の動きを幾何ブラウン運動として表現することがしばばしばです。オプションの評価に用いられるモンテカルロ法はこの例です。そこでまず幾何ブラウン運動を再現し、その問題点を探ってみたいとおもいます。その動きは\n",
    "\n",
    "$\\mathrm{d}S_t=\\mu S_t \\mathrm{d}t+\\sigma \\sqrt{\\mathrm{d}t} S_t\\mathrm{d}W_t$　(1)\n",
    "\n",
    "の確率微分方程式(SDE)を解くことで得られます。$S_t$は$t$時点の株価です。$\\sigma$は価格変動の程度を、$\\mu$は株価のトレンドをあらわす定数です。$W_t$は標準ウィナー過程です。$\\mathrm{d}W_t$は標準正規分布にしたがいます。\n",
    "$\\mu$も$\\sigma$も株価がもつ特有の特性で、過去の価格データから推定されます。このSDEを解くと\n",
    "\n",
    "$S_{t}=S_{t-1}\\exp[(\\mu-0.5\\sigma^2)\\mathrm{d}t+\\sigma \\sqrt{\\mathrm{d}t} \\mathrm{d} W_t]$　　(1)`\n",
    "\n",
    "が得られます。\n",
    "　$S_t$の幾何ブラウン運動は\n",
    "\n",
    "期待値　$\\exp(\\mu t)S_0$、\n",
    "分散　　$\\exp(2\\mu t)S_0^2(\\exp(\\sigma^2t)-1)$\n",
    "\n",
    "で連続的に動く確率過程です。これは$S_{t}=S_{0}\\exp[(\\mu-0.5\\sigma^2)t+\\sigma \\sqrt{t} W_t]$とすれば見通しが良くなります。\n",
    "\n",
    "また、対数価格の差$\\ln S_t-\\ln S_0$は\n",
    "\n",
    "期待値　$(\\mu  - 1/2 \\sigma^2) t$、\n",
    "分散　　$\\sigma^2t$\n",
    "\n",
    "となります。\n",
    "\n",
    "　モンテカルロシミュレーションを用いて、時系列データを作ってみましょう。genSという関数で株価を再現します。コードの重要な部分は、 \n",
    "\n",
    "```Pyhon\n",
    "    sigma = np.array([sigma0])\n",
    "    dt = 1/DAYS\n",
    "```\n",
    "sigma0は金融市場でボラティリティと呼ばれるもので、日々の対数価格差の標準偏差を求めてそれを年率換算したものです。したがって、年率の標準偏差を日次の標準偏差に変換する必要があります。その調整にdt=1/DAYSを用います。\n",
    "\n",
    "```Python\n",
    "w=rng.standard_normal( size=(1,nDays)).T\n",
    "```\n",
    "は乱数を発生しています。これは(1)式の$\\mathrm{d}W_t$に相当します。また、\n",
    "```Python\n",
    "x = np.exp((mu - 0.5*sigma ** 2) * dt + w*np.sqrt(dt)*sigma)\n",
    "```\n",
    "は(1)'式そのものです。ここで目的とする平均と分散の条件にしたがう時系列データを生成しています。np.sqrt(dt)×sigmaは年率の標準偏差を日次に変換しています。\n",
    "\n",
    "Pythonを初期化します。"
   ]
  },
  {
   "cell_type": "code",
   "execution_count": 486,
   "id": "984d0ef8",
   "metadata": {},
   "outputs": [],
   "source": [
    "import numpy as np\n",
    "from numpy.random import default_rng, Generator, PCG64, MT19937\n",
    "import matplotlib.pyplot as plt\n",
    "from scipy.stats import norm, lognorm\n",
    "from scipy import stats\n",
    "from datetime import datetime, date,time\n",
    "import pandas as pd\n",
    "DAYS=240"
   ]
  },
  {
   "cell_type": "code",
   "execution_count": 487,
   "id": "774f0f44",
   "metadata": {},
   "outputs": [],
   "source": [
    "def genS(mu,sigma0,nDays,nSim):\n",
    "    #np.random.seed(1)\n",
    "    sigma = np.array([sigma0])\n",
    "    dt = 1/DAYS\n",
    "    S = np.array([[0.0 for i in range(nDays+1)] for j in range(nSim)])\n",
    "    rng = np.random.default_rng()\n",
    "    for j in range(nSim):\n",
    "        w=rng.standard_normal( size=(1,nDays)).T\n",
    "        x = np.exp((mu - 0.5*sigma ** 2) * dt + w*np.sqrt(dt)*sigma)\n",
    "        x = np.vstack([np.ones(len(sigma)), x])\n",
    "        x = x.cumprod(axis=0)\n",
    "        S[j][:]=x.ravel()\n",
    "    return S"
   ]
  },
  {
   "cell_type": "markdown",
   "id": "7d3ebe03",
   "metadata": {},
   "source": [
    "ボラティリティが４０％で価格の年率の上昇率が１０％の時系列を作ってみましょう。満期は1年とし、一年間の価格の生成を１試行として、百万回作ってみたいと思います。\n"
   ]
  },
  {
   "cell_type": "code",
   "execution_count": 488,
   "id": "59a8fcf1",
   "metadata": {},
   "outputs": [
    {
     "name": "stdout",
     "output_type": "stream",
     "text": [
      "0:00:58.491608\n"
     ]
    }
   ],
   "source": [
    "t1=datetime.now()\n",
    "vol=0.4 #0.65\n",
    "mu=0.1#0.004\n",
    "nDays=DAYS*1#1 year maturity\n",
    "nSim=1000000\n",
    "S=genS(mu,vol,nDays,nSim)\n",
    "print(datetime.now()-t1)"
   ]
  },
  {
   "cell_type": "markdown",
   "id": "c2ecda0e",
   "metadata": {},
   "source": [
    "できたものを頻度図として表示します。"
   ]
  },
  {
   "cell_type": "code",
   "execution_count": 489,
   "id": "f34759cc",
   "metadata": {},
   "outputs": [
    {
     "data": {
      "image/png": "[encoded data removed]",
      "text/plain": [
       "<Figure size 432x288 with 1 Axes>"
      ]
     },
     "metadata": {
      "needs_background": "light"
     },
     "output_type": "display_data"
    }
   ],
   "source": [
    "fig, ax = plt.subplots(1, 1)\n",
    "ax.hist(S[:,nDays],bins=100,density=True)\n",
    "plt.show()"
   ]
  },
  {
   "cell_type": "markdown",
   "id": "943b50b6",
   "metadata": {},
   "source": [
    "右にすそ野の長い分布が見て取れます。実際に生成した価格の時系列の分布を幾何ブラウン運動にしたがう確率変数の確率密度関数として見てみましょう。\n",
    "\n",
    "$f(s,\\mu,\\sigma,t)=\\frac{1}{\\sqrt{2\\pi}}\\frac{1}{s\\sigma\\sqrt{t}}\\exp (-\\frac{([\\ln(s)-\\ln(S_0)-(\\mu-0.5\\sigma^2)t]^2}{2\\sigma^2t})$"
   ]
  },
  {
   "cell_type": "code",
   "execution_count": 490,
   "id": "bd69319d",
   "metadata": {},
   "outputs": [],
   "source": [
    "def lognormal(x,mu,vol,t):\n",
    "    tmp=1/np.sqrt(2*np.pi*t)/vol/x\n",
    "    return tmp*np.exp(-(np.log(x)-(mu-0.5*vol**2)*t)**2/2/vol**2/t)"
   ]
  },
  {
   "cell_type": "markdown",
   "id": "a0a3ab25",
   "metadata": {},
   "source": [
    "この関数を利用してヒストグラムに当てはめてみます。また、stats.lognorm.fitを用いて当てはまりの具合を確認します。"
   ]
  },
  {
   "cell_type": "code",
   "execution_count": 491,
   "id": "b61f84a3",
   "metadata": {},
   "outputs": [
    {
     "name": "stdout",
     "output_type": "stream",
     "text": [
      "shape,loc,scale 0.4006972823917476 0.001173897648075428 1.018916072021809\n"
     ]
    },
    {
     "data": {
      "image/png": "[encoded data removed]",
      "text/plain": [
       "<Figure size 432x288 with 1 Axes>"
      ]
     },
     "metadata": {
      "needs_background": "light"
     },
     "output_type": "display_data"
    },
    {
     "data": {
      "image/png": "[encoded data removed]",
      "text/plain": [
       "<Figure size 432x288 with 1 Axes>"
      ]
     },
     "metadata": {
      "needs_background": "light"
     },
     "output_type": "display_data"
    }
   ],
   "source": [
    "s,l,sc = stats.lognorm.fit(S[:,nDays])\n",
    "print('shape,loc,scale',s,l,sc)\n",
    "fig, ax = plt.subplots(1, 1)\n",
    "x = np.linspace(lognorm.ppf((1/nSim), s),\n",
    "                lognorm.ppf((1-1/nSim), s), 100)\n",
    "ax.hist(S[:,nDays],bins=x,alpha=0.9,density=True,label='frequency')\n",
    "ax.plot(x, lognorm.pdf(x, s,l,sc),\n",
    "       'r-', lw=10, alpha=0.3, label='lognorm pdf fit')\n",
    "ax.plot(x, lognormal(x,mu,vol,nDays/DAYS),\n",
    "       'g-', lw=2, alpha=1, label='lognorm (GBM)')\n",
    "plt.legend()\n",
    "plt.show()\n",
    "stats.probplot(S[:,nDays], dist=\"lognorm\", sparams=(s,l,sc),plot=plt)\n",
    "plt.show()"
   ]
  },
  {
   "cell_type": "markdown",
   "id": "43837200",
   "metadata": {},
   "source": [
    "Scipyではp-pプロットを用いています。理論確率(赤の直線)と実際の確率(青のドット)を比べています。見た感じでは大きく上昇した場面で、ノイズが大きそうです。この点について確認をします。\n",
    "\n",
    "$f(s,\\mu,\\sigma,t)=\\frac{1}{\\sqrt{2\\pi}}\\frac{1}{s\\sigma\\sqrt{t}}\\exp (-\\frac{([\\ln(s)-\\ln(S_0)-(\\mu-0.5\\sigma^2)t]^2}{2\\sigma^2t})$\n",
    "\n",
    "の分布ですが、これは平均 $(\\mu-0.5\\sigma^2)t$、分散 $\\sigma^2 t$の価格の対数が正規分布にしたがうのと同等です。確かめてみましょう。"
   ]
  },
  {
   "cell_type": "code",
   "execution_count": 492,
   "id": "067624dd",
   "metadata": {},
   "outputs": [
    {
     "data": {
      "text/plain": [
       "(0.9961097852369101, 0.9961097852369101)"
      ]
     },
     "execution_count": 492,
     "metadata": {},
     "output_type": "execute_result"
    }
   ],
   "source": [
    "stats.norm.pdf(0,(mu-0.5*vol**2),vol),lognormal(1,mu,vol,1)"
   ]
  },
  {
   "cell_type": "markdown",
   "id": "7e7cefcc",
   "metadata": {},
   "source": [
    "この関数を利用してヒストグラムに当てはめてみます。また、stats.norm.fitを用いて当てはまりの具合を確認します。価格を対数正規分布で分析するよりも、対数価格を正規分布で分析した方が、価格の上昇、下落が対称になり、見た感じで理解しやすくなります。"
   ]
  },
  {
   "cell_type": "code",
   "execution_count": 493,
   "id": "395978d1",
   "metadata": {},
   "outputs": [
    {
     "name": "stdout",
     "output_type": "stream",
     "text": [
      "shape,loc 0.019984338666517776 0.40019691400113505\n"
     ]
    },
    {
     "data": {
      "image/png": "[encoded data removed]",
      "text/plain": [
       "<Figure size 432x288 with 1 Axes>"
      ]
     },
     "metadata": {
      "needs_background": "light"
     },
     "output_type": "display_data"
    },
    {
     "data": {
      "image/png": "[encoded data removed]",
      "text/plain": [
       "<Figure size 432x288 with 1 Axes>"
      ]
     },
     "metadata": {
      "needs_background": "light"
     },
     "output_type": "display_data"
    }
   ],
   "source": [
    "def MCsim(S,nDays,nSim):\n",
    "    s,l = stats.norm.fit(np.log(S[:,nDays]))\n",
    "    print('shape,loc',s,l)\n",
    "    fig, ax = plt.subplots(1, 1)\n",
    "    x = np.linspace(norm.ppf(1/nSim,(mu-0.5*vol**2)*nDays/DAYS,vol*np.sqrt(nDays/DAYS)),\n",
    "                    norm.ppf(1-1/nSim,(mu-0.5*vol**2)*nDays/DAYS,vol*np.sqrt(nDays/DAYS)), 100)\n",
    "    ax.hist(np.log(S[:,nDays]),bins=x,alpha=0.9,density=True,label='frequency')\n",
    "    ax.plot(x, norm.pdf(x, s,l),\n",
    "           'r-', lw=10, alpha=0.3, label='norm pdf fit')\n",
    "    #ax.plot(x, lognormal(x,mu,vol,nDays/DAYS),\n",
    "    #       'g-', lw=2, alpha=1, label='lognorm (GBM)')\n",
    "    plt.legend()\n",
    "    plt.show()\n",
    "    stats.probplot(np.log(S[:,nDays]), dist=\"norm\", sparams=((mu-0.5*vol**2)*nDays/DAYS,vol*np.sqrt(nDays/DAYS)),plot=plt)\n",
    "    plt.show()\n",
    "MCsim(S,nDays,nSim)\n"
   ]
  },
  {
   "cell_type": "markdown",
   "id": "4af434c1",
   "metadata": {},
   "source": [
    "とりあえず、生成した時系列の特性の確認が取れました。\n",
    "\n",
    "つぎに\n",
    "\n",
    "- 対称変量法：乱数部分のセルを2つに分け、一方にマイナスをかけたセルをもう一方にコピーします。\n",
    "- モーメント照合法：平均と標準偏差を用いて調整します。\n",
    "- 重点サンプリング\n",
    "- MCMC\n",
    "\n",
    "について、どのような効果があるか、ヨーロピアンコールの価値を評価することで確かめてみましょう。ヨーロピアンオプションの評価には満期の価格のみが必要なので、満期の価格を得ます。\n",
    "\n",
    "```Python\n",
    "S[:5,-1]\n",
    "```\n",
    "は最初の5つの満期のデータを表示します。\"-1\"は最後尾のデータを取得します。"
   ]
  },
  {
   "cell_type": "code",
   "execution_count": 494,
   "id": "3f588703",
   "metadata": {},
   "outputs": [
    {
     "data": {
      "text/plain": [
       "array([1.40786869, 0.61673721, 1.75625414, 1.51006219, 0.7740773 ])"
      ]
     },
     "execution_count": 494,
     "metadata": {},
     "output_type": "execute_result"
    }
   ],
   "source": [
    "S[:5,-1]"
   ]
  },
  {
   "cell_type": "markdown",
   "id": "6853e12c",
   "metadata": {},
   "source": [
    "つぎに行使価格1のヨーロピアンコールオプションの価値を先ほど生成したSを用いて、算出します。また、Sのリターンとボラティリティを算出します。"
   ]
  },
  {
   "cell_type": "code",
   "execution_count": 495,
   "id": "6b8232c6",
   "metadata": {},
   "outputs": [
    {
     "name": "stdout",
     "output_type": "stream",
     "text": [
      "european call option value 0.20334332591440774\n",
      "historical return 1.1052551528552879 mu 0.1\n",
      "historical vol 0.40003340596479325 implied vol 0.4\n"
     ]
    }
   ],
   "source": [
    "k=1\n",
    "print('european call option value',np.average([max([i,0]) for i in (S[:,-1]-k).ravel()])*np.exp(-mu))\n",
    "print('historical return', np.average(S[:,-1]/S[:,0]), 'mu',mu)\n",
    "print('historical vol', np.std(np.diff(np.log(S)))*np.sqrt(DAYS), 'implied vol',vol)"
   ]
  },
  {
   "cell_type": "markdown",
   "id": "3d48d7ca",
   "metadata": {},
   "source": [
    "つぎにBS型のヨーロピアンオプションの価値を算出します。"
   ]
  },
  {
   "cell_type": "code",
   "execution_count": 496,
   "id": "b47edd5f",
   "metadata": {},
   "outputs": [
    {
     "name": "stdout",
     "output_type": "stream",
     "text": [
      "european BS call value 0.203184693100587\n"
     ]
    }
   ],
   "source": [
    "def gbscall(s,k,t,r,q,v):\n",
    "    b=r-q\n",
    "    d1=(np.log(s/k)+(b+v**2/2)*t)/v/np.sqrt(t)\n",
    "    d2=(np.log(s/k)+(b-v**2/2)*t)/v/np.sqrt(t)\n",
    "    return np.exp((b-r)*t)*s*norm.cdf(d1)-k*np.exp(-r*t)*norm.cdf(d2)\n",
    "print('european BS call value', gbscall(1,k,1,mu,0,vol))"
   ]
  },
  {
   "cell_type": "markdown",
   "id": "7fd242ec",
   "metadata": {},
   "source": [
    "ほぼ同じ値となりました。\n",
    "\n",
    "### 目的とする確率変数の精度と効率性の向上\n",
    "\n",
    "- 対称変量法：乱数部分のセルを2つに分け、一方にマイナスをかけたセルをもう一方にコピーします。\n",
    "- モーメント照合法：平均と標準偏差を用いて調整します。\n",
    "- 重点サンプリング\n",
    "- MCMC\n",
    "の効果を見たいので、試行回数をnSim=1000としてみます。また便宜上、mu=0とします。"
   ]
  },
  {
   "cell_type": "code",
   "execution_count": 497,
   "id": "e5ab7988",
   "metadata": {},
   "outputs": [
    {
     "name": "stdout",
     "output_type": "stream",
     "text": [
      "european call option value 0.16134878519267748\n",
      "european BS call value 0.15851941887820603\n",
      "historical return -0.003800907744065385 , mu 0.0\n",
      "historical vol 0.39993027643671925 , implied vol 0.4\n",
      "0:00:00.055023\n"
     ]
    }
   ],
   "source": [
    "t1=datetime.now()\n",
    "nSim=1000\n",
    "mu=0.0\n",
    "S=genS(mu,vol,nDays,nSim)\n",
    "k=1\n",
    "print('european call option value',np.average([max([i,0]) for i in (S[:,-1]-k).ravel()])*np.exp(-mu))\n",
    "print('european BS call value', gbscall(1,k,1,mu,0,vol))\n",
    "print('historical return', np.average(S[:,-1]/S[:,0])-1, ', mu',mu)\n",
    "print('historical vol', np.std(np.diff(np.log(S)))*np.sqrt(DAYS), ', implied vol',vol)\n",
    "print(datetime.now()-t1)"
   ]
  },
  {
   "cell_type": "markdown",
   "id": "da6ef7b5",
   "metadata": {},
   "source": [
    "試行回数を減らすと誤差が大きくなるのが分かります。\n",
    "対称変量法とモーメント照合法を試すために、プログラムのコードを少し書き換え、オリジナルの乱数を残します。"
   ]
  },
  {
   "cell_type": "code",
   "execution_count": 498,
   "id": "c9a39f78",
   "metadata": {},
   "outputs": [
    {
     "name": "stdout",
     "output_type": "stream",
     "text": [
      "historical return -0.007696323122089788 , mu 0.0\n",
      "historical vol 0.40021035236100483 , implied vol 0.4\n",
      "european call option value 0.15445265780139175\n",
      "european BS call value 0.15851941887820603\n"
     ]
    }
   ],
   "source": [
    "w1=rng.standard_normal( size=(1,nDays*nSim)).T\n",
    "w2=w1.reshape(1000,240)\n",
    "S1 = np.array([[0.0 for i in range(nDays+1)] for j in range(nSim)])\n",
    "j=0\n",
    "dt=1/DAYS\n",
    "for i in w2:\n",
    "    w3=np.array([i]).T\n",
    "    x = np.exp((mu - 0.5*sigma ** 2) * dt + w3*np.sqrt(dt)*sigma)\n",
    "    x = np.vstack([np.ones(len(sigma)), x])\n",
    "    x = x.cumprod(axis=0)\n",
    "    S1[j][:]=x.ravel()\n",
    "    j+=1\n",
    "print('historical return', np.average(S1[:,-1]/S1[:,0])-1, ', mu',mu)\n",
    "print('historical vol', np.std(np.diff(np.log(S1)))*np.sqrt(DAYS), ', implied vol',vol)\n",
    "print('european call option value',np.average([max([i,0]) for i in (S1[:,-1]-k).ravel()])*np.exp(-mu))\n",
    "print('european BS call value', gbscall(1,k,1,mu,0,vol))"
   ]
  },
  {
   "cell_type": "markdown",
   "id": "1350105f",
   "metadata": {},
   "source": [
    "#### 対称変量法\n",
    "つぎに対称変量法を試します。"
   ]
  },
  {
   "cell_type": "code",
   "execution_count": 499,
   "id": "d41eaa31",
   "metadata": {},
   "outputs": [
    {
     "name": "stdout",
     "output_type": "stream",
     "text": [
      "(1000, 240)\n",
      "historical return 0.0014656400709618378 , mu 0.0\n",
      "historical vol 0.4015778187476487 , implied vol 0.4\n",
      "european call option value 0.1600676204227935\n",
      "european BS call value 0.15851941887820603\n"
     ]
    }
   ],
   "source": [
    "w9=w1[:120000]\n",
    "w9=np.vstack([w9,-w9])\n",
    "w2=w9.reshape(1000,240)\n",
    "print(np.shape(w2))\n",
    "S1 = np.array([[0.0 for i in range(nDays+1)] for j in range(nSim)])\n",
    "j=0\n",
    "dt=1/DAYS\n",
    "for i in w2:\n",
    "    w3=np.array([i]).T\n",
    "    x = np.exp((mu - 0.5*sigma ** 2) * dt + w3*np.sqrt(dt)*sigma)\n",
    "    x = np.vstack([np.ones(len(sigma)), x])\n",
    "    x = x.cumprod(axis=0)\n",
    "    S1[j][:]=x.ravel()\n",
    "    j+=1\n",
    "print('historical return', np.average(S1[:,-1]/S1[:,0])-1, ', mu',mu)\n",
    "print('historical vol', np.std(np.diff(np.log(S1)))*np.sqrt(DAYS), ', implied vol',vol)\n",
    "print('european call option value',np.average([max([i,0]) for i in (S1[:,-1]-k).ravel()])*np.exp(-mu))\n",
    "print('european BS call value', gbscall(1,k,1,mu,0,vol))"
   ]
  },
  {
   "cell_type": "markdown",
   "id": "6b6872db",
   "metadata": {},
   "source": [
    "#### モーメント照合法\n",
    "\n",
    "つぎにモーメント照合法を試します。"
   ]
  },
  {
   "cell_type": "code",
   "execution_count": 500,
   "id": "ff576c5a",
   "metadata": {},
   "outputs": [
    {
     "name": "stdout",
     "output_type": "stream",
     "text": [
      "mean of w1 -0.0011615072916652176  std of w1 1.0005258809025124\n",
      "mean of w2 2.1109040441539642e-17  std of w2 0.9999999999999999\n",
      "(1000, 240)\n",
      "historical return -0.000611352843348012 , mu 0.0\n",
      "historical vol 0.3999999999999999 , implied vol 0.4\n",
      "european call option value 0.15845139111264792\n",
      "european BS call value 0.15851941887820603\n"
     ]
    }
   ],
   "source": [
    "m=np.average(w1)\n",
    "v=np.std(w1)\n",
    "print('mean of w1', m,' std of w1',v)\n",
    "w2=(w1-m)/v\n",
    "m2=np.average(w2)\n",
    "v2=np.std(w2)\n",
    "print('mean of w2', m2,' std of w2',v2)\n",
    "\n",
    "w2=w2.reshape(1000,240)\n",
    "print(np.shape(w2))\n",
    "S1 = np.array([[0.0 for i in range(nDays+1)] for j in range(nSim)])\n",
    "j=0\n",
    "dt=1/DAYS\n",
    "for i in w2:\n",
    "    w3=np.array([i]).T\n",
    "    x = np.exp((mu - 0.5*sigma ** 2) * dt + w3*np.sqrt(dt)*sigma)\n",
    "    x = np.vstack([np.ones(len(sigma)), x])\n",
    "    x = x.cumprod(axis=0)\n",
    "    S1[j][:]=x.ravel()\n",
    "    j+=1\n",
    "print('historical return', np.average(S1[:,-1]/S1[:,0])-1, ', mu',mu)\n",
    "print('historical vol', np.std(np.diff(np.log(S1)))*np.sqrt(DAYS), ', implied vol',vol)\n",
    "print('european call option value',np.average([max([i,0]) for i in (S1[:,-1]-k).ravel()])*np.exp(-mu))\n",
    "print('european BS call value', gbscall(1,k,1,mu,0,vol))"
   ]
  },
  {
   "cell_type": "markdown",
   "id": "3d8d0e20",
   "metadata": {},
   "source": [
    "どちらの方法も必ずしもうまくいくとは限らないことがわかります。\n",
    "\n",
    "\n",
    "#### 重点サンプリング\n",
    "\n",
    "重点サンプリングについて学びましょう。まず、モンテカルロ法によるヨーロピアンコールの評価について行使価格を大きくずらして、BSモデルの結果と比べます。"
   ]
  },
  {
   "cell_type": "code",
   "execution_count": 501,
   "id": "aa96f68d",
   "metadata": {},
   "outputs": [
    {
     "name": "stdout",
     "output_type": "stream",
     "text": [
      "european call option value 0.11966272066997279\n",
      "european BS call value 0.12108139117843991\n",
      "historical return 0.003674856281205452 , mu 0.0\n",
      "historical vol 0.40023702808642364 , implied vol 0.4\n",
      "0:00:00.040009\n"
     ]
    }
   ],
   "source": [
    "t1=datetime.now()\n",
    "nSim=1000\n",
    "mu=0.0\n",
    "S=genS(mu,vol,nDays,nSim)\n",
    "k=1.1\n",
    "print('european call option value',np.average([max([i,0]) for i in (S[:,-1]-k).ravel()])*np.exp(-mu))\n",
    "print('european BS call value', gbscall(1,k,1,mu,0,vol))\n",
    "print('historical return', np.average(S[:,-1]/S[:,0])-1, ', mu',mu)\n",
    "print('historical vol', np.std(np.diff(np.log(S)))*np.sqrt(DAYS), ', implied vol',vol)\n",
    "print(datetime.now()-t1)"
   ]
  },
  {
   "cell_type": "markdown",
   "id": "24d6932b",
   "metadata": {},
   "source": [
    "明らかに結果は思わしくありません。モンテカルロ法とBSモデルの解では差が開いています。これはモンテカルロ法では行使価格近辺のパスの数が少なく、発生頻度が下がってしまっているのです。それが原因で、オプションの価値が正確に算出されていないのです。この問題を解消するために、イン・ザ・マネーになるパスのみを発生させ、オプションの価値を算出して、発生確率で調整するという方法をとります。\n",
    "\n",
    "$k=s\\exp\\left[(b-\\sigma^2/2)T+\\sigma\\sqrt{T}N^{-1}(w)\\right]$\n",
    "\n",
    "$d=N^{-1}(w)=\\frac{\\log\\frac{k}{s}-(b-\\sigma^2/2)(T)}{\\sigma\\sqrt{T}}$\n",
    "\n",
    "$w=N\\left [\\frac{\\log\\frac{k}{s}-(b-\\sigma^2/2)(T)}{\\sigma\\sqrt{T}} \\right]$\n",
    "\n",
    "すなわち、乱数$w$が$N\\left [\\frac{\\log\\frac{K}{S}-(b-\\sigma^2/2)(T)}{\\sigma\\sqrt{T}} \\right]$と$1$の間にあれば、コールオプションはイン・ザ・マネーにあります。モンテカルロ法により生成される時系列にこの割合の重み付けをします。イン・ザ・マネーのなるリスク中立確率をかければよいのです。ヨーロピアンコールの場合には$N(d_2)$となります。\n",
    "\n",
    "\n",
    "$C=N(d_2)\\sum \\left \\{S \\exp \\left[(b-\\sigma^2/2)T+\\sigma\\sqrt{T}N^{-1}(w_c )\\right] \\right \\}$\n",
    "\n",
    "ここで$w_c=[1-N(-d)]w+N(d)$です。ここでは逆関数法を用いています。\n",
    "\n"
   ]
  },
  {
   "cell_type": "code",
   "execution_count": 502,
   "id": "98889318",
   "metadata": {},
   "outputs": [
    {
     "name": "stdout",
     "output_type": "stream",
     "text": [
      "european call option value [0.12126171]\n",
      "european BS call value 0.12108139117843991\n"
     ]
    },
    {
     "data": {
      "text/plain": [
       "0.4382754495108124"
      ]
     },
     "execution_count": 502,
     "metadata": {},
     "output_type": "execute_result"
    }
   ],
   "source": [
    "b=mu\n",
    "t=1\n",
    "k=1.1\n",
    "d=(np.log(k/1)-(b-sigma0**2/2)*t)/sigma0/np.sqrt(t)\n",
    "d2=(np.log(1/k)+(b-sigma0**2/2)*t)/sigma0/np.sqrt(t)\n",
    "sigma = np.array([sigma0])\n",
    "dt = 1\n",
    "nDays=1\n",
    "nSim=10000\n",
    "sum0=0\n",
    "for i in range(nSim):\n",
    "    pp=rng.random(1)\n",
    "    pp=(1-norm.cdf(d))*pp+norm.cdf(d)\n",
    "    S1=np.exp((b-0.5*sigma0**2)*dt+norm.ppf(pp)*sigma0*np.sqrt(dt))\n",
    "    sum0+=max([S1-k,0])\n",
    "print('european call option value',norm.cdf(d2)*(sum0/nSim)*np.exp(-mu))\n",
    "print('european BS call value', gbscall(1,k,1,mu,0,vol))\n",
    "d"
   ]
  },
  {
   "cell_type": "markdown",
   "id": "530666a4",
   "metadata": {},
   "source": [
    "#### MCMC\n",
    "\n",
    "- 予備知識\n",
    "\n",
    "    - 観測値：$x=(x_1,x_2,\\dots,x_n)^T$を同時確率密度関数$f(x|\\theta)$が定義するパラメトリックモデルから生成されたデータのこと。\n",
    "    - 事前分布：データ$x$を得る前にもっている$\\theta$に関する事前情報を確率分布で表したもので$\\pi(x)$で表す。\n",
    "    - 事後分布：$\\pi(\\theta|x)$はデータ$x$の情報を得た後の$\\theta$に関する条件付分布のこと。\n",
    "    - 共益事前分布：事前分布と事後分布が同じ確率分布族になること。\n",
    "\n",
    "$\\pi(\\theta|x)=\\frac{f(x|\\theta)\\pi(\\theta)}{\\int_\\Theta f(x|\\theta)\\pi(x)d\\theta}$\n",
    "\n",
    "\n",
    "- 参考：MCMCについて整理してみた。Qiita記事\n",
    "https://qiita.com/shogiai/items/bab2b915df2b8dd6f6f2\n",
    "\n",
    "マルコフ連鎖モンテカルロ法は、確率分布のサンプリングを行うアルゴリズムの総称です。代表的なものにメトロポリス・ヘイスティング法とギブス・サンプリング法があります。多くの試行を行ったあとのマルコフ連鎖の状態は、目標とする分布の標本として用いられます。試行の回数が多ければ、その品質も向上します。一般的なモンテカルロ法では、ランダムな標本が独立であることが要求されますが、標本に相関がある場合などには、MCMCが有効です。\n",
    "\n",
    "- メトロポリス・ヘイスティングアルゴリズム：サンプリングを行いたい確率分布を目標分布、目標分布からのサンプリングを行う確率分布を提案分布といいます。提案分布は、$t$番目に発生させたサンプル$\\theta^{(t)}$の値が与えられたときの$t+1$期のサンプル$\\theta^{(t+1)}$の値の条件付分布です。提案分布からサンプルの候補を発生させますが、目標分布に依存する採択確率により、サンプルを選択します。\n",
    "\n",
    "提案分布: $f(y)$  \n",
    "採択確率: $r=f(y_{new})/f(y)$  \n"
   ]
  },
  {
   "cell_type": "code",
   "execution_count": 503,
   "id": "af5d77fe",
   "metadata": {},
   "outputs": [
    {
     "data": {
      "image/png": "[encoded data removed]",
      "text/plain": [
       "<Figure size 432x288 with 1 Axes>"
      ]
     },
     "metadata": {
      "needs_background": "light"
     },
     "output_type": "display_data"
    },
    {
     "name": "stdout",
     "output_type": "stream",
     "text": [
      "0.01 0.966729593961468 1.0807937848355251 100000\n"
     ]
    },
    {
     "data": {
      "image/png": "[encoded data removed]",
      "text/plain": [
       "<Figure size 432x288 with 1 Axes>"
      ]
     },
     "metadata": {
      "needs_background": "light"
     },
     "output_type": "display_data"
    },
    {
     "name": "stdout",
     "output_type": "stream",
     "text": [
      "0.25 -0.02711814271514326 0.9719652591944209 100000\n"
     ]
    },
    {
     "data": {
      "image/png": "[encoded data removed]",
      "text/plain": [
       "<Figure size 432x288 with 1 Axes>"
      ]
     },
     "metadata": {
      "needs_background": "light"
     },
     "output_type": "display_data"
    },
    {
     "name": "stdout",
     "output_type": "stream",
     "text": [
      "0.5 0.03781492119171506 1.0023686371966694 100000\n"
     ]
    },
    {
     "data": {
      "image/png": "[encoded data removed]",
      "text/plain": [
       "<Figure size 432x288 with 1 Axes>"
      ]
     },
     "metadata": {
      "needs_background": "light"
     },
     "output_type": "display_data"
    },
    {
     "name": "stdout",
     "output_type": "stream",
     "text": [
      "0.75 0.003504646154186385 0.9998452345325439 100000\n"
     ]
    },
    {
     "data": {
      "image/png": "[encoded data removed]",
      "text/plain": [
       "<Figure size 432x288 with 1 Axes>"
      ]
     },
     "metadata": {
      "needs_background": "light"
     },
     "output_type": "display_data"
    },
    {
     "name": "stdout",
     "output_type": "stream",
     "text": [
      "1 -0.001864250568850681 0.9936907001534678 100000\n"
     ]
    }
   ],
   "source": [
    "np.random.seed(0)\n",
    "\n",
    "def f(y):\n",
    "    return stats.norm.pdf(y,0,1.)\n",
    "\n",
    "burn_in = 0\n",
    "\n",
    "for alpha in [0.01,0.25,0.5,0.75,1]:\n",
    "    res = np.zeros(100000)\n",
    "    y = 0.    \n",
    "    for i in range(burn_in+res.shape[0]):\n",
    "        y_new = alpha*stats.norm.rvs()+y\n",
    "        r = min(1,f(y_new) / f(y))\n",
    "        u = np.random.rand()\n",
    "        if u < r:\n",
    "            y = y_new\n",
    "            if i > burn_in:\n",
    "                res[i-burn_in] = y\n",
    "        else:\n",
    "            y = y\n",
    "            if i > burn_in:\n",
    "                res[i-burn_in] = y\n",
    "    plt.hist(res,bins=100,color=\"limegreen\")\n",
    "    plt.show()\n",
    "    print(alpha,np.average(res),np.std(res),len(res))"
   ]
  },
  {
   "cell_type": "markdown",
   "id": "41620850",
   "metadata": {},
   "source": [
    "正規分布の場合には、一般的なモンテカルロ法の方がいい結果になることが知られています。\n",
    "\n",
    "MCMCは、多変量で相関のある分布や混合分布などの場合に威力を発揮します。"
   ]
  },
  {
   "cell_type": "code",
   "execution_count": 504,
   "id": "a15eb7c9",
   "metadata": {},
   "outputs": [
    {
     "data": {
      "image/png": "[encoded data removed]",
      "text/plain": [
       "<Figure size 432x288 with 1 Axes>"
      ]
     },
     "metadata": {
      "needs_background": "light"
     },
     "output_type": "display_data"
    },
    {
     "name": "stdout",
     "output_type": "stream",
     "text": [
      "0.01 -0.44525055804379643 0.28428769481747873 10000\n"
     ]
    },
    {
     "data": {
      "image/png": "[encoded data removed]",
      "text/plain": [
       "<Figure size 432x288 with 1 Axes>"
      ]
     },
     "metadata": {
      "needs_background": "light"
     },
     "output_type": "display_data"
    },
    {
     "name": "stdout",
     "output_type": "stream",
     "text": [
      "0.25 0.7192718540989185 1.3005723821148962 10000\n"
     ]
    },
    {
     "data": {
      "image/png": "[encoded data removed]",
      "text/plain": [
       "<Figure size 432x288 with 1 Axes>"
      ]
     },
     "metadata": {
      "needs_background": "light"
     },
     "output_type": "display_data"
    },
    {
     "name": "stdout",
     "output_type": "stream",
     "text": [
      "0.5 0.5479469094094409 1.3282493535616884 10000\n"
     ]
    },
    {
     "data": {
      "image/png": "[encoded data removed]",
      "text/plain": [
       "<Figure size 432x288 with 1 Axes>"
      ]
     },
     "metadata": {
      "needs_background": "light"
     },
     "output_type": "display_data"
    },
    {
     "name": "stdout",
     "output_type": "stream",
     "text": [
      "0.75 0.5559568709121139 1.2968946372045074 10000\n"
     ]
    },
    {
     "data": {
      "image/png": "[encoded data removed]",
      "text/plain": [
       "<Figure size 432x288 with 1 Axes>"
      ]
     },
     "metadata": {
      "needs_background": "light"
     },
     "output_type": "display_data"
    },
    {
     "name": "stdout",
     "output_type": "stream",
     "text": [
      "1 0.6441549932783474 1.2543149388038903 10000\n"
     ]
    }
   ],
   "source": [
    "np.random.seed(0)\n",
    "\n",
    "def f(y):\n",
    "    return 0.7*stats.norm.pdf(y,0,1.) + 0.3*stats.norm.pdf(y,2.,0.5)\n",
    "\n",
    "burn_in = 1000\n",
    "\n",
    "for alpha in [0.01,0.25,0.5,0.75,1]:\n",
    "    res = np.zeros(10000)\n",
    "    y = 0.\n",
    "    for i in range(burn_in+res.shape[0]):\n",
    "        y_candidate = alpha*stats.norm.rvs()+y\n",
    "        r = f(y_candidate) / f(y)\n",
    "        u = np.random.rand()\n",
    "        if u < r:\n",
    "            y = y_candidate\n",
    "            if i > burn_in:\n",
    "                res[i-burn_in] = y\n",
    "        else:\n",
    "            y = y\n",
    "            if i > burn_in:\n",
    "                res[i-burn_in] = y\n",
    "    plt.hist(res,bins=20,color=\"limegreen\")\n",
    "    plt.show()\n",
    "    print(alpha,np.average(res),np.std(res),len(res))"
   ]
  },
  {
   "cell_type": "markdown",
   "id": "4bf149ee",
   "metadata": {},
   "source": [
    "# アメリカンオプション\n",
    "\n",
    "満期より前であればいつでも行使できるオプションは、アメリカンオプションと呼ばれます。アメリカンコールオプションの価値は\n",
    "\n",
    "$C=\\underset{\\tau}{\\max} E[e^{-r\\tau}\\max⁡(S_\\tau-K,0)]$\n",
    "\n",
    "として与えられます。\n",
    "早期行使を行う時刻$\\tau$を停止時刻といい、$\\tau\\le T$で表します。\n",
    "時刻は有限な離散時間$ t_0=0<t_1<\\cdots<t_d=T$とし、原資産価格の時系列もそれに同期して$S_0,S_1,\\cdots, S_T$とします。\n",
    "停止時刻の最適化政策は未知とします。\n",
    "\n",
    "このような金融派生商品の価値は、おもに満期までの原資産の価格の動きとオプション保有者の行使戦略により左右されます。アメリカンオプションの保有者は、早期行使の価値の方が継続よりも高ければ、行使します。 最適な早期行使を行う原資産価格の領域を定め、その領域になければオプションは満期まで行使されないとします。 最適な停止時刻を算出します。 そして、各時系列におけるオプションの価値を算出します。 各々の時系列の結果の期待値をもとめ割り引きます。しかし、このような未知な要素を行使戦略に含む構造は、理論価格の算出を困難にします。\n",
    "\n",
    "\n",
    "## アメリカンオプション行使の仕組み\n",
    "\n",
    "### $b<r$のとき\n",
    "つまり、$q>0$のときに、多くのオプションは取引されます。\n",
    "原資産の価格$S$が行使価格$K$に対して著しく高い場合、${N(d_1)}$と${N(d_2)}$ は１に近づきヨーロピアンの価値 $Se^{\\left(b-r\\right)T}-Ke^{-rT}$ に近づきます。\n",
    "ヨーロピアンのオプション価値よりも高い$S-K$を得るためにアメリカンオプションはその場で行使されます。\n",
    "それ以後満期までオプションを保有することにより、収入が得られます。\n",
    "満期に原資産保有のペイオフがマイナスになるリスクがないときに行使されます。 \n",
    "したがって、アメリカンオプションには早期行使のプレミアムが付きます。\n",
    "\n",
    "\n",
    "### $b\\geq r$のとき\n",
    "たとえば、配当が無く$b=r$となる株式において、どのような価格で早期行使しても、原資産を保有して得られるものは、特になく、満期のペイオフがマイナスになる可能性が加わるだけで、ヨーロピアンオプションの価格の下限の方が高くなり行使されることはありません。\n",
    "ただし、行使により得られた原資産をその場で、市場で売買できるのであればこの限りではありません。\n",
    "\n",
    "\n",
    "\n",
    "## モンテカルロ法によるアメリカンオプションの価値の算出\n",
    "モンテカルロ法を用いたアメリカンオプションの価格推定の方法を紹介します。 \n",
    "\n",
    "### 単純なモデル\n",
    "\n",
    "満期までの一連の原資産の価格を、乱数を用いて生成します。 幾何ブラウン運動として一連の価格系列を生成した後にオプションの価値を評価するので、満期までの時系列は既知として扱うことが可能です。満期のペイオフが分かっているので、後ろから前のペイオフと順次比べていけば、最も高いペイオフを得られる時点で早期行使することが可能になります。 しかし、満期までの価格時系列の知識をもとに早期行使の判断をすると、将来の事象が既知となってしまいます。その判断を下すタイミングを$i$とすると\n",
    "\n",
    "$\\underset{i=0,\\cdots,d\\in Z}{\\max}{e^{-rt_i}\\max\\left(S_{t_i}-K,0\\right)} \\ge {e^{-r\\tau}\\max\\left(S_\\tau-K,0\\right)}$\n",
    "\n",
    "となります。$\\tau$は将来が未知の状況にありながら、最適な停止時刻を判断した結果です。完全予見では$i=1.\\dots,d$のすべての時刻でペイオフを計算し、それが最大値となる停止時刻を選んでいます。この時系列の推定は、未来が完全に予見できていることにより、完全予見による解となります。 オプションの価値は過大評価されます。時系列が独立であっても、未来が既知であれば、意思決定に影響を及ぼし、価格推定にバイアスをもたらします。そのような意思決定のプロセスがアメリカンオプションの価値にどのような影響を与えるかをまず見てみましょう。\n",
    "\n",
    "ここではプットを評価します。\n"
   ]
  },
  {
   "cell_type": "code",
   "execution_count": 505,
   "id": "9b4291aa",
   "metadata": {},
   "outputs": [],
   "source": [
    "import numpy as np\n",
    "from scipy.stats import norm\n",
    "import matplotlib.pyplot as plt\n",
    "from scipy.stats import norm\n",
    "from scipy.stats import lognorm\n",
    "from scipy import stats\n",
    "from datetime import datetime, date,time\n",
    "import statsmodels.api as sm\n",
    "DAYS=240"
   ]
  },
  {
   "cell_type": "code",
   "execution_count": 506,
   "id": "8718c5db",
   "metadata": {},
   "outputs": [
    {
     "name": "stdout",
     "output_type": "stream",
     "text": [
      "0.08772756304957526\n",
      "0:01:09.258428\n"
     ]
    }
   ],
   "source": [
    "t1=datetime.now()\n",
    "\n",
    "nSim=100000\n",
    "vol=0.3\n",
    "k=0.95\n",
    "t=0.5\n",
    "r=0.08\n",
    "\n",
    "nDays=int(DAYS*t)\n",
    "m=nDays\n",
    "dt=1/DAYS\n",
    "sigma = np.array([vol])\n",
    "dt = 1/DAYS\n",
    "df=np.exp(-r*dt)\n",
    "S = np.array([[0.0 for i in range(nDays+1)] for j in range(nSim)])\n",
    "rng = np.random.default_rng()\n",
    "for j in range(nSim):    \n",
    "    w=rng.standard_normal( size=(1,nDays)).T\n",
    "    x = np.exp((r - 0.5*sigma ** 2) * dt + w*np.sqrt(dt)*sigma)\n",
    "    x = (np.vstack([np.ones(len(sigma)), x])).cumprod(axis=0)\n",
    "    S[j][:]=x.ravel()\n",
    "\n",
    "payoff = np.array([[np.max([k-S[j][i],0]) for i in range(nDays+1)] for j in range(nSim)])\n",
    "ov=payoff[:,m].copy()\n",
    "for i in range(m,1,-1):\n",
    "    for j in range(nSim):\n",
    "        ov[j]=ov[j]*df\n",
    "        kk0=payoff[j,i-1]\n",
    "        if kk0>0 and kk0>ov[j]:\n",
    "            ov[j]=kk0\n",
    "            for ii in range(i,m+1):\n",
    "                payoff[j,ii]=0\n",
    "        else:\n",
    "            payoff[j,i-1]=0\n",
    "optionvalue=0\n",
    "for i in range(1,m+1):\n",
    "    for j in range(nSim):\n",
    "        optionvalue+=payoff[j,i]*df**i\n",
    "print(optionvalue/nSim)\n",
    "print(datetime.now()-t1)"
   ]
  },
  {
   "cell_type": "markdown",
   "id": "c19799ae",
   "metadata": {},
   "source": [
    "## 最小二乗モンテカルロ法\n",
    "\n",
    " アメリカンオプションの保有者は、どの行使可能時刻においても、早期行使か継続かの判断を迫られています。そして、早期行使の価値の方が継続よりも高ければ、行使します。しかし、オプションの保有者は将来の原資産価格を事前に知ることはありません。したがって、その時までに得られた情報から将来のペイオフの期待値を求めます。最小二乗モンテカルロ法では、$n$回の試行で得られる横断的な情報を過去に得られたデータであると扱います。満期のペイオフをその1期前の価格がインザマネーにあれば、その価格を用いて、一期先のペイオフを予測するモデルを作ります。それは、最小二乗法を用いた条件付期待値を推定します。継続による事後の実現収益を現在の状態変数の価値の関数として回帰します。回帰から求められた適合値は条件付期待関数の直接の推定量です。\n",
    " \n",
    " 各試行における各行使可能時刻で、条件付期待値を推定することにより、最適行使戦略を得ます。推定値が現在のペイオフの価値を上回れば、継続します。それ以外であれば、早期行使します。 満期からこの判断を始めて、時間をさかのぼって繰り返し行うことで、アメリカンオプションのペイオフの期待値を推定します。 このような計算手法を後退法といいます。この回帰分析により求められた期待値は効率的でバイアスの無い推定値となります。オプションの最適停止時刻を正確に推定します。\n"
   ]
  },
  {
   "cell_type": "code",
   "execution_count": 507,
   "id": "f8e26c2e",
   "metadata": {},
   "outputs": [
    {
     "name": "stdout",
     "output_type": "stream",
     "text": [
      "0.0451010341997456\n",
      "0:01:40.673766\n"
     ]
    }
   ],
   "source": [
    "t1=datetime.now()\n",
    "vol=0.3\n",
    "k=0.95\n",
    "t=0.5\n",
    "r=0.08\n",
    "\n",
    "nSim=100000\n",
    "nDays=int(DAYS*t)\n",
    "m=nDays\n",
    "dt=1/DAYS\n",
    "sigma = np.array([vol])\n",
    "dt = 1/DAYS\n",
    "df=np.exp(-r*dt)\n",
    "#print(nSim,t,k,r,vol,dt,m,df,nDays)\n",
    "S = np.array([[0.0 for i in range(nDays+1)] for j in range(nSim)])\n",
    "rng = np.random.default_rng()\n",
    "for j in range(nSim):    \n",
    "    w=rng.standard_normal( size=(1,nDays)).T\n",
    "    x = np.exp((r - 0.5*sigma ** 2) * dt + w*np.sqrt(dt)*sigma)\n",
    "    x = (np.vstack([np.ones(len(sigma)), x])).cumprod(axis=0)\n",
    "    S[j][:]=x.ravel()\n",
    "\n",
    "payoff = np.array([[np.max([k-S[j][i],0]) for i in range(nDays+1)] for j in range(nSim)])\n",
    "ov=payoff[:,m].copy()\n",
    "for i in range(m,1,-1):\n",
    "    jj=0\n",
    "    Y=[]\n",
    "    X=[]\n",
    "    for j in range(nSim):\n",
    "        kk=payoff[j,i]\n",
    "        if kk>ov[j]:\n",
    "            ov[j]=kk\n",
    "        else:\n",
    "            kk=ov[j]\n",
    "        kk0=payoff[j,i-1]\n",
    "        if kk0>0:\n",
    "            y0=kk*df\n",
    "            s0=S[j][i-1]\n",
    "            Y.append(y0)\n",
    "            X.append([1,s0,s0*s0])\n",
    "    model = sm.OLS(Y, X)\n",
    "    res = model.fit()\n",
    "    a0=res.params[0]\n",
    "    a1=res.params[1]\n",
    "    a2=res.params[2]\n",
    "    for j in range(nSim):\n",
    "        s0=S[j][i-1]\n",
    "        ev=a0+a1*s0+a2*s0*s0\n",
    "        kk0=payoff[j,i-1]\n",
    "        if kk0>0 and kk0>ev:\n",
    "            for ii in range(i,m+1):\n",
    "                payoff[j,ii]=0\n",
    "        else:\n",
    "            payoff[j,i-1]=0\n",
    "optionvalue=0\n",
    "for i in range(1,m+1):\n",
    "    for j in range(nSim):\n",
    "        optionvalue+=payoff[j,i]*df**i\n",
    "\n",
    "print(optionvalue/nSim)\n",
    "print(datetime.now()-t1)"
   ]
  }
 ],
 "metadata": {
  "kernelspec": {
   "display_name": "Python 3 (ipykernel)",
   "language": "python",
   "name": "python3"
  },
  "language_info": {
   "codemirror_mode": {
    "name": "ipython",
    "version": 3
   },
   "file_extension": ".py",
   "mimetype": "text/x-python",
   "name": "python",
   "nbconvert_exporter": "python",
   "pygments_lexer": "ipython3",
   "version": "3.9.7"
  }
 },
 "nbformat": 4,
 "nbformat_minor": 5
}
