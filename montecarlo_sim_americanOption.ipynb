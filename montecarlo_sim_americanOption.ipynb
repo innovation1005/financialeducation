{
 "cells": [
  {
   "cell_type": "markdown",
   "id": "7d36c63b",
   "metadata": {},
   "source": [
    "![image.png](https://qiita-image-store.s3.ap-northeast-1.amazonaws.com/0/267055/47d16cda-399f-fa6d-0b07-f8a2e892b7b0.png)\n",
    "\n",
    "![image.png](https://qiita-image-store.s3.ap-northeast-1.amazonaws.com/0/267055/d3bf6fa6-acae-1a68-1bad-33d494f5632f.png)\n",
    "\n",
    "![image.png](https://qiita-image-store.s3.ap-northeast-1.amazonaws.com/0/267055/2b1b9ca7-c0ee-5d78-0526-8bc646a83ee6.png)\n",
    "$\\ $ セミナーで使用するモデルはすてべ学習目的ですので注意してください。  \n",
    "$\\ $  \n",
    "$\\ $  \n",
    "$\\ $  \n",
    "$\\ $  \n",
    "$\\ $  \n",
    "$\\ $  \n",
    "$\\ $  \n",
    "$\\ $  \n",
    "$\\ $  \n",
    "$\\ $  \n",
    "$\\ $  \n",
    "$\\ $  \n",
    "$\\ $  \n",
    "$\\ $  \n",
    "$\\ $  \n",
    "$\\ $  \n",
    "$\\ $  \n",
    "$\\ $  \n",
    "$\\ $  "
   ]
  },
  {
   "cell_type": "markdown",
   "id": "23ff1355",
   "metadata": {},
   "source": [
    "# ブラック‐ショールズモデル\n",
    "確率変数を用いて、オプションという金融資産のもつ将来のキャッシュフローの期待値を計算します。\n",
    "モデルの導出に関して必要となる理想的な状態を仮定します。\n",
    "\n",
    "r:短期金利は既知で満期までの期間一定である。\n",
    "\n",
    "s:原資産の価格は連続時間のランダムウォークにしたがう。その際の分散は価格の二乗に比例する。そのために有限時間内の株価の分布は対数正規分布となる。配当はない。\n",
    "\n",
    "σ: 原資産のリターンの分散は一定である。\n",
    "\n",
    "k: 行使価格。オプションはヨーロピアンで満期でのみ行使可能である。\n",
    "\n",
    "オプションと原資産の売買には費用が掛からない。\n",
    "\n",
    "どのような金額でも、期間でも短期金利で借入、貸出ができる。\n",
    "\n",
    "空売りに制限はない。\n",
    "\n",
    "## 一般化されたブラック-ショールズモデル\n",
    "ブラック‐ショールズモデルと同様の方法で配当付株式オプション、先物オプションもモデル化できます。\n",
    "\n",
    "$C(s,k,σ,r,b,T)=se^{((b-r)T)} N(d_1)-ke^{(-rT)} N(d_2)$　　　---------------------- (1)\n",
    "\n",
    "$P(s,k,σ,r,b,T)=ke^{(-rT)} N(-d_2)-e^{((b-r)T)} sN(-d_1)$\n",
    "\n",
    "$N(z)=\\frac{1}{\\sqrt{2\\pi}} \\int_{-\\infty}^z e^{(-y^2/2)} dy$\n",
    " \n",
    "\n",
    "\n",
    "$N(d)=\\frac{1}{2\\pi}\\int_{-\\infty}^{d}e^{-\\frac{z^2}{2}}$\n",
    "\n",
    "$d_1=\\frac{\\log\\frac{S}{K}+(b+\\sigma^2/2)(T)}{\\sigma\\sqrt{T}}$\n",
    "\n",
    "$d_2=\\frac{\\log\\frac{S}{K}+(b-\\sigma^2/2)(T)}{\\sigma\\sqrt{T}}$\n",
    "\n",
    "---\t\n",
    "- スポット価格\ts\n",
    "- 行使価格\tk\n",
    "- ボラティリティ\tσまたはv\n",
    "- 資金調達費用\tr\n",
    "- 配当、外国金利等\tq\n",
    "- キャリーコスト\tb=r-q\n",
    "- 満期・行使日までの期間\tT\n",
    "--- \n",
    "- b=r\tブラック株価オプション\n",
    "- b=r-q\t連続配当付き株価オプション\n",
    "- b=0\t先物オプション\n",
    "- b=0,r=0\tマージン先物オプション\n",
    "- b=r-r_f\t通貨オプション\n"
   ]
  },
  {
   "cell_type": "markdown",
   "id": "088c06b2",
   "metadata": {},
   "source": [
    "# モンテカルロ法\n",
    "\n",
    "モンテカルロ法では確率分布から確率変数を生成して、それを原資産価格の動きと見立てていきます。生成する乱数の数が精度と計算時間を支配します。\n",
    "\n",
    "基本的な流れは \n",
    "\n",
    "- 統計モデルを作成する \n",
    "- 乱数を発生させる \n",
    "- 生成した乱数をモデルに代入し、モデルによる値を算出する\n",
    "\n",
    "必要に応じて1,2,3を繰り返す。結果を平均して期待値とみなす。\n",
    "\n",
    "$g(x)$を任意の関数、$f(x)$を確率密度関数とすると、\n",
    "その期待値は\n",
    "\n",
    "$E[g(x)]=\\int_a^b g(x)f(x)dx=\\mu$\n",
    "\n",
    "分散は\n",
    "\n",
    "$V[g(x)]=E[(g(x)-\\mu)^2 ]=\\int_a^b(g(x)-μ)^2 f(x)dx=\\sigma^2$\n",
    "\n",
    "で表されます。ここで$\\int_a^bf(x)dx=1$。$a$と$b$は積分の範囲を示しています。$n$個の標本$x_i$を$f(x)$から生成して、母集団の平均$\\mu$と分散$\\sigma^2$を推定します。標本平均\n",
    "\n",
    "$\\bar{g}=1/n \\sum_{i=1}^ng(x_i)$ \n",
    "\n",
    "についてつぎの性質が成り立ちます。\n",
    "\n",
    "$E[\\bar{g}]=E(1/n \\sum_{i=1}^n g(x_i))=1/n \\sum_{i=1}^n E[g(x_i)]=1/n \\sum_{i=1}^n\\mu=\\mu$\n",
    "\n",
    "$V[\\bar{g}]=V\\left(1/n \\sum_{i=1}^ng(x_i)\\right)=(1/n)^2 \\sum_{i=1}^n V[ g(x_i)]=(1/n)^2 \\sum_{i=1}^n\\sigma^2=\\sigma^2/n$\n",
    "\n",
    "\n",
    "$z=\\frac{(\\bar{g}-\\mu)}{\\sqrt{\\sigma^2/n}}$の分布は標準正規分布にしたがいます。95％の信頼区間は\n",
    "\n",
    "$\\bar{g}-1.96 \\sigma/\\sqrt{n}≤\\mu≤\\bar{g}+1.96 \\sigma/\\sqrt{n}$\n",
    "\n",
    "となります。ここで、$P(|z|≤1.96│\\mu)=0.95$です。\n",
    "\n",
    "　また、母分散の不偏推定量は\n",
    "\n",
    "$\\hat{σ}^2=1/(n-1)\\sum_{i=1}^n[g(x_i )-\\bar{g}]^2$\n",
    "\n",
    "であるので、分散の95％の信頼区間は\n",
    "\n",
    "$\\frac{((n-1)\\hat{σ}^2)}{(\\chi_{0.975}^2 (n-1))}≤\\sigma^2≤\\frac{((n-1)\\sigma^2)}{(\\chi_{0.025}^2 (n-1))}$\n",
    "\n",
    "となります。ここで、$\\chi_{0.975}^2(n-1),\\chi_{0.025}^2 (n-1)$は$\\chi$二乗分布の下側および上側2.5%点です。\n",
    "\n",
    "\n",
    "## 乱数の種類\n",
    "\n",
    "### 物理乱数\n",
    "物理乱数は本質的にランダムな自然現象を利用する方法で、熱雑音とか原子核分裂などが用いられます。生成された乱数列には周期や再現性がない等、メリットがあります。一方で、専用のハードウェアや回路などの特別な生成器が必要となります。\n",
    "\n",
    "\n",
    "### 疑似乱数\n",
    "漸化式にもとづき乱数を発生させる方法で、コンピューターにより生成できます。再現性や周期、乱数としての性質が不明確なため、使用には注意が必要です。一様性、独立性、高次元での緻密性が求められます。線形合同法とか乗算合同法といった古典的な疑似乱数生成法から非常に長い周期と高次元での緻密性からメルセンヌツイスターが用いられてきました。しかし、最近では統計的評価、計算速度、メモリー占有率、予測不可能性、再現性に優れたPCG系列の乱数も注目されています。\n",
    "\n",
    "\n",
    "![image.png](https://qiita-image-store.s3.ap-northeast-1.amazonaws.com/0/267055/3bf14e2d-d4bd-2b36-93d4-a1aec93b2b29.png)\n",
    "出所：https://www.pcg-random.org/index.html\n",
    "\n",
    "## 乱数の精度の改良\n",
    "\n",
    "生成された乱数の平均と分散は目的とするものになるとは限りません。\n",
    "そこで、いくつかの改良法を紹介します。\n",
    "\n",
    "- 対称変量法：乱数部分のセルを2つに分け、一方にマイナスをかけたセルをもう一方にコピーします。\n",
    "- モーメント照合法：平均と標準偏差を用いて調整します。\n",
    "- 重点サンプリング：重要なデータの重みを大きくしてサンプリングして、その影響を後で調整します。\n",
    "- MCMC(マルコフ連鎖モンテカルロ法)：確率分布のサンプリングを行うアルゴリズムの総称です。\n",
    "\n",
    "これらについては、時系列データの項で詳しく扱います。\n",
    "\n",
    "母数と統計量の関係は普遍です。\n",
    "\n",
    "$\\bar{g}-1.96\\sigma/\\sqrt{n}≤\\mu≤\\bar{g}+1.96\\sigma/\\sqrt{n}$\n",
    "\n",
    "$\\frac{((n-1)\\sigma^2)}{(\\chi_0.975^2 (n-1))}≤\\sigma^2≤\\frac{((n-1)\\sigma^2)}{(\\chi_0.025^2 (n-1))}$\n",
    "\n"
   ]
  },
  {
   "cell_type": "markdown",
   "id": "9d58b8e8",
   "metadata": {},
   "source": [
    "# 時系列データの生成\n",
    "\n",
    "　金融の世界では、金融資産の価値の評価、リスク管理、トレーディング戦略の収益性の確認などにモンテカルロ法が活用されています。\n",
    "そこでは、価格の動きを幾何ブラウン運動として表現することがしばばしばです。オプションの評価に用いられるモンテカルロ法はこの例です。そこでまず幾何ブラウン運動を再現し、その問題点を探ってみたいとおもいます。その動きは\n",
    "\n",
    "$\\mathrm{d}S_t=\\mu S_t \\mathrm{d}t+\\sigma \\sqrt{\\mathrm{d}t} S_t\\mathrm{d}W_t$　(2)\n",
    "\n",
    "の確率微分方程式(SDE)を解くことで得られます。$S_t$は$t$時点の株価です。$\\sigma$は価格変動の程度を、$\\mu$は株価のトレンドをあらわす定数です。$W_t$は標準ウィナー過程です。$\\mathrm{d}W_t$は標準正規分布にしたがいます。\n",
    "$\\mu$も$\\sigma$も株価がもつ特有の特性で、過去の価格データから推定されます。このSDEを解くと\n",
    "\n",
    "$S_{t}=S_{t-1}\\exp[(\\mu-0.5\\sigma^2)\\mathrm{d}t+\\sigma \\sqrt{\\mathrm{d}t} \\mathrm{d} W_t]$　　(2)`\n",
    "\n",
    "が得られます。\n",
    "　$S_t$の幾何ブラウン運動は\n",
    "\n",
    "期待値　$\\exp(\\mu t)S_0$、\n",
    "分散　　$\\exp(2\\mu t)S_0^2(\\exp(\\sigma^2t)-1)$\n",
    "\n",
    "で連続的に動く確率過程です。これは$S_{t}=S_{0}\\exp[(\\mu-0.5\\sigma^2)t+\\sigma \\sqrt{t} W_t]$とすれば見通しが良くなります。\n",
    "\n",
    "また、対数価格の差$\\ln S_t-\\ln S_0$は\n",
    "\n",
    "期待値　$(\\mu  - 1/2 \\sigma^2) t$、\n",
    "分散　　$\\sigma^2t$\n",
    "\n",
    "となります。\n",
    "\n",
    "　モンテカルロシミュレーションを用いて、時系列データを作ってみましょう。genSという関数で株価を再現します。コードの重要な部分は、 \n",
    "\n",
    "```Python\n",
    "    sigma = np.array([sigma0])\n",
    "    dt = 1/DAYS\n",
    "```\n",
    "sigma0は金融市場でボラティリティと呼ばれるもので、日々の対数価格差の標準偏差を求めてそれを年率換算したものです。したがって、年率の標準偏差を日次の標準偏差に変換する必要があります。その調整にdt=1/DAYSを用います。\n",
    "\n",
    "```Python\n",
    "S = np.array([[0.0 for i in range(nDays+1)] for j in range(nSim)])\n",
    "```\n",
    "配列$S$を初期化しています。このような配列の作成を内包表記といいます。配列を短時間で作れます。\n",
    "\n",
    "```Python\n",
    "w=rng.standard_normal( size=(1,nDays)).T\n",
    "```\n",
    "は乱数を発生しています。これは(2)式の$\\mathrm{d}W_t$に相当します。また、\n",
    "```Python\n",
    "x = np.exp((mu - 0.5*sigma ** 2) * dt + w*np.sqrt(dt)*sigma)\n",
    "```\n",
    "は(2)'式そのものです。ここで目的とする平均と分散の条件にしたがう時系列データを生成しています。np.sqrt(dt)×sigmaは年率の標準偏差を日次に変換しています。\n",
    "\n",
    "```Python\n",
    "x = np.vstack([np.ones(len(sigma)), x])\n",
    "```\n",
    "これは各時系列の初期値を１に設定しています。\n",
    "```Python\n",
    "x = x.cumprod(axis=0)\n",
    "```\n",
    "累積計算により、価格の時系列を生成します。\n",
    "\n",
    "Pythonを初期化します。"
   ]
  },
  {
   "cell_type": "code",
   "execution_count": 1,
   "id": "59dff3e8",
   "metadata": {},
   "outputs": [],
   "source": [
    "import numpy as np\n",
    "from numpy.random import default_rng, Generator, PCG64, MT19937\n",
    "import matplotlib.pyplot as plt\n",
    "from scipy.stats import norm, lognorm\n",
    "from scipy import stats\n",
    "from datetime import datetime, date,time\n",
    "import pandas as pd\n",
    "DAYS=240"
   ]
  },
  {
   "cell_type": "code",
   "execution_count": 2,
   "id": "745e76b5",
   "metadata": {},
   "outputs": [],
   "source": [
    "def genS(mu,sigma0,nDays,nSim):\n",
    "    #np.random.seed(1)\n",
    "    sigma = np.array([sigma0])\n",
    "    dt = 1/DAYS\n",
    "    S = np.array([[0.0 for i in range(nDays+1)] for j in range(nSim)])\n",
    "    rng = np.random.default_rng()\n",
    "    for j in range(nSim):\n",
    "        w=rng.standard_normal( size=(1,nDays)).T\n",
    "        x = np.exp((mu - 0.5*sigma ** 2) * dt + w*np.sqrt(dt)*sigma)\n",
    "        x = np.vstack([np.ones(len(sigma)), x])\n",
    "        x = x.cumprod(axis=0)\n",
    "        S[j][:]=x.ravel()\n",
    "    return S"
   ]
  },
  {
   "cell_type": "markdown",
   "id": "d7fb2d18",
   "metadata": {},
   "source": [
    "ボラティリティが４０％で価格の年率の上昇率が１０％の時系列を作ってみましょう。満期は1年とし、一年間の価格の生成を１試行として、百万回作ってみたいと思います。\n"
   ]
  },
  {
   "cell_type": "code",
   "execution_count": 3,
   "id": "d75314c9",
   "metadata": {},
   "outputs": [
    {
     "name": "stdout",
     "output_type": "stream",
     "text": [
      "0:00:39.844813\n"
     ]
    }
   ],
   "source": [
    "t1=datetime.now()\n",
    "vol=0.4 #0.65\n",
    "mu=0.1#0.004\n",
    "nDays=DAYS*1#1 year maturity\n",
    "nSim=1000000\n",
    "S=genS(mu,vol,nDays,nSim)\n",
    "print(datetime.now()-t1)"
   ]
  },
  {
   "cell_type": "markdown",
   "id": "d52d27c5",
   "metadata": {},
   "source": [
    "できたものを頻度図として表示します。"
   ]
  },
  {
   "cell_type": "code",
   "execution_count": 4,
   "id": "5427926b",
   "metadata": {},
   "outputs": [
    {
     "data": {
      "image/png": "[encoded data removed]",
      "text/plain": [
       "<Figure size 432x288 with 1 Axes>"
      ]
     },
     "metadata": {
      "needs_background": "light"
     },
     "output_type": "display_data"
    }
   ],
   "source": [
    "fig, ax = plt.subplots(1, 1)\n",
    "ax.hist(S[:,nDays],bins=100,density=True)\n",
    "plt.show()"
   ]
  },
  {
   "cell_type": "markdown",
   "id": "c780158e",
   "metadata": {},
   "source": [
    "右にすそ野の長い分布が見て取れます。実際に生成した価格の時系列の分布を幾何ブラウン運動にしたがう確率変数の確率密度関数として見てみましょう。\n",
    "\n",
    "$f(s,\\mu,\\sigma,t)=\\frac{1}{\\sqrt{2\\pi}}\\frac{1}{s\\sigma\\sqrt{t}}\\exp (-\\frac{([\\ln(s)-\\ln(S_0)-(\\mu-0.5\\sigma^2)t]^2}{2\\sigma^2t})$  ---(3)"
   ]
  },
  {
   "cell_type": "code",
   "execution_count": 5,
   "id": "143dd2dc",
   "metadata": {},
   "outputs": [],
   "source": [
    "def lognormal(x,mu,vol,t):\n",
    "    tmp=1/np.sqrt(2*np.pi*t)/vol/x\n",
    "    return tmp*np.exp(-(np.log(x)-(mu-0.5*vol**2)*t)**2/2/vol**2/t)"
   ]
  },
  {
   "cell_type": "markdown",
   "id": "639b4f23",
   "metadata": {},
   "source": [
    "この関数を利用してヒストグラムに当てはめてみます。また、\n",
    "\n",
    "```Python\n",
    "s,l,sc= stats.lognorm.fit\n",
    "```\n",
    "を用いて対数正規分布と生成データの間の当てはまりの具合を確認します。sはshape パラメータ、lはlocパラメータ、scはscaleパラメータです。\n",
    "\n",
    "```Python\n",
    "lognorm.pdf(x, s,l,sc)\n",
    "```\n",
    "はデータｘのパラメータs,loc,scで指定された対数正規分布の確率密度を計算します。\n",
    "\n",
    "```Python\n",
    "lognormal(x,mu,vol,nDays/DAYS)\n",
    "```\n",
    "は式(3)の確率密度を算出します。\n",
    "\n",
    "```Python\n",
    "stats.probplot(S[:,nDays], dist=\"lognorm\", sparams=(s,l,sc),plot=plt)\n",
    "```\n",
    "確率プロット分析を提供します。distで対数正規分布で指定し、sparams=(s,l,cs)で関連するパラメータを指定しています。理論確率(赤の直線)と実際の確率(青のドット)を比べています。"
   ]
  },
  {
   "cell_type": "code",
   "execution_count": 6,
   "id": "0c9a8d30",
   "metadata": {},
   "outputs": [
    {
     "name": "stdout",
     "output_type": "stream",
     "text": [
      "shape,loc,scale 0.4008871077685281 0.0014185574683851193 1.0184680218283353\n"
     ]
    },
    {
     "data": {
      "image/png": "[encoded data removed]",
      "text/plain": [
       "<Figure size 432x288 with 1 Axes>"
      ]
     },
     "metadata": {
      "needs_background": "light"
     },
     "output_type": "display_data"
    },
    {
     "data": {
      "image/png": "[encoded data removed]",
      "text/plain": [
       "<Figure size 432x288 with 1 Axes>"
      ]
     },
     "metadata": {
      "needs_background": "light"
     },
     "output_type": "display_data"
    }
   ],
   "source": [
    "s,l,sc = stats.lognorm.fit(S[:,nDays])\n",
    "print('shape,loc,scale',s,l,sc)\n",
    "fig, ax = plt.subplots(1, 1)\n",
    "x = np.linspace(lognorm.ppf((1/nSim), s),\n",
    "                lognorm.ppf((1-1/nSim), s), 100)\n",
    "ax.hist(S[:,nDays],bins=x,alpha=0.9,density=True,label='frequency')\n",
    "ax.plot(x, lognorm.pdf(x, s,l,sc),\n",
    "       'r-', lw=10, alpha=0.3, label='lognorm pdf fit')\n",
    "ax.plot(x, lognormal(x,mu,vol,nDays/DAYS),\n",
    "       'g-', lw=2, alpha=1, label='lognorm (GBM)')\n",
    "plt.legend()\n",
    "plt.show()\n",
    "stats.probplot(S[:,nDays], dist=\"lognorm\", sparams=(s,l,sc),plot=plt)\n",
    "plt.show()"
   ]
  },
  {
   "cell_type": "markdown",
   "id": "8bb42576",
   "metadata": {},
   "source": [
    "Scipyではp-pプロットを用いています。見た感じでは大きく上昇した場面で、ノイズが大きそうです。この点について確認をします。\n",
    "\n",
    "$f(s,\\mu,\\sigma,t)=\\frac{1}{\\sqrt{2\\pi}}\\frac{1}{s\\sigma\\sqrt{t}}\\exp (-\\frac{([\\ln(s)-\\ln(S_0)-(\\mu-0.5\\sigma^2)t]^2}{2\\sigma^2t})$\n",
    "\n",
    "の分布ですが、これは平均 $(\\mu-0.5\\sigma^2)t$、分散 $\\sigma^2 t$の価格の対数が正規分布にしたがうのと同等です。確かめてみましょう。"
   ]
  },
  {
   "cell_type": "code",
   "execution_count": 7,
   "id": "9de43917",
   "metadata": {},
   "outputs": [
    {
     "data": {
      "text/plain": [
       "(0.9961097852369101, 0.9961097852369101)"
      ]
     },
     "execution_count": 7,
     "metadata": {},
     "output_type": "execute_result"
    }
   ],
   "source": [
    "stats.norm.pdf(0,(mu-0.5*vol**2),vol),lognormal(1,mu,vol,1)"
   ]
  },
  {
   "cell_type": "markdown",
   "id": "b1ab0c57",
   "metadata": {},
   "source": [
    "２つの値がほぼ同じであることから、対数正規分布にしたがう確率変数は、平均 $(\\mu-0.5\\sigma^2)t$、分散 $\\sigma^2 t$の確率変数の対数が正規分布にしたがうのと同じと確認できます。\n",
    "\n",
    "\n",
    "この関数を利用してヒストグラムに当てはめてみます。また、stats.norm.fitを用いて当てはまりの具合を確認します。価格を対数正規分布で分析するよりも、対数価格を正規分布で分析した方が、価格の上昇、下落が対称になり、見た感じで理解しやすくなります。"
   ]
  },
  {
   "cell_type": "code",
   "execution_count": 8,
   "id": "59d17a2c",
   "metadata": {},
   "outputs": [
    {
     "name": "stdout",
     "output_type": "stream",
     "text": [
      "shape,loc 0.019805043739663807 0.4002835998143287\n"
     ]
    },
    {
     "data": {
      "image/png": "[encoded data removed]",
      "text/plain": [
       "<Figure size 432x288 with 1 Axes>"
      ]
     },
     "metadata": {
      "needs_background": "light"
     },
     "output_type": "display_data"
    },
    {
     "data": {
      "image/png": "[encoded data removed]",
      "text/plain": [
       "<Figure size 432x288 with 1 Axes>"
      ]
     },
     "metadata": {
      "needs_background": "light"
     },
     "output_type": "display_data"
    }
   ],
   "source": [
    "def MCsim(S,nDays,nSim):\n",
    "    s,l = stats.norm.fit(np.log(S[:,nDays]))\n",
    "    print('shape,loc',s,l)\n",
    "    fig, ax = plt.subplots(1, 1)\n",
    "    x = np.linspace(norm.ppf(1/nSim,(mu-0.5*vol**2)*nDays/DAYS,vol*np.sqrt(nDays/DAYS)),\n",
    "                    norm.ppf(1-1/nSim,(mu-0.5*vol**2)*nDays/DAYS,vol*np.sqrt(nDays/DAYS)), 100)\n",
    "    ax.hist(np.log(S[:,nDays]),bins=x,alpha=0.9,density=True,label='frequency')\n",
    "    ax.plot(x, norm.pdf(x, s,l),\n",
    "           'r-', lw=10, alpha=0.3, label='norm pdf fit')\n",
    "    #ax.plot(x, lognormal(x,mu,vol,nDays/DAYS),\n",
    "    #       'g-', lw=2, alpha=1, label='lognorm (GBM)')\n",
    "    plt.legend()\n",
    "    plt.show()\n",
    "    stats.probplot(np.log(S[:,nDays]), dist=\"norm\", sparams=((mu-0.5*vol**2)*nDays/DAYS,vol*np.sqrt(nDays/DAYS)),plot=plt)\n",
    "    plt.show()\n",
    "MCsim(S,nDays,nSim)\n"
   ]
  },
  {
   "cell_type": "markdown",
   "id": "7af25ec5",
   "metadata": {},
   "source": [
    "とりあえず、生成した時系列の特性の確認が取れました。\n",
    "\n",
    "つぎに\n",
    "\n",
    "- 対称変量法：乱数部分のセルを2つに分け、一方にマイナスをかけたセルをもう一方にコピーします。\n",
    "- モーメント照合法：平均と標準偏差を用いて調整します。\n",
    "- 重点サンプリング：重要なデータの重みを大きくしてサンプリングして、その影響を後で調整します。\n",
    "- MCMC(マルコフ連鎖モンテカルロ法)：確率分布のサンプリングを行うアルゴリズムの総称です。\n",
    "\n",
    "について、どのような効果があるか、ヨーロピアンコールの価値を評価することで確かめてみましょう。ヨーロピアンオプションの評価には満期の価格のみが必要なので、満期の価格を得ます。\n",
    "\n",
    "```Python\n",
    "S[:5,-1]\n",
    "```\n",
    "は最初の5つの満期のデータを表示します。\"-1\"は最後尾のデータを取得します。"
   ]
  },
  {
   "cell_type": "code",
   "execution_count": 9,
   "id": "3d04d5a3",
   "metadata": {},
   "outputs": [
    {
     "data": {
      "text/plain": [
       "array([1.48366343, 1.56240724, 2.44385606, 1.38457769, 0.81767515])"
      ]
     },
     "execution_count": 9,
     "metadata": {},
     "output_type": "execute_result"
    }
   ],
   "source": [
    "S[:5,-1]"
   ]
  },
  {
   "cell_type": "markdown",
   "id": "a136701e",
   "metadata": {},
   "source": [
    "つぎに行使価格1のヨーロピアンコールオプションの価値を先ほど生成したSを用いて、算出します。また、Sのリターンとボラティリティを算出します。"
   ]
  },
  {
   "cell_type": "code",
   "execution_count": 10,
   "id": "9d5b72fc",
   "metadata": {},
   "outputs": [
    {
     "name": "stdout",
     "output_type": "stream",
     "text": [
      "european call option value 0.20325438406809415\n",
      "historical return 1.1051266273599623 mu 0.1\n",
      "historical vol 0.4000388961414277 implied vol 0.4\n"
     ]
    }
   ],
   "source": [
    "k=1\n",
    "print('european call option value',np.average([max([i,0]) for i in (S[:,-1]-k).ravel()])*np.exp(-mu))\n",
    "print('historical return', np.average(S[:,-1]/S[:,0]), 'mu',mu)\n",
    "print('historical vol', np.std(np.diff(np.log(S)))*np.sqrt(DAYS), 'implied vol',vol)"
   ]
  },
  {
   "cell_type": "markdown",
   "id": "d0fed75f",
   "metadata": {},
   "source": [
    "つぎに一般化BS型のヨーロピアンオプションの価値を算出します。式(1)を用います。"
   ]
  },
  {
   "cell_type": "code",
   "execution_count": 11,
   "id": "176548df",
   "metadata": {},
   "outputs": [
    {
     "name": "stdout",
     "output_type": "stream",
     "text": [
      "european BS call value 0.203184693100587\n"
     ]
    }
   ],
   "source": [
    "def gbscall(s,k,t,r,q,v):\n",
    "    b=r-q\n",
    "    d1=(np.log(s/k)+(b+v**2/2)*t)/v/np.sqrt(t)\n",
    "    d2=(np.log(s/k)+(b-v**2/2)*t)/v/np.sqrt(t)\n",
    "    return np.exp((b-r)*t)*s*norm.cdf(d1)-k*np.exp(-r*t)*norm.cdf(d2)\n",
    "print('european BS call value', gbscall(1,k,1,mu,0,vol))"
   ]
  },
  {
   "cell_type": "markdown",
   "id": "715d44db",
   "metadata": {},
   "source": [
    "ほぼ同じ値となりました。\n",
    "\n",
    "### 目的とする確率変数の精度と効率性の向上\n",
    "\n",
    "つぎのアルゴリズムの評価を行います。\n",
    "\n",
    "- 対称変量法：乱数部分のセルを2つに分け、一方にマイナスをかけたセルをもう一方にコピーします。\n",
    "- モーメント照合法：平均と標準偏差を用いて調整します。\n",
    "- 重点サンプリング：重要なデータの重みを大きくしてサンプリングして、その影響を後で調整します。\n",
    "- MCMC(マルコフ連鎖モンテカルロ法)：確率分布のサンプリングを行うアルゴリズムの総称です。\n",
    "\n",
    "乱数を調整する効果を見たいので、試行回数をnSim=1000としてみます。また便宜上、mu=0とします。またオプションをアット・ザ・マネーとし、行使価格を1としています。"
   ]
  },
  {
   "cell_type": "code",
   "execution_count": 12,
   "id": "c4e51db4",
   "metadata": {},
   "outputs": [
    {
     "name": "stdout",
     "output_type": "stream",
     "text": [
      "european call option value 0.1367488360626761\n",
      "european BS call value 0.15851941887820603\n",
      "historical return -0.024491896104140376 , mu 0.0\n",
      "historical vol 0.4004421221629335 , implied vol 0.4\n",
      "0:00:00.065433\n"
     ]
    }
   ],
   "source": [
    "t1=datetime.now()\n",
    "nSim=1000\n",
    "mu=0.0\n",
    "S=genS(mu,vol,nDays,nSim)\n",
    "k=1\n",
    "print('european call option value',np.average([max([i,0]) for i in (S[:,-1]-k).ravel()])*np.exp(-mu))\n",
    "print('european BS call value', gbscall(1,k,1,mu,0,vol))\n",
    "print('historical return', np.average(S[:,-1]/S[:,0])-1, ', mu',mu)\n",
    "print('historical vol', np.std(np.diff(np.log(S)))*np.sqrt(DAYS), ', implied vol',vol)\n",
    "print(datetime.now()-t1)"
   ]
  },
  {
   "cell_type": "markdown",
   "id": "1a2797bf",
   "metadata": {},
   "source": [
    "試行回数を減らすと誤差が大きくなるのが分かります。\n",
    "対称変量法とモーメント照合法を試すために、プログラムのコードを少し書き換え、オリジナルの乱数を残します。\n",
    "\n",
    "```Python\n",
    "w1=rng.standard_normal( size=(1,nDays*nSim)).T\n",
    "```\n",
    "配列を1次元にして、乱数の調整をしやすくします。\n",
    "\n",
    "```Python\n",
    "w2=w1.reshape(1000,240)\n",
    "```\n",
    "1次元の配列を2次元の配列に変更します。"
   ]
  },
  {
   "cell_type": "code",
   "execution_count": 26,
   "id": "388ce953",
   "metadata": {},
   "outputs": [
    {
     "name": "stdout",
     "output_type": "stream",
     "text": [
      "historical return 0.008110291290891025 , mu 0.0\n",
      "historical vol 0.3996254493106845 , implied vol 0.4\n",
      "european call option value 0.12403089851674315\n",
      "european BS call value 0.12108139117843991\n"
     ]
    }
   ],
   "source": [
    "rng = np.random.default_rng()\n",
    "sigma0=vol\n",
    "sigma = np.array([sigma0])\n",
    "w1=rng.standard_normal( size=(1,nDays*nSim)).T\n",
    "w2=w1.reshape(1000,240)\n",
    "S1 = np.array([[0.0 for i in range(nDays+1)] for j in range(nSim)])\n",
    "j=0\n",
    "dt=1/DAYS\n",
    "for i in w2:\n",
    "    w3=np.array([i]).T\n",
    "    x = np.exp((mu - 0.5*sigma ** 2) * dt + w3*np.sqrt(dt)*sigma)\n",
    "    x = np.vstack([np.ones(len(sigma)), x])\n",
    "    x = x.cumprod(axis=0)\n",
    "    S1[j][:]=x.ravel()\n",
    "    j+=1\n",
    "print('historical return', np.average(S1[:,-1]/S1[:,0])-1, ', mu',mu)\n",
    "print('historical vol', np.std(np.diff(np.log(S1)))*np.sqrt(DAYS), ', implied vol',vol)\n",
    "print('european call option value',np.average([max([i,0]) for i in (S1[:,-1]-k).ravel()])*np.exp(-mu))\n",
    "print('european BS call value', gbscall(1,k,1,mu,0,vol))"
   ]
  },
  {
   "cell_type": "markdown",
   "id": "6ede51f1",
   "metadata": {},
   "source": [
    "#### 対称変量法\n",
    "つぎに対称変量法を試します。\n",
    "\n",
    "```Python\n",
    "w9=w1[:120000]\n",
    "w9=np.vstack([w9,-w9])\n",
    "```\n",
    "1次元の配列w1を半分に分割し、その正負を逆転して足し合わせ、w9とします。"
   ]
  },
  {
   "cell_type": "code",
   "execution_count": 27,
   "id": "4cb15238",
   "metadata": {},
   "outputs": [
    {
     "name": "stdout",
     "output_type": "stream",
     "text": [
      "(1000, 240)\n",
      "historical return -0.003301812751790645 , mu 0.0\n",
      "historical vol 0.400080709963966 , implied vol 0.4\n",
      "european call option value 0.11461996449837336\n",
      "european BS call value 0.12108139117843991\n"
     ]
    }
   ],
   "source": [
    "w9=w1[:120000]\n",
    "w9=np.vstack([w9,-w9])\n",
    "w2=w9.reshape(1000,240)\n",
    "print(np.shape(w2))\n",
    "S1 = np.array([[0.0 for i in range(nDays+1)] for j in range(nSim)])\n",
    "j=0\n",
    "dt=1/DAYS\n",
    "for i in w2:\n",
    "    w3=np.array([i]).T\n",
    "    x = np.exp((mu - 0.5*sigma ** 2) * dt + w3*np.sqrt(dt)*sigma)\n",
    "    x = np.vstack([np.ones(len(sigma)), x])\n",
    "    x = x.cumprod(axis=0)\n",
    "    S1[j][:]=x.ravel()\n",
    "    j+=1\n",
    "print('historical return', np.average(S1[:,-1]/S1[:,0])-1, ', mu',mu)\n",
    "print('historical vol', np.std(np.diff(np.log(S1)))*np.sqrt(DAYS), ', implied vol',vol)\n",
    "print('european call option value',np.average([max([i,0]) for i in (S1[:,-1]-k).ravel()])*np.exp(-mu))\n",
    "print('european BS call value', gbscall(1,k,1,mu,0,vol))"
   ]
  },
  {
   "cell_type": "markdown",
   "id": "bbe55739",
   "metadata": {},
   "source": [
    "#### モーメント照合法\n",
    "\n",
    "つぎにモーメント照合法を試します。\n",
    "\n",
    "```Python\n",
    "m=np.average(w1)\n",
    "v=np.std(w1)\n",
    "w2=(w1-m)/v\n",
    "```\n",
    "乱数の平均と標準偏差を計算して、平均ゼロ、標準偏差１の正規乱数に変換します。\n"
   ]
  },
  {
   "cell_type": "code",
   "execution_count": 28,
   "id": "b9e17845",
   "metadata": {},
   "outputs": [
    {
     "name": "stdout",
     "output_type": "stream",
     "text": [
      "mean of w1 0.001437703582606779  std of w1 0.9990636232767114\n",
      "mean of w2 9.26666151220464e-18  std of w2 0.9999999999999998\n",
      "(1000, 240)\n",
      "historical return -0.0006832081827540248 , mu 0.0\n",
      "historical vol 0.39999999999999997 , implied vol 0.4\n",
      "european call option value 0.11979263200862082\n",
      "european BS call value 0.12108139117843991\n"
     ]
    }
   ],
   "source": [
    "m=np.average(w1)\n",
    "v=np.std(w1)\n",
    "print('mean of w1', m,' std of w1',v)\n",
    "w2=(w1-m)/v\n",
    "m2=np.average(w2)\n",
    "v2=np.std(w2)\n",
    "print('mean of w2', m2,' std of w2',v2)\n",
    "\n",
    "w2=w2.reshape(1000,240)\n",
    "print(np.shape(w2))\n",
    "S1 = np.array([[0.0 for i in range(nDays+1)] for j in range(nSim)])\n",
    "j=0\n",
    "dt=1/DAYS\n",
    "for i in w2:\n",
    "    w3=np.array([i]).T\n",
    "    x = np.exp((mu - 0.5*sigma ** 2) * dt + w3*np.sqrt(dt)*sigma)\n",
    "    x = np.vstack([np.ones(len(sigma)), x])\n",
    "    x = x.cumprod(axis=0)\n",
    "    S1[j][:]=x.ravel()\n",
    "    j+=1\n",
    "print('historical return', np.average(S1[:,-1]/S1[:,0])-1, ', mu',mu)\n",
    "print('historical vol', np.std(np.diff(np.log(S1)))*np.sqrt(DAYS), ', implied vol',vol)\n",
    "print('european call option value',np.average([max([i,0]) for i in (S1[:,-1]-k).ravel()])*np.exp(-mu))\n",
    "print('european BS call value', gbscall(1,k,1,mu,0,vol))"
   ]
  },
  {
   "cell_type": "markdown",
   "id": "0205a882",
   "metadata": {},
   "source": [
    "調整した乱数の平均はゼロ、標準偏差は１となりました。\n",
    "\n",
    "しかし、モンテカルロ法によるヨーロピアンオプションの評価に関してはのどちらの方法も必ずしもうまくいくとは限らないことがわかります。\n",
    "\n",
    "\n",
    "#### 重点サンプリング\n",
    "\n",
    "重点サンプリングについて学びましょう。まず、モンテカルロ法によるヨーロピアンコールの評価について行使価格を大きくずらして、BSモデルの結果と比べます。\n",
    "\n",
    "ここでは行使価格を1.1に変更します。\n"
   ]
  },
  {
   "cell_type": "code",
   "execution_count": 29,
   "id": "e78207b7",
   "metadata": {},
   "outputs": [
    {
     "name": "stdout",
     "output_type": "stream",
     "text": [
      "european call option value 0.11209926853642446\n",
      "european BS call value 0.12108139117843991\n",
      "historical return -0.01206802537695395 , mu 0.0\n",
      "historical vol 0.40058148433811835 , implied vol 0.4\n",
      "0:00:00.041009\n"
     ]
    }
   ],
   "source": [
    "t1=datetime.now()\n",
    "nSim=1000\n",
    "mu=0.0\n",
    "S=genS(mu,vol,nDays,nSim)\n",
    "k=1.1\n",
    "print('european call option value',np.average([max([i,0]) for i in (S[:,-1]-k).ravel()])*np.exp(-mu))\n",
    "print('european BS call value', gbscall(1,k,1,mu,0,vol))\n",
    "print('historical return', np.average(S[:,-1]/S[:,0])-1, ', mu',mu)\n",
    "print('historical vol', np.std(np.diff(np.log(S)))*np.sqrt(DAYS), ', implied vol',vol)\n",
    "print(datetime.now()-t1)"
   ]
  },
  {
   "cell_type": "markdown",
   "id": "9bf9c2bb",
   "metadata": {},
   "source": [
    "明らかに結果は思わしくありません。モンテカルロ法とBSモデルの解では差が開いています。これはモンテカルロ法では行使価格近辺のパスの数が少なく、発生頻度が下がってしまっているのです。それが原因で、オプションの価値が正確に算出されていないのです。この問題を解消するために、イン・ザ・マネーになるパスのみを発生させ、オプションの価値を算出して、発生確率で調整するという方法をとります。\n",
    "\n",
    "$k=s\\exp\\left[(b-\\sigma^2/2)T+\\sigma\\sqrt{T}N^{-1}(w)\\right]$\n",
    "\n",
    "$d=N^{-1}(w)=\\frac{\\log\\frac{k}{s}-(b-\\sigma^2/2)(T)}{\\sigma\\sqrt{T}}$\n",
    "\n",
    "$w=N\\left [\\frac{\\log\\frac{k}{s}-(b-\\sigma^2/2)(T)}{\\sigma\\sqrt{T}} \\right]$\n",
    "\n",
    "すなわち、乱数$w$が$N\\left [\\frac{\\log\\frac{K}{S}-(b-\\sigma^2/2)(T)}{\\sigma\\sqrt{T}} \\right]$と$1$の間にあれば、コールオプションはイン・ザ・マネーにあります。モンテカルロ法により生成される時系列にこの割合の重み付けをします。イン・ザ・マネーのなるリスク中立確率をかければよいのです。ヨーロピアンコールの場合には$N(d_2)$となります。\n",
    "\n",
    "\n",
    "$C=N(d_2)\\sum \\left \\{S \\exp \\left[(b-\\sigma^2/2)T+\\sigma\\sqrt{T}N^{-1}(w_c )\\right] \\right \\}$\n",
    "\n",
    "ここで$w_c=[1-N(-d)]w+N(d)$です。ここでは逆関数法を用いています。\n",
    "\n"
   ]
  },
  {
   "cell_type": "code",
   "execution_count": 30,
   "id": "d4fb8a46",
   "metadata": {},
   "outputs": [
    {
     "name": "stdout",
     "output_type": "stream",
     "text": [
      "european call option value [0.12037345]\n",
      "european BS call value 0.12108139117843991\n"
     ]
    },
    {
     "data": {
      "text/plain": [
       "0.4382754495108124"
      ]
     },
     "execution_count": 30,
     "metadata": {},
     "output_type": "execute_result"
    }
   ],
   "source": [
    "b=mu\n",
    "t=1\n",
    "k=1.1\n",
    "d=(np.log(k/1)-(b-sigma0**2/2)*t)/sigma0/np.sqrt(t)\n",
    "d2=(np.log(1/k)+(b-sigma0**2/2)*t)/sigma0/np.sqrt(t)\n",
    "sigma = np.array([sigma0])\n",
    "dt = 1\n",
    "nDays=1\n",
    "nSim=10000\n",
    "sum0=0\n",
    "for i in range(nSim):\n",
    "    pp=rng.random(1)\n",
    "    pp=(1-norm.cdf(d))*pp+norm.cdf(d)\n",
    "    S1=np.exp((b-0.5*sigma0**2)*dt+norm.ppf(pp)*sigma0*np.sqrt(dt))\n",
    "    sum0+=max([S1-k,0])\n",
    "print('european call option value',norm.cdf(d2)*(sum0/nSim)*np.exp(-mu))\n",
    "print('european BS call value', gbscall(1,k,1,mu,0,vol))\n",
    "d"
   ]
  },
  {
   "cell_type": "markdown",
   "id": "8f683316",
   "metadata": {},
   "source": [
    "#### MCMC\n",
    "\n",
    "- 予備知識\n",
    "\n",
    "    - 観測値：$x=(x_1,x_2,\\dots,x_n)^T$を同時確率密度関数$f(x|\\theta)$が定義するパラメトリックモデルから生成されたデータのこと。\n",
    "    - 事前分布：データ$x$を得る前にもっている$\\theta$に関する事前情報を確率分布で表したもので$\\pi(x)$で表す。\n",
    "    - 事後分布：$\\pi(\\theta|x)$はデータ$x$の情報を得た後の$\\theta$に関する条件付分布のこと。\n",
    "    - 共益事前分布：事前分布と事後分布が同じ確率分布族になること。\n",
    "\n",
    "$\\pi(\\theta|x)=\\frac{f(x|\\theta)\\pi(\\theta)}{\\int_\\Theta f(x|\\theta)\\pi(x)d\\theta}$\n",
    "\n",
    "\n",
    "- 参考：MCMCについて整理してみた。Qiita記事\n",
    "https://qiita.com/shogiai/items/bab2b915df2b8dd6f6f2\n",
    "\n",
    "マルコフ連鎖モンテカルロ法は、確率分布のサンプリングを行うアルゴリズムの総称です。代表的なものにメトロポリス・ヘイスティング法とギブス・サンプリング法があります。多くの試行を行ったあとのマルコフ連鎖の状態は、目標とする分布の標本として用いられます。試行の回数が多ければ、その品質も向上します。一般的なモンテカルロ法では、ランダムな標本が独立であることが要求されますが、標本に相関がある場合などには、MCMCが有効です。\n",
    "\n",
    "- メトロポリス・ヘイスティングアルゴリズム：サンプリングを行いたい確率分布を目標分布、目標分布からのサンプリングを行う確率分布を提案分布といいます。提案分布は、$t$番目に発生させたサンプル$\\theta^{(t)}$の値が与えられたときの$t+1$期のサンプル$\\theta^{(t+1)}$の値の条件付分布です。提案分布からサンプルの候補を発生させますが、目標分布に依存する採択確率により、サンプルを選択します。\n",
    "\n",
    "提案分布: $f(y)$  \n",
    "採択確率: $r=f(y_{new})/f(y)$  \n"
   ]
  },
  {
   "cell_type": "code",
   "execution_count": 31,
   "id": "28276f5c",
   "metadata": {},
   "outputs": [
    {
     "data": {
      "image/png": "[encoded data removed]",
      "text/plain": [
       "<Figure size 432x288 with 1 Axes>"
      ]
     },
     "metadata": {
      "needs_background": "light"
     },
     "output_type": "display_data"
    },
    {
     "name": "stdout",
     "output_type": "stream",
     "text": [
      "0.01 0.966729593961468 1.0807937848355251 100000\n"
     ]
    },
    {
     "data": {
      "image/png": "[encoded data removed]",
      "text/plain": [
       "<Figure size 432x288 with 1 Axes>"
      ]
     },
     "metadata": {
      "needs_background": "light"
     },
     "output_type": "display_data"
    },
    {
     "name": "stdout",
     "output_type": "stream",
     "text": [
      "0.25 -0.02711814271514326 0.9719652591944209 100000\n"
     ]
    },
    {
     "data": {
      "image/png": "[encoded data removed]",
      "text/plain": [
       "<Figure size 432x288 with 1 Axes>"
      ]
     },
     "metadata": {
      "needs_background": "light"
     },
     "output_type": "display_data"
    },
    {
     "name": "stdout",
     "output_type": "stream",
     "text": [
      "0.5 0.03781492119171506 1.0023686371966694 100000\n"
     ]
    },
    {
     "data": {
      "image/png": "[encoded data removed]",
      "text/plain": [
       "<Figure size 432x288 with 1 Axes>"
      ]
     },
     "metadata": {
      "needs_background": "light"
     },
     "output_type": "display_data"
    },
    {
     "name": "stdout",
     "output_type": "stream",
     "text": [
      "0.75 0.003504646154186385 0.9998452345325439 100000\n"
     ]
    },
    {
     "data": {
      "image/png": "[encoded data removed]",
      "text/plain": [
       "<Figure size 432x288 with 1 Axes>"
      ]
     },
     "metadata": {
      "needs_background": "light"
     },
     "output_type": "display_data"
    },
    {
     "name": "stdout",
     "output_type": "stream",
     "text": [
      "1 -0.001864250568850681 0.9936907001534678 100000\n"
     ]
    }
   ],
   "source": [
    "np.random.seed(0)\n",
    "\n",
    "def f(y):\n",
    "    return stats.norm.pdf(y,0,1.)\n",
    "\n",
    "burn_in = 0\n",
    "\n",
    "for alpha in [0.01,0.25,0.5,0.75,1]:\n",
    "    res = np.zeros(100000)\n",
    "    y = 0.    \n",
    "    for i in range(burn_in+res.shape[0]):\n",
    "        y_new = alpha*stats.norm.rvs()+y\n",
    "        r = min(1,f(y_new) / f(y))\n",
    "        u = np.random.rand()\n",
    "        if u < r:\n",
    "            y = y_new\n",
    "            if i > burn_in:\n",
    "                res[i-burn_in] = y\n",
    "        else:\n",
    "            y = y\n",
    "            if i > burn_in:\n",
    "                res[i-burn_in] = y\n",
    "    plt.hist(res,bins=100,color=\"limegreen\")\n",
    "    plt.show()\n",
    "    print(alpha,np.average(res),np.std(res),len(res))"
   ]
  },
  {
   "cell_type": "markdown",
   "id": "1f87030f",
   "metadata": {},
   "source": [
    "正規分布の場合には、一般的なモンテカルロ法の方がいい結果になることが知られています。\n",
    "\n",
    "MCMCは、多変量で相関のある分布や混合分布などの場合に威力を発揮します。"
   ]
  },
  {
   "cell_type": "code",
   "execution_count": 32,
   "id": "16c6aab2",
   "metadata": {},
   "outputs": [
    {
     "data": {
      "image/png": "[encoded data removed]",
      "text/plain": [
       "<Figure size 432x288 with 1 Axes>"
      ]
     },
     "metadata": {
      "needs_background": "light"
     },
     "output_type": "display_data"
    },
    {
     "name": "stdout",
     "output_type": "stream",
     "text": [
      "0.01 -0.44525055804379643 0.28428769481747873 10000\n"
     ]
    },
    {
     "data": {
      "image/png": "[encoded data removed]",
      "text/plain": [
       "<Figure size 432x288 with 1 Axes>"
      ]
     },
     "metadata": {
      "needs_background": "light"
     },
     "output_type": "display_data"
    },
    {
     "name": "stdout",
     "output_type": "stream",
     "text": [
      "0.25 0.7192718540989185 1.3005723821148962 10000\n"
     ]
    },
    {
     "data": {
      "image/png": "[encoded data removed]",
      "text/plain": [
       "<Figure size 432x288 with 1 Axes>"
      ]
     },
     "metadata": {
      "needs_background": "light"
     },
     "output_type": "display_data"
    },
    {
     "name": "stdout",
     "output_type": "stream",
     "text": [
      "0.5 0.5479469094094409 1.3282493535616884 10000\n"
     ]
    },
    {
     "data": {
      "image/png": "[encoded data removed]",
      "text/plain": [
       "<Figure size 432x288 with 1 Axes>"
      ]
     },
     "metadata": {
      "needs_background": "light"
     },
     "output_type": "display_data"
    },
    {
     "name": "stdout",
     "output_type": "stream",
     "text": [
      "0.75 0.5559568709121139 1.2968946372045074 10000\n"
     ]
    },
    {
     "data": {
      "image/png": "[encoded data removed]",
      "text/plain": [
       "<Figure size 432x288 with 1 Axes>"
      ]
     },
     "metadata": {
      "needs_background": "light"
     },
     "output_type": "display_data"
    },
    {
     "name": "stdout",
     "output_type": "stream",
     "text": [
      "1 0.6441549932783474 1.2543149388038903 10000\n"
     ]
    }
   ],
   "source": [
    "np.random.seed(0)\n",
    "\n",
    "def f(y):\n",
    "    return 0.7*stats.norm.pdf(y,0,1.) + 0.3*stats.norm.pdf(y,2.,0.5)\n",
    "\n",
    "burn_in = 1000\n",
    "\n",
    "for alpha in [0.01,0.25,0.5,0.75,1]:\n",
    "    res = np.zeros(10000)\n",
    "    y = 0.\n",
    "    for i in range(burn_in+res.shape[0]):\n",
    "        y_candidate = alpha*stats.norm.rvs()+y\n",
    "        r = f(y_candidate) / f(y)\n",
    "        u = np.random.rand()\n",
    "        if u < r:\n",
    "            y = y_candidate\n",
    "            if i > burn_in:\n",
    "                res[i-burn_in] = y\n",
    "        else:\n",
    "            y = y\n",
    "            if i > burn_in:\n",
    "                res[i-burn_in] = y\n",
    "    plt.hist(res,bins=20,color=\"limegreen\")\n",
    "    plt.show()\n",
    "    print(alpha,np.average(res),np.std(res),len(res))"
   ]
  },
  {
   "cell_type": "markdown",
   "id": "4bf149ee",
   "metadata": {},
   "source": [
    "# アメリカンオプション\n",
    "\n",
    "満期より前であればいつでも行使できるオプションは、アメリカンオプションと呼ばれます。アメリカンコールオプションの価値は\n",
    "\n",
    "$C=\\underset{\\tau}{\\max} E[e^{-r\\tau}\\max⁡(S_\\tau-K,0)]$\n",
    "\n",
    "として与えられます。\n",
    "早期行使を行う時刻$\\tau$を停止時刻といい、$\\tau\\le T$で表します。\n",
    "時刻は有限な離散時間$ t_0=0<t_1<\\cdots<t_d=T$とし、原資産価格の時系列もそれに同期して$S_0,S_1,\\cdots, S_T$とします。\n",
    "停止時刻の最適化政策は未知とします。\n",
    "\n",
    "このような金融派生商品の価値は、おもに満期までの原資産の価格の動きとオプション保有者の行使戦略により左右されます。アメリカンオプションの保有者は、早期行使の価値の方が継続よりも高ければ、行使します。 最適な早期行使を行う原資産価格の領域を定め、その領域になければオプションは満期まで行使されないとします。 最適な停止時刻を算出します。 そして、各時系列におけるオプションの価値を算出します。 各々の時系列の結果の期待値をもとめ割り引きます。しかし、このような未知な要素を行使戦略に含む構造は、理論価格の算出を困難にします。\n",
    "\n",
    "\n",
    "## アメリカンオプション行使の仕組み\n",
    "\n",
    "### $b<r$のとき\n",
    "つまり、$q>0$のときに、多くのオプションは取引されます。\n",
    "原資産の価格$S$が行使価格$K$に対して著しく高い場合、${N(d_1)}$と${N(d_2)}$ は１に近づきヨーロピアンの価値 $Se^{\\left(b-r\\right)T}-Ke^{-rT}$ に近づきます。\n",
    "ヨーロピアンのオプション価値よりも高い$S-K$を得るためにアメリカンオプションはその場で行使されます。\n",
    "それ以後満期までオプションを保有することにより、収入が得られます。\n",
    "満期に原資産保有のペイオフがマイナスになるリスクがないときに行使されます。 \n",
    "したがって、アメリカンオプションには早期行使のプレミアムが付きます。\n",
    "\n",
    "\n",
    "### $b\\geq r$のとき\n",
    "たとえば、配当が無く$b=r$となる株式において、どのような価格で早期行使しても、原資産を保有して得られるものは、特になく、満期のペイオフがマイナスになる可能性が加わるだけで、ヨーロピアンオプションの価格の下限の方が高くなり行使されることはありません。\n",
    "ただし、行使により得られた原資産をその場で、市場で売買できるのであればこの限りではありません。\n",
    "\n",
    "\n",
    "\n",
    "## モンテカルロ法によるアメリカンオプションの価値の算出\n",
    "モンテカルロ法を用いたアメリカンオプションの価格推定の方法を紹介します。 \n",
    "\n",
    "### 単純なモデル\n",
    "\n",
    "満期までの一連の原資産の価格を、乱数を用いて生成します。 幾何ブラウン運動として一連の価格系列を生成した後にオプションの価値を評価するので、満期までの時系列は既知として扱うことが可能です。満期のペイオフが分かっているので、後ろから前のペイオフと順次比べていけば、最も高いペイオフを得られる時点で早期行使することが可能になります。 しかし、満期までの価格時系列の知識をもとに早期行使の判断をすると、将来の事象が既知となってしまいます。その判断を下すタイミングを$i$とすると\n",
    "\n",
    "$\\underset{i=0,\\cdots,d\\in Z}{\\max}{e^{-rt_i}\\max\\left(S_{t_i}-K,0\\right)} \\ge {e^{-r\\tau}\\max\\left(S_\\tau-K,0\\right)}$\n",
    "\n",
    "となります。$\\tau$は将来が未知の状況にありながら、最適な停止時刻を判断した結果です。完全予見では$i=1.\\dots,d$のすべての時刻でペイオフを計算し、それが最大値となる停止時刻を選んでいます。この時系列の推定は、未来が完全に予見できていることにより、完全予見による解となります。 オプションの価値は過大評価されます。時系列が独立であっても、未来が既知であれば、意思決定に影響を及ぼし、価格推定にバイアスをもたらします。そのような意思決定のプロセスがアメリカンオプションの価値にどのような影響を与えるかをまず見てみましょう。\n",
    "\n",
    "ここではプットを評価します。\n"
   ]
  },
  {
   "cell_type": "code",
   "execution_count": 33,
   "id": "9b4291aa",
   "metadata": {},
   "outputs": [],
   "source": [
    "import numpy as np\n",
    "from scipy.stats import norm\n",
    "import matplotlib.pyplot as plt\n",
    "from scipy.stats import norm\n",
    "from scipy.stats import lognorm\n",
    "from scipy import stats\n",
    "from datetime import datetime, date,time\n",
    "import statsmodels.api as sm\n",
    "DAYS=240"
   ]
  },
  {
   "cell_type": "code",
   "execution_count": 34,
   "id": "8718c5db",
   "metadata": {},
   "outputs": [
    {
     "name": "stdout",
     "output_type": "stream",
     "text": [
      "0.08758162144073989\n",
      "0:01:09.224024\n"
     ]
    }
   ],
   "source": [
    "t1=datetime.now()\n",
    "\n",
    "nSim=100000\n",
    "vol=0.3\n",
    "k=0.95\n",
    "t=0.5\n",
    "r=0.08\n",
    "\n",
    "nDays=int(DAYS*t)\n",
    "m=nDays\n",
    "dt=1/DAYS\n",
    "sigma = np.array([vol])\n",
    "dt = 1/DAYS\n",
    "df=np.exp(-r*dt)\n",
    "S = np.array([[0.0 for i in range(nDays+1)] for j in range(nSim)])\n",
    "rng = np.random.default_rng()\n",
    "for j in range(nSim):    \n",
    "    w=rng.standard_normal( size=(1,nDays)).T\n",
    "    x = np.exp((r - 0.5*sigma ** 2) * dt + w*np.sqrt(dt)*sigma)\n",
    "    x = (np.vstack([np.ones(len(sigma)), x])).cumprod(axis=0)\n",
    "    S[j][:]=x.ravel()\n",
    "\n",
    "payoff = np.array([[np.max([k-S[j][i],0]) for i in range(nDays+1)] for j in range(nSim)])\n",
    "ov=payoff[:,m].copy()\n",
    "for i in range(m,1,-1):\n",
    "    for j in range(nSim):\n",
    "        ov[j]=ov[j]*df\n",
    "        kk0=payoff[j,i-1]\n",
    "        if kk0>0 and kk0>ov[j]:\n",
    "            ov[j]=kk0\n",
    "            for ii in range(i,m+1):\n",
    "                payoff[j,ii]=0\n",
    "        else:\n",
    "            payoff[j,i-1]=0\n",
    "optionvalue=0\n",
    "for i in range(1,m+1):\n",
    "    for j in range(nSim):\n",
    "        optionvalue+=payoff[j,i]*df**i\n",
    "print(optionvalue/nSim)\n",
    "print(datetime.now()-t1)"
   ]
  },
  {
   "cell_type": "markdown",
   "id": "c19799ae",
   "metadata": {},
   "source": [
    "## 最小二乗モンテカルロ法\n",
    "\n",
    " アメリカンオプションの保有者は、どの行使可能時刻においても、早期行使か継続かの判断を迫られています。そして、早期行使の価値の方が継続よりも高ければ、行使します。しかし、オプションの保有者は将来の原資産価格を事前に知ることはありません。したがって、その時までに得られた情報から将来のペイオフの期待値を求めます。最小二乗モンテカルロ法では、$n$回の試行で得られる横断的な情報を過去に得られたデータであるとします。満期のペイオフをその1期前の価格がインザマネーにあれば、その価格を用いて、一期先のペイオフを予測するモデルを作ります。それは、最小二乗法を用いた条件付期待値を推定していることになります。継続による事後の実現収益を現在の状態変数の価値の関数として回帰します。回帰から求められた適合値は条件付期待関数の直接の推定値です。\n",
    " \n",
    " 各試行における各行使可能時刻で、条件付期待値を推定することにより、最適行使戦略を得ます。推定値が現在のペイオフの価値を上回れば、継続します。それ以外であれば、早期行使します。 満期からこの判断を始めて、時間をさかのぼって各行使可能時刻で繰り返し、アメリカンオプションのペイオフの期待値を推定します。 このような計算手法を後退法といいます。この回帰分析により求められた期待値は効率的でバイアスの無い推定値となります。オプションの最適停止時刻を正確に推定します。\n",
    " \n",
    "現論文である\n",
    "\n",
    "Valuing American Options by Simulation: A Simple Least-Squares Approach by Longstaff and Schwartz (2001)\n",
    "\n",
    "にはわかりやすい記述があるので、それを用いて説明してみます。\n",
    "\n",
    "行使価格= 1.1\n",
    "\n",
    "満期までの時刻=1,2,3\n",
    "\n",
    "無リスク金利＝6％\n",
    "\n",
    "試行の数＝８\n",
    "\n",
    "各試行の原資産価格生成メカニズム=リスク中立測度\n",
    "\n",
    "８つの試行の価格の推移はつぎの通りとします。\n",
    "\n",
    "\n",
    "![image.png](https://qiita-image-store.s3.ap-northeast-1.amazonaws.com/0/267055/eb60ef35-8b1c-35d9-dbe6-f74fbcbf5be0.png)\n",
    "\n",
    "各試行の各行使可能時刻において、どのような規則にしたがい早期行使を行えば、オプションの価値を最大にすることができるのかを探します。これは、オプションの価値を最大にする停止規則を探すことと同等です。行使は各試行で1回しかできません。\n",
    "\n",
    "まず満期(t=３)まで行使されていない状況を考えます。行使の価値はイン・ザ・マネーにあれば、1.10-X、それ以外ではゼロとなります。この損益はヨーロピアンオプションのものと同じです。このようなキャッシュフローの表はつぎのようなものです。\n",
    "\n",
    "![image.png](https://qiita-image-store.s3.ap-northeast-1.amazonaws.com/0/267055/4d27ba10-138e-ae95-48f0-d18f864c68b7.png)\n",
    "\n",
    "つぎに時刻２を見てみます。プットがイン・ザ・マネーにあればオプションの保有者は早期行使をするか、満期まで保有するかを決めなければなりません。時刻２における結果はつぎのとおりです。Yは満期のペイオフを割引率で調整したのものです。調整値は0.94176=exp(-0.06)で与えられます。Xは時刻２でイン・ザ・マネーにある原資産価格を示しています。この表を用いて、早期行使の判断を行うと、将来の原資産価格が完全に予見可能であることになり、適切ではありません。時刻２では、時刻３の価格を知ることはできませんし、オプションのペイオフもわかりません。そこで時刻３のペイオフの期待値を時刻２の価格を条件として推定します。\n",
    "\n",
    "![image.png](https://qiita-image-store.s3.ap-northeast-1.amazonaws.com/0/267055/825a8552-0853-28c0-836f-ed682e0220cb.png)\n",
    "\n",
    "時刻３のペイオフの期待値を最小二乗法を用いて推定します。\n",
    "\n",
    "$Y ̂=a ̂_1+a ̂_2 X+a ̂_3 X^2$\n",
    "\n",
    "結果は\n",
    "\n",
    "$E[Y│X]=-1.070+2.983X-1.813X^2$\n",
    "\n",
    "です。\n",
    "\n",
    "![image.png](https://qiita-image-store.s3.ap-northeast-1.amazonaws.com/0/267055/b7e699df-1f19-6004-3bf5-83dde174a08d.png)\n",
    "\n",
    "\n",
    "Yの推定に時刻２でイン・ザ・マネーにある時系列のみを使うのは、イン・ザ・マネーにあるときだけ、早期行使と保有の判断を迫られるからです。早期行使と継続の損益を比較します。キャッシュフロー表のt=2で継続であれば、ゼロ、早期行使であれば、得られるキャッシュフローを書きこみます。早期行使を行えば、その後の時刻での損益は０になります。そのようにして得られたキャッシュフロー表はつぎのとおりです。\n",
    "\n",
    "![image.png](https://qiita-image-store.s3.ap-northeast-1.amazonaws.com/0/267055/87f8b0ce-2980-d546-3f53-cf6ac3e7c0ea.png)\n",
    "\n",
    "\n",
    "以上の分析を時刻１についても行います。時刻１では５つの時系列(1,4,6,7,8)がイン・ザ・マネーにあります。時刻２の分析を繰り返します。Yは時刻２の早期行使のキャッシュフローの割引価値です。\n",
    "\n",
    "![image.png](https://qiita-image-store.s3.ap-northeast-1.amazonaws.com/0/267055/0d6fa8d8-917e-9b52-a207-aa54ae2e4d41.png)\n",
    "\n",
    "\n",
    "時刻1の原資産価格をもとにオプションを保有し続けることから得られる期待収益を推定するために、\n",
    "$Y ̂=a ̂_1+a ̂_2 X+a ̂_3 X^2$\n",
    "を再度用います。Yの値は時刻２のキャッシュフローの価値を割引率で調整したものです。Xはイン・ザ・マネーにある価格です。結果は\n",
    "$E[Y│X]=2.038-3.335X+1.356X^2$\n",
    "です。この情報をもとに行使と継続の損益を比較します。\n",
    "\n",
    "![image.png](https://qiita-image-store.s3.ap-northeast-1.amazonaws.com/0/267055/ef19b23c-807b-9d82-8898-9af36d4ab455.png)\n",
    "\n",
    "停止規則はつぎのように決定されます。クロス表の１が早期行使の時刻です。\n",
    "\n",
    "![image.png](https://qiita-image-store.s3.ap-northeast-1.amazonaws.com/0/267055/2cbbd462-4f61-93e4-4c96-2bd1847e845f.png)\n",
    "\n",
    "停止規則により実現さる損益はつぎの表です。\n",
    "\n",
    "![image.png](https://qiita-image-store.s3.ap-northeast-1.amazonaws.com/0/267055/1d767da9-9f98-3776-0710-4d7f7d4dc3bc.png)\n",
    "\n",
    "\n",
    "これらの実現損益を時刻０に合わせて割り引くことでアメリカンプットオプションの価値を得ることができます。\n",
    "\n",
    "t=1: (0.17+0.34+0.18+0.22)×0.94=0.855\n",
    "\n",
    "t=2: 0×0.942=0\n",
    "\n",
    "t=3: 0.07×〖0.943〗^2=0.058\n",
    "\n",
    "したがって、その値は(0.855+0.058)/8=0.1142です。\n",
    "\n",
    "### Python codeの解説\n",
    "つぎのコードで乱数を生成し、価格の幾何ブラウン運動をnSim回試行繰り返しています。\n",
    "\n",
    "```Python\n",
    "S = np.array([[0.0 for i in range(nDays+1)] for j in range(nSim)])\n",
    "rng = np.random.default_rng()\n",
    "for j in range(nSim):    \n",
    "    w=rng.standard_normal( size=(1,nDays)).T\n",
    "    x = np.exp((r - 0.5*sigma ** 2) * dt + w*np.sqrt(dt)*sigma)\n",
    "    x = (np.vstack([np.ones(len(sigma)), x])).cumprod(axis=0)\n",
    "    S[j][:]=x.ravel()\n",
    "```\n",
    "行使可能時刻でのペイオフの算出\n",
    "\n",
    "```Python\n",
    "payoff = np.array([[np.max([k-S[j][i],0]) for i in range(nDays+1)] for j in range(nSim)])\n",
    "```\n",
    "\n",
    "満期時のペイオフの価値の算出\n",
    "\n",
    "```Python\n",
    "ov=payoff[:,m].copy()\n",
    "```\n",
    "最小二乗法を用いて、つぎの期のペイオフの価値を推定します。\n",
    "\n",
    "```Python\n",
    "    for j in range(nSim):\n",
    "        kk=payoff[j,i]\n",
    "        if kk>ov[j]:\n",
    "            ov[j]=kk\n",
    "        else:\n",
    "            kk=ov[j]\n",
    "        kk0=payoff[j,i-1]\n",
    "        if kk0>0:\n",
    "            y0=kk*df\n",
    "            s0=S[j][i-1]\n",
    "            Y.append(y0)\n",
    "            X.append([1,s0,s0*s0])\n",
    "    model = sm.OLS(Y, X)\n",
    "    res = model.fit()\n",
    "    a0=res.params[0]\n",
    "    a1=res.params[1]\n",
    "    a2=res.params[2]\n",
    "```\n",
    "各停止可能時刻で行使か継続の判断をします。evは予測値です。kk0は停止可能時刻のペイオフの価値です。早期行使した際には後ろのペイオフをすべてゼロにします。早期行使しない場合には、現時点のペイオフをゼロにします。\n",
    "\n",
    "```Python\n",
    "    for j in range(nSim):\n",
    "        s0=S[j][i-1]\n",
    "        ev=a0+a1*s0+a2*s0*s0\n",
    "        kk0=payoff[j,i-1]\n",
    "        if kk0>0 and kk0>ev:\n",
    "            for ii in range(i,m+1):\n",
    "                payoff[j,ii]=0\n",
    "        else:\n",
    "            payoff[j,i-1]=0\n",
    "```\n",
    "オプションの価値と早期行使の確率を計算します。\n",
    "\n",
    "```Python\n",
    "optionvalue=0\n",
    "ex=0\n",
    "for i in range(1,m+1):\n",
    "    for j in range(nSim):\n",
    "        optionvalue+=payoff[j,i]*df**i\n",
    "        if payoff[j,i]!=0:\n",
    "            ex+=1\n",
    "```\n",
    "\n"
   ]
  },
  {
   "cell_type": "code",
   "execution_count": 35,
   "id": "f8e26c2e",
   "metadata": {},
   "outputs": [
    {
     "name": "stdout",
     "output_type": "stream",
     "text": [
      "0.04502500066739258 0.37391\n",
      "0:01:57.153688\n"
     ]
    }
   ],
   "source": [
    "t1=datetime.now()\n",
    "vol=0.3\n",
    "k=0.95\n",
    "t=0.5\n",
    "r=0.08\n",
    "\n",
    "nSim=100000\n",
    "nDays=int(DAYS*t)\n",
    "m=nDays\n",
    "dt=1/DAYS\n",
    "sigma = np.array([vol])\n",
    "dt = 1/DAYS\n",
    "df=np.exp(-r*dt)\n",
    "#print(nSim,t,k,r,vol,dt,m,df,nDays)\n",
    "S = np.array([[0.0 for i in range(nDays+1)] for j in range(nSim)])\n",
    "rng = np.random.default_rng()\n",
    "for j in range(nSim):    \n",
    "    w=rng.standard_normal( size=(1,nDays)).T\n",
    "    x = np.exp((r - 0.5*sigma ** 2) * dt + w*np.sqrt(dt)*sigma)\n",
    "    x = (np.vstack([np.ones(len(sigma)), x])).cumprod(axis=0)\n",
    "    S[j][:]=x.ravel()\n",
    "\n",
    "payoff = np.array([[np.max([k-S[j][i],0]) for i in range(nDays+1)] for j in range(nSim)])\n",
    "ov=payoff[:,m].copy()\n",
    "for i in range(m,1,-1):\n",
    "    jj=0\n",
    "    Y=[]\n",
    "    X=[]\n",
    "    for j in range(nSim):\n",
    "        kk=payoff[j,i]\n",
    "        if kk>ov[j]:\n",
    "            ov[j]=kk\n",
    "        else:\n",
    "            kk=ov[j]\n",
    "        kk0=payoff[j,i-1]\n",
    "        if kk0>0:\n",
    "            y0=kk*df\n",
    "            s0=S[j][i-1]\n",
    "            Y.append(y0)\n",
    "            X.append([1,s0,s0*s0])\n",
    "    model = sm.OLS(Y, X)\n",
    "    res = model.fit()\n",
    "    a0=res.params[0]\n",
    "    a1=res.params[1]\n",
    "    a2=res.params[2]\n",
    "    for j in range(nSim):\n",
    "        s0=S[j][i-1]\n",
    "        ev=a0+a1*s0+a2*s0*s0\n",
    "        kk0=payoff[j,i-1]\n",
    "        if kk0>0 and kk0>ev:\n",
    "            for ii in range(i,m+1):\n",
    "                payoff[j,ii]=0\n",
    "        else:\n",
    "            payoff[j,i-1]=0\n",
    "optionvalue=0\n",
    "ex=0\n",
    "for i in range(1,m+1):\n",
    "    for j in range(nSim):\n",
    "        optionvalue+=payoff[j,i]*df**i\n",
    "        if payoff[j,i]>0:\n",
    "            ex+=1\n",
    "print(optionvalue/nSim, ex/nSim)\n",
    "print(datetime.now()-t1)"
   ]
  },
  {
   "cell_type": "markdown",
   "id": "b03b0ecb",
   "metadata": {},
   "source": [
    "アメリカンオプションの価値は0.045で早期行使の確率は満期でも行使も含めて0.37です。\n",
    "\n",
    "Python3ではじめるシステムトレード：モンテカルロ法によるアメリカンオプションの評価  \n",
    "https://qiita.com/innovation1005/items/f24c0c342ad85f9dab1f\n",
    "\n",
    "Python3ではじめるシステムトレード：二項モデルによるヨーロピアンコールオプションの評価  \n",
    "https://qiita.com/innovation1005/items/b7e1f91edf8b977cb84a\n",
    "\n",
    "Python3ではじめるシステムトレード：モンテカルロシミュレーションと乖離  \n",
    "https://qiita.com/innovation1005/items/e1ce301ad6b46dcab9fb\n",
    "\n"
   ]
  },
  {
   "cell_type": "code",
   "execution_count": 37,
   "id": "bec6ba6c",
   "metadata": {},
   "outputs": [
    {
     "name": "stdout",
     "output_type": "stream",
     "text": [
      "0.08471668540653335 0.54369\n",
      "0:01:40.764381\n"
     ]
    }
   ],
   "source": [
    "t1=datetime.now()\n",
    "vol=0.3\n",
    "k=1\n",
    "t=0.5\n",
    "r=0\n",
    "\n",
    "nSim=100000\n",
    "nDays=int(DAYS*t)\n",
    "m=nDays\n",
    "dt=1/DAYS\n",
    "sigma = np.array([vol])\n",
    "dt = 1/DAYS\n",
    "df=np.exp(-r*dt)\n",
    "#print(nSim,t,k,r,vol,dt,m,df,nDays)\n",
    "S = np.array([[0.0 for i in range(nDays+1)] for j in range(nSim)])\n",
    "rng = np.random.default_rng()\n",
    "for j in range(nSim):    \n",
    "    w=rng.standard_normal( size=(1,nDays)).T\n",
    "    x = np.exp((r - 0.5*sigma ** 2) * dt + w*np.sqrt(dt)*sigma)\n",
    "    x = (np.vstack([np.ones(len(sigma)), x])).cumprod(axis=0)\n",
    "    S[j][:]=x.ravel()\n",
    "\n",
    "payoff = np.array([[np.max([k-S[j][i],0]) for i in range(nDays+1)] for j in range(nSim)])\n",
    "ov=payoff[:,m].copy()\n",
    "for i in range(m,1,-1):\n",
    "    jj=0\n",
    "    Y=[]\n",
    "    X=[]\n",
    "    for j in range(nSim):\n",
    "        kk=payoff[j,i]\n",
    "        if kk>ov[j]:\n",
    "            ov[j]=kk\n",
    "        else:\n",
    "            kk=ov[j]\n",
    "        kk0=payoff[j,i-1]\n",
    "        if kk0>0:\n",
    "            y0=kk*df\n",
    "            s0=S[j][i-1]\n",
    "            Y.append(y0)\n",
    "            X.append([1,s0,s0*s0])\n",
    "    model = sm.OLS(Y, X)\n",
    "    res = model.fit()\n",
    "    a0=res.params[0]\n",
    "    a1=res.params[1]\n",
    "    a2=res.params[2]\n",
    "    for j in range(nSim):\n",
    "        s0=S[j][i-1]\n",
    "        ev=a0+a1*s0+a2*s0*s0\n",
    "        kk0=payoff[j,i-1]\n",
    "        if kk0>0 and kk0>ev:\n",
    "            for ii in range(i,m+1):\n",
    "                payoff[j,ii]=0\n",
    "        else:\n",
    "            payoff[j,i-1]=0\n",
    "optionvalue=0\n",
    "ex=0\n",
    "for i in range(1,m+1):\n",
    "    for j in range(nSim):\n",
    "        optionvalue+=payoff[j,i]*df**i\n",
    "        if payoff[j,i]>0:\n",
    "            ex+=1\n",
    "print(optionvalue/nSim, ex/nSim)\n",
    "print(datetime.now()-t1)"
   ]
  },
  {
   "cell_type": "code",
   "execution_count": null,
   "id": "866044be",
   "metadata": {},
   "outputs": [],
   "source": []
  }
 ],
 "metadata": {
  "kernelspec": {
   "display_name": "Python 3 (ipykernel)",
   "language": "python",
   "name": "python3"
  },
  "language_info": {
   "codemirror_mode": {
    "name": "ipython",
    "version": 3
   },
   "file_extension": ".py",
   "mimetype": "text/x-python",
   "name": "python",
   "nbconvert_exporter": "python",
   "pygments_lexer": "ipython3",
   "version": "3.9.7"
  }
 },
 "nbformat": 4,
 "nbformat_minor": 5
}
