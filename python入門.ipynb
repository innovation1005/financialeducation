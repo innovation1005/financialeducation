{
 "cells": [
  {
   "cell_type": "markdown",
   "metadata": {},
   "source": [
    "# 1 Python 入門\n",
    "\n",
    "必要なライブラリを意識しよう\n",
    " \n",
    "- Pandas(データ分析ライブラリ)  \n",
    "- NumPy/SciPy(数値解析ライブラリ)  \n",
    "- Matplotlib(グラフ描画ライブラリ)  \n",
    "- statsmodels(統計ライブラ)  \n",
    "\n",
    "である。これら4つのライブラリを自由に使いこなせるようになろう。\n",
    "\n",
    "**そうすれば自ずと道は開かれる！！**\n",
    "\n",
    "\n",
    "　まずPythonで戸惑うのはべき乗演算と配列の作成ではないだろうか？金融関連のユーザーはこの2つを多用するので、この2つの方法が簡単に手に入らないと、それだけであきらめてしまう。多くのユーザーはPythonのべき乗演算が半角アステリスク($*$)を2つ並べると知ったとたんに驚嘆して断念してしまう。ほとんどのプログラミング言語ではハットマーク(^)1つで済んでいた演算が2文字になってしまうのだから当然だ。\n",
    "\n",
    "　配列も問題だ！WEB上で「Python、配列」と検索すると「データ構造」、「リスト、タプル、辞書」に関するページが多数ヒットされる。しかし、なかなかスプレッドシート(表)風の配列に行き当たらない。そして、「配列」という言葉を発見するとそれは「Nampy配列」であったりする。それでもリスト、タプル、辞書が配列に似ているという直観から、仕方なくこれらを使い始める。しかし、金融関連のユーザーが多用する2次元配列で壁にぶつかってしまう。これに随分と手間取った挙句にここで断念してしまうユーザーもいるのではないだろうか？\n",
    "\n",
    "　しかし、Pythonを使う理由はこのデータの扱い方にあるといっても過言ではない。Pythonの演算スピードを実感してしまうと、もう手放せなくなってしまう。それにデータを管理・加工する際の使い勝手は最高だ。\n",
    " \n",
    "　また、セミナーの参加者のなかにはプログラミングとは全く無縁な人もいるに違いない。やりたいことが明確に意識され、自分の業務が理解できている人であれば、特にプログラミングの知識がなくても、また特別な教育を受けていなくても、プログラムを英語の文章だと思って読んでくださいといっただけで、1年後には立派なプログラマーになっている。\n",
    "  \n",
    "では心の準備ができたので前進！\n",
    "\n",
    "\n",
    "　Pythonのプログラムが、誰にとっても読みやすく、理解しやすいのは、プログラムのブロック構造が『字下げ』により決まるところが大きい。そのために行構造を理解しておくと便利である。\n",
    "1.\t行(物理行)は改行によって終わる。  \n",
    "2.\t複数行(物理行)にわたってプログラムを書くときには行の終わりにバックスラッシュ文字$\"(\\)\"$を置く。そうするとそれは論理行になる。  \n",
    "3.\t論理行の先頭は、実行文のグループ化の判断に用いられる。『字下げ』の位置が重要な理由はここにある。  \n",
    "4.\tコメントが1行の場合には先頭をシャープ(#)で始める。\n",
    "\n",
    "　非常に重要な点を4つのポイントとして表現したが、これでわかってしまう人は天才だ。まず、ポイント2についてポイント4を使って入力[1]で説明してみよう。\n"
   ]
  },
  {
   "cell_type": "code",
   "execution_count": 1,
   "metadata": {},
   "outputs": [
    {
     "data": {
      "text/plain": [
       "'１行に書いてよい文字数は半角で７２文字まで、これは全角で３６文字になる。これを超えるとバックスラッシュで行を変える。もちろん、読みやすくなるのであれば、７２文字にこだわる必要はない。'"
      ]
     },
     "execution_count": 1,
     "metadata": {},
     "output_type": "execute_result"
    }
   ],
   "source": [
    "# aという変数に文字列を入力した。その文字列は文章になっていて、一行に\n",
    "# \"たくさん書くと読みづらいので半角で72文字にしましょう\"、という暗黙の\n",
    "# 取り決めについて説明している。入力[1]のセルの最後にaと書いたのは、こ\n",
    "# れでaの内容が出力[1]に表示されるからである。つまり、入力[1]のセルの\n",
    "# 内容は改行によって読みやすくなっている。これはスクリーンのサイズによ\n",
    "# らずに誰にでも読みやすいように、コードを書きましょうという配慮だ。\n",
    "a='１行に書いてよい文字数は半角で７２文字まで、これは全角で３６文字\\\n",
    "になる。これを超えるとバックスラッシュで行を変える。もちろん、\\\n",
    "読みやすくなるのであれば、７２文字にこだわる必要はない。'\n",
    "a"
   ]
  },
  {
   "cell_type": "markdown",
   "metadata": {},
   "source": [
    "## 1.1 データ\n",
    "\n",
    "- データについて\n",
    "\n",
    "　データ、要因、要素、データ点(データポイント)はあいまいな使い方がされていて、混乱を招くことが多い。データはデータ点(datapoint, datum)、つまり1つ1つの個々のデータのあつまりのことであり、要因はデータ点の特徴によりグループ化したものだ。要素はあいまいにいろいろな意味に使われるが、本書ではデータ点と同義語とする。\n",
    " \n",
    "- データモデル\n",
    "\n",
    "　本セミナーの内容を理解するために難しいプログラミングの知識はいらない。逆に無駄な知識は内容を理解する障害になってしまうかもしれない。しかし、最低限の取り決めは、理解を加速する。データモデルは、データを処理する過程でオブジェクト(obj)とその属性、そしてメソッドがどのように機能し、相互作用するかを規定している。最初はオブジェクトといわれるとピンとこないかもしれないが、なれるとこちらの方が自然だ。\n",
    "\n",
    "* オブジェクト\n",
    "\n",
    "　Pythonではすべてのデータがオブジェクトとなる。日経平均株価の過去の価格データを考えてみよう。まずPythonでは、この価格データはオブジェクトである。つぎに、この価格データには日付が付いているので、その日付もオブジェクトである。価格データが始値、高値、安値、終値で構成されていれば、それらもオブジェクトである。オブジェクトは同一性、型と値をもつ。同一性はそれぞれのオブジェクトのid(アドレス)だと考えればよい。いろいろなオブジェクトの種類があるので、それを型と呼んで区別する。たとえば、リストに1つの始値を登録すれば、始値は数値であるので、浮動小数点型、価格の値は始値そのものとなる。同一性を意識することはない。始値を別の数値に変更しても、型を整数型に変更しても、同一性は変更されない。\n",
    "\n",
    "* リスト、タプルと辞書\n",
    "\n",
    "　リストはデータを格納するオブジェクトでその内容を変えることができる。データの各要素には番号が割り振られていて、それは順序付き整数となる。これはインデックスの役目を果たす。a=[c,d,e]というようにデータを角括弧でくくって作る。要素c,d,eには、0,1,2という数字がインデックスとして割り振られる。つぎは辞書だ。これはリストと似ているが、インデックスを自分で指定できる。かつ、文字列でも機能する。波括弧とコロンを用いる。a={\"x\":b,\"y\":c}の場合、\"x\"と\"y\"がインデックスだ。３つ目はタプルだ。これはリストに似ているが鍵括弧ではなく丸括弧を用いて作る。内容の変更はできないので、演算結果の出力としてよく用いられる。\n",
    "\n",
    "\n",
    "* シーケンス\n",
    "\n",
    "　リストとタプルはシーケンスだ。インデックスが順序を持った有限な整数だからだ。ちなみに文字列型もシーケンス型である。辞書はインデックスが順序を持った整数ではないのでシーケンスではない。辞書はこの性質からマッピング型と呼ばれる。\n",
    "\n",
    "* 呼び出し可能型\n",
    "\n",
    "　ユーザー定義関数、組み込み関数、組み込みメソッドは、関数呼び出しができる型である。\n",
    "\n",
    "* モジュール\n",
    "\n",
    "　呼び出し可能型の集まり。\n",
    "\n",
    "* ファイルオブジェクト\n",
    "\n",
    " ファイルオブジェクトは開かれたファイルのこと。\n",
    " \n",
    " データモデルの大まかな概念を表1.1にまとめた。\n",
    " \n",
    "||表1.1: データモデル|\n",
    "|:---|:---|\n",
    "|シーケンス型| 有限な順序集合\n",
    "||1.変更不能なシーケンス型：文字列、タプル型\n",
    "||2.変更可能なシーケンス型：リスト型 \n",
    "|数値型|　　 整数型、長整数型、浮動小数点型、複素数型\n",
    "|マッピング型|辞書型\n",
    "|呼び出し可能型|関数の呼び出しが可能な型\n",
    "||1.\tユーザー定義関数  \n",
    "||2.\tユーザー定義メソッド  \n",
    "||3.\t組み込み関数  \n",
    "||4.\t組み込みメソッド  \n",
    "|モジュール|呼び出し可能型の集合\n",
    "|ファイルオブジェクト| 開かれたファイル\n",
    "\n",
    "**ここでのデータモデルとは、Pythonが内部でデータを扱い処理するプロセスのことだ。データを構成するさまざまな要素を整理し、標準化し、データ同士の関連性や実世界で起きた事象の特性をも整理し標準化するものだ。**"
   ]
  },
  {
   "cell_type": "markdown",
   "metadata": {},
   "source": [
    "## 1.2 繰り返し処理\n",
    "\n",
    "\n",
    "繰り返し処理はコンピュータの得意とする処理である。人であれば繰り返し処理は簡単に間違えるが、コンピューターは忠実にこなす。しかし、for文の多用は禁物といわれる。Pythonでのfor文はinメソッドとペアで用いる。inのあとに来るのはコレクションだ。\n",
    " \n",
    "for x in <コレクション>:  \n",
    "    <繰り返し処理>  \n",
    "    \n",
    "とすると、xにはコレクションのつぎの値が返される。"
   ]
  },
  {
   "cell_type": "code",
   "execution_count": 2,
   "metadata": {},
   "outputs": [
    {
     "name": "stdout",
     "output_type": "stream",
     "text": [
      "for文はイテラブルというオブジェクトのコレクションに繰り返し処理を施す。"
     ]
    }
   ],
   "source": [
    "for x in [\"for文は\",\"イテラブルという\",\"オブジェクトのコレクションに\",\\\n",
    "         \"繰り返し処理を施す。\"]:\n",
    "    print(x,end=\"\")#end=\"\"により出力の改行はしない"
   ]
  },
  {
   "cell_type": "markdown",
   "metadata": {},
   "source": [
    "## 1.3 Python 標準ライブラリについて学ぼう\n",
    "\n",
    "　Python標準ライブラリには、プログラム言語の核となるデータ型と組み込み関数、変更可能シーケンス型のリストが含まれる。組み込み関数は表1.2に、組み込み型は表1.3に、シーケンスに共通な演算を表1.4にまとめた。詳しく知りたい人は以下を参照してほしい。\n",
    " \n",
    "https://docs.python.org/ja/3/library/index.html#library-index\n",
    "\n",
    "\n",
    "||表1.2: 組み込み関数|\n",
    "|:---|:---|\n",
    "|1.abs(x) :|絶対値を返す。\n",
    "|2.enumerate(iterable):|カウントと値のタプルのリストを返す\n",
    "|3.float(x) : |浮動小数点に変換する。  \n",
    "|4.int(x) : |整数に変換する。  \n",
    "|5.max(iterable) : |最大値を返す。  \n",
    "|6.min(iterable) : |最小値を返す。  \n",
    "|7.print(object) : |出力する。  \n",
    "|8.range(stop) : |1からstopまでの整数のリストを返す。  \n",
    "|9.sorted(iterable) : |順番を並べ替える。  \n",
    "|10.sum(iterable) : |合計を返す。  \n",
    "|11.type(object): |オブジェクトの型を返す。\n",
    "|12.zip($*$iterable) : |タプルのリストを返す。  \n",
    "|x:数または文字列、|object:オブジェクト、iterable:イテラブル\n",
    "\n",
    "||表1.3: 組み込み型|\n",
    "|:---|:---|\n",
    "|組み込み型||\n",
    "|数値型|動的型付言語：実行したときに変数の型が決定\n",
    "|シーケンス型|n個の要素をもつシーケンスから成りインデックスをもつ要素の集合\n",
    "||**変更不能シーケンス型:**\n",
    "||ー　文字列: 単引用符、2重引用符によってくくる。\n",
    "||ー　タプル：複数の要素をカンマで区切り丸括弧( ) でくくる。\n",
    "||**変更可能シーケンス型:**|\n",
    "||リスト：リストは幾つかの変数をグループとして扱うデータ構造\n",
    "|マッピング型||\n",
    "||辞書：インデックス化されたオブジェクトの集合\n",
    "\n",
    "||表1.4:シーケンスに共通の演算|\n",
    "|:---|:---|\n",
    "||s,tは同じ型のリスト,タプル,rangeのシーケンス\n",
    "|s+t |文字列の連結は「+」\n",
    "|s[i] |s[i] sのゼロから数えてi番目の要素を選択\n",
    "|スライス:|条件を満たすインデックスをもつすべての要素を抽出\n",
    "||s[i:j]: sのiからj番目までの要素を選択\n",
    "||s[i:j:k]: sのiからj番目までの要素をk毎にスライス\n",
    "||s[:]: 全てのデータを抽出|\n",
    "||s[::-1]:全てのデータを逆順にして抽出|\n",
    "|x in s|sのある要素がxと等しければTrue|\n",
    "|len(s)|sの長さ|\n",
    "|min(s)|sの最小値|\n",
    "|max(s)|sの最大値|\n",
    "\n",
    "例："
   ]
  },
  {
   "cell_type": "code",
   "execution_count": 3,
   "metadata": {},
   "outputs": [
    {
     "data": {
      "text/plain": [
       "True"
      ]
     },
     "execution_count": 3,
     "metadata": {},
     "output_type": "execute_result"
    }
   ],
   "source": [
    "# テキストシーケンス型に'vw'が含まれればTrue\n",
    "'vw' in \"vwxyz\""
   ]
  },
  {
   "cell_type": "code",
   "execution_count": 4,
   "metadata": {},
   "outputs": [
    {
     "data": {
      "text/plain": [
       "True"
      ]
     },
     "execution_count": 4,
     "metadata": {},
     "output_type": "execute_result"
    }
   ],
   "source": [
    "# 文字xがリストの要素に含まれればTrueを返す。\n",
    "'x' in [\"x\",\"y\",\"z\"]"
   ]
  },
  {
   "cell_type": "code",
   "execution_count": 5,
   "metadata": {},
   "outputs": [
    {
     "name": "stdout",
     "output_type": "stream",
     "text": [
      "123"
     ]
    }
   ],
   "source": [
    "#end=\"\"により出力が改行されない。\n",
    "for i in [1,2,3]:\n",
    "    print(i,end='') "
   ]
  },
  {
   "cell_type": "code",
   "execution_count": 6,
   "metadata": {},
   "outputs": [
    {
     "name": "stdout",
     "output_type": "stream",
     "text": [
      "x 1\n",
      "y 2\n",
      "z 3\n"
     ]
    }
   ],
   "source": [
    "# ２つのリストを同時に処理\n",
    "for i,j in zip([\"x\",\"y\",\"z\"], [1,2,3]):\n",
    "    print(i,j)"
   ]
  },
  {
   "cell_type": "markdown",
   "metadata": {},
   "source": [
    "## 1.4 リストについて学ぶ\n",
    "\n",
    "　リスト型はPythonの中核をなし、有用なメソッドをもつ。リストは変更可能なシーケンス型だ。角括弧([ ]) のなかに要素、数式をカンマで区切って並べて作る。関数len()を用いて、要素数を得ることができる。シーケンスの長さがnの場合、そのインデックスは0,...,n-1となる。シーケンスsのインデックスiの要素はs[i]で得ることができる。スライス操作をサポートしているので、インデックスkのすべての要素をs[i:j]で選択することができる。この場合i$\\le$k<jである。\n",
    " \n",
    "　シーケンスsの要素1,2,3,4,5を表示するには"
   ]
  },
  {
   "cell_type": "code",
   "execution_count": 7,
   "metadata": {},
   "outputs": [
    {
     "data": {
      "text/plain": [
       "[1, 2, 3, 4, 5]"
      ]
     },
     "execution_count": 7,
     "metadata": {},
     "output_type": "execute_result"
    }
   ],
   "source": [
    "s=[1,2,3,4,5]\n",
    "s"
   ]
  },
  {
   "cell_type": "markdown",
   "metadata": {},
   "source": [
    "とすればよい。最後の行に変数sを置くと、printを必要とせずに表示できる。これはJupyter notebook（Ipython notebook）の機能の1つだ。きれいで見やすい表示をしてくれる。\n",
    "\n",
    "　s[i]のiはインデックスで、指定した要素はタプルで返される。"
   ]
  },
  {
   "cell_type": "code",
   "execution_count": 8,
   "metadata": {},
   "outputs": [
    {
     "data": {
      "text/plain": [
       "(1, 2, 3, 4, 5)"
      ]
     },
     "execution_count": 8,
     "metadata": {},
     "output_type": "execute_result"
    }
   ],
   "source": [
    "s[0],s[1],s[2],s[3],s[4]"
   ]
  },
  {
   "cell_type": "markdown",
   "metadata": {},
   "source": [
    "スライス操作でも要素を得ることができる。リストで返される。"
   ]
  },
  {
   "cell_type": "code",
   "execution_count": 9,
   "metadata": {},
   "outputs": [
    {
     "data": {
      "text/plain": [
       "[1, 2, 3, 4, 5]"
      ]
     },
     "execution_count": 9,
     "metadata": {},
     "output_type": "execute_result"
    }
   ],
   "source": [
    "s[0:5]"
   ]
  },
  {
   "cell_type": "markdown",
   "metadata": {},
   "source": [
    "s[-5:]のようにスライス操作で後ろから指定することもできる。s[:]はすべてのデータを表示し、s[::-1]はデータを反転している。"
   ]
  },
  {
   "cell_type": "code",
   "execution_count": 10,
   "metadata": {},
   "outputs": [
    {
     "name": "stdout",
     "output_type": "stream",
     "text": [
      "後ろから指定  [1, 2, 3, 4, 5]\n",
      "全ての要素  [1, 2, 3, 4, 5]\n",
      "データの反転  [5, 4, 3, 2, 1]\n"
     ]
    }
   ],
   "source": [
    "print('後ろから指定 ',s[-5:])\n",
    "print('全ての要素 ',s[:])\n",
    "print('データの反転 ',s[::-1])"
   ]
  },
  {
   "cell_type": "markdown",
   "metadata": {},
   "source": [
    "リストは連結も可能。"
   ]
  },
  {
   "cell_type": "code",
   "execution_count": 11,
   "metadata": {},
   "outputs": [
    {
     "data": {
      "text/plain": [
       "[1, 2, 3, 4, 5, 10, 11]"
      ]
     },
     "execution_count": 11,
     "metadata": {},
     "output_type": "execute_result"
    }
   ],
   "source": [
    "s=s+[10,11]\n",
    "s"
   ]
  },
  {
   "cell_type": "markdown",
   "metadata": {},
   "source": [
    "リストでは指定したインデックスの要素を入れ替えられる。"
   ]
  },
  {
   "cell_type": "code",
   "execution_count": 12,
   "metadata": {},
   "outputs": [
    {
     "data": {
      "text/plain": [
       "[1, 2, 1000, 4, 5, 10, 11]"
      ]
     },
     "execution_count": 12,
     "metadata": {},
     "output_type": "execute_result"
    }
   ],
   "source": [
    "s[2]=1000\n",
    "s"
   ]
  },
  {
   "cell_type": "markdown",
   "metadata": {},
   "source": [
    "リストはさらに幾つかのメソッドを持っている。xは要素、項目等であり、値、文字、文字列、リスト(タプル、辞書)でもよい。\n",
    "\n",
    "1.\tappend(x): xをリストの最後に加える。  \n",
    "2.\tcount(x) : リストに含まれるxの数を数える。  \n",
    "3.\tinsert(i,x) :i番目のポジションにxを挿入する。  \n",
    "4.\tremove(x) :xである最初の値を削除する。  "
   ]
  },
  {
   "cell_type": "code",
   "execution_count": 13,
   "metadata": {},
   "outputs": [
    {
     "data": {
      "text/plain": [
       "[1, 2, 1000, 4, 5, 10, 11, 2000]"
      ]
     },
     "execution_count": 13,
     "metadata": {},
     "output_type": "execute_result"
    }
   ],
   "source": [
    "s.append(2000)\n",
    "s"
   ]
  },
  {
   "cell_type": "code",
   "execution_count": 14,
   "metadata": {},
   "outputs": [
    {
     "data": {
      "text/plain": [
       "1"
      ]
     },
     "execution_count": 14,
     "metadata": {},
     "output_type": "execute_result"
    }
   ],
   "source": [
    "s.count(1)"
   ]
  },
  {
   "cell_type": "code",
   "execution_count": 15,
   "metadata": {},
   "outputs": [
    {
     "data": {
      "text/plain": [
       "[1, 2, 3, 1000, 4, 5, 10, 11, 2000]"
      ]
     },
     "execution_count": 15,
     "metadata": {},
     "output_type": "execute_result"
    }
   ],
   "source": [
    "s.insert(2,3)\n",
    "s"
   ]
  },
  {
   "cell_type": "code",
   "execution_count": 16,
   "metadata": {},
   "outputs": [
    {
     "name": "stdout",
     "output_type": "stream",
     "text": [
      "[1, 2, 3, 1000, 4, 5, 10, 11]\n"
     ]
    },
    {
     "data": {
      "text/plain": [
       "[1, 2, 3, 4, 5]"
      ]
     },
     "execution_count": 16,
     "metadata": {},
     "output_type": "execute_result"
    }
   ],
   "source": [
    "s.remove(2000)\n",
    "print(s)\n",
    "s.remove(1000)\n",
    "s.remove(10)\n",
    "s.remove(11)\n",
    "s"
   ]
  },
  {
   "cell_type": "markdown",
   "metadata": {},
   "source": [
    "for文とin演算子とprint関数を使って要素を表示することもできる。enumerateを使うとインデックスを作る手間が省ける。"
   ]
  },
  {
   "cell_type": "code",
   "execution_count": 17,
   "metadata": {},
   "outputs": [
    {
     "name": "stdout",
     "output_type": "stream",
     "text": [
      "0 1,1 2,2 3,3 4,4 5,\n",
      "0 1,1 2,2 3,3 4,4 5,\n",
      "0 1,1 2,2 3,3 4,4 5,\n",
      "0 1,1 2,2 3,3 4,4 5,"
     ]
    }
   ],
   "source": [
    "#インデックスと要素をペアで表示\n",
    "for i in s:\n",
    "    print(i-1,end=\" \")\n",
    "    print(s[i-1],end=\",\")\n",
    "print()\n",
    "for i in s:             #best\n",
    "    print(i-1,end=\" \")\n",
    "    print(i,end=\",\")\n",
    "print()\n",
    "for i in range(len(s)):\n",
    "    print(i,s[i],end=\",\")\n",
    "print()\n",
    "for i,j in enumerate(s):#best\n",
    "    print(i,j,end=\",\")"
   ]
  },
  {
   "cell_type": "markdown",
   "metadata": {},
   "source": [
    "確かにfor文の多用はPythonの処理時間を遅らせるが、使い方によっては早まる。そのためにはfor文の中の処理の深い理解が必要だが、ここではそれはせずに、簡単に説明する。\n",
    "\n",
    "for <変数> in <イテラブル>:  \n",
    "    <ステートメント>  \n",
    "    \n",
    "    <イテラブル>はコレクションで要素を一度に1つずつ返せる反復可能オブジェクトである。例えばリストとタプルとrangeオブジェクトだ。<ステートメント>は繰り返し処理で抽出された<イテラブル>の要素<変数>に順番に施される。"
   ]
  },
  {
   "cell_type": "markdown",
   "metadata": {},
   "source": [
    "内包表記はリストを生成する方法の1つ。高速、幅広い用途で簡単で力強いPythonの記法として知られるPythonicの１つ。"
   ]
  },
  {
   "cell_type": "code",
   "execution_count": 18,
   "metadata": {},
   "outputs": [
    {
     "data": {
      "text/plain": [
       "([0, 1, 4, 9, 16], [0, 1, 4, 9, 16])"
      ]
     },
     "execution_count": 18,
     "metadata": {},
     "output_type": "execute_result"
    }
   ],
   "source": [
    "b=[]\n",
    "for x in range(5):\n",
    "    b.append(x**2)\n",
    "c=[x**2 for x in range(5)]#内包表記\n",
    "b,c"
   ]
  },
  {
   "cell_type": "code",
   "execution_count": 19,
   "metadata": {},
   "outputs": [
    {
     "data": {
      "text/plain": [
       "([(1, 3), (1, 1), (1, 4), (2, 3), (2, 1), (2, 4), (3, 3), (3, 1), (3, 4)],\n",
       " [(1, 3), (1, 1), (1, 4), (2, 3), (2, 1), (2, 4), (3, 3), (3, 1), (3, 4)])"
      ]
     },
     "execution_count": 19,
     "metadata": {},
     "output_type": "execute_result"
    }
   ],
   "source": [
    "xy=[]\n",
    "for x in [1,2,3]:\n",
    "    for y in [3,1,4]:\n",
    "        xy.append((x, y))\n",
    "xxyy=[(x, y) for x in [1,2,3] for y in [3,1,4]]#内包表記\n",
    "xy,xxyy"
   ]
  },
  {
   "cell_type": "markdown",
   "metadata": {},
   "source": [
    "より複雑な内包表記も可能、しかし複雑すぎると読みづらくなり逆効果となる場合もある。"
   ]
  },
  {
   "cell_type": "code",
   "execution_count": 20,
   "metadata": {},
   "outputs": [
    {
     "data": {
      "text/plain": [
       "[0, 1, 4]"
      ]
     },
     "execution_count": 20,
     "metadata": {},
     "output_type": "execute_result"
    }
   ],
   "source": [
    "c=[x**2 for x in range(5)if x<3]#内包表記\n",
    "c"
   ]
  },
  {
   "cell_type": "markdown",
   "metadata": {},
   "source": [
    "## 1.5 ユーザー定義関数の基本\n",
    "ユーザー定義関数は、プログラマが特定のタスクを実行するために自ら定義する関数です。これらの関数は、コードの再利用性を高め、プログラムの構造を整理し、可読性を向上させるために重要です。\n",
    "\n",
    "1. **定義方法**:\n",
    "   ユーザー定義関数は `def` キーワードを使って定義されます。関数の定義は以下の形式をとります：\n",
    "\n",
    "   ```python\n",
    "   def function_name(parameters):\n",
    "       # 関数の処理\n",
    "       return result\n",
    "   ```\n",
    "\n",
    "   - `function_name` は関数の名前です。\n",
    "   - `parameters` は関数に渡す引数です（なくてもよい）。\n",
    "   - `return` ステートメントは関数の出力を返します。\n",
    "\n",
    "2. **引数**:\n",
    "   引数は、関数に渡される値やデータです。引数は必須でなくてもよく、関数によっては複数の引数を取ることもあります。\n",
    "\n",
    "3. **戻り値**:\n",
    "   `return` ステートメントを使用して、関数の結果を呼び出し元に返すことができます。戻り値は任意であり、返さない関数も作成できます。"
   ]
  },
  {
   "cell_type": "code",
   "execution_count": 21,
   "metadata": {},
   "outputs": [
    {
     "name": "stdout",
     "output_type": "stream",
     "text": [
      "8\n"
     ]
    }
   ],
   "source": [
    "def add(a, b):\n",
    "    return a + b\n",
    "\n",
    "result = add(5, 3)\n",
    "print(result)  # 出力: 8"
   ]
  },
  {
   "cell_type": "markdown",
   "metadata": {},
   "source": [
    "## 1.6 NumPy配列\n",
    "\n",
    "ndarraysの生成"
   ]
  },
  {
   "cell_type": "code",
   "execution_count": 22,
   "metadata": {},
   "outputs": [
    {
     "data": {
      "text/plain": [
       "array([   1.23456, 1000.     ,    2.     ])"
      ]
     },
     "execution_count": 22,
     "metadata": {},
     "output_type": "execute_result"
    }
   ],
   "source": [
    "import numpy as np\n",
    "a=np.array([1.23456,1000,2])\n",
    "a"
   ]
  },
  {
   "cell_type": "code",
   "execution_count": 23,
   "metadata": {},
   "outputs": [
    {
     "data": {
      "text/plain": [
       "array([1.23e+00, 1.00e+08, 2.00e+00])"
      ]
     },
     "execution_count": 23,
     "metadata": {},
     "output_type": "execute_result"
    }
   ],
   "source": [
    "b=np.array([1.23,100000000,2])\n",
    "b"
   ]
  },
  {
   "cell_type": "markdown",
   "metadata": {},
   "source": [
    "NumPy配列のスライス操作"
   ]
  },
  {
   "cell_type": "code",
   "execution_count": 24,
   "metadata": {},
   "outputs": [
    {
     "data": {
      "text/plain": [
       "(1.23, 100000000.0, 2.0, array([1.23e+00, 1.00e+08, 2.00e+00]))"
      ]
     },
     "execution_count": 24,
     "metadata": {},
     "output_type": "execute_result"
    }
   ],
   "source": [
    "b[0],b[1],b[2],b[:]"
   ]
  },
  {
   "cell_type": "markdown",
   "metadata": {},
   "source": [
    "## 1.7 NumPy zeros\n",
    "\n",
    "指定された形状とデータ型に合わせて、すべての要素が0である配列を生成します。これは、特定のサイズの配列を初期化する際に非常に便利です。\n",
    "\n",
    "```python\n",
    "numpy.zeros(shape, dtype=float, order='C')\n",
    "```\n",
    "\n",
    "- `shape`：生成する配列の形状。整数または整数のタプルで指定します。例えば、`5` は長さ5の1次元配列を、`(5, 2)` は5行2列の2次元配列を意味します。\n",
    "- `dtype`：配列のデータ型。デフォルトは `float` ですが、`int` や `complex` など他のデータ型を指定することもできます。\n",
    "- `order`：配列のメモリ上での格納順序。`'C'` はCスタイル（行優先）、`'F'` はFortranスタイル（列優先）です。"
   ]
  },
  {
   "cell_type": "code",
   "execution_count": 25,
   "metadata": {},
   "outputs": [
    {
     "name": "stdout",
     "output_type": "stream",
     "text": [
      "[0. 0. 0. 0. 0.]\n"
     ]
    }
   ],
   "source": [
    "import numpy as np\n",
    "# 長さ5の1次元配列を生成\n",
    "arr1d = np.zeros(5)\n",
    "print(arr1d)"
   ]
  },
  {
   "cell_type": "code",
   "execution_count": 26,
   "metadata": {},
   "outputs": [
    {
     "name": "stdout",
     "output_type": "stream",
     "text": [
      "[[0. 0. 0. 0.]\n",
      " [0. 0. 0. 0.]\n",
      " [0. 0. 0. 0.]]\n"
     ]
    }
   ],
   "source": [
    "# 3行4列の2次元配列を生成\n",
    "arr2d = np.zeros((3, 4))\n",
    "print(arr2d)"
   ]
  },
  {
   "cell_type": "markdown",
   "metadata": {},
   "source": [
    "## 1.8 NumPy linspace\n",
    "\n",
    "指定された区間を一定の間隔で分割する数値の配列を生成するために使用されます。\n",
    "\n",
    "```python\n",
    "numpy.linspace(start, stop, num=50, endpoint=True, retstep=False, dtype=None, axis=0)\n",
    "```\n",
    "\n",
    "- `start`：配列の開始値。\n",
    "- `stop`：配列の終了値。\n",
    "- `num`：生成する等間隔のサンプル数。デフォルトは50です。\n",
    "- `endpoint`：`True` の場合、終了値を配列に含めます。`False` の場合は含めません。\n",
    "- `retstep`：`True` の場合、サンプル間のステップサイズも出力します。\n",
    "- `dtype`：配列のデータ型。指定されない場合は、入力データに基づいて推測されます。\n",
    "- `axis`：戻り値の配列における間隔を設定する軸。"
   ]
  },
  {
   "cell_type": "code",
   "execution_count": 27,
   "metadata": {},
   "outputs": [
    {
     "name": "stdout",
     "output_type": "stream",
     "text": [
      "[ 0.   2.5  5.   7.5 10. ]\n"
     ]
    }
   ],
   "source": [
    "import numpy as np\n",
    "\n",
    "# 0から10までを等間隔で5つの数値で分割\n",
    "arr = np.linspace(0, 10, num=5)\n",
    "print(arr)"
   ]
  },
  {
   "cell_type": "markdown",
   "metadata": {},
   "source": [
    "## 1.9 NumPyによる疑似乱数生成\n",
    "\n",
    "　理想的な乱数列は熱雑音とか原子核分裂などの物理乱数である。本質的にランダムに生成された乱数列には周期や再現性がないなどのメリットがある。コンピューターにより生成する疑似乱数列では、長い周期と高次元での緻密性から長い間メルセンヌツイスターが用いられてきた。しかし、最近では統計的評価、計算速度、メモリー占有率、予測不可能性、再現性に優れたPCG系列の乱数が注目されている。\n",
    " \n",
    "　NumPy generatorの乱数ルーチンは、シーケンスを作成するBitGeneratorと、それらのシーケンスを使用して異なる統計分布からサンプルを取得するGeneratorの組み合わせで擬似乱数を生成している。そのパフォーマンスは目を見張るものがある。本書ではPCG系を用いる。\n",
    " \n",
    "  出所：https://www.pcg-random.org/index.html"
   ]
  },
  {
   "cell_type": "code",
   "execution_count": 28,
   "metadata": {},
   "outputs": [],
   "source": [
    "from numpy.random import default_rng, Generator, PCG64, MT19937\n",
    "rng = default_rng()"
   ]
  },
  {
   "cell_type": "markdown",
   "metadata": {},
   "source": [
    "## 1.10 pandas\n",
    "\n",
    "　これは、関連するデータ、ラベル付けされたデータの作業を簡単で直感的に行えるようにするパッケージだ。かつ、高速かつ柔軟性のあるデータ構造を提供する。pandasの存在がPythonを使う1つの理由でもある。詳しくはあとで扱う。\n",
    " \n",
    "　pandasのインポートとフォーマットの指定方法"
   ]
  },
  {
   "cell_type": "code",
   "execution_count": 29,
   "metadata": {},
   "outputs": [],
   "source": [
    "import pandas as pd"
   ]
  },
  {
   "cell_type": "code",
   "execution_count": 30,
   "metadata": {},
   "outputs": [
    {
     "data": {
      "image/png": "[encoded data removed]",
      "text/plain": [
       "<Figure size 300x300 with 1 Axes>"
      ]
     },
     "metadata": {},
     "output_type": "display_data"
    }
   ],
   "source": [
    "# 日本語フォントの初期設定\n",
    "import matplotlib.pyplot as plt\n",
    "import japanize_matplotlib\n",
    "\n",
    "# DataFrameの作成\n",
    "df=pd.DataFrame([1,2,3,4],columns=['test'])\n",
    "# plotを用いた簡単なグラフ\n",
    "df.plot(figsize=(3,3))# データのプロットとグラフの大きさの指定\n",
    "# 日本語表記\n",
    "plt.title('簡単なグラフ')\n",
    "#plt.savefig('簡単なグラフ.jpeg',dpi=600)\n",
    "plt.show()"
   ]
  },
  {
   "cell_type": "markdown",
   "metadata": {},
   "source": [
    "## 1.11 Statsmodels\n",
    "\n",
    "　統計モデル、時系列モデルの分析に用いるクラスと関数を提供する。本書では線形回帰、単位根検定、コレログラムなどの機能をつかう。"
   ]
  },
  {
   "cell_type": "code",
   "execution_count": 31,
   "metadata": {},
   "outputs": [
    {
     "data": {
      "text/plain": [
       "(array([[1., 0.],\n",
       "        [1., 1.],\n",
       "        [1., 2.],\n",
       "        [1., 3.]]),\n",
       " 0.9999999999999947,\n",
       " 1.0000000000000007)"
      ]
     },
     "execution_count": 31,
     "metadata": {},
     "output_type": "execute_result"
    }
   ],
   "source": [
    "import statsmodels.api as sm    #接頭語をsmとしてstatsmodels.apiをインポート \n",
    "x=np.arange(20)\n",
    "x0=sm.add_constant(x)\n",
    "y=np.array([1,2,3,4,5,6,7,8,9,10,11,12,13,14,15,16,17,18,19,20])\n",
    "res=sm.OLS(y.T,x0).fit()\n",
    "x0[:4],res.params[0],res.params[1]"
   ]
  },
  {
   "cell_type": "code",
   "execution_count": 32,
   "metadata": {},
   "outputs": [
    {
     "data": {
      "text/html": [
       "<table class=\"simpletable\">\n",
       "<caption>OLS Regression Results</caption>\n",
       "<tr>\n",
       "  <th>Dep. Variable:</th>            <td>y</td>        <th>  R-squared:         </th> <td>   1.000</td> \n",
       "</tr>\n",
       "<tr>\n",
       "  <th>Model:</th>                   <td>OLS</td>       <th>  Adj. R-squared:    </th> <td>   1.000</td> \n",
       "</tr>\n",
       "<tr>\n",
       "  <th>Method:</th>             <td>Least Squares</td>  <th>  F-statistic:       </th> <td>3.149e+31</td>\n",
       "</tr>\n",
       "<tr>\n",
       "  <th>Date:</th>             <td>Thu, 11 Jan 2024</td> <th>  Prob (F-statistic):</th> <td>1.21e-273</td>\n",
       "</tr>\n",
       "<tr>\n",
       "  <th>Time:</th>                 <td>17:52:56</td>     <th>  Log-Likelihood:    </th> <td>  632.95</td> \n",
       "</tr>\n",
       "<tr>\n",
       "  <th>No. Observations:</th>      <td>    20</td>      <th>  AIC:               </th> <td>  -1262.</td> \n",
       "</tr>\n",
       "<tr>\n",
       "  <th>Df Residuals:</th>          <td>    18</td>      <th>  BIC:               </th> <td>  -1260.</td> \n",
       "</tr>\n",
       "<tr>\n",
       "  <th>Df Model:</th>              <td>     1</td>      <th>                     </th>     <td> </td>    \n",
       "</tr>\n",
       "<tr>\n",
       "  <th>Covariance Type:</th>      <td>nonrobust</td>    <th>                     </th>     <td> </td>    \n",
       "</tr>\n",
       "</table>\n",
       "<table class=\"simpletable\">\n",
       "<tr>\n",
       "    <td></td>       <th>coef</th>     <th>std err</th>      <th>t</th>      <th>P>|t|</th>  <th>[0.025</th>    <th>0.975]</th>  \n",
       "</tr>\n",
       "<tr>\n",
       "  <th>const</th> <td>    1.0000</td> <td> 1.98e-15</td> <td> 5.05e+14</td> <td> 0.000</td> <td>    1.000</td> <td>    1.000</td>\n",
       "</tr>\n",
       "<tr>\n",
       "  <th>x1</th>    <td>    1.0000</td> <td> 1.78e-16</td> <td> 5.61e+15</td> <td> 0.000</td> <td>    1.000</td> <td>    1.000</td>\n",
       "</tr>\n",
       "</table>\n",
       "<table class=\"simpletable\">\n",
       "<tr>\n",
       "  <th>Omnibus:</th>       <td> 3.724</td> <th>  Durbin-Watson:     </th> <td>   0.061</td>\n",
       "</tr>\n",
       "<tr>\n",
       "  <th>Prob(Omnibus):</th> <td> 0.155</td> <th>  Jarque-Bera (JB):  </th> <td>   1.419</td>\n",
       "</tr>\n",
       "<tr>\n",
       "  <th>Skew:</th>          <td>-0.163</td> <th>  Prob(JB):          </th> <td>   0.492</td>\n",
       "</tr>\n",
       "<tr>\n",
       "  <th>Kurtosis:</th>      <td> 1.737</td> <th>  Cond. No.          </th> <td>    21.5</td>\n",
       "</tr>\n",
       "</table><br/><br/>Notes:<br/>[1] Standard Errors assume that the covariance matrix of the errors is correctly specified."
      ],
      "text/plain": [
       "<class 'statsmodels.iolib.summary.Summary'>\n",
       "\"\"\"\n",
       "                            OLS Regression Results                            \n",
       "==============================================================================\n",
       "Dep. Variable:                      y   R-squared:                       1.000\n",
       "Model:                            OLS   Adj. R-squared:                  1.000\n",
       "Method:                 Least Squares   F-statistic:                 3.149e+31\n",
       "Date:                Thu, 11 Jan 2024   Prob (F-statistic):          1.21e-273\n",
       "Time:                        17:52:56   Log-Likelihood:                 632.95\n",
       "No. Observations:                  20   AIC:                            -1262.\n",
       "Df Residuals:                      18   BIC:                            -1260.\n",
       "Df Model:                           1                                         \n",
       "Covariance Type:            nonrobust                                         \n",
       "==============================================================================\n",
       "                 coef    std err          t      P>|t|      [0.025      0.975]\n",
       "------------------------------------------------------------------------------\n",
       "const          1.0000   1.98e-15   5.05e+14      0.000       1.000       1.000\n",
       "x1             1.0000   1.78e-16   5.61e+15      0.000       1.000       1.000\n",
       "==============================================================================\n",
       "Omnibus:                        3.724   Durbin-Watson:                   0.061\n",
       "Prob(Omnibus):                  0.155   Jarque-Bera (JB):                1.419\n",
       "Skew:                          -0.163   Prob(JB):                        0.492\n",
       "Kurtosis:                       1.737   Cond. No.                         21.5\n",
       "==============================================================================\n",
       "\n",
       "Notes:\n",
       "[1] Standard Errors assume that the covariance matrix of the errors is correctly specified.\n",
       "\"\"\""
      ]
     },
     "execution_count": 32,
     "metadata": {},
     "output_type": "execute_result"
    }
   ],
   "source": [
    "res.summary()"
   ]
  },
  {
   "cell_type": "markdown",
   "metadata": {},
   "source": [
    "## 1.12 基本的なグラフ表示の設定\n",
    "\n",
    "　matplotlibは本書で扱うグラフを用いた分析で多用される。補足的にseabornが用いられる。\n",
    "\n",
    "1 プロット、散布図、頻度図(ヒストグラム)\n",
    "\n",
    "- plot(*args,  **kwargs)\n",
    "\n",
    "|Python 1|\n",
    "|:---:|\n",
    "\n",
    "|plot|($*$args,  $**$kwargs)|  \n",
    "|:---|:---|\n",
    "|$*$args:| シーケンス型の引数|  \n",
    "|$**$kwargs:|マッピング型の引数)|  \n",
    "|plot(x,y):|yとxを線またはマーカーでプロットする。|\n",
    "|plot(y):|xを1,...nのインデックスとしてyを線またはマーカーでプロットする。|\n",
    "|alpha:|色の濃さ 0から1|  \n",
    "|color or c:| {'b'(青),'g'(緑),'r'(赤),'c'(シアン),'m'(マゼンダ),'y'(黄),'k'(黒)}|  \n",
    "|figure:|図の大きさの指定|  \n",
    "|label：|要素の名前|  \n",
    "|linestyle or ls| {'-', '--', '-.', ':', '', ...}|  \n",
    "|linewidth or lw：|線の幅|  \n",
    "|marker:|{\".\"(点),\"*\"(星),\"o\"(丸),\"+\"(+),\"x\"\t(x),\"s\"(四角形)}|  \n",
    "\n",
    "- scatter(x, y, **kwargs)  \n",
    "\n",
    "|Python 2|\n",
    "|:---:|\n",
    "\n",
    "|scatter|(x, y)|\n",
    "|:---|:---|\n",
    "|scatter(x,y):|ｘとyの散布図を作成する。|\n",
    "|x,y|配列など|\n",
    "\n",
    "plot参照\n",
    "\n",
    "- hist(x, bins=None, density=False, cumulative=False, **kwargs)  \n",
    "\n",
    "|Python 3|\n",
    "|:---:|\n",
    "\n",
    "|hist|(x, bins=None, density=False, cumulative=False, $**$kwargs)|\n",
    "|:---|:---|\n",
    "|hist(x):|xの頻度図を作成する。|\n",
    "|x:|配列またはシーケンス|\n",
    "|bins:|容器の数;整数、シーケンス、ディフォルト＝10|\n",
    "|density:|確率密度関数|  \n",
    "|cumulative:|累積分布関数|  \n",
    "\n",
    "\n",
    "2 グラフ軸回り、他の設定\n",
    "\n",
    "|Python 4|軸回り、他の設定|\n",
    "|:---|:---|\n",
    "|figure(figsize):|新しいfigureを設定;figsizeはfigureの大きさをインチで指定(幅、高さ)|\n",
    "|add_subplot:| サブプロット配置の一部として、図にAxesを追加する。|\n",
    "|ylabel:| y軸にラベルを設定|\n",
    "|xlabel:| x軸にラベルを設定|\n",
    "|title:| グラフのタイトルを設定|\n",
    "|legend(loc,bbox_to_anchor):|凡例の位置の設定；|\n",
    "|    |loc:凡例の位置;|\n",
    "|    |bbox_to_anchor:凡例の箱の位置|\n",
    "|tight_layout| サブプット周辺の調整|"
   ]
  },
  {
   "cell_type": "code",
   "execution_count": 33,
   "metadata": {},
   "outputs": [
    {
     "data": {
      "text/html": [
       "<div>\n",
       "<style scoped>\n",
       "    .dataframe tbody tr th:only-of-type {\n",
       "        vertical-align: middle;\n",
       "    }\n",
       "\n",
       "    .dataframe tbody tr th {\n",
       "        vertical-align: top;\n",
       "    }\n",
       "\n",
       "    .dataframe thead th {\n",
       "        text-align: right;\n",
       "    }\n",
       "</style>\n",
       "<table border=\"1\" class=\"dataframe\">\n",
       "  <thead>\n",
       "    <tr style=\"text-align: right;\">\n",
       "      <th></th>\n",
       "      <th>NIKKEI225</th>\n",
       "      <th>DEXJPUS</th>\n",
       "    </tr>\n",
       "    <tr>\n",
       "      <th>DATE</th>\n",
       "      <th></th>\n",
       "      <th></th>\n",
       "    </tr>\n",
       "  </thead>\n",
       "  <tbody>\n",
       "    <tr>\n",
       "      <th>1971-01-04</th>\n",
       "      <td>7.601572</td>\n",
       "      <td>5.879779</td>\n",
       "    </tr>\n",
       "  </tbody>\n",
       "</table>\n",
       "</div>"
      ],
      "text/plain": [
       "            NIKKEI225   DEXJPUS\n",
       "DATE                           \n",
       "1971-01-04   7.601572  5.879779"
      ]
     },
     "execution_count": 33,
     "metadata": {},
     "output_type": "execute_result"
    }
   ],
   "source": [
    "import pandas_datareader.data as web\n",
    "start=\"1949/5/16\"\n",
    "\n",
    "n225 = web.DataReader(\"NIKKEI225\", 'fred',start).NIKKEI225\n",
    "fx=web.DataReader(\"DEXJPUS\", 'fred',start).DEXJPUS\n",
    "port=np.log(pd.concat([n225,fx],axis=1)).dropna()\n",
    "port[:1]"
   ]
  },
  {
   "cell_type": "code",
   "execution_count": 34,
   "metadata": {},
   "outputs": [
    {
     "data": {
      "image/png": "[encoded data removed]",
      "text/plain": [
       "<Figure size 800x400 with 4 Axes>"
      ]
     },
     "metadata": {},
     "output_type": "display_data"
    }
   ],
   "source": [
    "fig = plt.figure(figsize=(8,4)) \n",
    "ax1 = fig.add_subplot(2,2,1)    \n",
    "ax1.plot(n225,alpha=0.5,color='black',label=\"日経225\")\n",
    "plt.ylabel('日経平均株価')\n",
    "plt.title(\"図3.1a: 日経平均株価\")\n",
    "plt.xticks(rotation=90)\n",
    "plt.legend(loc='upper left', bbox_to_anchor=(1, 1))\n",
    "#-------------------------------------------------------\n",
    "ax2 = fig.add_subplot(2,2,2)   \n",
    "ax2.plot(fx,alpha=0.5,color='black',label=\"ドル円\")\n",
    "plt.xticks(rotation=90)\n",
    "plt.legend(loc='upper left', bbox_to_anchor=(1, 1))\n",
    "plt.title(\"図3.1b: ドル円の為替レート\")\n",
    "#-------------------------------------------------------\n",
    "ax3 = fig.add_subplot(2,2,3)   \n",
    "ax3.hist(n225,alpha=0.5,color='black',label=\"日経225\")\n",
    "plt.xticks(rotation=90)\n",
    "plt.legend(loc='upper right')\n",
    "plt.title(\"図3.1c: 日経平均株価の頻度図\")\n",
    "#-------------------------------------------------------\n",
    "ax4 = fig.add_subplot(2,2,4)   \n",
    "ax4.scatter(port.iloc[:,1],port.iloc[:,0],color='blue',s=1)\n",
    "plt.xlabel('ドル円')\n",
    "plt.ylabel('日経平均株価')\n",
    "plt.xticks([np.log(100),np.log(200),np.log(300)],[100,200,300])\n",
    "plt.yticks([np.log(1000),np.log(10000),np.log(30000)],[1000,10000,30000])\n",
    "plt.xticks(rotation=90)\n",
    "plt.title(\"図3.1d: 日経平均株価とドル円レートの散布図\")\n",
    "plt.tight_layout()  \n",
    "plt.show()"
   ]
  },
  {
   "cell_type": "markdown",
   "metadata": {},
   "source": [
    "\n",
    "3 2軸のグラフ\n",
    "\n",
    "　y軸の右と左の軸を利用して、目盛りを2つもつグラフを描くことができる。\n",
    "\n",
    "|Python 5|\n",
    "|:---:|\n",
    "\n",
    "|Axes.twinx()|\n",
    "|:---|\n",
    "|x軸を共有しながら2つのｙ軸をもつグラフを作成できる。|\n",
    "|set_ylabel: y軸のラベルの設定|\n",
    "|set_xlabel：x軸のラベルの設定|\n"
   ]
  },
  {
   "cell_type": "code",
   "execution_count": 35,
   "metadata": {},
   "outputs": [
    {
     "data": {
      "image/png": "[encoded data removed]",
      "text/plain": [
       "<Figure size 400x300 with 2 Axes>"
      ]
     },
     "metadata": {},
     "output_type": "display_data"
    }
   ],
   "source": [
    "fig, ax1 = plt.subplots(figsize=(4,3))\n",
    "ax2 = ax1.twinx()\n",
    "ax1.plot(port.iloc[:,1],color='r',label=\"ドル円\")\n",
    "ax1.legend()\n",
    "ax2.plot(port.iloc[:,0],color='b',label=\"日経平均株価\")\n",
    "ax1.set_ylabel('ドル円')\n",
    "ax2.set_ylabel('日経平均株価')\n",
    "ax2.legend()\n",
    "plt.title('図3.2: 2軸のグラフ')\n",
    "plt.tight_layout()\n",
    "#plt.savefig(\"図3.2.jpeg\",dpi=600)\n",
    "plt.show()"
   ]
  },
  {
   "cell_type": "markdown",
   "metadata": {},
   "source": [
    "## 1.13 plt.show()\n",
    "\n",
    "Python のデータ可視化ライブラリである Matplotlib の一部で、作成したグラフやチャートを表示するために使用されます。\n",
    "\n",
    "Matplotlib でグラフを作成した後、`plt.show()` を呼び出すと、現在アクティブな図や軸に対するすべての描画内容が表示されます。この関数は、図をスクリーンに描画し、ユーザーがそれを見ることができるようにします。"
   ]
  },
  {
   "cell_type": "markdown",
   "metadata": {},
   "source": [
    "# 2 Pandas入門\n",
    "\n",
    "　Pythonでは目的に応じたデータ分析を可能にするために、幾つかのデータ構造が構築された。\n",
    "\n",
    "1. Pythonに組み込まれた3つのデータ構造：    \n",
    "    a. リスト、  \n",
    "    b. タプル、そして  \n",
    "    c. 辞書\n",
    "    \n",
    "    を用いれば、主なデータ処理のすべてが可能となる。\n",
    "\n",
    "2. NumPy（Numerical Pythonの略)の効率的な多次元配列は、配列指向の算術演算機能を提供する。CでプログラムされたAPIにデータを渡し、その演算結果をNumPy配列として受け取るという離れ業はPythonを使う理由の一つだ。\n",
    "\n",
    "3. pandasは、統計解析や表形式のデータ解析に用いられる。Seriesは基本的にNumPy配列の代替となり、DataFrameはデータを表として表現し、順序や名前を持つ列を、そのデータ型が異なっても処理することが可能であることから、多用される。\n"
   ]
  },
  {
   "cell_type": "code",
   "execution_count": 36,
   "metadata": {},
   "outputs": [],
   "source": [
    "import pandas_datareader.data as web\n",
    "import pandas as pd\n",
    "from pandas.tseries.frequencies import to_offset\n",
    "import numpy as np\n",
    "import datetime"
   ]
  },
  {
   "cell_type": "code",
   "execution_count": 37,
   "metadata": {},
   "outputs": [
    {
     "data": {
      "text/plain": [
       "0    10000\n",
       "1    20000\n",
       "2    30000\n",
       "dtype: int64"
      ]
     },
     "execution_count": 37,
     "metadata": {},
     "output_type": "execute_result"
    }
   ],
   "source": [
    "data=[10000,20000,30000]\n",
    "Series=pd.Series(data,)\n",
    "Series"
   ]
  },
  {
   "cell_type": "markdown",
   "metadata": {},
   "source": [
    "この場合、自動的にインデックスを0,1,2,3と付けてくれた。これはリストでもNumPy配列でも可能だ。つぎに\n",
    "\n",
    " |||\n",
    " |:---:|:---:|\n",
    " |月|10000|\n",
    " |火|20000|\n",
    " |水|30000|\n",
    " \n",
    " ではどうだろうか？"
   ]
  },
  {
   "cell_type": "code",
   "execution_count": 38,
   "metadata": {},
   "outputs": [
    {
     "data": {
      "text/plain": [
       "曜日\n",
       "月    10000\n",
       "火    20000\n",
       "水    30000\n",
       "Name: 価格, dtype: int64"
      ]
     },
     "execution_count": 38,
     "metadata": {},
     "output_type": "execute_result"
    }
   ],
   "source": [
    "data=[10000,20000,30000]\n",
    "index=['月','火','水']\n",
    "series=pd.Series(data,index=index,name='価格')\n",
    "series.index.name='曜日'\n",
    "series"
   ]
  },
  {
   "cell_type": "markdown",
   "metadata": {},
   "source": [
    "曜日(文字列)をインデックスとして指定している。これは辞書と同じ機能だ。しかし、Seriesでは列の数をこれ以上に増やすことはできない。Seriesについてまとめておこう。\n",
    "\n",
    "|Python 2.1|\n",
    "|:---:|\n",
    "\n",
    "|Series|(data=None, index=None, name=None)|\n",
    "|:---|:---|\n",
    "| data:| スカラー、リスト、タプル、辞書など|\n",
    "|index:| 1次元リストなど、ディフォルトはRangeIndex(0,1,2,...,n)|\n",
    "|name: |Seiresの名前|\n",
    "\n",
    "列の数を増やしたいのであれば、DataFrameの出番だ。\n",
    "\n",
    " ||||\n",
    " |:---:|:---:|:---:|\n",
    " |月|1|10000|\n",
    " |火|2|20000|\n",
    " |水|3|30000|\n",
    " \n",
    " というリストがあった場合にはどうすればよいだろうか？"
   ]
  },
  {
   "cell_type": "code",
   "execution_count": 39,
   "metadata": {},
   "outputs": [
    {
     "data": {
      "text/html": [
       "<div>\n",
       "<style scoped>\n",
       "    .dataframe tbody tr th:only-of-type {\n",
       "        vertical-align: middle;\n",
       "    }\n",
       "\n",
       "    .dataframe tbody tr th {\n",
       "        vertical-align: top;\n",
       "    }\n",
       "\n",
       "    .dataframe thead th {\n",
       "        text-align: right;\n",
       "    }\n",
       "</style>\n",
       "<table border=\"1\" class=\"dataframe\">\n",
       "  <thead>\n",
       "    <tr style=\"text-align: right;\">\n",
       "      <th></th>\n",
       "      <th>個数</th>\n",
       "      <th>価格</th>\n",
       "    </tr>\n",
       "    <tr>\n",
       "      <th>曜日</th>\n",
       "      <th></th>\n",
       "      <th></th>\n",
       "    </tr>\n",
       "  </thead>\n",
       "  <tbody>\n",
       "    <tr>\n",
       "      <th>月</th>\n",
       "      <td>1</td>\n",
       "      <td>10000</td>\n",
       "    </tr>\n",
       "    <tr>\n",
       "      <th>火</th>\n",
       "      <td>2</td>\n",
       "      <td>20000</td>\n",
       "    </tr>\n",
       "    <tr>\n",
       "      <th>水</th>\n",
       "      <td>3</td>\n",
       "      <td>30000</td>\n",
       "    </tr>\n",
       "  </tbody>\n",
       "</table>\n",
       "</div>"
      ],
      "text/plain": [
       "    個数     価格\n",
       "曜日           \n",
       "月    1  10000\n",
       "火    2  20000\n",
       "水    3  30000"
      ]
     },
     "execution_count": 39,
     "metadata": {},
     "output_type": "execute_result"
    }
   ],
   "source": [
    "data=[[1,10000],[2,20000],[3,30000]]\n",
    "index=['月','火','水']\n",
    "frame=pd.DataFrame(data,index=index,columns=['個数','価格'])\n",
    "frame.index.name='曜日'\n",
    "frame"
   ]
  },
  {
   "cell_type": "markdown",
   "metadata": {},
   "source": [
    "DataFrameを使えば、簡単に列(要因)の数を増やすことができる。ここでは、dataにリストを用いたが、辞書でもSeriesでも可能だ。出力[5]に注目してほしい。Seriesの出力[3]と比べてみよう。Seriesの場合は、そっけないが、DataFrameの場合は、色分けもされ、線もひかれていて見やすい。これがDataFrameの1つの特徴で表の作成にも使える。DataFrameのリファレンスをPython 2.2にまとめた。\n",
    "\n",
    "|Python 2.2|\n",
    "|:---|\n",
    "\n",
    "|DataFrame|(data=None, index=None, columns=None)|\n",
    "|:---|:---|\n",
    "|data:| Series, DataFrame,ndarray,リスト,タプル、辞書など|\n",
    "|index:| Series, リストなど、ディフォルトはRangeIndex(0,1,2,...,n)|\n",
    "|columns:|列の名前|\n",
    "\n",
    "　ここで、配列の表記の方法はリレーショナルデータベースでの基本なので復習しておこう。\n",
    "\n",
    "||||\n",
    " |:---|:---:|:---:|\n",
    " ||列1|列2|\n",
    " |行1|要素(1,1)|要素(1,2)|\n",
    " |行2|要素(2,1)}|要素(2,2)|\n",
    "\n",
    "行番号と列番号を指定すると要素を抽出できる。Seriesであれば行番号を指定すると要素を確定できる。行番号の指定はインデックスを用いて行われる。\n",
    "\n",
    "2.2 head()とtail()\n",
    "\n",
    "　データ行の最初の部分と最後の部分に興味のあるときは、head()とtail()が便利である。head()は最初の5つのデータを表示し、tail()は最後の5つのデータを表示する。また、head(n),tail(n)とするとn個のデータを表示してくれる。"
   ]
  },
  {
   "cell_type": "code",
   "execution_count": 40,
   "metadata": {},
   "outputs": [
    {
     "name": "stdout",
     "output_type": "stream",
     "text": [
      "＊　Seriesのhead2つ分\n",
      "0    10000\n",
      "1    20000\n",
      "dtype: int64\n",
      "＊　DataFrameのtail2つ分\n",
      "    個数     価格\n",
      "曜日           \n",
      "火    2  20000\n",
      "水    3  30000\n"
     ]
    }
   ],
   "source": [
    "print('＊　Seriesのhead2つ分')\n",
    "print(Series.head(2))\n",
    "print('＊　DataFrameのtail2つ分')\n",
    "print(frame.tail(2))"
   ]
  },
  {
   "cell_type": "markdown",
   "metadata": {},
   "source": [
    "2.2 時系列データの生成\n",
    "\n",
    "　時系列データはインデックスを時間経過とするデータの集まりのことである。金融市場の終値だけからなるデータは終値を列としたSeriesで構築し、4本値のような場合には始値、高値、安値、終値を列としたDataFrameで構築する。インデックスにはDatetimeIndexが用いられる。それはdatetimeモジュールにより実装される。datetime型は日付けと時刻からなる。\n",
    "　入力[7]では、datesをdatetime型としている。終値を乱数として生成し、Seriesのデータとして採用し、インデックスをdatesとしている。列名は'終値'である。インデックス名はDateである。printを用いて内容を表示している。\n",
    " 　つぎに、4本値をやはり乱数として発生させ、データ構造をDataFrameとした。インデックスはdatesである。列名は'始値','高値','安値','終値'とした。インデックス名はDATEである。結果は出力[7]に表示される。"
   ]
  },
  {
   "cell_type": "code",
   "execution_count": 41,
   "metadata": {},
   "outputs": [
    {
     "name": "stdout",
     "output_type": "stream",
     "text": [
      "Date\n",
      "2023-01-02   -0.472043\n",
      "2023-01-05    1.601501\n",
      "2023-01-07    0.135238\n",
      "Name: 終値, dtype: float64\n"
     ]
    }
   ],
   "source": [
    "from datetime import datetime\n",
    "dates=[datetime(2023,1,2),datetime(2023,1,5),datetime(2023,1,7)]\n",
    "ts=pd.Series(np.random.standard_normal(3),index=dates,name='終値')\n",
    "ts.index.name='Date'\n",
    "print(ts)"
   ]
  },
  {
   "cell_type": "code",
   "execution_count": 42,
   "metadata": {},
   "outputs": [
    {
     "data": {
      "text/html": [
       "<div>\n",
       "<style scoped>\n",
       "    .dataframe tbody tr th:only-of-type {\n",
       "        vertical-align: middle;\n",
       "    }\n",
       "\n",
       "    .dataframe tbody tr th {\n",
       "        vertical-align: top;\n",
       "    }\n",
       "\n",
       "    .dataframe thead th {\n",
       "        text-align: right;\n",
       "    }\n",
       "</style>\n",
       "<table border=\"1\" class=\"dataframe\">\n",
       "  <thead>\n",
       "    <tr style=\"text-align: right;\">\n",
       "      <th></th>\n",
       "      <th>始値</th>\n",
       "      <th>高値</th>\n",
       "      <th>安値</th>\n",
       "      <th>終値</th>\n",
       "    </tr>\n",
       "    <tr>\n",
       "      <th>DATE</th>\n",
       "      <th></th>\n",
       "      <th></th>\n",
       "      <th></th>\n",
       "      <th></th>\n",
       "    </tr>\n",
       "  </thead>\n",
       "  <tbody>\n",
       "    <tr>\n",
       "      <th>2023-01-02</th>\n",
       "      <td>0.261642</td>\n",
       "      <td>-0.520108</td>\n",
       "      <td>-0.169866</td>\n",
       "      <td>0.315037</td>\n",
       "    </tr>\n",
       "    <tr>\n",
       "      <th>2023-01-05</th>\n",
       "      <td>0.070519</td>\n",
       "      <td>-0.083305</td>\n",
       "      <td>0.064909</td>\n",
       "      <td>-0.974871</td>\n",
       "    </tr>\n",
       "    <tr>\n",
       "      <th>2023-01-07</th>\n",
       "      <td>-0.697889</td>\n",
       "      <td>-0.137550</td>\n",
       "      <td>0.126938</td>\n",
       "      <td>0.205183</td>\n",
       "    </tr>\n",
       "  </tbody>\n",
       "</table>\n",
       "</div>"
      ],
      "text/plain": [
       "                  始値        高値        安値        終値\n",
       "DATE                                              \n",
       "2023-01-02  0.261642 -0.520108 -0.169866  0.315037\n",
       "2023-01-05  0.070519 -0.083305  0.064909 -0.974871\n",
       "2023-01-07 -0.697889 -0.137550  0.126938  0.205183"
      ]
     },
     "execution_count": 42,
     "metadata": {},
     "output_type": "execute_result"
    }
   ],
   "source": [
    "tsd=pd.DataFrame(np.random.standard_normal((3,4)),index=dates,columns=['始値','高値','安値','終値'])\n",
    "tsd.index.name='DATE'\n",
    "tsd"
   ]
  },
  {
   "cell_type": "markdown",
   "metadata": {},
   "source": [
    "4.1.6 列の追加\n",
    "\n",
    "　DataFrameの列の追加の機能を利用して、データを結合することができる。本書ではこの方法を多用する。Nikkei225のコピーをportとして作成し、FREDから取得したドル円の為替レートをDEXJPUSとして追加する。"
   ]
  },
  {
   "cell_type": "code",
   "execution_count": 43,
   "metadata": {},
   "outputs": [
    {
     "data": {
      "text/plain": [
       "DATE\n",
       "2024-01-09 00:00:00                                             33763.18\n",
       "2024-01-10 00:00:00                                             34441.72\n",
       "DEXJPUS                            DEXJPUS\n",
       "DATE               \n",
       "1971-0...\n",
       "Name: NIKKEI225, dtype: object"
      ]
     },
     "execution_count": 43,
     "metadata": {},
     "output_type": "execute_result"
    }
   ],
   "source": [
    "fx = web.DataReader('DEXJPUS',\"fred\",start)\n",
    "port=n225.copy()\n",
    "port['DEXJPUS']=fx\n",
    "port.tail(3)"
   ]
  },
  {
   "cell_type": "markdown",
   "metadata": {},
   "source": [
    "4.2 データの選択\n",
    "\n",
    "4.2.1 インデックスのラベルを用いたデータの選択(フィルタリング)\n",
    "\n",
    "オブジェクト名(obj)の後に[ ]を付け、インデックスのラベルを用いデータまたは行を指定する。\n",
    "\n",
    "obj['a']\n",
    "\n",
    "\n",
    "4.2.2 ブール型配列、数式を用いたデータの選択(フィルタリング)\n",
    "\n",
    "インデックスのラベルの代わりに、ブール型配列や数式を用いてブール型配列を生成してデータ、または行を選択する。\n",
    "\n",
    "ojb[obj>1]\n",
    "\n",
    "\n",
    "4.2.3 locを用いた方法\n",
    "\n",
    ".locの入力としては、\n",
    "\n",
    "- ラベル('a')\n",
    "- リスト(['a','b',...,'z'])\n",
    "- スライス('a'：'z')\n",
    "- ブール配列型数式(obj[obj>1])\n",
    "\n",
    "を用いて必要なデータを取得できる。\n",
    "　特定の行と列を取得したいときは、行をまず指定して、列を指定する。loc[行の指定、列の指定].また、行のみ指定するにはloc[行の指定]、列のみ指定したいときはloc[:,列の指定]とする。\n",
    "\n",
    "4.2.4 ilocを用いた方法\n",
    "\n",
    "　.ilocでは取得するデータは\n",
    " \n",
    " - 整数\n",
    " - 整数のリスト\n",
    " - 整数のスライス\n",
    " \n",
    " で指定する。行と列を指定したいときは、iloc[行の指定、列の指定]で行う。行のみ指定するにはiloc[行の指定]、列のみ指定したいときはiloc[:,列の指定]とする。\n",
    " \n",
    " 入力[12]の例では日付の文字列を用いて、データを選択している。必ずしもdatetime型である必要はない。"
   ]
  },
  {
   "cell_type": "code",
   "execution_count": 44,
   "metadata": {},
   "outputs": [],
   "source": [
    "Nikkei225 = web.DataReader(\"NIKKEI225\", 'fred',start)\n",
    "port=pd.concat([Nikkei225,fx],axis=1)#.dropna()"
   ]
  },
  {
   "cell_type": "code",
   "execution_count": 45,
   "metadata": {},
   "outputs": [
    {
     "name": "stdout",
     "output_type": "stream",
     "text": [
      "* 4.2.1.の例\n",
      "-0.47204301881119265\n",
      "* 4.2.2の例\n",
      "            NIKKEI225  DEXJPUS\n",
      "DATE                          \n",
      "2022-01-04   29301.79   116.12\n",
      "2022-01-05   29332.16   115.91\n",
      "2022-01-06   28487.87   115.78\n",
      "2022-01-07   28478.56   115.61\n",
      "* 4.2.2の数式の例\n",
      "DatetimeIndex(['1989-12-18', '1989-12-20', '1989-12-26', '1989-12-27',\n",
      "               '1989-12-28', '1989-12-29', '1990-01-04'],\n",
      "              dtype='datetime64[ns]', name='DATE', freq=None)\n",
      "* 4.2.3のlocの例\n",
      "            NIKKEI225  DEXJPUS\n",
      "DATE                          \n",
      "1990-01-04   38712.88   143.37\n",
      "1990-01-05   38274.76   143.82\n",
      "1990-01-08   38294.96   144.10\n",
      "1990-01-09   37951.46   145.20\n",
      "1990-01-10   37696.50   145.25\n",
      "1990-01-11   38170.13   145.40\n",
      "1990-01-12   37516.77   145.40\n",
      "1990-01-15        NaN      NaN\n",
      "1990-01-16   36850.36   145.48\n",
      "1990-01-17   36821.14   145.49\n",
      "1990-01-18   36729.49   146.12\n",
      "1990-01-19   36836.54   145.65\n",
      "1990-01-22   37257.00   146.43\n",
      "1990-01-23   37378.02   146.09\n",
      "1990-01-24   36778.98   145.32\n",
      "1990-01-25   36969.11   144.42\n",
      "1990-01-26   36874.07   143.35\n",
      "1990-01-29   37173.70   143.13\n",
      "1990-01-30   37215.67   144.10\n",
      "1990-01-31   37188.95   144.55\n",
      "* 4.2.4のilocの例\n",
      "            NIKKEI225  DEXJPUS\n",
      "DATE                          \n",
      "2024-01-09   33763.18      NaN\n",
      "2024-01-10   34441.72      NaN\n"
     ]
    },
    {
     "data": {
      "text/plain": [
       "Timestamp('1949-05-16 00:00:00', freq='B')"
      ]
     },
     "execution_count": 45,
     "metadata": {},
     "output_type": "execute_result"
    }
   ],
   "source": [
    "print(\"* 4.2.1.の例\")\n",
    "print(ts['2023/1/2'])\n",
    "print(\"* 4.2.2の例\")\n",
    "print(port[\"2022-01-04\":\"2022-01-07\"])\n",
    "print(\"* 4.2.2の数式の例\")\n",
    "print(port[port['NIKKEI225']>38500].index)\n",
    "print(\"* 4.2.3のlocの例\")\n",
    "port_after1990=port.loc[\"1990-01-04\":]\n",
    "print(port_after1990.loc[\"1990-01\"])\n",
    "print(\"* 4.2.4のilocの例\")\n",
    "print(port.iloc[-2:])\n",
    "port.index[0]"
   ]
  },
  {
   "cell_type": "markdown",
   "metadata": {},
   "source": [
    "行と列を同時に指定する例"
   ]
  },
  {
   "cell_type": "code",
   "execution_count": 46,
   "metadata": {},
   "outputs": [
    {
     "data": {
      "text/html": [
       "<div>\n",
       "<style scoped>\n",
       "    .dataframe tbody tr th:only-of-type {\n",
       "        vertical-align: middle;\n",
       "    }\n",
       "\n",
       "    .dataframe tbody tr th {\n",
       "        vertical-align: top;\n",
       "    }\n",
       "\n",
       "    .dataframe thead th {\n",
       "        text-align: right;\n",
       "    }\n",
       "</style>\n",
       "<table border=\"1\" class=\"dataframe\">\n",
       "  <thead>\n",
       "    <tr style=\"text-align: right;\">\n",
       "      <th></th>\n",
       "      <th>NIKKEI225</th>\n",
       "      <th>DEXJPUS</th>\n",
       "    </tr>\n",
       "    <tr>\n",
       "      <th>DATE</th>\n",
       "      <th></th>\n",
       "      <th></th>\n",
       "    </tr>\n",
       "  </thead>\n",
       "  <tbody>\n",
       "    <tr>\n",
       "      <th>2024-01-09</th>\n",
       "      <td>33763.18</td>\n",
       "      <td>NaN</td>\n",
       "    </tr>\n",
       "    <tr>\n",
       "      <th>2024-01-10</th>\n",
       "      <td>34441.72</td>\n",
       "      <td>NaN</td>\n",
       "    </tr>\n",
       "  </tbody>\n",
       "</table>\n",
       "</div>"
      ],
      "text/plain": [
       "            NIKKEI225  DEXJPUS\n",
       "DATE                          \n",
       "2024-01-09   33763.18      NaN\n",
       "2024-01-10   34441.72      NaN"
      ]
     },
     "execution_count": 46,
     "metadata": {},
     "output_type": "execute_result"
    }
   ],
   "source": [
    "port.iloc[-2:,0:]"
   ]
  },
  {
   "cell_type": "markdown",
   "metadata": {},
   "source": [
    "同じデータを取得するにもいろいろな方法がある。\n",
    "\n",
    "4.2.6 asof\n",
    "\n",
    "　指定した日時からNaNsを除いた最後のデータの取得,グラフを表示に用いたりする。"
   ]
  },
  {
   "cell_type": "code",
   "execution_count": 47,
   "metadata": {},
   "outputs": [
    {
     "data": {
      "text/plain": [
       "NIKKEI225    26340.5\n",
       "Name: 2022-12-28 00:00:00, dtype: float64"
      ]
     },
     "execution_count": 47,
     "metadata": {},
     "output_type": "execute_result"
    }
   ],
   "source": [
    "Nikkei225.asof(\"2022-12-28\")"
   ]
  },
  {
   "cell_type": "markdown",
   "metadata": {},
   "source": [
    "4.3 時系列データの結合と削除\n",
    "\n",
    "　時系列データはインデックスとなる日付と要素で構成されている。要素が1種類であれば単変量、複数あれば多変量と呼ばれる。たとえば、終値だけだと単変量で、4本値は多変量である。\n",
    "\n",
    "4.3.1データの結合(concat)\n",
    "\n",
    "　日経平均株価の推移をドル円の為替レートとの関連で調べたい場合には、この2つのデータを結合すると便利である。そのようなときには\n",
    "\n",
    "|Python 4.5|\n",
    "|:---:|\n",
    "\n",
    "|pandas.concat|(objs,axis=0)|\n",
    "|:---|:---|\n",
    "|objs:| SeriesまたはDataFrameのシーケンス | \n",
    "|axis:| 結合する軸方向|  \n",
    "\n",
    "を用いる。"
   ]
  },
  {
   "cell_type": "code",
   "execution_count": 48,
   "metadata": {},
   "outputs": [
    {
     "name": "stdout",
     "output_type": "stream",
     "text": [
      "            NIKKEI225  DEXJPUS\n",
      "DATE                          \n",
      "1949-05-16     176.21      NaN\n",
      "1949-05-17     174.80      NaN\n",
      "1949-05-18     172.53      NaN\n",
      "1949-05-19     171.34      NaN\n",
      "1949-05-20     169.20      NaN\n",
      "            NIKKEI225  DEXJPUS\n",
      "DATE                          \n",
      "1971-01-04    2001.34   357.73\n",
      "            NIKKEI225  DEXJPUS\n",
      "DATE                          \n",
      "2024-01-05   33377.42   144.52\n"
     ]
    }
   ],
   "source": [
    "port=pd.concat([Nikkei225,fx],axis=1)#.dropna()\n",
    "print(port.head())\n",
    "port=port.dropna()\n",
    "print(port[:1])\n",
    "print(port[-1:])"
   ]
  },
  {
   "cell_type": "markdown",
   "metadata": {},
   "source": [
    "　双方に共通したIndexがない行の列にはNaN(Not a Number:欠測値)が表示される。dropna()は欠測値をもつ行を削除してくれる。このように双方のデータに共通の取引日があるデータのみを選ぶことができる。また、すべてのデータを受け入れて、片方の取引日に欠測値がある場合には前日の価格を用いて、代替することも可能である。\n",
    "　データの結合は、外れ値の処理、重複データの処理、重複日付の処理、欠測値の処理などと密接な関係にあり、詳細はPython for Data Analysisなどの専門書を参照してほしい。\n",
    "\n",
    "4.3.2 行・列の削除\n",
    "\n",
    "　dropを用いた行と列の削除を試してみよう。axis=1で列の削除、axis=0で行の削除となる。"
   ]
  },
  {
   "cell_type": "code",
   "execution_count": 49,
   "metadata": {},
   "outputs": [
    {
     "name": "stdout",
     "output_type": "stream",
     "text": [
      "            NIKKEI225\n",
      "DATE                 \n",
      "1971-01-04    2001.34\n",
      "1971-01-05    1989.44\n",
      "            NIKKEI225\n",
      "DATE                 \n",
      "1971-01-05    1989.44\n",
      "1971-01-06    1981.74\n"
     ]
    }
   ],
   "source": [
    "port=port.drop('DEXJPUS',axis=1)\n",
    "print(port.head(2))\n",
    "\n",
    "port=port.drop('1971-01-04',axis=0)\n",
    "print(port.head(2))"
   ]
  },
  {
   "cell_type": "markdown",
   "metadata": {},
   "source": [
    "4.5 for loop を用いたデータの取得\n",
    "\n",
    "\n",
    "4.5 データの加工、分析\n",
    "\n",
    "　データの分析は静的な分析と動的な分析に分けることができる。\n",
    "静的な分析は記述統計のようにデータの期間を固定して、統計量を求める分析手法である。\n",
    "一方、動的な分析とは同じように統計量を求めるのであるが、\n",
    "全体の期間の中にそれよりも短い期間を設け、その期間をある一定量づつずらしていく分析手法である。\n",
    "\n",
    "4.5.1  記述統計と要約統計量\n",
    "　pandasのSeriesとDataFrameも要約統計量についての関数をもっている。\n",
    " \n",
    "|     |     |     |     |     ||||\n",
    "|:---|:--- |:---     |:---  |:---|:---|:---|:---|\n",
    "|count|計数| quantitle|4分位| sum|合計| mean|平均|\n",
    "|median|中央値| var|分散| std|標準偏差| skew|歪度|\n",
    "|kurt|尖度| cumsum|累積合計| diff|差分| pct_change|変化率|\n",
    "\n",
    "などである。ここでは日経平均株価の変化率のデータ数、平均、標準偏差、歪度と尖度を求めてみよう。"
   ]
  },
  {
   "cell_type": "code",
   "execution_count": 50,
   "metadata": {},
   "outputs": [
    {
     "name": "stdout",
     "output_type": "stream",
     "text": [
      "データ数  19477\n",
      "平均 0.0003430034253870176\n",
      "標準偏差 0.012000643414938563\n",
      "歪度 -0.12780757335658308\n",
      "尖度(0) 9.72517675440397\n"
     ]
    }
   ],
   "source": [
    "tsd=Nikkei225.pct_change().dropna()\n",
    "print(\"データ数 \",tsd.count()[0])\n",
    "print(\"平均\",tsd.mean()[0])\n",
    "print(\"標準偏差\",tsd.std()[0])\n",
    "print(\"歪度\",tsd.skew()[0])\n",
    "print(\"尖度(0)\",tsd.kurt()[0])"
   ]
  },
  {
   "cell_type": "markdown",
   "metadata": {},
   "source": [
    "4.6 繰り返し処理\n",
    "\n",
    "　DataFrameのforループにおいて一行ずつデータを取り出す方法には、iterrowsメソッドとitertuplesメソッドがある。\n",
    " \n",
    " |Python 4.8 |\n",
    " |:---:|\n",
    " \n",
    " |||\n",
    " |:---|:---|\n",
    " |DataFrame.iterrows|()|\n",
    " ||iterrowsはそれぞれの行のSeriesを返す。|\n",
    " |DataFrame.itertuples|(index=True, name='Pandas')|\n",
    " |index:|真のときにはインデックスを返す。\n",
    " |name:|文字列、ディフォルトは\"Pandas\"|\n",
    " |返り値|イテレータ|\n",
    " \n",
    "疑似時系列データを作ってどちらが効率よく処理を実行するか試してみよう。DatetimeIndexと乱数を生成して、時系列データを合成する。それを読み取り経過時間を測定する。また、numpy配列とリストのイテレータとラベルで要素を取得する場合について試してみよう。"
   ]
  },
  {
   "cell_type": "code",
   "execution_count": 51,
   "metadata": {},
   "outputs": [
    {
     "name": "stdout",
     "output_type": "stream",
     "text": [
      "itterows\n",
      "0:00:25.146371 -----------------------\n"
     ]
    }
   ],
   "source": [
    "index=pd.date_range(start=\"2023/1/1\",periods=1000000,freq=\"min\")\n",
    "from numpy.random import default_rng\n",
    "rng=default_rng()\n",
    "rnd=rng.standard_normal((1000000,4))\n",
    "frame=pd.DataFrame(rnd,index=index)\n",
    "start_now=datetime.now()\n",
    "print(\"itterows\")\n",
    "for a,b in frame.iterrows():\n",
    "    date=a\n",
    "    o=b[0]\n",
    "    h=b[1]\n",
    "    l=b[2]\n",
    "    c=b[3]\n",
    "print(datetime.now()-start_now,'-----------------------') "
   ]
  },
  {
   "cell_type": "code",
   "execution_count": 52,
   "metadata": {},
   "outputs": [
    {
     "name": "stdout",
     "output_type": "stream",
     "text": [
      "itteturples\n",
      "0:00:01.642424 -----------------------\n"
     ]
    }
   ],
   "source": [
    "start_now=datetime.now()\n",
    "print(\"itteturples\")\n",
    "for b in frame.itertuples():\n",
    "    o=b[1]\n",
    "    h=b[2]\n",
    "    l=b[3]\n",
    "    c=b[4]\n",
    "print(datetime.now()-start_now,'-----------------------') "
   ]
  },
  {
   "cell_type": "code",
   "execution_count": 53,
   "metadata": {},
   "outputs": [
    {
     "name": "stdout",
     "output_type": "stream",
     "text": [
      "numpy array\n",
      "0:00:00.347173 -----------------------\n"
     ]
    }
   ],
   "source": [
    "start_now=datetime.now()\n",
    "print(\"numpy array\")\n",
    "for b in rnd:\n",
    "    o=b[0]\n",
    "    h=b[1]\n",
    "    l=b[2]\n",
    "    c=b[3]\n",
    "print(datetime.now()-start_now,'-----------------------') "
   ]
  },
  {
   "cell_type": "code",
   "execution_count": 54,
   "metadata": {},
   "outputs": [
    {
     "name": "stdout",
     "output_type": "stream",
     "text": [
      "list\n",
      "0:00:00.154347 -----------------------\n"
     ]
    }
   ],
   "source": [
    "rndlist=rnd.tolist()\n",
    "start_now=datetime.now()\n",
    "print(\"list\")\n",
    "for b in rndlist:\n",
    "    o=b[0]\n",
    "    h=b[1]\n",
    "    l=b[2]\n",
    "    c=b[3]\n",
    "print(datetime.now()-start_now,'-----------------------') "
   ]
  },
  {
   "cell_type": "code",
   "execution_count": 55,
   "metadata": {},
   "outputs": [
    {
     "name": "stdout",
     "output_type": "stream",
     "text": [
      "arange + numpy array\n",
      "0:00:00.789663 -----------------------\n"
     ]
    }
   ],
   "source": [
    "start_now=datetime.now()\n",
    "print(\"arange + numpy array\")\n",
    "for i in np.arange(len(rnd)):\n",
    "    o=rnd[i][0]\n",
    "    h=rnd[i][1]\n",
    "    l=rnd[i][2]\n",
    "    c=rnd[i][3]\n",
    "print(datetime.now()-start_now,'-----------------------') "
   ]
  },
  {
   "cell_type": "code",
   "execution_count": 56,
   "metadata": {},
   "outputs": [
    {
     "name": "stdout",
     "output_type": "stream",
     "text": [
      "range+list\n",
      "0:00:00.283467 -----------------------\n"
     ]
    }
   ],
   "source": [
    "start_now=datetime.now()\n",
    "print(\"range+list\")\n",
    "for b in range(len(rndlist)):\n",
    "    o=rndlist[i][0]\n",
    "    h=rndlist[i][1]\n",
    "    l=rndlist[i][2]\n",
    "    c=rndlist[i][3]\n",
    "print(datetime.now()-start_now,'-----------------------') "
   ]
  },
  {
   "cell_type": "code",
   "execution_count": null,
   "metadata": {},
   "outputs": [],
   "source": []
  }
 ],
 "metadata": {
  "kernelspec": {
   "display_name": "Python 3 (ipykernel)",
   "language": "python",
   "name": "python3"
  },
  "language_info": {
   "codemirror_mode": {
    "name": "ipython",
    "version": 3
   },
   "file_extension": ".py",
   "mimetype": "text/x-python",
   "name": "python",
   "nbconvert_exporter": "python",
   "pygments_lexer": "ipython3",
   "version": "3.9.13"
  }
 },
 "nbformat": 4,
 "nbformat_minor": 1
}
